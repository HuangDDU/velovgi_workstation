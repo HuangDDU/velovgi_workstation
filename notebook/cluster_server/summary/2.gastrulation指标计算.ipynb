{
 "cells": [
  {
   "cell_type": "code",
   "execution_count": 4,
   "metadata": {},
   "outputs": [],
   "source": [
    "import sys\n",
    "sys.path = [\"../../..\"] + sys.path # 切换到项目目录下\n",
    "\n",
    "import scvelo as scv\n",
    "import velovgi"
   ]
  },
  {
   "cell_type": "code",
   "execution_count": 5,
   "metadata": {},
   "outputs": [
    {
     "name": "stdout",
     "output_type": "stream",
     "text": [
      "/home/21031211625/Code/rna_velocity_expirement/output/gastrulation_20000/scvelo/scvelo_deterministic_adata.h5ad\n",
      "/home/21031211625/Code/rna_velocity_expirement/output/gastrulation_20000/scvelo/scvelo_dynamical_adata.h5ad\n",
      "/home/21031211625/Code/rna_velocity_expirement/output/gastrulation_20000/scvelo/scvelo_stochastic_adata.h5ad\n",
      "/home/21031211625/Code/rna_velocity_expirement/output/gastrulation_20000/veloae/veloae_adata.h5ad\n",
      "/home/21031211625/Code/rna_velocity_expirement/output/gastrulation_20000/deepvelo/deepvelo_adata.h5ad\n",
      "/home/21031211625/Code/rna_velocity_expirement/output/gastrulation_20000/latentvelo/latentvelo_adata.h5ad\n",
      "/home/21031211625/Code/rna_velocity_expirement/output/gastrulation_20000/velovae/velovae_adata.h5ad\n",
      "/home/21031211625/Code/rna_velocity_expirement/output/gastrulation_20000/velovi/velovi_adata.h5ad\n",
      "load ../gastrulation/data/adata//adata.h5ad\n",
      "load ../gastrulation/data/adata//sample_recover.pkl\n"
     ]
    }
   ],
   "source": [
    "model_name_list = [\n",
    "                   \"ScveloDeterministic\",\n",
    "                   \"ScveloDynamical\",\n",
    "                   \"ScveloStochastic\",\n",
    "                   \"Veloae\",\n",
    "                   \"Deepvelo\",\n",
    "                   \"Latentvelo\",\n",
    "                   \"Velovae\",\n",
    "                   \"Velovi\",\n",
    "                   ]\n",
    "adata_filename_list = [\n",
    "                       \"/home/21031211625/Code/rna_velocity_expirement/output/gastrulation_20000/scvelo/scvelo_deterministic_adata.h5ad\",\n",
    "                       \"/home/21031211625/Code/rna_velocity_expirement/output/gastrulation_20000/scvelo/scvelo_dynamical_adata.h5ad\",\n",
    "                       \"/home/21031211625/Code/rna_velocity_expirement/output/gastrulation_20000/scvelo/scvelo_stochastic_adata.h5ad\",\n",
    "                       \"/home/21031211625/Code/rna_velocity_expirement/output/gastrulation_20000/veloae/veloae_adata.h5ad\",\n",
    "                       \"/home/21031211625/Code/rna_velocity_expirement/output/gastrulation_20000/deepvelo/deepvelo_adata.h5ad\",\n",
    "                       \"/home/21031211625/Code/rna_velocity_expirement/output/gastrulation_20000/latentvelo/latentvelo_adata.h5ad\",\n",
    "                       \"/home/21031211625/Code/rna_velocity_expirement/output/gastrulation_20000/velovae/velovae_adata.h5ad\",\n",
    "                       \"/home/21031211625/Code/rna_velocity_expirement/output/gastrulation_20000/velovi/velovi_adata.h5ad\",\n",
    "                       ]\n",
    "\n",
    "adata_list = []\n",
    "for adata_filename in adata_filename_list:\n",
    "    print(adata_filename)\n",
    "    adata = scv.read(adata_filename)\n",
    "    adata_list.append(adata)\n",
    "\n",
    "\n",
    "# 我的方法\n",
    "model_name_list.append(\"velovgi\")\n",
    "adata = velovgi.tl.read_adata(\"../gastrulation/data/adata/\")\n",
    "adata_list.append(adata)\n",
    "\n",
    "cluster_key = \"celltype\""
   ]
  },
  {
   "cell_type": "code",
   "execution_count": 8,
   "metadata": {},
   "outputs": [],
   "source": [
    "# LatentVelo对于gastrulation的指标\n",
    "blood_edges = [\n",
    "    (\"Haematoendothelial progenitors\", \"Endothelium\"),\n",
    "    (\"Haematoendothelial progenitors\", \"Blood progenitors 1\"),\n",
    "    (\"Blood progenitors 1\", \"Blood progenitors 2\"),\n",
    "    (\"Blood progenitors 2\", \"Erythroid1\"),\n",
    "    (\"Erythroid1\", \"Erythroid2\"),\n",
    "    (\"Erythroid2\", \"Erythroid3\")\n",
    "    ]\n",
    "mesoderm_edges = [\n",
    "    (\"Epiblast\", \"Primitive Streak\"),\n",
    "    (\"Primitive Streak\", \"Nascent mesoderm\")\n",
    "    ]\n",
    "gut_edges = [\n",
    "    (\"Epiblast\", \"Primitive Streak\"), \n",
    "    (\"Primitive Streak\", \"Anterior Primitive Streak\"),\n",
    "    (\"Anterior Primitive Streak\", \"Def. endoderm\"),\n",
    "    (\"Def. endoderm\", \"Gut\") ,\n",
    "    (\"Visceral endoderm\", \"Gut\")\n",
    "    ]\n",
    "cluster_edges = blood_edges + mesoderm_edges + gut_edges # 已知的细胞类型间的分化信息\n",
    "\n",
    "df = velovgi.tl.get_metric_total_df(model_name_list, adata_list, cluster_edges, cluster_key) # 指标计算\n",
    "df.to_csv(\"./metric/gastrulation.csv\")"
   ]
  }
 ],
 "metadata": {
  "kernelspec": {
   "display_name": "velovgi",
   "language": "python",
   "name": "python3"
  },
  "language_info": {
   "codemirror_mode": {
    "name": "ipython",
    "version": 3
   },
   "file_extension": ".py",
   "mimetype": "text/x-python",
   "name": "python",
   "nbconvert_exporter": "python",
   "pygments_lexer": "ipython3",
   "version": "3.8.16"
  },
  "orig_nbformat": 4
 },
 "nbformat": 4,
 "nbformat_minor": 2
}
