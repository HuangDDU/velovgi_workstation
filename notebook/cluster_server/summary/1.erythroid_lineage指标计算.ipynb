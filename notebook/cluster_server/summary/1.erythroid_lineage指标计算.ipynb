{
 "cells": [
  {
   "cell_type": "code",
   "execution_count": 1,
   "metadata": {},
   "outputs": [
    {
     "name": "stderr",
     "output_type": "stream",
     "text": [
      "Global seed set to 0\n",
      "/home/21031211625/anaconda3/envs/velovgi/lib/python3.8/site-packages/pytorch_lightning/utilities/warnings.py:53: LightningDeprecationWarning: pytorch_lightning.utilities.warnings.rank_zero_deprecation has been deprecated in v1.6 and will be removed in v1.8. Use the equivalent function from the pytorch_lightning.utilities.rank_zero module instead.\n",
      "  new_rank_zero_deprecation(\n",
      "/home/21031211625/anaconda3/envs/velovgi/lib/python3.8/site-packages/pytorch_lightning/utilities/warnings.py:58: LightningDeprecationWarning: The `pytorch_lightning.loggers.base.rank_zero_experiment` is deprecated in v1.7 and will be removed in v1.9. Please use `pytorch_lightning.loggers.logger.rank_zero_experiment` instead.\n",
      "  return new_rank_zero_deprecation(*args, **kwargs)\n"
     ]
    }
   ],
   "source": [
    "import sys\n",
    "sys.path = [\"../../..\"] + sys.path # 切换到项目目录下\n",
    "\n",
    "import scvelo as scv\n",
    "import velovgi"
   ]
  },
  {
   "cell_type": "code",
   "execution_count": 2,
   "metadata": {},
   "outputs": [
    {
     "name": "stdout",
     "output_type": "stream",
     "text": [
      "/home/21031211625/Code/rna_velocity_expirement/output/gastrulation_erythroid/scvelo/scvelo_deterministic_adata.h5ad\n",
      "/home/21031211625/Code/rna_velocity_expirement/output/gastrulation_erythroid/scvelo/scvelo_dynamical_adata.h5ad\n",
      "/home/21031211625/Code/rna_velocity_expirement/output/gastrulation_erythroid/scvelo/scvelo_stochastic_adata.h5ad\n",
      "/home/21031211625/Code/rna_velocity_expirement/output/gastrulation_erythroid/veloae/veloae_adata.h5ad\n",
      "/home/21031211625/Code/rna_velocity_expirement/output/gastrulation_erythroid/deepvelo/deepvelo_adata.h5ad\n",
      "/home/21031211625/Code/rna_velocity_expirement/output/gastrulation_erythroid/latentvelo/latentvelo_adata.h5ad\n",
      "/home/21031211625/Code/rna_velocity_expirement/output/gastrulation_erythroid/velovae/velovae_adata.h5ad\n",
      "/home/21031211625/Code/rna_velocity_expirement/output/gastrulation_erythroid/velovi/velovi_adata.h5ad\n",
      "load ../erythroid_lineage/data/adata//adata.h5ad\n",
      "load ../erythroid_lineage/data/adata//sample_recover.pkl\n"
     ]
    }
   ],
   "source": [
    "model_name_list = [\n",
    "                   \"ScveloDeterministic\",\n",
    "                   \"ScveloDynamical\",\n",
    "                   \"ScveloStochastic\",\n",
    "                   \"Veloae\",\n",
    "                   \"Deepvelo\",\n",
    "                   \"Latentvelo\",\n",
    "                   \"Velovae\",\n",
    "                   \"Velovi\",\n",
    "                   ]\n",
    "adata_filename_list = [\n",
    "                       \"/home/21031211625/Code/rna_velocity_expirement/output/gastrulation_erythroid/scvelo/scvelo_deterministic_adata.h5ad\",\n",
    "                       \"/home/21031211625/Code/rna_velocity_expirement/output/gastrulation_erythroid/scvelo/scvelo_dynamical_adata.h5ad\",\n",
    "                       \"/home/21031211625/Code/rna_velocity_expirement/output/gastrulation_erythroid/scvelo/scvelo_stochastic_adata.h5ad\",\n",
    "                       \"/home/21031211625/Code/rna_velocity_expirement/output/gastrulation_erythroid/veloae/veloae_adata.h5ad\",\n",
    "                       \"/home/21031211625/Code/rna_velocity_expirement/output/gastrulation_erythroid/deepvelo/deepvelo_adata.h5ad\",\n",
    "                       \"/home/21031211625/Code/rna_velocity_expirement/output/gastrulation_erythroid/latentvelo/latentvelo_adata.h5ad\",\n",
    "                       \"/home/21031211625/Code/rna_velocity_expirement/output/gastrulation_erythroid/velovae/velovae_adata.h5ad\",\n",
    "                       \"/home/21031211625/Code/rna_velocity_expirement/output/gastrulation_erythroid/velovi/velovi_adata.h5ad\",\n",
    "                       ]\n",
    "\n",
    "adata_list = []\n",
    "for adata_filename in adata_filename_list:\n",
    "    print(adata_filename)\n",
    "    adata = scv.read(adata_filename)\n",
    "    adata_list.append(adata)\n",
    "\n",
    "\n",
    "# 我的方法\n",
    "model_name_list.append(\"velovgi\")\n",
    "adata = velovgi.tl.read_adata(\"../erythroid_lineage/data/adata/\")\n",
    "adata_list.append(adata)\n",
    "\n",
    "cluster_key = \"celltype\""
   ]
  },
  {
   "cell_type": "code",
   "execution_count": 3,
   "metadata": {},
   "outputs": [],
   "source": [
    "cluster_edges = [\n",
    "    (\"Blood progenitors 1\", \"Blood progenitors 2\"), \n",
    "    (\"Blood progenitors 2\", \"Erythroid1\"), \n",
    "    (\"Erythroid1\", \"Erythroid2\"), \n",
    "    (\"Erythroid2\", \"Erythroid3\")\n",
    "    ] # 已知的细胞类型间的分化信息\n",
    "\n",
    "df = velovgi.tl.get_metric_total_df(model_name_list, adata_list, cluster_edges, cluster_key) # 指标计算\n",
    "df.to_csv(\"./metric/erythroid_lineage.csv\")"
   ]
  }
 ],
 "metadata": {
  "kernelspec": {
   "display_name": "velovgi",
   "language": "python",
   "name": "python3"
  },
  "language_info": {
   "codemirror_mode": {
    "name": "ipython",
    "version": 3
   },
   "file_extension": ".py",
   "mimetype": "text/x-python",
   "name": "python",
   "nbconvert_exporter": "python",
   "pygments_lexer": "ipython3",
   "version": "3.8.16"
  },
  "orig_nbformat": 4
 },
 "nbformat": 4,
 "nbformat_minor": 2
}
