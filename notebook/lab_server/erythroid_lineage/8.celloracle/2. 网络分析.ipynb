{
 "cells": [
  {
   "attachments": {},
   "cell_type": "markdown",
   "metadata": {},
   "source": [
    "# 2. 网络分析"
   ]
  },
  {
   "attachments": {},
   "cell_type": "markdown",
   "metadata": {},
   "source": [
    "# 0. Import\n"
   ]
  },
  {
   "cell_type": "code",
   "execution_count": 1,
   "metadata": {},
   "outputs": [],
   "source": [
    "import os\n",
    "import sys\n",
    "\n",
    "import matplotlib.pyplot as plt\n",
    "import numpy as np\n",
    "import pandas as pd\n",
    "import scanpy as sc\n",
    "import seaborn as sns\n"
   ]
  },
  {
   "cell_type": "code",
   "execution_count": 2,
   "metadata": {},
   "outputs": [
    {
     "name": "stderr",
     "output_type": "stream",
     "text": [
      "INFO:matplotlib.font_manager:Failed to extract font properties from /usr/share/fonts/truetype/noto/NotoColorEmoji.ttf: In FT2Font: Can not load face (unknown file format; error code 0x2)\n"
     ]
    },
    {
     "data": {
      "text/plain": [
       "'0.12.0'"
      ]
     },
     "execution_count": 2,
     "metadata": {},
     "output_type": "execute_result"
    }
   ],
   "source": [
    "import celloracle as co\n",
    "co.__version__"
   ]
  },
  {
   "attachments": {},
   "cell_type": "markdown",
   "metadata": {},
   "source": [
    "## 1. 读取"
   ]
  },
  {
   "attachments": {},
   "cell_type": "markdown",
   "metadata": {},
   "source": [
    "1. 原始adata的raw count数据"
   ]
  },
  {
   "cell_type": "code",
   "execution_count": 3,
   "metadata": {},
   "outputs": [
    {
     "data": {
      "text/plain": [
       "AnnData object with n_obs × n_vars = 9815 × 2000\n",
       "    obs: 'sample', 'stage', 'sequencing.batch', 'theiler', 'celltype', 'pseudotime', 'n_counts_all', 'n_counts'\n",
       "    var: 'Accession', 'Chromosome', 'End', 'Start', 'Strand', 'MURK_gene', 'Δm', 'scaled Δm', 'n_counts', 'mean', 'std'\n",
       "    uns: 'celltype_colors', 'log1p', 'neighbors', 'pca'\n",
       "    obsm: 'X_pca', 'X_umap'\n",
       "    varm: 'PCs'\n",
       "    layers: 'raw_count', 'spliced', 'unspliced'\n",
       "    obsp: 'connectivities', 'distances'"
      ]
     },
     "execution_count": 3,
     "metadata": {},
     "output_type": "execute_result"
    }
   ],
   "source": [
    "adata = sc.read(\"./data/adata_processed.h5ad\")\n",
    "# 暂时不用下采样了\n",
    "cluster_key = \"celltype\"\n",
    "adata"
   ]
  },
  {
   "attachments": {},
   "cell_type": "markdown",
   "metadata": {},
   "source": [
    "2. GRN数据"
   ]
  },
  {
   "cell_type": "code",
   "execution_count": 4,
   "metadata": {},
   "outputs": [
    {
     "data": {
      "text/html": [
       "<div>\n",
       "<style scoped>\n",
       "    .dataframe tbody tr th:only-of-type {\n",
       "        vertical-align: middle;\n",
       "    }\n",
       "\n",
       "    .dataframe tbody tr th {\n",
       "        vertical-align: top;\n",
       "    }\n",
       "\n",
       "    .dataframe thead th {\n",
       "        text-align: right;\n",
       "    }\n",
       "</style>\n",
       "<table border=\"1\" class=\"dataframe\">\n",
       "  <thead>\n",
       "    <tr style=\"text-align: right;\">\n",
       "      <th></th>\n",
       "      <th>peak_id</th>\n",
       "      <th>gene_short_name</th>\n",
       "      <th>9430076c15rik</th>\n",
       "      <th>Ac002126.6</th>\n",
       "      <th>Ac012531.1</th>\n",
       "      <th>Ac226150.2</th>\n",
       "      <th>Afp</th>\n",
       "      <th>Ahr</th>\n",
       "      <th>Ahrr</th>\n",
       "      <th>Aire</th>\n",
       "      <th>...</th>\n",
       "      <th>Znf784</th>\n",
       "      <th>Znf8</th>\n",
       "      <th>Znf816</th>\n",
       "      <th>Znf85</th>\n",
       "      <th>Zscan10</th>\n",
       "      <th>Zscan16</th>\n",
       "      <th>Zscan22</th>\n",
       "      <th>Zscan26</th>\n",
       "      <th>Zscan31</th>\n",
       "      <th>Zscan4</th>\n",
       "    </tr>\n",
       "  </thead>\n",
       "  <tbody>\n",
       "    <tr>\n",
       "      <th>0</th>\n",
       "      <td>chr10_100050979_100052296</td>\n",
       "      <td>4930430F08Rik</td>\n",
       "      <td>0.0</td>\n",
       "      <td>0.0</td>\n",
       "      <td>1.0</td>\n",
       "      <td>0.0</td>\n",
       "      <td>0.0</td>\n",
       "      <td>0.0</td>\n",
       "      <td>0.0</td>\n",
       "      <td>0.0</td>\n",
       "      <td>...</td>\n",
       "      <td>0.0</td>\n",
       "      <td>0.0</td>\n",
       "      <td>0.0</td>\n",
       "      <td>0.0</td>\n",
       "      <td>0.0</td>\n",
       "      <td>0.0</td>\n",
       "      <td>0.0</td>\n",
       "      <td>0.0</td>\n",
       "      <td>0.0</td>\n",
       "      <td>0.0</td>\n",
       "    </tr>\n",
       "    <tr>\n",
       "      <th>1</th>\n",
       "      <td>chr10_101006922_101007748</td>\n",
       "      <td>SNORA17</td>\n",
       "      <td>0.0</td>\n",
       "      <td>0.0</td>\n",
       "      <td>0.0</td>\n",
       "      <td>0.0</td>\n",
       "      <td>0.0</td>\n",
       "      <td>0.0</td>\n",
       "      <td>0.0</td>\n",
       "      <td>0.0</td>\n",
       "      <td>...</td>\n",
       "      <td>0.0</td>\n",
       "      <td>0.0</td>\n",
       "      <td>0.0</td>\n",
       "      <td>0.0</td>\n",
       "      <td>0.0</td>\n",
       "      <td>0.0</td>\n",
       "      <td>0.0</td>\n",
       "      <td>0.0</td>\n",
       "      <td>1.0</td>\n",
       "      <td>0.0</td>\n",
       "    </tr>\n",
       "    <tr>\n",
       "      <th>2</th>\n",
       "      <td>chr10_101144061_101145000</td>\n",
       "      <td>Mgat4c</td>\n",
       "      <td>0.0</td>\n",
       "      <td>0.0</td>\n",
       "      <td>0.0</td>\n",
       "      <td>0.0</td>\n",
       "      <td>0.0</td>\n",
       "      <td>0.0</td>\n",
       "      <td>0.0</td>\n",
       "      <td>0.0</td>\n",
       "      <td>...</td>\n",
       "      <td>0.0</td>\n",
       "      <td>0.0</td>\n",
       "      <td>0.0</td>\n",
       "      <td>0.0</td>\n",
       "      <td>0.0</td>\n",
       "      <td>0.0</td>\n",
       "      <td>0.0</td>\n",
       "      <td>0.0</td>\n",
       "      <td>0.0</td>\n",
       "      <td>1.0</td>\n",
       "    </tr>\n",
       "    <tr>\n",
       "      <th>3</th>\n",
       "      <td>chr10_10148873_10149183</td>\n",
       "      <td>9130014G24Rik</td>\n",
       "      <td>0.0</td>\n",
       "      <td>0.0</td>\n",
       "      <td>0.0</td>\n",
       "      <td>0.0</td>\n",
       "      <td>0.0</td>\n",
       "      <td>0.0</td>\n",
       "      <td>0.0</td>\n",
       "      <td>0.0</td>\n",
       "      <td>...</td>\n",
       "      <td>0.0</td>\n",
       "      <td>0.0</td>\n",
       "      <td>0.0</td>\n",
       "      <td>0.0</td>\n",
       "      <td>0.0</td>\n",
       "      <td>0.0</td>\n",
       "      <td>0.0</td>\n",
       "      <td>0.0</td>\n",
       "      <td>0.0</td>\n",
       "      <td>0.0</td>\n",
       "    </tr>\n",
       "    <tr>\n",
       "      <th>4</th>\n",
       "      <td>chr10_10149425_10149815</td>\n",
       "      <td>9130014G24Rik</td>\n",
       "      <td>0.0</td>\n",
       "      <td>0.0</td>\n",
       "      <td>0.0</td>\n",
       "      <td>0.0</td>\n",
       "      <td>0.0</td>\n",
       "      <td>0.0</td>\n",
       "      <td>0.0</td>\n",
       "      <td>0.0</td>\n",
       "      <td>...</td>\n",
       "      <td>0.0</td>\n",
       "      <td>0.0</td>\n",
       "      <td>0.0</td>\n",
       "      <td>0.0</td>\n",
       "      <td>0.0</td>\n",
       "      <td>0.0</td>\n",
       "      <td>0.0</td>\n",
       "      <td>0.0</td>\n",
       "      <td>0.0</td>\n",
       "      <td>0.0</td>\n",
       "    </tr>\n",
       "  </tbody>\n",
       "</table>\n",
       "<p>5 rows × 1095 columns</p>\n",
       "</div>"
      ],
      "text/plain": [
       "                     peak_id gene_short_name  9430076c15rik  Ac002126.6  \\\n",
       "0  chr10_100050979_100052296   4930430F08Rik            0.0         0.0   \n",
       "1  chr10_101006922_101007748         SNORA17            0.0         0.0   \n",
       "2  chr10_101144061_101145000          Mgat4c            0.0         0.0   \n",
       "3    chr10_10148873_10149183   9130014G24Rik            0.0         0.0   \n",
       "4    chr10_10149425_10149815   9130014G24Rik            0.0         0.0   \n",
       "\n",
       "   Ac012531.1  Ac226150.2  Afp  Ahr  Ahrr  Aire  ...  Znf784  Znf8  Znf816  \\\n",
       "0         1.0         0.0  0.0  0.0   0.0   0.0  ...     0.0   0.0     0.0   \n",
       "1         0.0         0.0  0.0  0.0   0.0   0.0  ...     0.0   0.0     0.0   \n",
       "2         0.0         0.0  0.0  0.0   0.0   0.0  ...     0.0   0.0     0.0   \n",
       "3         0.0         0.0  0.0  0.0   0.0   0.0  ...     0.0   0.0     0.0   \n",
       "4         0.0         0.0  0.0  0.0   0.0   0.0  ...     0.0   0.0     0.0   \n",
       "\n",
       "   Znf85  Zscan10  Zscan16  Zscan22  Zscan26  Zscan31  Zscan4  \n",
       "0    0.0      0.0      0.0      0.0      0.0      0.0     0.0  \n",
       "1    0.0      0.0      0.0      0.0      0.0      1.0     0.0  \n",
       "2    0.0      0.0      0.0      0.0      0.0      0.0     1.0  \n",
       "3    0.0      0.0      0.0      0.0      0.0      0.0     0.0  \n",
       "4    0.0      0.0      0.0      0.0      0.0      0.0     0.0  \n",
       "\n",
       "[5 rows x 1095 columns]"
      ]
     },
     "execution_count": 4,
     "metadata": {},
     "output_type": "execute_result"
    }
   ],
   "source": [
    "base_GRN = co.data.load_mouse_scATAC_atlas_base_GRN()\n",
    "base_GRN.head()"
   ]
  },
  {
   "attachments": {},
   "cell_type": "markdown",
   "metadata": {},
   "source": [
    "## 2. 构造Oracle对象"
   ]
  },
  {
   "cell_type": "code",
   "execution_count": 5,
   "metadata": {},
   "outputs": [],
   "source": [
    "oracle = co.Oracle()"
   ]
  },
  {
   "attachments": {},
   "cell_type": "markdown",
   "metadata": {},
   "source": [
    "1. 导入表达数据"
   ]
  },
  {
   "cell_type": "code",
   "execution_count": 6,
   "metadata": {},
   "outputs": [
    {
     "name": "stdout",
     "output_type": "stream",
     "text": [
      "WARNING: adata.X seems to be already log-transformed.\n"
     ]
    }
   ],
   "source": [
    "adata.X = adata.layers[\"raw_count\"].copy() # 这里使用了计数矩阵\n",
    "\n",
    "oracle.import_anndata_as_raw_count(adata=adata,\n",
    "                                   cluster_column_name=cluster_key,\n",
    "                                   embedding_name=\"X_umap\")"
   ]
  },
  {
   "attachments": {},
   "cell_type": "markdown",
   "metadata": {},
   "source": [
    "2. 导入GRN数据"
   ]
  },
  {
   "cell_type": "code",
   "execution_count": 7,
   "metadata": {},
   "outputs": [],
   "source": [
    "oracle.import_TF_data(TF_info_matrix=base_GRN)\n",
    "# 手动插入GRN就跳过了"
   ]
  },
  {
   "attachments": {},
   "cell_type": "markdown",
   "metadata": {},
   "source": [
    "## 3. KNN插补"
   ]
  },
  {
   "attachments": {},
   "cell_type": "markdown",
   "metadata": {},
   "source": [
    "1. pca"
   ]
  },
  {
   "cell_type": "code",
   "execution_count": 8,
   "metadata": {},
   "outputs": [
    {
     "name": "stdout",
     "output_type": "stream",
     "text": [
      "17\n"
     ]
    }
   ],
   "source": [
    "oracle.perform_PCA()\n",
    "\n",
    "# Select important PCs\n",
    "# 绘制前100个成分，并且取\n",
    "plt.plot(np.cumsum(oracle.pca.explained_variance_ratio_)[:100])\n",
    "n_comps = np.where(np.diff(np.diff(np.cumsum(oracle.pca.explained_variance_ratio_))>0.002))[0][0] # 暂时不理解这里的主成分数是怎么选的\n",
    "plt.axvline(n_comps, c=\"k\")\n",
    "plt.show()\n",
    "print(n_comps)\n",
    "n_comps = min(n_comps, 50)"
   ]
  },
  {
   "attachments": {},
   "cell_type": "markdown",
   "metadata": {},
   "source": [
    "2. KNN imputation"
   ]
  },
  {
   "cell_type": "code",
   "execution_count": 9,
   "metadata": {},
   "outputs": [
    {
     "name": "stdout",
     "output_type": "stream",
     "text": [
      "cell number is :9815\n",
      "Auto-selected k is :245\n"
     ]
    }
   ],
   "source": [
    "n_cell = oracle.adata.shape[0]\n",
    "print(f\"cell number is :{n_cell}\")\n",
    "\n",
    "k = int(0.025*n_cell)\n",
    "print(f\"Auto-selected k is :{k}\")\n",
    "\n",
    "oracle.knn_imputation(n_pca_dims=n_comps, k=k, balanced=True, b_sight=k*8,\n",
    "                      b_maxl=k*4, n_jobs=4)"
   ]
  },
  {
   "attachments": {},
   "cell_type": "markdown",
   "metadata": {},
   "source": [
    "## 4. 保存和导入"
   ]
  },
  {
   "cell_type": "code",
   "execution_count": 10,
   "metadata": {},
   "outputs": [],
   "source": [
    "oracle.to_hdf5(\"./data/adata.celloracle.oracle\")"
   ]
  },
  {
   "cell_type": "code",
   "execution_count": 11,
   "metadata": {},
   "outputs": [],
   "source": [
    "oracle = co.load_hdf5(\"./data/adata.celloracle.oracle\")"
   ]
  },
  {
   "attachments": {},
   "cell_type": "markdown",
   "metadata": {},
   "source": [
    "## 5. GRN计算"
   ]
  },
  {
   "cell_type": "code",
   "execution_count": 12,
   "metadata": {},
   "outputs": [],
   "source": [
    "sc.pl.umap(oracle.adata, color=cluster_key)"
   ]
  },
  {
   "attachments": {},
   "cell_type": "markdown",
   "metadata": {},
   "source": [
    "1. 获得GRNs"
   ]
  },
  {
   "cell_type": "code",
   "execution_count": 13,
   "metadata": {},
   "outputs": [
    {
     "data": {
      "application/vnd.jupyter.widget-view+json": {
       "model_id": "96cb3835a7bb4f4d8781770a0d9e9e49",
       "version_major": 2,
       "version_minor": 0
      },
      "text/plain": [
       "  0%|          | 0/5 [00:00<?, ?it/s]"
      ]
     },
     "metadata": {},
     "output_type": "display_data"
    },
    {
     "name": "stdout",
     "output_type": "stream",
     "text": [
      "Inferring GRN for Blood progenitors 1...\n"
     ]
    },
    {
     "data": {
      "application/vnd.jupyter.widget-view+json": {
       "model_id": "23e66fa607254737977cf8372c12515a",
       "version_major": 2,
       "version_minor": 0
      },
      "text/plain": [
       "  0%|          | 0/1805 [00:00<?, ?it/s]"
      ]
     },
     "metadata": {},
     "output_type": "display_data"
    },
    {
     "name": "stdout",
     "output_type": "stream",
     "text": [
      "Inferring GRN for Blood progenitors 2...\n"
     ]
    },
    {
     "data": {
      "application/vnd.jupyter.widget-view+json": {
       "model_id": "cbdfb1099fc5416c9ee089041c05d92a",
       "version_major": 2,
       "version_minor": 0
      },
      "text/plain": [
       "  0%|          | 0/1805 [00:00<?, ?it/s]"
      ]
     },
     "metadata": {},
     "output_type": "display_data"
    },
    {
     "name": "stdout",
     "output_type": "stream",
     "text": [
      "Inferring GRN for Erythroid1...\n"
     ]
    },
    {
     "data": {
      "application/vnd.jupyter.widget-view+json": {
       "model_id": "e111bc183577463b835a9f08d09850df",
       "version_major": 2,
       "version_minor": 0
      },
      "text/plain": [
       "  0%|          | 0/1805 [00:00<?, ?it/s]"
      ]
     },
     "metadata": {},
     "output_type": "display_data"
    },
    {
     "name": "stdout",
     "output_type": "stream",
     "text": [
      "Inferring GRN for Erythroid2...\n"
     ]
    },
    {
     "data": {
      "application/vnd.jupyter.widget-view+json": {
       "model_id": "4c6a98b96f554aac89dc7b27f4f3b462",
       "version_major": 2,
       "version_minor": 0
      },
      "text/plain": [
       "  0%|          | 0/1805 [00:00<?, ?it/s]"
      ]
     },
     "metadata": {},
     "output_type": "display_data"
    },
    {
     "name": "stdout",
     "output_type": "stream",
     "text": [
      "Inferring GRN for Erythroid3...\n"
     ]
    },
    {
     "data": {
      "application/vnd.jupyter.widget-view+json": {
       "model_id": "77727f5627d64e44ae32d0ff35d82a51",
       "version_major": 2,
       "version_minor": 0
      },
      "text/plain": [
       "  0%|          | 0/1805 [00:00<?, ?it/s]"
      ]
     },
     "metadata": {},
     "output_type": "display_data"
    }
   ],
   "source": [
    "links = oracle.get_links(cluster_name_for_GRN_unit=cluster_key, alpha=10,\n",
    "                         verbose_level=10)"
   ]
  },
  {
   "attachments": {},
   "cell_type": "markdown",
   "metadata": {},
   "source": [
    "2. 导出GRNs"
   ]
  },
  {
   "attachments": {},
   "cell_type": "markdown",
   "metadata": {},
   "source": [
    "3. 改变GRN顺序"
   ]
  },
  {
   "attachments": {},
   "cell_type": "markdown",
   "metadata": {},
   "source": [
    "## 6. 网络处理"
   ]
  },
  {
   "attachments": {},
   "cell_type": "markdown",
   "metadata": {},
   "source": [
    "1. 过滤边"
   ]
  },
  {
   "cell_type": "code",
   "execution_count": 14,
   "metadata": {},
   "outputs": [],
   "source": [
    "links.filter_links(p=0.001, weight=\"coef_abs\", threshold_number=2000)"
   ]
  },
  {
   "attachments": {},
   "cell_type": "markdown",
   "metadata": {},
   "source": [
    "2. 度分布"
   ]
  },
  {
   "cell_type": "code",
   "execution_count": 15,
   "metadata": {},
   "outputs": [
    {
     "name": "stdout",
     "output_type": "stream",
     "text": [
      "Blood progenitors 1\n",
      "Blood progenitors 2\n",
      "Erythroid1\n",
      "Erythroid2\n",
      "Erythroid3\n"
     ]
    }
   ],
   "source": [
    "links.plot_degree_distributions(plot_model=True, \n",
    "                                               #save=f\"{save_folder}/degree_distribution/\",\n",
    "                                               )"
   ]
  },
  {
   "attachments": {},
   "cell_type": "markdown",
   "metadata": {},
   "source": [
    "3. 计算网络得分"
   ]
  },
  {
   "cell_type": "code",
   "execution_count": 16,
   "metadata": {},
   "outputs": [
    {
     "data": {
      "text/html": [
       "<div>\n",
       "<style scoped>\n",
       "    .dataframe tbody tr th:only-of-type {\n",
       "        vertical-align: middle;\n",
       "    }\n",
       "\n",
       "    .dataframe tbody tr th {\n",
       "        vertical-align: top;\n",
       "    }\n",
       "\n",
       "    .dataframe thead th {\n",
       "        text-align: right;\n",
       "    }\n",
       "</style>\n",
       "<table border=\"1\" class=\"dataframe\">\n",
       "  <thead>\n",
       "    <tr style=\"text-align: right;\">\n",
       "      <th></th>\n",
       "      <th>degree_all</th>\n",
       "      <th>degree_centrality_all</th>\n",
       "      <th>degree_in</th>\n",
       "      <th>degree_centrality_in</th>\n",
       "      <th>degree_out</th>\n",
       "      <th>degree_centrality_out</th>\n",
       "      <th>betweenness_centrality</th>\n",
       "      <th>eigenvector_centrality</th>\n",
       "      <th>cluster</th>\n",
       "    </tr>\n",
       "  </thead>\n",
       "  <tbody>\n",
       "    <tr>\n",
       "      <th>Hdac2</th>\n",
       "      <td>134</td>\n",
       "      <td>0.224832</td>\n",
       "      <td>5</td>\n",
       "      <td>0.008389</td>\n",
       "      <td>129</td>\n",
       "      <td>0.216443</td>\n",
       "      <td>4980.0</td>\n",
       "      <td>1.000000</td>\n",
       "      <td>Blood progenitors 1</td>\n",
       "    </tr>\n",
       "    <tr>\n",
       "      <th>Hbb-bh1</th>\n",
       "      <td>2</td>\n",
       "      <td>0.003356</td>\n",
       "      <td>2</td>\n",
       "      <td>0.003356</td>\n",
       "      <td>0</td>\n",
       "      <td>0.000000</td>\n",
       "      <td>0.0</td>\n",
       "      <td>0.591571</td>\n",
       "      <td>Blood progenitors 1</td>\n",
       "    </tr>\n",
       "    <tr>\n",
       "      <th>Tead2</th>\n",
       "      <td>76</td>\n",
       "      <td>0.127517</td>\n",
       "      <td>6</td>\n",
       "      <td>0.010067</td>\n",
       "      <td>70</td>\n",
       "      <td>0.117450</td>\n",
       "      <td>2708.0</td>\n",
       "      <td>0.618059</td>\n",
       "      <td>Blood progenitors 1</td>\n",
       "    </tr>\n",
       "    <tr>\n",
       "      <th>Rasip1</th>\n",
       "      <td>2</td>\n",
       "      <td>0.003356</td>\n",
       "      <td>2</td>\n",
       "      <td>0.003356</td>\n",
       "      <td>0</td>\n",
       "      <td>0.000000</td>\n",
       "      <td>0.0</td>\n",
       "      <td>0.145068</td>\n",
       "      <td>Blood progenitors 1</td>\n",
       "    </tr>\n",
       "    <tr>\n",
       "      <th>Eno1</th>\n",
       "      <td>104</td>\n",
       "      <td>0.174497</td>\n",
       "      <td>11</td>\n",
       "      <td>0.018456</td>\n",
       "      <td>93</td>\n",
       "      <td>0.156040</td>\n",
       "      <td>9757.0</td>\n",
       "      <td>0.734430</td>\n",
       "      <td>Blood progenitors 1</td>\n",
       "    </tr>\n",
       "  </tbody>\n",
       "</table>\n",
       "</div>"
      ],
      "text/plain": [
       "         degree_all  degree_centrality_all  degree_in  degree_centrality_in  \\\n",
       "Hdac2           134               0.224832          5              0.008389   \n",
       "Hbb-bh1           2               0.003356          2              0.003356   \n",
       "Tead2            76               0.127517          6              0.010067   \n",
       "Rasip1            2               0.003356          2              0.003356   \n",
       "Eno1            104               0.174497         11              0.018456   \n",
       "\n",
       "         degree_out  degree_centrality_out  betweenness_centrality  \\\n",
       "Hdac2           129               0.216443                  4980.0   \n",
       "Hbb-bh1           0               0.000000                     0.0   \n",
       "Tead2            70               0.117450                  2708.0   \n",
       "Rasip1            0               0.000000                     0.0   \n",
       "Eno1             93               0.156040                  9757.0   \n",
       "\n",
       "         eigenvector_centrality              cluster  \n",
       "Hdac2                  1.000000  Blood progenitors 1  \n",
       "Hbb-bh1                0.591571  Blood progenitors 1  \n",
       "Tead2                  0.618059  Blood progenitors 1  \n",
       "Rasip1                 0.145068  Blood progenitors 1  \n",
       "Eno1                   0.734430  Blood progenitors 1  "
      ]
     },
     "execution_count": 16,
     "metadata": {},
     "output_type": "execute_result"
    }
   ],
   "source": [
    "links.get_network_score()\n",
    "links.merged_score.head()"
   ]
  },
  {
   "attachments": {},
   "cell_type": "markdown",
   "metadata": {},
   "source": [
    "4. 保存"
   ]
  },
  {
   "cell_type": "code",
   "execution_count": 18,
   "metadata": {},
   "outputs": [],
   "source": [
    "links.to_hdf5(file_path=\"./data/links.celloracle.links\")"
   ]
  },
  {
   "cell_type": "code",
   "execution_count": 19,
   "metadata": {},
   "outputs": [],
   "source": [
    "links = co.load_hdf5(file_path=\"./data/links.celloracle.links\")"
   ]
  }
 ],
 "metadata": {
  "kernelspec": {
   "display_name": "celloracle_env",
   "language": "python",
   "name": "python3"
  },
  "language_info": {
   "codemirror_mode": {
    "name": "ipython",
    "version": 3
   },
   "file_extension": ".py",
   "mimetype": "text/x-python",
   "name": "python",
   "nbconvert_exporter": "python",
   "pygments_lexer": "ipython3",
   "version": "3.8.16"
  },
  "orig_nbformat": 4
 },
 "nbformat": 4,
 "nbformat_minor": 2
}
