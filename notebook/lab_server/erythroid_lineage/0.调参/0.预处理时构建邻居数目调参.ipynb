{
 "cells": [
  {
   "cell_type": "code",
   "execution_count": 2,
   "metadata": {},
   "outputs": [
    {
     "name": "stderr",
     "output_type": "stream",
     "text": [
      "Global seed set to 0\n",
      "/home/huang/.conda/envs/velovi-env/lib/python3.8/site-packages/pytorch_lightning/utilities/warnings.py:53: LightningDeprecationWarning: pytorch_lightning.utilities.warnings.rank_zero_deprecation has been deprecated in v1.6 and will be removed in v1.8. Use the equivalent function from the pytorch_lightning.utilities.rank_zero module instead.\n",
      "  new_rank_zero_deprecation(\n",
      "/home/huang/.conda/envs/velovi-env/lib/python3.8/site-packages/pytorch_lightning/utilities/warnings.py:58: LightningDeprecationWarning: The `pytorch_lightning.loggers.base.rank_zero_experiment` is deprecated in v1.7 and will be removed in v1.9. Please use `pytorch_lightning.loggers.logger.rank_zero_experiment` instead.\n",
      "  return new_rank_zero_deprecation(*args, **kwargs)\n"
     ]
    }
   ],
   "source": [
    "import sys\n",
    "sys.path = [\"../../../..\"] + sys.path # 切换到项目目录下\n",
    "\n",
    "import scanpy as sc\n",
    "import scvelo as scv\n",
    "import velovgi\n",
    "\n",
    "from ray import tune, air\n",
    "from ray.air import session"
   ]
  },
  {
   "attachments": {},
   "cell_type": "markdown",
   "metadata": {},
   "source": [
    "## 1. 重新组织目标函数后的流程"
   ]
  },
  {
   "attachments": {},
   "cell_type": "markdown",
   "metadata": {},
   "source": [
    "1. 目标函数，数据读取过程就在目标函数里写了\n",
    "    - 之前写到外面的话，每次创建一个Trail，除了显式地传入config参数，额外都会把现有的全局变量复制一遍，。\n",
    "    - 现在数据读取写在里面，包也尽可能在里面导入，每次创建一个Trail传入的数据量就少得多了。"
   ]
  },
  {
   "cell_type": "code",
   "execution_count": 33,
   "metadata": {},
   "outputs": [],
   "source": [
    "from pytorch_lightning import loggers\n",
    "from torch_geometric import seed_everything\n",
    "\n",
    "def train_velovgi(config):\n",
    "    # 包导入\n",
    "    # 这里需要指定目录，否则找不到\n",
    "    import sys\n",
    "    sys.path = [\"/home/huang/PyCode/scRNA/Other/velovgi_workstation\"] + sys.path\n",
    "\n",
    "    import scvelo as scv\n",
    "    import velovgi\n",
    "\n",
    "    # 数据读取与基本设置\n",
    "    adata = scv.read(\"/home/huang/PyCode/scRNA/data/Gastrulation/erythroid_lineage.h5ad\")\n",
    "    cluster_key = \"celltype\"\n",
    "    batch_key=\"stage\"\n",
    "    batch_pair_list = [\n",
    "        [\"E7.0\", \"E7.25\"],\n",
    "        [\"E7.25\", \"E7.5\"],\n",
    "        [\"E7.5\", \"E7.75\"],\n",
    "        [\"E7.75\", \"E8.0\"],\n",
    "        [\"E8.0\", \"E8.25\"],\n",
    "        [\"E8.25\", \"E8.5\"],\n",
    "    ]\n",
    "    cluster_edges = [\n",
    "    (\"Blood progenitors 1\", \"Blood progenitors 2\"), \n",
    "    (\"Blood progenitors 2\", \"Erythroid1\"), \n",
    "    (\"Erythroid1\", \"Erythroid2\"), \n",
    "    (\"Erythroid2\", \"Erythroid3\")\n",
    "    ] # 已知的细胞类型间的分化信息\n",
    "\n",
    "    ################################################################################\n",
    "    # 邻居数量的两个参数\n",
    "    n_bnn_neighbors = config[\"n_bnn_neighbors\"]\n",
    "    n_knn_neighbors = config[\"n_knn_neighbors\"]\n",
    "    \n",
    "    knn_mask, bnn_mask, subsample_adata = velovgi.pp.preprocess(adata, n_bnn_neighbors, n_knn_neighbors, sample_mode=\"random\", batch_key=batch_key, batch_pair_list=batch_pair_list)\n",
    "\n",
    "    name = \"\"\n",
    "    for k,v in config.items():\n",
    "        name += \"%s_%s,\"%(k, v)\n",
    "    name = name[:-1]\n",
    "\n",
    "    seed_everything(0)\n",
    "    # 模型训练\n",
    "    logger = loggers.TensorBoardLogger(save_dir=\"./log\", name=name)\n",
    "    velovgi.tl.VELOVGI.setup_anndata(adata=subsample_adata, spliced_layer=\"Ms\", unspliced_layer=\"Mu\")\n",
    "    velovgi_model = velovgi.tl.VELOVGI(subsample_adata)\n",
    "    velovgi_model.train(logger=logger, max_epochs=50)\n",
    "\n",
    "    # 模型恢复\n",
    "    velovgi.tl.add_velovi_outputs_to_adata(subsample_adata, velovgi_model) # 模型输出\n",
    "    velovgi.pp.moment_recover(adata, subsample_adata) # 恢复\n",
    "\n",
    "    # 速率计算\n",
    "    scv.tl.velocity_graph(adata)\n",
    "    scv.pl.velocity_embedding(adata, color=cluster_key)\n",
    "    scv.pl.velocity_embedding_stream(adata, color=cluster_key, save=\"%s.png\"%name)\n",
    "\n",
    "    # 计算指标评价\n",
    "    adata_velo = velovgi.tl.pre_metric(adata)\n",
    "    exp_metrics = velovgi.tl.summary_metric(adata_velo, cluster_edges, cluster_key)[-1] # 计算指标汇总后的结果\n",
    "\n",
    "    session.report({\"CBDir\": exp_metrics[\"CBDir\"], \"ICVCoh\": exp_metrics[\"ICVCoh\"]})\n"
   ]
  },
  {
   "attachments": {},
   "cell_type": "markdown",
   "metadata": {},
   "source": [
    "2. 搜索空间，网格搜索"
   ]
  },
  {
   "cell_type": "code",
   "execution_count": 31,
   "metadata": {},
   "outputs": [],
   "source": [
    "search_space = {\n",
    "    \"n_bnn_neighbors\": tune.grid_search([15, 30, 50]),\n",
    "    \"n_knn_neighbors\": tune.grid_search([15, 30, 50]),\n",
    "}"
   ]
  },
  {
   "attachments": {},
   "cell_type": "markdown",
   "metadata": {},
   "source": [
    "3. 执行调参"
   ]
  },
  {
   "cell_type": "code",
   "execution_count": 32,
   "metadata": {},
   "outputs": [
    {
     "name": "stderr",
     "output_type": "stream",
     "text": [
      "2023-06-04 17:39:10,364\tWARNING callback.py:142 -- The TensorboardX logger cannot be instantiated because either TensorboardX or one of it's dependencies is not installed. Please make sure you have the latest version of TensorboardX installed: `pip install -U tensorboardx`\n"
     ]
    },
    {
     "data": {
      "text/html": [
       "<div class=\"tuneStatus\">\n",
       "  <div style=\"display: flex;flex-direction: row\">\n",
       "    <div style=\"display: flex;flex-direction: column;\">\n",
       "      <h3>Tune Status</h3>\n",
       "      <table>\n",
       "<tbody>\n",
       "<tr><td>Current time:</td><td>2023-06-04 17:52:03</td></tr>\n",
       "<tr><td>Running for: </td><td>00:12:52.87        </td></tr>\n",
       "<tr><td>Memory:      </td><td>33.8/62.5 GiB      </td></tr>\n",
       "</tbody>\n",
       "</table>\n",
       "    </div>\n",
       "    <div class=\"vDivider\"></div>\n",
       "    <div class=\"systemInfo\">\n",
       "      <h3>System Info</h3>\n",
       "      Using AsyncHyperBand: num_stopped=0<br>Bracket: Iter 64.000: None | Iter 16.000: None | Iter 4.000: None | Iter 1.000: None<br>Logical resource usage: 2.0/24 CPUs, 0/0 GPUs\n",
       "    </div>\n",
       "    \n",
       "  </div>\n",
       "  <div class=\"hDivider\"></div>\n",
       "  <div class=\"trialStatus\">\n",
       "    <h3>Trial Status</h3>\n",
       "    <table>\n",
       "<thead>\n",
       "<tr><th>Trial name               </th><th>status  </th><th>loc               </th><th style=\"text-align: right;\">  n_bnn_neighbors</th><th style=\"text-align: right;\">  n_knn_neighbors</th></tr>\n",
       "</thead>\n",
       "<tbody>\n",
       "<tr><td>train_velovgi_a8780_00000</td><td>RUNNING </td><td>192.168.1.2:182395</td><td style=\"text-align: right;\">               15</td><td style=\"text-align: right;\">               15</td></tr>\n",
       "<tr><td>train_velovgi_a8780_00001</td><td>RUNNING </td><td>192.168.1.2:182450</td><td style=\"text-align: right;\">               45</td><td style=\"text-align: right;\">               15</td></tr>\n",
       "</tbody>\n",
       "</table>\n",
       "  </div>\n",
       "</div>\n",
       "<style>\n",
       ".tuneStatus {\n",
       "  color: var(--jp-ui-font-color1);\n",
       "}\n",
       ".tuneStatus .systemInfo {\n",
       "  display: flex;\n",
       "  flex-direction: column;\n",
       "}\n",
       ".tuneStatus td {\n",
       "  white-space: nowrap;\n",
       "}\n",
       ".tuneStatus .trialStatus {\n",
       "  display: flex;\n",
       "  flex-direction: column;\n",
       "}\n",
       ".tuneStatus h3 {\n",
       "  font-weight: bold;\n",
       "}\n",
       ".tuneStatus .hDivider {\n",
       "  border-bottom-width: var(--jp-border-width);\n",
       "  border-bottom-color: var(--jp-border-color0);\n",
       "  border-bottom-style: solid;\n",
       "}\n",
       ".tuneStatus .vDivider {\n",
       "  border-left-width: var(--jp-border-width);\n",
       "  border-left-color: var(--jp-border-color0);\n",
       "  border-left-style: solid;\n",
       "  margin: 0.5em 1em 0.5em 1em;\n",
       "}\n",
       "</style>\n"
      ],
      "text/plain": [
       "<IPython.core.display.HTML object>"
      ]
     },
     "metadata": {},
     "output_type": "display_data"
    },
    {
     "name": "stderr",
     "output_type": "stream",
     "text": [
      "\u001b[2m\u001b[36m(train_velovgi pid=182395)\u001b[0m Global seed set to 0\n",
      "\u001b[2m\u001b[36m(train_velovgi pid=182395)\u001b[0m /home/huang/.conda/envs/velovi-env/lib/python3.8/site-packages/pytorch_lightning/utilities/warnings.py:53: LightningDeprecationWarning: pytorch_lightning.utilities.warnings.rank_zero_deprecation has been deprecated in v1.6 and will be removed in v1.8. Use the equivalent function from the pytorch_lightning.utilities.rank_zero module instead.\n",
      "\u001b[2m\u001b[36m(train_velovgi pid=182395)\u001b[0m   new_rank_zero_deprecation(\n",
      "\u001b[2m\u001b[36m(train_velovgi pid=182395)\u001b[0m /home/huang/.conda/envs/velovi-env/lib/python3.8/site-packages/pytorch_lightning/utilities/warnings.py:58: LightningDeprecationWarning: The `pytorch_lightning.loggers.base.rank_zero_experiment` is deprecated in v1.7 and will be removed in v1.9. Please use `pytorch_lightning.loggers.logger.rank_zero_experiment` instead.\n",
      "\u001b[2m\u001b[36m(train_velovgi pid=182395)\u001b[0m   return new_rank_zero_deprecation(*args, **kwargs)\n"
     ]
    },
    {
     "name": "stdout",
     "output_type": "stream",
     "text": [
      "\u001b[2m\u001b[36m(train_velovgi pid=182395)\u001b[0m Filtered out 47456 genes that are detected 20 counts (shared).\n",
      "\u001b[2m\u001b[36m(train_velovgi pid=179922)\u001b[0m Filtered out 47456 genes that are detected 20 counts (shared).\n",
      "\u001b[2m\u001b[36m(train_velovgi pid=179922)\u001b[0m Filtered out 47456 genes that are detected 20 counts (shared).\n",
      "\u001b[2m\u001b[36m(train_velovgi pid=179922)\u001b[0m Filtered out 47456 genes that are detected 20 counts (shared).\n",
      "\u001b[2m\u001b[36m(train_velovgi pid=179922)\u001b[0m Filtered out 47456 genes that are detected 20 counts (shared).\n",
      "\u001b[2m\u001b[36m(train_velovgi pid=179922)\u001b[0m     finished (0:00:00) --> added\u001b[32m [repeated 2x across cluster]\u001b[0m\n",
      "\u001b[2m\u001b[36m(train_velovgi pid=179922)\u001b[0m Filtered out 47456 genes that are detected 20 counts (shared).\n",
      "\u001b[2m\u001b[36m(train_velovgi pid=179922)\u001b[0m Filtered out 47456 genes that are detected 20 counts (shared).\n",
      "\u001b[2m\u001b[36m(train_velovgi pid=179922)\u001b[0m Filtered out 47456 genes that are detected 20 counts (shared).\n",
      "\u001b[2m\u001b[36m(train_velovgi pid=179922)\u001b[0m Figure(640x480)\u001b[32m [repeated 2x across cluster]\u001b[0m\n",
      "\u001b[2m\u001b[36m(train_velovgi pid=179922)\u001b[0m Filtered out 47456 genes that are detected 20 counts (shared).\n",
      "\u001b[2m\u001b[36m(train_velovgi pid=182395)\u001b[0m Normalized count data: X, spliced, unspliced.\n",
      "\u001b[2m\u001b[36m(train_velovgi pid=182395)\u001b[0m Extracted 2000 highly variable genes.\n",
      "\u001b[2m\u001b[36m(train_velovgi pid=182395)\u001b[0m Logarithmized X.\n",
      "\u001b[2m\u001b[36m(train_velovgi pid=182395)\u001b[0m calculating knn and bnn mask...\n",
      "\u001b[2m\u001b[36m(train_velovgi pid=182395)\u001b[0m pair_list : [['E7.0', 'E7.25'], ['E7.25', 'E7.5'], ['E7.5', 'E7.75'], ['E7.75', 'E8.0'], ['E8.0', 'E8.25'], ['E8.25', 'E8.5']]\n"
     ]
    },
    {
     "name": "stderr",
     "output_type": "stream",
     "text": [
      "\u001b[2m\u001b[36m(train_velovgi pid=182395)\u001b[0m OMP: Info #276: omp_set_nested routine deprecated, please use omp_set_max_active_levels instead.\n",
      "\u001b[2m\u001b[36m(train_velovgi pid=182450)\u001b[0m OMP: Info #276: omp_set_nested routine deprecated, please use omp_set_max_active_levels instead.\n",
      "\u001b[2m\u001b[36m(train_velovgi pid=182450)\u001b[0m OMP: Info #276: omp_set_nested routine deprecated, please use omp_set_max_active_levels instead.\n",
      "\u001b[2m\u001b[36m(train_velovgi pid=182450)\u001b[0m OMP: Info #276: omp_set_nested routine deprecated, please use omp_set_max_active_levels instead.\n",
      "\u001b[2m\u001b[36m(train_velovgi pid=182450)\u001b[0m OMP: Info #276: omp_set_nested routine deprecated, please use omp_set_max_active_levels instead.\n",
      "\u001b[2m\u001b[36m(train_velovgi pid=182450)\u001b[0m OMP: Info #276: omp_set_nested routine deprecated, please use omp_set_max_active_levels instead.\n"
     ]
    },
    {
     "name": "stdout",
     "output_type": "stream",
     "text": [
      "\u001b[2m\u001b[36m(train_velovgi pid=182395)\u001b[0m smoothing...\n",
      "\u001b[2m\u001b[36m(train_velovgi pid=182395)\u001b[0m WARNING: The neighbor graph has an unexpected format (e.g. computed outside scvelo) \n",
      "\u001b[2m\u001b[36m(train_velovgi pid=182395)\u001b[0m or is corrupted (e.g. due to subsetting). Consider recomputing with `pp.neighbors`.\n",
      "\u001b[2m\u001b[36m(train_velovgi pid=182395)\u001b[0m computing moments based on connectivities\n",
      "\u001b[2m\u001b[36m(train_velovgi pid=182450)\u001b[0m computing moments based on connectivities\n",
      "\u001b[2m\u001b[36m(train_velovgi pid=182450)\u001b[0m computing moments based on connectivities\n",
      "\u001b[2m\u001b[36m(train_velovgi pid=182450)\u001b[0m computing moments based on connectivities\n",
      "\u001b[2m\u001b[36m(train_velovgi pid=182450)\u001b[0m computing moments based on connectivities\n",
      "\u001b[2m\u001b[36m(train_velovgi pid=182450)\u001b[0m computing moments based on connectivities\n",
      "\u001b[2m\u001b[36m(train_velovgi pid=182450)\u001b[0m computing moments based on connectivities\n",
      "\u001b[2m\u001b[36m(train_velovgi pid=182395)\u001b[0m     finished (0:00:00) --> added \n",
      "\u001b[2m\u001b[36m(train_velovgi pid=182395)\u001b[0m     'Ms' and 'Mu', moments of un/spliced abundances (adata.layers)\n"
     ]
    },
    {
     "name": "stderr",
     "output_type": "stream",
     "text": [
      "\u001b[2m\u001b[36m(train_velovgi pid=182395)\u001b[0m GPU available: False, used: False\n",
      "\u001b[2m\u001b[36m(train_velovgi pid=182395)\u001b[0m TPU available: False, using: 0 TPU cores\n",
      "\u001b[2m\u001b[36m(train_velovgi pid=182395)\u001b[0m IPU available: False, using: 0 IPUs\n",
      "\u001b[2m\u001b[36m(train_velovgi pid=182395)\u001b[0m HPU available: False, using: 0 HPUs\n",
      "\u001b[2m\u001b[36m(train_velovgi pid=182395)\u001b[0m Missing logger folder: ./log/n_bnn_neighbors_15,n_knn_neighbors_15\n",
      "\u001b[2m\u001b[36m(train_velovgi pid=182450)\u001b[0m Missing logger folder: ./log/n_bnn_neighbors_15,n_knn_neighbors_15\n"
     ]
    },
    {
     "name": "stdout",
     "output_type": "stream",
     "text": [
      "\u001b[2m\u001b[36m(train_velovgi pid=182395)\u001b[0m 初始训练，初始化runner参数\n",
      "\u001b[2m\u001b[36m(train_velovgi pid=182395)\u001b[0m choosing neighbor minibatch\n",
      "Epoch 1/50:   0%|          | 0/50 [00:00<?, ?it/s]\n",
      "Epoch 1/50:   0%|          | 0/50 [00:00<?, ?it/s]\n",
      "Epoch 1/50:   0%|          | 0/50 [00:00<?, ?it/s]\n",
      "Epoch 1/50:   0%|          | 0/50 [00:00<?, ?it/s]\n",
      "Epoch 1/50:   0%|          | 0/50 [00:00<?, ?it/s]\n",
      "Epoch 1/50:   0%|          | 0/50 [00:00<?, ?it/s]\n",
      "Epoch 1/50:   0%|          | 0/50 [00:00<?, ?it/s]\n",
      "Epoch 2/50:   2%|▏         | 1/50 [00:09<07:24,  9.06s/it, loss=2.01e+06, v_num=0]\n",
      "Epoch 2/50:   2%|▏         | 1/50 [00:09<07:24,  9.06s/it, loss=2.01e+06, v_num=0]\n",
      "Epoch 2/50:   2%|▏         | 1/50 [00:09<07:24,  9.06s/it, loss=2.01e+06, v_num=0]\n",
      "Epoch 2/50:   2%|▏         | 1/50 [00:09<07:24,  9.06s/it, loss=2.01e+06, v_num=0]\n",
      "Epoch 3/50:   4%|▍         | 2/50 [00:18<07:22,  9.21s/it, loss=1.87e+06, v_num=0]\u001b[32m [repeated 2x across cluster]\u001b[0m\n",
      "Epoch 4/50:   6%|▌         | 3/50 [00:27<07:17,  9.31s/it, loss=1.71e+06, v_num=0]\u001b[32m [repeated 2x across cluster]\u001b[0m\n",
      "Epoch 5/50:   8%|▊         | 4/50 [00:37<07:13,  9.43s/it, loss=1.58e+06, v_num=0]\u001b[32m [repeated 2x across cluster]\u001b[0m\n",
      "Epoch 6/50:  10%|█         | 5/50 [00:47<07:11,  9.59s/it, loss=1.47e+06, v_num=0]\u001b[32m [repeated 2x across cluster]\u001b[0m\n",
      "Epoch 7/50:  12%|█▏        | 6/50 [00:56<06:57,  9.49s/it, loss=1.38e+06, v_num=0]\u001b[32m [repeated 2x across cluster]\u001b[0m\n",
      "Epoch 8/50:  14%|█▍        | 7/50 [01:05<06:41,  9.34s/it, loss=1.29e+06, v_num=0]\u001b[32m [repeated 2x across cluster]\u001b[0m\n",
      "Epoch 9/50:  16%|█▌        | 8/50 [01:15<06:36,  9.45s/it, loss=1.2e+06, v_num=0]\u001b[32m [repeated 2x across cluster]\u001b[0m\n",
      "Epoch 10/50:  18%|█▊        | 9/50 [01:24<06:25,  9.39s/it, loss=1.13e+06, v_num=0]\u001b[32m [repeated 2x across cluster]\u001b[0m\n",
      "Epoch 11/50:  20%|██        | 10/50 [01:33<06:09,  9.24s/it, loss=1.05e+06, v_num=0]\u001b[32m [repeated 2x across cluster]\u001b[0m\n",
      "Epoch 13/50:  24%|██▍       | 12/50 [01:52<05:52,  9.29s/it, loss=8.92e+05, v_num=0]\u001b[32m [repeated 2x across cluster]\u001b[0m\n",
      "Epoch 14/50:  26%|██▌       | 13/50 [02:01<05:44,  9.30s/it, loss=8.25e+05, v_num=0]\u001b[32m [repeated 2x across cluster]\u001b[0m\n",
      "Epoch 15/50:  28%|██▊       | 14/50 [02:10<05:34,  9.28s/it, loss=7.82e+05, v_num=0]\u001b[32m [repeated 2x across cluster]\u001b[0m\n",
      "Epoch 16/50:  30%|███       | 15/50 [02:19<05:25,  9.29s/it, loss=7.61e+05, v_num=0]\u001b[32m [repeated 2x across cluster]\u001b[0m\n",
      "Epoch 17/50:  32%|███▏      | 16/50 [02:29<05:14,  9.24s/it, loss=7.43e+05, v_num=0]\u001b[32m [repeated 2x across cluster]\u001b[0m\n",
      "Epoch 18/50:  34%|███▍      | 17/50 [02:38<05:10,  9.42s/it, loss=7.27e+05, v_num=0]\u001b[32m [repeated 2x across cluster]\u001b[0m\n",
      "Epoch 19/50:  36%|███▌      | 18/50 [02:48<05:05,  9.53s/it, loss=7.11e+05, v_num=0]\u001b[32m [repeated 2x across cluster]\u001b[0m\n",
      "Epoch 20/50:  38%|███▊      | 19/50 [02:58<04:59,  9.66s/it, loss=6.97e+05, v_num=0]\u001b[32m [repeated 2x across cluster]\u001b[0m\n",
      "Epoch 21/50:  40%|████      | 20/50 [03:08<04:52,  9.74s/it, loss=6.85e+05, v_num=0]\u001b[32m [repeated 2x across cluster]\u001b[0m\n",
      "Epoch 22/50:  42%|████▏     | 21/50 [03:18<04:39,  9.65s/it, loss=6.74e+05, v_num=0]\u001b[32m [repeated 2x across cluster]\u001b[0m\n",
      "Epoch 24/50:  46%|████▌     | 23/50 [03:37<04:20,  9.67s/it, loss=6.54e+05, v_num=0]\u001b[32m [repeated 2x across cluster]\u001b[0m\n",
      "Epoch 25/50:  48%|████▊     | 24/50 [03:46<04:10,  9.62s/it, loss=6.44e+05, v_num=0]\u001b[32m [repeated 2x across cluster]\u001b[0m\n",
      "Epoch 26/50:  50%|█████     | 25/50 [03:56<04:02,  9.70s/it, loss=6.34e+05, v_num=0]\u001b[32m [repeated 2x across cluster]\u001b[0m\n",
      "Epoch 27/50:  52%|█████▏    | 26/50 [04:06<03:53,  9.72s/it, loss=6.25e+05, v_num=0]\u001b[32m [repeated 2x across cluster]\u001b[0m\n",
      "Epoch 28/50:  54%|█████▍    | 27/50 [04:15<03:41,  9.62s/it, loss=6.16e+05, v_num=0]\u001b[32m [repeated 2x across cluster]\u001b[0m\n",
      "Epoch 29/50:  56%|█████▌    | 28/50 [04:25<03:30,  9.57s/it, loss=6.07e+05, v_num=0]\u001b[32m [repeated 2x across cluster]\u001b[0m\n",
      "Epoch 30/50:  58%|█████▊    | 29/50 [04:35<03:24,  9.72s/it, loss=5.98e+05, v_num=0]\u001b[32m [repeated 2x across cluster]\u001b[0m\n",
      "Epoch 31/50:  60%|██████    | 30/50 [04:45<03:14,  9.71s/it, loss=5.9e+05, v_num=0]\u001b[32m [repeated 2x across cluster]\u001b[0m\n",
      "Epoch 32/50:  62%|██████▏   | 31/50 [04:54<03:04,  9.72s/it, loss=5.81e+05, v_num=0]\u001b[32m [repeated 2x across cluster]\u001b[0m\n",
      "Epoch 33/50:  64%|██████▍   | 32/50 [05:04<02:55,  9.76s/it, loss=5.73e+05, v_num=0]\u001b[32m [repeated 2x across cluster]\u001b[0m\n",
      "Epoch 34/50:  66%|██████▌   | 33/50 [05:14<02:44,  9.70s/it, loss=5.65e+05, v_num=0]\u001b[32m [repeated 2x across cluster]\u001b[0m\n",
      "Epoch 35/50:  68%|██████▊   | 34/50 [05:23<02:34,  9.68s/it, loss=5.57e+05, v_num=0]\u001b[32m [repeated 2x across cluster]\u001b[0m\n",
      "Epoch 36/50:  70%|███████   | 35/50 [05:33<02:26,  9.76s/it, loss=5.49e+05, v_num=0]\u001b[32m [repeated 2x across cluster]\u001b[0m\n",
      "Epoch 37/50:  72%|███████▏  | 36/50 [05:43<02:15,  9.66s/it, loss=5.42e+05, v_num=0]\u001b[32m [repeated 2x across cluster]\u001b[0m\n",
      "Epoch 39/50:  76%|███████▌  | 38/50 [06:03<01:58,  9.87s/it, loss=5.27e+05, v_num=0]\u001b[32m [repeated 2x across cluster]\u001b[0m\n",
      "Epoch 40/50:  78%|███████▊  | 39/50 [06:12<01:47,  9.74s/it, loss=5.19e+05, v_num=0]\u001b[32m [repeated 2x across cluster]\u001b[0m\n",
      "Epoch 42/50:  82%|████████▏ | 41/50 [06:33<01:31, 10.12s/it, loss=5.05e+05, v_num=0]\u001b[32m [repeated 2x across cluster]\u001b[0m\n",
      "Epoch 43/50:  84%|████████▍ | 42/50 [06:44<01:21, 10.20s/it, loss=4.98e+05, v_num=0]\u001b[32m [repeated 2x across cluster]\u001b[0m\n",
      "Epoch 44/50:  86%|████████▌ | 43/50 [06:54<01:12, 10.30s/it, loss=4.91e+05, v_num=0]\u001b[32m [repeated 2x across cluster]\u001b[0m\n",
      "Epoch 45/50:  88%|████████▊ | 44/50 [07:04<01:01, 10.23s/it, loss=4.84e+05, v_num=0]\u001b[32m [repeated 2x across cluster]\u001b[0m\n",
      "Epoch 46/50:  90%|█████████ | 45/50 [07:14<00:50, 10.09s/it, loss=4.77e+05, v_num=0]\u001b[32m [repeated 2x across cluster]\u001b[0m\n",
      "Epoch 47/50:  92%|█████████▏| 46/50 [07:24<00:39,  9.95s/it, loss=4.7e+05, v_num=0] \n",
      "Epoch 47/50:  92%|█████████▏| 46/50 [07:24<00:39,  9.95s/it, loss=4.7e+05, v_num=0] \n",
      "Epoch 48/50:  94%|█████████▍| 47/50 [07:34<00:30, 10.04s/it, loss=4.64e+05, v_num=0]\u001b[32m [repeated 2x across cluster]\u001b[0m\n",
      "Epoch 49/50:  96%|█████████▌| 48/50 [07:44<00:20, 10.01s/it, loss=4.57e+05, v_num=0]\u001b[32m [repeated 2x across cluster]\u001b[0m\n",
      "Epoch 50/50:  98%|█████████▊| 49/50 [07:54<00:09,  9.99s/it, loss=4.5e+05, v_num=0]\u001b[32m [repeated 2x across cluster]\u001b[0m\n"
     ]
    },
    {
     "name": "stderr",
     "output_type": "stream",
     "text": [
      "\u001b[2m\u001b[36m(train_velovgi pid=182395)\u001b[0m `Trainer.fit` stopped: `max_epochs=50` reached.\n",
      "\u001b[2m\u001b[36m(train_velovgi pid=182450)\u001b[0m `Trainer.fit` stopped: `max_epochs=50` reached.\n",
      "\u001b[2m\u001b[36m(train_velovgi pid=182450)\u001b[0m `Trainer.fit` stopped: `max_epochs=50` reached.\n",
      "\u001b[2m\u001b[36m(train_velovgi pid=182450)\u001b[0m `Trainer.fit` stopped: `max_epochs=50` reached.\n",
      "\u001b[2m\u001b[36m(train_velovgi pid=182450)\u001b[0m `Trainer.fit` stopped: `max_epochs=50` reached.\n",
      "\u001b[2m\u001b[36m(train_velovgi pid=182450)\u001b[0m `Trainer.fit` stopped: `max_epochs=50` reached.\n"
     ]
    },
    {
     "name": "stdout",
     "output_type": "stream",
     "text": [
      "Epoch 50/50: 100%|██████████| 50/50 [08:04<00:00,  9.68s/it, loss=4.44e+05, v_num=0]\u001b[32m [repeated 2x across cluster]\u001b[0m\n",
      "\u001b[2m\u001b[36m(train_velovgi pid=182395)\u001b[0m WARNING: The neighbor graph has an unexpected format (e.g. computed outside scvelo) \n",
      "\u001b[2m\u001b[36m(train_velovgi pid=182395)\u001b[0m or is corrupted (e.g. due to subsetting). Consider recomputing with `pp.neighbors`.\n",
      "\u001b[2m\u001b[36m(train_velovgi pid=182450)\u001b[0m or is corrupted (e.g. due to subsetting). Consider recomputing with `pp.neighbors`.\n",
      "\u001b[2m\u001b[36m(train_velovgi pid=182395)\u001b[0m computing velocity graph (using 1/24 cores)\n",
      "\u001b[2m\u001b[36m(train_velovgi pid=182395)\u001b[0m   0%|          | 0/9815 [00:00<?, ?cells/s]\n",
      "\u001b[2m\u001b[36m(train_velovgi pid=182450)\u001b[0m or is corrupted (e.g. due to subsetting). Consider recomputing with `pp.neighbors`.\n",
      "\u001b[2m\u001b[36m(train_velovgi pid=182450)\u001b[0m or is corrupted (e.g. due to subsetting). Consider recomputing with `pp.neighbors`.\n",
      "\u001b[2m\u001b[36m(train_velovgi pid=182450)\u001b[0m   0%|          | 0/9815 [00:00<?, ?cells/s]\n",
      "\u001b[2m\u001b[36m(train_velovgi pid=182450)\u001b[0m   0%|          | 0/9815 [00:00<?, ?cells/s]\n",
      "\u001b[2m\u001b[36m(train_velovgi pid=182395)\u001b[0m     finished (0:00:20) --> added \n",
      "\u001b[2m\u001b[36m(train_velovgi pid=182395)\u001b[0m     'velocity_graph', sparse matrix with cosine correlations (adata.uns)\n",
      "\u001b[2m\u001b[36m(train_velovgi pid=182395)\u001b[0m computing velocity embedding\n",
      "\u001b[2m\u001b[36m(train_velovgi pid=182395)\u001b[0m     finished (0:00:00) --> added\n",
      "\u001b[2m\u001b[36m(train_velovgi pid=182395)\u001b[0m     'velocity_umap', embedded velocity vectors (adata.obsm)\n",
      "\u001b[2m\u001b[36m(train_velovgi pid=182395)\u001b[0m Figure(640x480)\n",
      "\u001b[2m\u001b[36m(train_velovgi pid=182395)\u001b[0m saving figure to file ./figures/scvelo_n_bnn_neighbors_15,n_knn_neighbors_15.png\n",
      "\u001b[2m\u001b[36m(train_velovgi pid=182395)\u001b[0m Figure(640x480)\n",
      "\u001b[2m\u001b[36m(train_velovgi pid=182450)\u001b[0m     finished (0:00:00) --> added\u001b[32m [repeated 2x across cluster]\u001b[0m\n",
      "\u001b[2m\u001b[36m(train_velovgi pid=182450)\u001b[0m Figure(640x480)\n",
      "\u001b[2m\u001b[36m(train_velovgi pid=182450)\u001b[0m Figure(640x480)\n"
     ]
    },
    {
     "name": "stderr",
     "output_type": "stream",
     "text": [
      "2023-06-04 17:52:08,570\tINFO tune.py:945 -- Total run time: 778.22 seconds (778.20 seconds for the tuning loop).\n"
     ]
    }
   ],
   "source": [
    "from ray.tune.schedulers import ASHAScheduler\n",
    "\n",
    "name = \"test_experiment\"\n",
    "\n",
    "tuner = tune.Tuner(\n",
    "    train_velovgi,\n",
    "    tune_config=tune.TuneConfig(\n",
    "        metric=\"CBDir\",\n",
    "        mode=\"max\",\n",
    "        scheduler=ASHAScheduler()\n",
    "    ),\n",
    "    run_config=air.RunConfig(\n",
    "        local_dir=\"./results\", # Trail内部具体输出结果在这里保存\n",
    "        name=name # 开启调参的Tensorboard日志\n",
    "    ),\n",
    "    param_space=search_space,\n",
    ")\n",
    "\n",
    "results = tuner.fit()"
   ]
  },
  {
   "attachments": {},
   "cell_type": "markdown",
   "metadata": {},
   "source": [
    "4. 查看训练日志与最优结果: tensorboard --logdir"
   ]
  },
  {
   "cell_type": "code",
   "execution_count": 35,
   "metadata": {},
   "outputs": [
    {
     "data": {
      "text/plain": [
       "{'n_bnn_neighbors': 45, 'n_knn_neighbors': 15}"
      ]
     },
     "execution_count": 35,
     "metadata": {},
     "output_type": "execute_result"
    }
   ],
   "source": [
    "results.get_best_result().config"
   ]
  }
 ],
 "metadata": {
  "kernelspec": {
   "display_name": "velovi-env",
   "language": "python",
   "name": "python3"
  },
  "language_info": {
   "codemirror_mode": {
    "name": "ipython",
    "version": 3
   },
   "file_extension": ".py",
   "mimetype": "text/x-python",
   "name": "python",
   "nbconvert_exporter": "python",
   "pygments_lexer": "ipython3",
   "version": "3.8.15"
  },
  "orig_nbformat": 4
 },
 "nbformat": 4,
 "nbformat_minor": 2
}
