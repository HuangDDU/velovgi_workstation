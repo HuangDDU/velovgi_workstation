{
 "cells": [
  {
   "cell_type": "code",
   "execution_count": 1,
   "metadata": {},
   "outputs": [
    {
     "name": "stderr",
     "output_type": "stream",
     "text": [
      "Global seed set to 0\n",
      "/home/huang/.conda/envs/velovi-env/lib/python3.8/site-packages/pytorch_lightning/utilities/warnings.py:53: LightningDeprecationWarning: pytorch_lightning.utilities.warnings.rank_zero_deprecation has been deprecated in v1.6 and will be removed in v1.8. Use the equivalent function from the pytorch_lightning.utilities.rank_zero module instead.\n",
      "  new_rank_zero_deprecation(\n",
      "/home/huang/.conda/envs/velovi-env/lib/python3.8/site-packages/pytorch_lightning/utilities/warnings.py:58: LightningDeprecationWarning: The `pytorch_lightning.loggers.base.rank_zero_experiment` is deprecated in v1.7 and will be removed in v1.9. Please use `pytorch_lightning.loggers.logger.rank_zero_experiment` instead.\n",
      "  return new_rank_zero_deprecation(*args, **kwargs)\n"
     ]
    },
    {
     "name": "stdout",
     "output_type": "stream",
     "text": [
      "load ../data/adata//adata.h5ad\n",
      "load ../data/adata//sample_recover.pkl\n"
     ]
    }
   ],
   "source": [
    "import base\n",
    "from ray import tune"
   ]
  },
  {
   "cell_type": "code",
   "execution_count": 2,
   "metadata": {},
   "outputs": [
    {
     "name": "stderr",
     "output_type": "stream",
     "text": [
      "2023-06-02 07:04:43,182\tINFO worker.py:1625 -- Started a local Ray instance.\n",
      "2023-06-02 07:04:43,696\tINFO tune.py:218 -- Initializing Ray automatically. For cluster usage or custom Ray initialization, call `ray.init(...)` before `Tuner(...)`.\n",
      "2023-06-02 07:04:43,738\tINFO tensorboardx.py:172 -- pip install \"ray[tune]\" to see TensorBoard files.\n",
      "2023-06-02 07:04:43,738\tWARNING callback.py:142 -- The TensorboardX logger cannot be instantiated because either TensorboardX or one of it's dependencies is not installed. Please make sure you have the latest version of TensorboardX installed: `pip install -U tensorboardx`\n"
     ]
    },
    {
     "data": {
      "text/html": [
       "<div class=\"tuneStatus\">\n",
       "  <div style=\"display: flex;flex-direction: row\">\n",
       "    <div style=\"display: flex;flex-direction: column;\">\n",
       "      <h3>Tune Status</h3>\n",
       "      <table>\n",
       "<tbody>\n",
       "<tr><td>Current time:</td><td>2023-06-02 07:12:46</td></tr>\n",
       "<tr><td>Running for: </td><td>00:08:02.92        </td></tr>\n",
       "<tr><td>Memory:      </td><td>22.0/62.5 GiB      </td></tr>\n",
       "</tbody>\n",
       "</table>\n",
       "    </div>\n",
       "    <div class=\"vDivider\"></div>\n",
       "    <div class=\"systemInfo\">\n",
       "      <h3>System Info</h3>\n",
       "      Using AsyncHyperBand: num_stopped=0<br>Bracket: Iter 64.000: None | Iter 16.000: None | Iter 4.000: None | Iter 1.000: None<br>Logical resource usage: 3.0/24 CPUs, 0/0 GPUs\n",
       "    </div>\n",
       "    \n",
       "  </div>\n",
       "  <div class=\"hDivider\"></div>\n",
       "  <div class=\"trialStatus\">\n",
       "    <h3>Trial Status</h3>\n",
       "    <table>\n",
       "<thead>\n",
       "<tr><th>Trial name               </th><th>status  </th><th>loc                </th><th style=\"text-align: right;\">  max_kl_weight</th></tr>\n",
       "</thead>\n",
       "<tbody>\n",
       "<tr><td>train_velovgi_b22a3_00000</td><td>RUNNING </td><td>192.168.1.2:1019096</td><td style=\"text-align: right;\">            0.6</td></tr>\n",
       "<tr><td>train_velovgi_b22a3_00001</td><td>RUNNING </td><td>192.168.1.2:1019222</td><td style=\"text-align: right;\">            0.8</td></tr>\n",
       "<tr><td>train_velovgi_b22a3_00002</td><td>RUNNING </td><td>192.168.1.2:1019223</td><td style=\"text-align: right;\">            1  </td></tr>\n",
       "</tbody>\n",
       "</table>\n",
       "  </div>\n",
       "</div>\n",
       "<style>\n",
       ".tuneStatus {\n",
       "  color: var(--jp-ui-font-color1);\n",
       "}\n",
       ".tuneStatus .systemInfo {\n",
       "  display: flex;\n",
       "  flex-direction: column;\n",
       "}\n",
       ".tuneStatus td {\n",
       "  white-space: nowrap;\n",
       "}\n",
       ".tuneStatus .trialStatus {\n",
       "  display: flex;\n",
       "  flex-direction: column;\n",
       "}\n",
       ".tuneStatus h3 {\n",
       "  font-weight: bold;\n",
       "}\n",
       ".tuneStatus .hDivider {\n",
       "  border-bottom-width: var(--jp-border-width);\n",
       "  border-bottom-color: var(--jp-border-color0);\n",
       "  border-bottom-style: solid;\n",
       "}\n",
       ".tuneStatus .vDivider {\n",
       "  border-left-width: var(--jp-border-width);\n",
       "  border-left-color: var(--jp-border-color0);\n",
       "  border-left-style: solid;\n",
       "  margin: 0.5em 1em 0.5em 1em;\n",
       "}\n",
       "</style>\n"
      ],
      "text/plain": [
       "<IPython.core.display.HTML object>"
      ]
     },
     "metadata": {},
     "output_type": "display_data"
    },
    {
     "name": "stderr",
     "output_type": "stream",
     "text": [
      "\u001b[2m\u001b[36m(pid=1019096)\u001b[0m Global seed set to 0\n",
      "\u001b[2m\u001b[36m(pid=1019096)\u001b[0m /home/huang/.conda/envs/velovi-env/lib/python3.8/site-packages/pytorch_lightning/utilities/warnings.py:53: LightningDeprecationWarning: pytorch_lightning.utilities.warnings.rank_zero_deprecation has been deprecated in v1.6 and will be removed in v1.8. Use the equivalent function from the pytorch_lightning.utilities.rank_zero module instead.\n",
      "\u001b[2m\u001b[36m(pid=1019096)\u001b[0m   new_rank_zero_deprecation(\n",
      "\u001b[2m\u001b[36m(pid=1019096)\u001b[0m /home/huang/.conda/envs/velovi-env/lib/python3.8/site-packages/pytorch_lightning/utilities/warnings.py:58: LightningDeprecationWarning: The `pytorch_lightning.loggers.base.rank_zero_experiment` is deprecated in v1.7 and will be removed in v1.9. Please use `pytorch_lightning.loggers.logger.rank_zero_experiment` instead.\n",
      "\u001b[2m\u001b[36m(pid=1019096)\u001b[0m   return new_rank_zero_deprecation(*args, **kwargs)\n"
     ]
    },
    {
     "name": "stderr",
     "output_type": "stream",
     "text": [
      "\u001b[2m\u001b[36m(train_velovgi pid=1019096)\u001b[0m GPU available: False, used: False\n",
      "\u001b[2m\u001b[36m(train_velovgi pid=1019096)\u001b[0m TPU available: False, using: 0 TPU cores\n",
      "\u001b[2m\u001b[36m(train_velovgi pid=1019096)\u001b[0m IPU available: False, using: 0 IPUs\n",
      "\u001b[2m\u001b[36m(train_velovgi pid=1019096)\u001b[0m HPU available: False, using: 0 HPUs\n",
      "\u001b[2m\u001b[36m(train_velovgi pid=1019096)\u001b[0m Missing logger folder: ./log/max_kl_weight_0.6\n"
     ]
    },
    {
     "name": "stdout",
     "output_type": "stream",
     "text": [
      "\u001b[2m\u001b[36m(train_velovgi pid=1019096)\u001b[0m 初始训练，初始化runner参数\n",
      "\u001b[2m\u001b[36m(train_velovgi pid=1019096)\u001b[0m choosing neighbor minibatch\n",
      "Epoch 1/500:   0%|          | 0/500 [00:00<?, ?it/s]\n",
      "Epoch 2/500:   0%|          | 1/500 [00:18<2:30:43, 18.12s/it, loss=1.89e+06, v_num=0]\n",
      "\u001b[2m\u001b[36m(pid=1019222)\u001b[0m load ../data/adata//adata.h5ad\u001b[32m [repeated 2x across cluster] (Ray deduplicates logs by default. Set RAY_DEDUP_LOGS=0 to disable log deduplication, or see https://docs.ray.io/en/master/ray-observability/ray-logging.html#log-deduplication for more options.)\u001b[0m\n",
      "\u001b[2m\u001b[36m(pid=1019222)\u001b[0m load ../data/adata//sample_recover.pkl\u001b[32m [repeated 2x across cluster]\u001b[0m\n",
      "\u001b[2m\u001b[36m(train_velovgi pid=1019222)\u001b[0m 初始训练，初始化runner参数\u001b[32m [repeated 2x across cluster]\u001b[0m\n",
      "\u001b[2m\u001b[36m(train_velovgi pid=1019222)\u001b[0m choosing neighbor minibatch\u001b[32m [repeated 2x across cluster]\u001b[0m\n",
      "Epoch 1/500:   0%|          | 0/500 [00:00<?, ?it/s]\u001b[32m [repeated 2x across cluster]\u001b[0m\n",
      "Epoch 3/500:   0%|          | 2/500 [00:37<2:38:40, 19.12s/it, loss=1.61e+06, v_num=0]\u001b[32m [repeated 3x across cluster]\u001b[0m\n",
      "Epoch 4/500:   1%|          | 3/500 [00:57<2:39:28, 19.25s/it, loss=1.38e+06, v_num=0]\u001b[32m [repeated 3x across cluster]\u001b[0m\n",
      "Epoch 5/500:   1%|          | 4/500 [01:17<2:40:45, 19.45s/it, loss=1.23e+06, v_num=0]\u001b[32m [repeated 3x across cluster]\u001b[0m\n",
      "Epoch 6/500:   1%|          | 5/500 [01:36<2:40:24, 19.44s/it, loss=1.08e+06, v_num=0]\u001b[32m [repeated 3x across cluster]\u001b[0m\n",
      "Epoch 7/500:   1%|          | 6/500 [01:56<2:40:16, 19.47s/it, loss=9.32e+05, v_num=0]\u001b[32m [repeated 3x across cluster]\u001b[0m\n",
      "Epoch 8/500:   1%|▏         | 7/500 [02:15<2:40:39, 19.55s/it, loss=8.12e+05, v_num=0]\u001b[32m [repeated 3x across cluster]\u001b[0m\n",
      "Epoch 8/500:   1%|▏         | 7/500 [02:17<2:42:44, 19.81s/it, loss=8.11e+05, v_num=0]\u001b[32m [repeated 2x across cluster]\u001b[0m\n",
      "Epoch 9/500:   2%|▏         | 8/500 [02:35<2:40:21, 19.55s/it, loss=7.7e+05, v_num=0] \n",
      "Epoch 9/500:   2%|▏         | 8/500 [02:37<2:42:17, 19.79s/it, loss=7.64e+05, v_num=0]\n",
      "Epoch 10/500:   2%|▏         | 9/500 [02:55<2:41:22, 19.72s/it, loss=7.41e+05, v_num=0]\u001b[32m [repeated 2x across cluster]\u001b[0m\n",
      "Epoch 10/500:   2%|▏         | 9/500 [02:57<2:42:36, 19.87s/it, loss=7.35e+05, v_num=0]\n",
      "Epoch 10/500:   2%|▏         | 9/500 [02:57<2:43:30, 19.98s/it, loss=7.39e+05, v_num=0]\n",
      "Epoch 11/500:   2%|▏         | 10/500 [03:15<2:41:48, 19.81s/it, loss=7.18e+05, v_num=0]\n",
      "Epoch 11/500:   2%|▏         | 10/500 [03:17<2:42:50, 19.94s/it, loss=7.1e+05, v_num=0] \n",
      "Epoch 12/500:   2%|▏         | 11/500 [03:35<2:42:25, 19.93s/it, loss=6.97e+05, v_num=0]\u001b[32m [repeated 2x across cluster]\u001b[0m\n",
      "Epoch 12/500:   2%|▏         | 11/500 [03:38<2:43:37, 20.08s/it, loss=6.9e+05, v_num=0]\n",
      "Epoch 12/500:   2%|▏         | 11/500 [03:38<2:43:43, 20.09s/it, loss=6.94e+05, v_num=0]\n",
      "Epoch 13/500:   2%|▏         | 12/500 [03:55<2:42:09, 19.94s/it, loss=6.8e+05, v_num=0] \n",
      "Epoch 13/500:   2%|▏         | 12/500 [03:58<2:43:53, 20.15s/it, loss=6.72e+05, v_num=0]\n",
      "Epoch 14/500:   3%|▎         | 13/500 [04:15<2:42:52, 20.07s/it, loss=6.62e+05, v_num=0]\u001b[32m [repeated 2x across cluster]\u001b[0m\n",
      "Epoch 14/500:   3%|▎         | 13/500 [04:18<2:43:47, 20.18s/it, loss=6.55e+05, v_num=0]\n",
      "Epoch 14/500:   3%|▎         | 13/500 [04:19<2:44:22, 20.25s/it, loss=6.59e+05, v_num=0]\n",
      "Epoch 14/500:   3%|▎         | 14/500 [04:35<2:42:27, 20.06s/it, loss=6.46e+05, v_num=0]\n",
      "Epoch 15/500:   3%|▎         | 14/500 [04:35<2:42:27, 20.06s/it, loss=6.46e+05, v_num=0]\n",
      "Epoch 15/500:   3%|▎         | 14/500 [04:38<2:43:24, 20.17s/it, loss=6.38e+05, v_num=0]\n",
      "Epoch 16/500:   3%|▎         | 15/500 [04:56<2:42:58, 20.16s/it, loss=6.31e+05, v_num=0]\u001b[32m [repeated 2x across cluster]\u001b[0m\n",
      "Epoch 16/500:   3%|▎         | 15/500 [04:59<2:43:53, 20.27s/it, loss=6.22e+05, v_num=0]\n",
      "Epoch 16/500:   3%|▎         | 15/500 [04:59<2:44:04, 20.30s/it, loss=6.26e+05, v_num=0]\n",
      "Epoch 17/500:   3%|▎         | 16/500 [05:16<2:42:49, 20.19s/it, loss=6.16e+05, v_num=0]\n",
      "Epoch 17/500:   3%|▎         | 16/500 [05:19<2:43:40, 20.29s/it, loss=6.07e+05, v_num=0]\n",
      "Epoch 18/500:   3%|▎         | 17/500 [05:36<2:42:03, 20.13s/it, loss=6.01e+05, v_num=0]\u001b[32m [repeated 2x across cluster]\u001b[0m\n",
      "Epoch 18/500:   3%|▎         | 17/500 [05:39<2:43:29, 20.31s/it, loss=5.92e+05, v_num=0]\n",
      "Epoch 18/500:   3%|▎         | 17/500 [05:40<2:43:50, 20.35s/it, loss=5.96e+05, v_num=0]\n",
      "Epoch 19/500:   4%|▎         | 18/500 [05:57<2:42:20, 20.21s/it, loss=5.87e+05, v_num=0]\n",
      "Epoch 19/500:   4%|▎         | 18/500 [06:00<2:43:23, 20.34s/it, loss=5.77e+05, v_num=0]\n",
      "Epoch 20/500:   4%|▍         | 19/500 [06:17<2:42:19, 20.25s/it, loss=5.73e+05, v_num=0]\u001b[32m [repeated 2x across cluster]\u001b[0m\n",
      "Epoch 20/500:   4%|▍         | 19/500 [06:20<2:43:14, 20.36s/it, loss=5.63e+05, v_num=0]\n",
      "Epoch 20/500:   4%|▍         | 19/500 [06:21<2:44:00, 20.46s/it, loss=5.68e+05, v_num=0]\n",
      "Epoch 21/500:   4%|▍         | 20/500 [06:37<2:41:55, 20.24s/it, loss=5.6e+05, v_num=0] \n",
      "Epoch 21/500:   4%|▍         | 20/500 [06:41<2:43:43, 20.47s/it, loss=5.49e+05, v_num=0]\n",
      "Epoch 22/500:   4%|▍         | 21/500 [06:58<2:42:02, 20.30s/it, loss=5.47e+05, v_num=0]\u001b[32m [repeated 2x across cluster]\u001b[0m\n",
      "Epoch 22/500:   4%|▍         | 21/500 [07:01<2:43:33, 20.49s/it, loss=5.36e+05, v_num=0]\n",
      "Epoch 22/500:   4%|▍         | 21/500 [07:02<2:44:25, 20.60s/it, loss=5.4e+05, v_num=0] \n",
      "Epoch 23/500:   4%|▍         | 22/500 [07:18<2:41:22, 20.26s/it, loss=5.34e+05, v_num=0]\n",
      "Epoch 23/500:   4%|▍         | 22/500 [07:22<2:43:16, 20.49s/it, loss=5.22e+05, v_num=0]\n",
      "Epoch 24/500:   5%|▍         | 23/500 [07:38<2:41:04, 20.26s/it, loss=5.2e+05, v_num=0]\u001b[32m [repeated 2x across cluster]\u001b[0m\n",
      "Epoch 24/500:   5%|▍         | 23/500 [07:42<2:42:01, 20.38s/it, loss=5.09e+05, v_num=0]\n",
      "Epoch 24/500:   5%|▍         | 23/500 [07:44<2:43:24, 20.55s/it, loss=5.14e+05, v_num=0]\n",
      "Epoch 25/500:   5%|▍         | 24/500 [07:58<2:40:00, 20.17s/it, loss=5.08e+05, v_num=0]\n",
      "Epoch 31/500:   6%|▌         | 30/500 [10:00<2:39:17, 20.33s/it, loss=4.44e+05, v_num=0]\u001b[32m [repeated 2x across cluster]\u001b[0m\n",
      "Epoch 34/500:   7%|▋         | 33/500 [11:00<2:37:20, 20.21s/it, loss=4.19e+05, v_num=0]\n",
      "Epoch 37/500:   7%|▋         | 36/500 [12:01<2:36:15, 20.20s/it, loss=3.98e+05, v_num=0]\n",
      "Epoch 40/500:   8%|▊         | 39/500 [13:02<2:36:15, 20.34s/it, loss=3.79e+05, v_num=0]\u001b[32m [repeated 2x across cluster]\u001b[0m\n",
      "Epoch 43/500:   8%|▊         | 42/500 [14:04<2:35:46, 20.41s/it, loss=3.52e+05, v_num=0]\n",
      "Epoch 48/500:   9%|▉         | 47/500 [15:58<2:36:14, 20.69s/it, loss=3.12e+05, v_num=0]\n",
      "Epoch 51/500:  10%|█         | 50/500 [16:57<2:34:18, 20.57s/it, loss=2.89e+05, v_num=0]\u001b[32m [repeated 2x across cluster]\u001b[0m\n",
      "Epoch 54/500:  11%|█         | 53/500 [17:58<2:33:16, 20.57s/it, loss=2.73e+05, v_num=0]\n",
      "Epoch 57/500:  11%|█         | 56/500 [19:00<2:32:21, 20.59s/it, loss=2.59e+05, v_num=0]\u001b[32m [repeated 2x across cluster]\u001b[0m\n",
      "Epoch 83/500:  16%|█▋        | 82/500 [27:58<2:23:39, 20.62s/it, loss=1.49e+05, v_num=0]\n",
      "Epoch 87/500:  17%|█▋        | 86/500 [29:02<2:20:56, 20.43s/it, loss=1.47e+05, v_num=0]\n",
      "Epoch 90/500:  18%|█▊        | 89/500 [30:04<2:21:30, 20.66s/it, loss=1.38e+05, v_num=0]\n",
      "Epoch 109/500:  22%|██▏       | 108/500 [37:00<2:14:59, 20.66s/it, loss=8.66e+04, v_num=0]\n",
      "Epoch 118/500:  23%|██▎       | 117/500 [39:59<2:12:35, 20.77s/it, loss=6.62e+04, v_num=0]\n",
      "Epoch 137/500:  27%|██▋       | 136/500 [46:02<2:03:22, 20.34s/it, loss=4.92e+04, v_num=0]\n",
      "Epoch 138/500:  27%|██▋       | 137/500 [47:00<2:05:25, 20.73s/it, loss=4.5e+04, v_num=0]\n",
      "Epoch 147/500:  29%|██▉       | 146/500 [49:59<2:02:30, 20.76s/it, loss=3.3e+04, v_num=0]\u001b[32m [repeated 2x across cluster]\u001b[0m\n",
      "Epoch 164/500:  33%|███▎      | 163/500 [55:59<1:56:41, 20.78s/it, loss=2.28e+04, v_num=0]\u001b[32m [repeated 2x across cluster]\u001b[0m\n",
      "Epoch 184/500:  37%|███▋      | 183/500 [1:02:03<1:48:31, 20.54s/it, loss=1.53e+04, v_num=0]\n",
      "Epoch 257/500:  51%|█████     | 256/500 [1:26:59<1:23:32, 20.54s/it, loss=1.03e+04, v_num=0]\n",
      "Epoch 257/500:  51%|█████     | 256/500 [1:27:57<1:24:02, 20.67s/it, loss=5.06e+03, v_num=0]\n",
      "Epoch 260/500:  52%|█████▏    | 259/500 [1:28:59<1:23:17, 20.74s/it, loss=4.81e+03, v_num=0]\n",
      "Epoch 263/500:  52%|█████▏    | 262/500 [1:29:03<1:21:33, 20.56s/it, loss=9.99e+03, v_num=0]\n",
      "Epoch 265/500:  53%|█████▎    | 264/500 [1:30:58<1:22:18, 20.93s/it, loss=7.16e+03, v_num=0]\u001b[32m [repeated 2x across cluster]\u001b[0m\n",
      "Epoch 286/500:  57%|█████▋    | 285/500 [1:37:58<1:14:23, 20.76s/it, loss=2.99e+03, v_num=0]\u001b[32m [repeated 2x across cluster]\u001b[0m\n",
      "Epoch 288/500:  57%|█████▋    | 287/500 [1:38:57<1:14:34, 21.00s/it, loss=5.73e+03, v_num=0]\n",
      "Epoch 298/500:  59%|█████▉    | 297/500 [1:41:01<1:09:32, 20.55s/it, loss=8.22e+03, v_num=0]\n",
      "Epoch 301/500:  60%|██████    | 300/500 [1:42:02<1:08:30, 20.55s/it, loss=8.07e+03, v_num=0]\u001b[32m [repeated 2x across cluster]\u001b[0m\n",
      "Epoch 311/500:  62%|██████▏   | 310/500 [1:46:58<1:06:10, 20.89s/it, loss=4.49e+03, v_num=0]\n",
      "Epoch 315/500:  63%|██████▎   | 314/500 [1:48:00<1:04:01, 20.65s/it, loss=1.1e+03, v_num=0] \n",
      "Epoch 335/500:  67%|██████▋   | 334/500 [1:54:58<57:43, 20.87s/it, loss=-63.2, v_num=0]\u001b[32m [repeated 3x across cluster]\u001b[0m\n",
      "Epoch 342/500:  68%|██████▊   | 341/500 [1:56:03<54:12, 20.45s/it, loss=6.36e+03, v_num=0]\u001b[32m [repeated 3x across cluster]\u001b[0m\n",
      "Epoch 374/500:  75%|███████▍  | 373/500 [2:07:02<43:27, 20.54s/it, loss=5.15e+03, v_num=0]\n",
      "Epoch 407/500:  81%|████████  | 406/500 [2:20:00<32:55, 21.01s/it, loss=-3.67e+03, v_num=0]\u001b[32m [repeated 3x across cluster]\u001b[0m\n",
      "Epoch 496/500:  99%|█████████▉| 495/500 [2:48:59<01:43, 20.61s/it, loss=4.04e+03, v_num=0]\n",
      "Epoch 499/500: 100%|█████████▉| 498/500 [2:50:01<00:41, 20.70s/it, loss=3.96e+03, v_num=0]\n",
      "Epoch 493/500:  98%|█████████▊| 492/500 [2:49:59<02:47, 20.96s/it, loss=-3.81e+03, v_num=0]\n"
     ]
    },
    {
     "name": "stderr",
     "output_type": "stream",
     "text": [
      "2023-06-02 10:05:11,492\tINFO tune.py:945 -- Total run time: 10827.80 seconds (10827.74 seconds for the tuning loop).\n"
     ]
    }
   ],
   "source": [
    "name = \"max_kl_weight_adjust\"\n",
    "search_space = {\"max_kl_weight\": tune.grid_search([0.6, 0.8, 1.0])}\n",
    "results = base.hyperparameter_tuner(name, search_space)"
   ]
  },
  {
   "cell_type": "code",
   "execution_count": 3,
   "metadata": {},
   "outputs": [
    {
     "data": {
      "text/plain": [
       "{'max_kl_weight': 0.6}"
      ]
     },
     "execution_count": 3,
     "metadata": {},
     "output_type": "execute_result"
    }
   ],
   "source": [
    "results.get_best_result().config"
   ]
  }
 ],
 "metadata": {
  "kernelspec": {
   "display_name": "velovi-env",
   "language": "python",
   "name": "python3"
  },
  "language_info": {
   "codemirror_mode": {
    "name": "ipython",
    "version": 3
   },
   "file_extension": ".py",
   "mimetype": "text/x-python",
   "name": "python",
   "nbconvert_exporter": "python",
   "pygments_lexer": "ipython3",
   "version": "3.8.15"
  },
  "orig_nbformat": 4
 },
 "nbformat": 4,
 "nbformat_minor": 2
}
