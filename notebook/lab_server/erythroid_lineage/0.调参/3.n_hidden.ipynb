{
 "cells": [
  {
   "cell_type": "code",
   "execution_count": 1,
   "metadata": {},
   "outputs": [
    {
     "name": "stderr",
     "output_type": "stream",
     "text": [
      "Global seed set to 0\n",
      "/home/huang/.conda/envs/velovi-env/lib/python3.8/site-packages/pytorch_lightning/utilities/warnings.py:53: LightningDeprecationWarning: pytorch_lightning.utilities.warnings.rank_zero_deprecation has been deprecated in v1.6 and will be removed in v1.8. Use the equivalent function from the pytorch_lightning.utilities.rank_zero module instead.\n",
      "  new_rank_zero_deprecation(\n",
      "/home/huang/.conda/envs/velovi-env/lib/python3.8/site-packages/pytorch_lightning/utilities/warnings.py:58: LightningDeprecationWarning: The `pytorch_lightning.loggers.base.rank_zero_experiment` is deprecated in v1.7 and will be removed in v1.9. Please use `pytorch_lightning.loggers.logger.rank_zero_experiment` instead.\n",
      "  return new_rank_zero_deprecation(*args, **kwargs)\n"
     ]
    },
    {
     "name": "stdout",
     "output_type": "stream",
     "text": [
      "load ../data/adata//adata.h5ad\n",
      "load ../data/adata//sample_recover.pkl\n"
     ]
    }
   ],
   "source": [
    "import base\n",
    "from ray import tune"
   ]
  },
  {
   "cell_type": "code",
   "execution_count": 2,
   "metadata": {},
   "outputs": [
    {
     "name": "stderr",
     "output_type": "stream",
     "text": [
      "2023-06-01 14:01:58,789\tINFO worker.py:1625 -- Started a local Ray instance.\n",
      "2023-06-01 14:01:59,656\tINFO tune.py:218 -- Initializing Ray automatically. For cluster usage or custom Ray initialization, call `ray.init(...)` before `Tuner(...)`.\n",
      "2023-06-01 14:01:59,728\tINFO tensorboardx.py:172 -- pip install \"ray[tune]\" to see TensorBoard files.\n",
      "2023-06-01 14:01:59,730\tWARNING callback.py:142 -- The TensorboardX logger cannot be instantiated because either TensorboardX or one of it's dependencies is not installed. Please make sure you have the latest version of TensorboardX installed: `pip install -U tensorboardx`\n"
     ]
    },
    {
     "data": {
      "text/html": [
       "<div class=\"tuneStatus\">\n",
       "  <div style=\"display: flex;flex-direction: row\">\n",
       "    <div style=\"display: flex;flex-direction: column;\">\n",
       "      <h3>Tune Status</h3>\n",
       "      <table>\n",
       "<tbody>\n",
       "<tr><td>Current time:</td><td>2023-06-01 14:16:18</td></tr>\n",
       "<tr><td>Running for: </td><td>00:14:18.98        </td></tr>\n",
       "<tr><td>Memory:      </td><td>38.6/62.5 GiB      </td></tr>\n",
       "</tbody>\n",
       "</table>\n",
       "    </div>\n",
       "    <div class=\"vDivider\"></div>\n",
       "    <div class=\"systemInfo\">\n",
       "      <h3>System Info</h3>\n",
       "      Using AsyncHyperBand: num_stopped=0<br>Bracket: Iter 64.000: None | Iter 16.000: None | Iter 4.000: None | Iter 1.000: None<br>Logical resource usage: 3.0/24 CPUs, 0/0 GPUs\n",
       "    </div>\n",
       "    \n",
       "  </div>\n",
       "  <div class=\"hDivider\"></div>\n",
       "  <div class=\"trialStatus\">\n",
       "    <h3>Trial Status</h3>\n",
       "    <table>\n",
       "<thead>\n",
       "<tr><th>Trial name               </th><th>status  </th><th>loc               </th><th style=\"text-align: right;\">  n_hidden</th></tr>\n",
       "</thead>\n",
       "<tbody>\n",
       "<tr><td>train_velovgi_d25d6_00000</td><td>RUNNING </td><td>192.168.1.2:597196</td><td style=\"text-align: right;\">       256</td></tr>\n",
       "<tr><td>train_velovgi_d25d6_00001</td><td>RUNNING </td><td>192.168.1.2:597298</td><td style=\"text-align: right;\">       512</td></tr>\n",
       "<tr><td>train_velovgi_d25d6_00002</td><td>RUNNING </td><td>192.168.1.2:597372</td><td style=\"text-align: right;\">      1024</td></tr>\n",
       "</tbody>\n",
       "</table>\n",
       "  </div>\n",
       "</div>\n",
       "<style>\n",
       ".tuneStatus {\n",
       "  color: var(--jp-ui-font-color1);\n",
       "}\n",
       ".tuneStatus .systemInfo {\n",
       "  display: flex;\n",
       "  flex-direction: column;\n",
       "}\n",
       ".tuneStatus td {\n",
       "  white-space: nowrap;\n",
       "}\n",
       ".tuneStatus .trialStatus {\n",
       "  display: flex;\n",
       "  flex-direction: column;\n",
       "}\n",
       ".tuneStatus h3 {\n",
       "  font-weight: bold;\n",
       "}\n",
       ".tuneStatus .hDivider {\n",
       "  border-bottom-width: var(--jp-border-width);\n",
       "  border-bottom-color: var(--jp-border-color0);\n",
       "  border-bottom-style: solid;\n",
       "}\n",
       ".tuneStatus .vDivider {\n",
       "  border-left-width: var(--jp-border-width);\n",
       "  border-left-color: var(--jp-border-color0);\n",
       "  border-left-style: solid;\n",
       "  margin: 0.5em 1em 0.5em 1em;\n",
       "}\n",
       "</style>\n"
      ],
      "text/plain": [
       "<IPython.core.display.HTML object>"
      ]
     },
     "metadata": {},
     "output_type": "display_data"
    },
    {
     "name": "stderr",
     "output_type": "stream",
     "text": [
      "\u001b[2m\u001b[36m(pid=597196)\u001b[0m Global seed set to 0\n",
      "\u001b[2m\u001b[36m(pid=597196)\u001b[0m /home/huang/.conda/envs/velovi-env/lib/python3.8/site-packages/pytorch_lightning/utilities/warnings.py:53: LightningDeprecationWarning: pytorch_lightning.utilities.warnings.rank_zero_deprecation has been deprecated in v1.6 and will be removed in v1.8. Use the equivalent function from the pytorch_lightning.utilities.rank_zero module instead.\n",
      "\u001b[2m\u001b[36m(pid=597196)\u001b[0m   new_rank_zero_deprecation(\n",
      "\u001b[2m\u001b[36m(pid=597196)\u001b[0m /home/huang/.conda/envs/velovi-env/lib/python3.8/site-packages/pytorch_lightning/utilities/warnings.py:58: LightningDeprecationWarning: The `pytorch_lightning.loggers.base.rank_zero_experiment` is deprecated in v1.7 and will be removed in v1.9. Please use `pytorch_lightning.loggers.logger.rank_zero_experiment` instead.\n",
      "\u001b[2m\u001b[36m(pid=597196)\u001b[0m   return new_rank_zero_deprecation(*args, **kwargs)\n"
     ]
    },
    {
     "name": "stdout",
     "output_type": "stream",
     "text": [
      "\u001b[2m\u001b[36m(pid=597196)\u001b[0m load ../data/adata//adata.h5ad\n",
      "\u001b[2m\u001b[36m(pid=597196)\u001b[0m load ../data/adata//sample_recover.pkl\n"
     ]
    },
    {
     "name": "stderr",
     "output_type": "stream",
     "text": [
      "\u001b[2m\u001b[36m(train_velovgi pid=597196)\u001b[0m GPU available: False, used: False\n",
      "\u001b[2m\u001b[36m(train_velovgi pid=597196)\u001b[0m TPU available: False, using: 0 TPU cores\n",
      "\u001b[2m\u001b[36m(train_velovgi pid=597196)\u001b[0m IPU available: False, using: 0 IPUs\n",
      "\u001b[2m\u001b[36m(train_velovgi pid=597196)\u001b[0m HPU available: False, using: 0 HPUs\n",
      "\u001b[2m\u001b[36m(train_velovgi pid=597196)\u001b[0m Missing logger folder: ./log/n_hidden_256\n"
     ]
    },
    {
     "name": "stdout",
     "output_type": "stream",
     "text": [
      "\u001b[2m\u001b[36m(train_velovgi pid=597196)\u001b[0m 初始训练，初始化runner参数\n",
      "\u001b[2m\u001b[36m(train_velovgi pid=597196)\u001b[0m choosing neighbor minibatch\n",
      "Epoch 1/500:   0%|          | 0/500 [00:00<?, ?it/s]\n"
     ]
    },
    {
     "name": "stderr",
     "output_type": "stream",
     "text": [
      "\u001b[2m\u001b[36m(pid=597298)\u001b[0m Global seed set to 0\n",
      "\u001b[2m\u001b[36m(pid=597298)\u001b[0m /home/huang/.conda/envs/velovi-env/lib/python3.8/site-packages/pytorch_lightning/utilities/warnings.py:53: LightningDeprecationWarning: pytorch_lightning.utilities.warnings.rank_zero_deprecation has been deprecated in v1.6 and will be removed in v1.8. Use the equivalent function from the pytorch_lightning.utilities.rank_zero module instead.\n",
      "\u001b[2m\u001b[36m(pid=597298)\u001b[0m   new_rank_zero_deprecation(\n",
      "\u001b[2m\u001b[36m(pid=597298)\u001b[0m /home/huang/.conda/envs/velovi-env/lib/python3.8/site-packages/pytorch_lightning/utilities/warnings.py:58: LightningDeprecationWarning: The `pytorch_lightning.loggers.base.rank_zero_experiment` is deprecated in v1.7 and will be removed in v1.9. Please use `pytorch_lightning.loggers.logger.rank_zero_experiment` instead.\n",
      "\u001b[2m\u001b[36m(pid=597298)\u001b[0m   return new_rank_zero_deprecation(*args, **kwargs)\n"
     ]
    },
    {
     "name": "stderr",
     "output_type": "stream",
     "text": [
      "\u001b[2m\u001b[36m(train_velovgi pid=597298)\u001b[0m Missing logger folder: ./log/n_hidden_512\n",
      "\u001b[2m\u001b[36m(train_velovgi pid=597298)\u001b[0m Missing logger folder: ./log/n_hidden_512\n",
      "\u001b[2m\u001b[36m(train_velovgi pid=597298)\u001b[0m Missing logger folder: ./log/n_hidden_512\n",
      "\u001b[2m\u001b[36m(train_velovgi pid=597298)\u001b[0m Missing logger folder: ./log/n_hidden_512\n",
      "\u001b[2m\u001b[36m(train_velovgi pid=597298)\u001b[0m Missing logger folder: ./log/n_hidden_512\n",
      "\u001b[2m\u001b[36m(pid=597372)\u001b[0m Global seed set to 0\n",
      "\u001b[2m\u001b[36m(pid=597372)\u001b[0m /home/huang/.conda/envs/velovi-env/lib/python3.8/site-packages/pytorch_lightning/utilities/warnings.py:53: LightningDeprecationWarning: pytorch_lightning.utilities.warnings.rank_zero_deprecation has been deprecated in v1.6 and will be removed in v1.8. Use the equivalent function from the pytorch_lightning.utilities.rank_zero module instead.\n",
      "\u001b[2m\u001b[36m(pid=597372)\u001b[0m   new_rank_zero_deprecation(\n",
      "\u001b[2m\u001b[36m(pid=597372)\u001b[0m /home/huang/.conda/envs/velovi-env/lib/python3.8/site-packages/pytorch_lightning/utilities/warnings.py:58: LightningDeprecationWarning: The `pytorch_lightning.loggers.base.rank_zero_experiment` is deprecated in v1.7 and will be removed in v1.9. Please use `pytorch_lightning.loggers.logger.rank_zero_experiment` instead.\n",
      "\u001b[2m\u001b[36m(pid=597372)\u001b[0m   return new_rank_zero_deprecation(*args, **kwargs)\n"
     ]
    },
    {
     "name": "stdout",
     "output_type": "stream",
     "text": [
      "\u001b[2m\u001b[36m(pid=597372)\u001b[0m load ../data/adata//adata.h5ad\n",
      "\u001b[2m\u001b[36m(pid=597372)\u001b[0m load ../data/adata//sample_recover.pkl\n",
      "\u001b[2m\u001b[36m(train_velovgi pid=597372)\u001b[0m 初始训练，初始化runner参数\n",
      "\u001b[2m\u001b[36m(train_velovgi pid=597372)\u001b[0m choosing neighbor minibatch\n",
      "Epoch 1/500:   0%|          | 0/500 [00:00<?, ?it/s]\n"
     ]
    },
    {
     "name": "stderr",
     "output_type": "stream",
     "text": [
      "\u001b[2m\u001b[36m(train_velovgi pid=597372)\u001b[0m GPU available: False, used: False\n",
      "\u001b[2m\u001b[36m(train_velovgi pid=597372)\u001b[0m TPU available: False, using: 0 TPU cores\n",
      "\u001b[2m\u001b[36m(train_velovgi pid=597372)\u001b[0m IPU available: False, using: 0 IPUs\n",
      "\u001b[2m\u001b[36m(train_velovgi pid=597372)\u001b[0m HPU available: False, using: 0 HPUs\n",
      "\u001b[2m\u001b[36m(train_velovgi pid=597372)\u001b[0m Missing logger folder: ./log/n_hidden_1024\n"
     ]
    },
    {
     "name": "stdout",
     "output_type": "stream",
     "text": [
      "Epoch 2/500:   0%|          | 1/500 [00:32<4:32:22, 32.75s/it, loss=1.89e+06, v_num=0]\n",
      "Epoch 2/500:   0%|          | 1/500 [00:47<6:31:29, 47.07s/it, loss=1.87e+06, v_num=0]\n",
      "Epoch 3/500:   0%|          | 2/500 [01:01<4:12:22, 30.41s/it, loss=1.61e+06, v_num=0]\n",
      "Epoch 2/500:   0%|          | 1/500 [01:01<8:27:49, 61.06s/it, loss=1.84e+06, v_num=0]\n",
      "Epoch 3/500:   0%|          | 2/500 [01:22<5:32:46, 40.09s/it, loss=1.58e+06, v_num=0]\n",
      "Epoch 4/500:   1%|          | 3/500 [01:58<5:19:07, 38.53s/it, loss=1.4e+06, v_num=0]\u001b[32m [repeated 2x across cluster] (Ray deduplicates logs by default. Set RAY_DEDUP_LOGS=0 to disable log deduplication, or see https://docs.ray.io/en/master/ray-observability/ray-logging.html#log-deduplication for more options.)\u001b[0m\n",
      "Epoch 6/500:   1%|          | 5/500 [02:36<4:17:40, 31.23s/it, loss=1.08e+06, v_num=0]\u001b[32m [repeated 3x across cluster]\u001b[0m\n",
      "Epoch 5/500:   1%|          | 4/500 [02:41<5:32:01, 40.16s/it, loss=1.22e+06, v_num=0]\n",
      "Epoch 4/500:   1%|          | 3/500 [02:41<7:16:39, 52.72s/it, loss=1.38e+06, v_num=0]\n",
      "Epoch 7/500:   1%|          | 6/500 [03:09<4:23:40, 32.03s/it, loss=9.28e+05, v_num=0]\n",
      "Epoch 6/500:   1%|          | 5/500 [03:17<5:18:27, 38.60s/it, loss=1.08e+06, v_num=0]\n",
      "Epoch 5/500:   1%|          | 4/500 [03:31<7:05:49, 51.51s/it, loss=1.22e+06, v_num=0]\n",
      "Epoch 8/500:   1%|▏         | 7/500 [03:54<4:58:05, 36.28s/it, loss=8.11e+05, v_num=0]\n",
      "Epoch 7/500:   1%|          | 6/500 [04:09<5:54:15, 43.03s/it, loss=9.3e+05, v_num=0] \n",
      "Epoch 9/500:   2%|▏         | 8/500 [04:23<4:37:38, 33.86s/it, loss=7.68e+05, v_num=0]\n",
      "Epoch 6/500:   1%|          | 5/500 [04:20<6:59:22, 50.83s/it, loss=1.09e+06, v_num=0]\n",
      "Epoch 10/500:   2%|▏         | 9/500 [04:52<4:25:22, 32.43s/it, loss=7.39e+05, v_num=0]\n",
      "Epoch 11/500:   2%|▏         | 10/500 [05:26<4:28:40, 32.90s/it, loss=7.15e+05, v_num=0]\u001b[32m [repeated 2x across cluster]\u001b[0m\n",
      "Epoch 9/500:   2%|▏         | 8/500 [05:27<5:34:24, 40.78s/it, loss=7.66e+05, v_num=0]\n",
      "Epoch 7/500:   1%|          | 6/500 [05:33<8:00:45, 58.39s/it, loss=9.35e+05, v_num=0]\n",
      "Epoch 12/500:   2%|▏         | 11/500 [05:57<4:21:48, 32.12s/it, loss=6.94e+05, v_num=0]\n",
      "Epoch 10/500:   2%|▏         | 9/500 [06:12<5:43:31, 41.98s/it, loss=7.37e+05, v_num=0]\n",
      "Epoch 13/500:   2%|▏         | 12/500 [06:27<4:16:35, 31.55s/it, loss=6.75e+05, v_num=0]\n",
      "Epoch 14/500:   3%|▎         | 13/500 [07:03<4:26:45, 32.87s/it, loss=6.59e+05, v_num=0]\n",
      "Epoch 11/500:   2%|▏         | 10/500 [07:05<6:11:48, 45.53s/it, loss=7.13e+05, v_num=0]\n",
      "Epoch 15/500:   3%|▎         | 14/500 [07:34<4:22:05, 32.36s/it, loss=6.42e+05, v_num=0]\n",
      "Epoch 9/500:   2%|▏         | 8/500 [07:43<8:38:02, 63.18s/it, loss=7.68e+05, v_num=0]\n",
      "Epoch 12/500:   2%|▏         | 11/500 [08:10<6:58:47, 51.39s/it, loss=6.91e+05, v_num=0]\u001b[32m [repeated 2x across cluster]\u001b[0m\n",
      "Epoch 17/500:   3%|▎         | 16/500 [08:33<4:08:37, 30.82s/it, loss=6.11e+05, v_num=0]\n",
      "Epoch 10/500:   2%|▏         | 9/500 [08:35<8:08:44, 59.72s/it, loss=7.39e+05, v_num=0]\n",
      "Epoch 13/500:   2%|▏         | 12/500 [08:50<6:30:35, 48.02s/it, loss=6.73e+05, v_num=0]\n",
      "Epoch 18/500:   3%|▎         | 17/500 [09:07<4:16:04, 31.81s/it, loss=5.96e+05, v_num=0]\n",
      "Epoch 14/500:   3%|▎         | 13/500 [09:26<5:59:32, 44.30s/it, loss=6.56e+05, v_num=0]\n",
      "Epoch 19/500:   4%|▎         | 18/500 [09:45<4:31:55, 33.85s/it, loss=5.81e+05, v_num=0]\n",
      "Epoch 11/500:   2%|▏         | 10/500 [09:45<8:34:41, 63.02s/it, loss=7.16e+05, v_num=0]\n",
      "Epoch 15/500:   3%|▎         | 14/500 [10:05<5:45:35, 42.67s/it, loss=6.39e+05, v_num=0]\n",
      "Epoch 20/500:   4%|▍         | 19/500 [10:16<4:25:03, 33.06s/it, loss=5.68e+05, v_num=0]\n",
      "Epoch 21/500:   4%|▍         | 20/500 [10:46<4:15:55, 31.99s/it, loss=5.54e+05, v_num=0]\n",
      "Epoch 12/500:   2%|▏         | 11/500 [10:39<8:10:33, 60.19s/it, loss=6.95e+05, v_num=0]\n",
      "Epoch 16/500:   3%|▎         | 15/500 [10:52<5:55:45, 44.01s/it, loss=6.23e+05, v_num=0]\n",
      "Epoch 17/500:   3%|▎         | 16/500 [11:27<5:34:06, 41.42s/it, loss=6.09e+05, v_num=0]\n",
      "Epoch 22/500:   4%|▍         | 21/500 [11:39<5:06:17, 38.37s/it, loss=5.4e+05, v_num=0] \n",
      "Epoch 13/500:   2%|▏         | 12/500 [11:35<7:59:38, 58.97s/it, loss=6.77e+05, v_num=0]\n",
      "Epoch 23/500:   4%|▍         | 22/500 [12:11<4:49:31, 36.34s/it, loss=5.27e+05, v_num=0]\n",
      "Epoch 18/500:   3%|▎         | 17/500 [12:29<6:22:15, 47.49s/it, loss=5.93e+05, v_num=0]\n",
      "Epoch 14/500:   3%|▎         | 13/500 [12:32<7:53:37, 58.35s/it, loss=6.6e+05, v_num=0] \n",
      "Epoch 25/500:   5%|▍         | 24/500 [13:11<4:24:30, 33.34s/it, loss=5.01e+05, v_num=0]\n",
      "Epoch 19/500:   4%|▎         | 18/500 [13:13<6:12:17, 46.34s/it, loss=5.79e+05, v_num=0]\n",
      "Epoch 15/500:   3%|▎         | 14/500 [13:25<7:39:52, 56.77s/it, loss=6.44e+05, v_num=0]\n",
      "Epoch 26/500:   5%|▌         | 25/500 [13:51<4:38:54, 35.23s/it, loss=4.89e+05, v_num=0]\n",
      "Epoch 20/500:   4%|▍         | 19/500 [14:00<6:13:44, 46.62s/it, loss=5.65e+05, v_num=0]\n"
     ]
    }
   ],
   "source": [
    "name = \"n_hidden_adjust\"\n",
    "search_space = {\"n_hidden\": tune.grid_search([256, 512, 1024])}\n",
    "results = base.hyperparameter_tuner(name, search_space)"
   ]
  },
  {
   "cell_type": "code",
   "execution_count": null,
   "metadata": {},
   "outputs": [
    {
     "data": {
      "text/plain": [
       "{'n_hidden': 1024}"
      ]
     },
     "execution_count": 3,
     "metadata": {},
     "output_type": "execute_result"
    }
   ],
   "source": [
    "results.get_best_result().config"
   ]
  }
 ],
 "metadata": {
  "kernelspec": {
   "display_name": "velovi-env",
   "language": "python",
   "name": "python3"
  },
  "language_info": {
   "codemirror_mode": {
    "name": "ipython",
    "version": 3
   },
   "file_extension": ".py",
   "mimetype": "text/x-python",
   "name": "python",
   "nbconvert_exporter": "python",
   "pygments_lexer": "ipython3",
   "version": "3.8.15"
  },
  "orig_nbformat": 4
 },
 "nbformat": 4,
 "nbformat_minor": 2
}
