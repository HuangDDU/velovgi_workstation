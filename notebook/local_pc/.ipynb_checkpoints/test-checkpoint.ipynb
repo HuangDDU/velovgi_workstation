{
 "cells": [
  {
   "cell_type": "code",
   "execution_count": 1,
   "metadata": {},
   "outputs": [
    {
     "name": "stdout",
     "output_type": "stream",
     "text": [
      "The history saving thread hit an unexpected error (DatabaseError('database disk image is malformed')).History will not be written to the database.\n"
     ]
    }
   ],
   "source": [
    "import scanpy as sc\n",
    "import scvelo as scv"
   ]
  },
  {
   "cell_type": "code",
   "execution_count": 2,
   "metadata": {},
   "outputs": [],
   "source": [
    "# 红系成熟部分\n",
    "adata = scv.read(\"/mnt/h/F_bak/PyCode/xijing/notebook/data/Gastrulation/erythroid_lineage.h5ad\")\n",
    "# sc.pp.subsample(adata, n_obs=500)\n",
    "# 这里就不能在随机抽样了，为了与之前抽样作比较，这里需要与之前的细胞完全一致\n",
    "adata2 = scv.read(\"./tmp/erythroid_lineage2/adata/adata.h5ad\")\n",
    "adata = adata[list(adata2.obs.index)].copy()\n",
    "batch_key = \"stage\"\n",
    "cluster_key = \"celltype\"\n",
    "adata"
   ]
  },
  {
   "cell_type": "code",
   "execution_count": null,
   "metadata": {},
   "outputs": [],
   "source": [
    "import anndata as ad\n",
    "import scib"
   ]
  },
  {
   "cell_type": "code",
   "execution_count": null,
   "metadata": {},
   "outputs": [],
   "source": [
    "# 直接调用scvelo的方法，就不用分开做了\n",
    "scv.pp.filter_and_normalize(adata, n_top_genes=2000) # 各自分别做\n",
    "\n",
    "# 提出数据变化后的矩阵构造对象\n",
    "adata_unspliced = ad.AnnData(adata.layers[\"unspliced\"], obs=adata.obs[[batch_key, cluster_key]])\n",
    "adata_spliced = ad.AnnData(adata.layers[\"spliced\"], obs=adata.obs[[batch_key, cluster_key]])\n",
    "\n",
    "# 执行矫正\n",
    "corrected_adata_unspliced = scib.ig.scgen(adata_unspliced, batch=batch_key, cell_type=cluster_key)\n",
    "corrected_adata_spliced = scib.ig.scgen(adata_spliced, batch=batch_key, cell_type=cluster_key)\n",
    "\n",
    "# 保存到adata里\n",
    "adata.X = adata_spliced.X\n",
    "adata.layers[\"spliced\"] = adata_spliced.X\n",
    "adata.layers[\"unspliced\"] = adata_unspliced.X"
   ]
  }
 ],
 "metadata": {
  "kernelspec": {
   "display_name": "velovi-env",
   "language": "python",
   "name": "python3"
  },
  "language_info": {
   "codemirror_mode": {
    "name": "ipython",
    "version": 3
   },
   "file_extension": ".py",
   "mimetype": "text/x-python",
   "name": "python",
   "nbconvert_exporter": "python",
   "pygments_lexer": "ipython3",
   "version": "3.8.15"
  },
  "orig_nbformat": 4
 },
 "nbformat": 4,
 "nbformat_minor": 2
}
