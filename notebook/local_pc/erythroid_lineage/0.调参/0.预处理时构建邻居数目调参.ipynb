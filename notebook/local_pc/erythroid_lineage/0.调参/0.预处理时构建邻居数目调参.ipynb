{
 "cells": [
  {
   "cell_type": "code",
   "execution_count": 1,
   "metadata": {},
   "outputs": [
    {
     "name": "stderr",
     "output_type": "stream",
     "text": [
      "Global seed set to 0\n",
      "/usr/local/conda/envs/velovi-env/lib/python3.8/site-packages/pytorch_lightning/utilities/warnings.py:53: LightningDeprecationWarning: pytorch_lightning.utilities.warnings.rank_zero_deprecation has been deprecated in v1.6 and will be removed in v1.8. Use the equivalent function from the pytorch_lightning.utilities.rank_zero module instead.\n",
      "  new_rank_zero_deprecation(\n",
      "/usr/local/conda/envs/velovi-env/lib/python3.8/site-packages/pytorch_lightning/utilities/warnings.py:58: LightningDeprecationWarning: The `pytorch_lightning.loggers.base.rank_zero_experiment` is deprecated in v1.7 and will be removed in v1.9. Please use `pytorch_lightning.loggers.logger.rank_zero_experiment` instead.\n",
      "  return new_rank_zero_deprecation(*args, **kwargs)\n"
     ]
    }
   ],
   "source": [
    "import sys\n",
    "sys.path = [\"../../..\"] + sys.path # 切换到项目目录下\n",
    "\n",
    "import scanpy as sc\n",
    "import scvelo as scv\n",
    "import velovgi\n",
    "\n",
    "from ray import tune, air\n",
    "from ray.air import session"
   ]
  },
  {
   "attachments": {},
   "cell_type": "markdown",
   "metadata": {},
   "source": [
    "## 1. 读取原始数据"
   ]
  },
  {
   "cell_type": "code",
   "execution_count": 2,
   "metadata": {},
   "outputs": [
    {
     "data": {
      "text/plain": [
       "AnnData object with n_obs × n_vars = 500 × 53801\n",
       "    obs: 'sample', 'stage', 'sequencing.batch', 'theiler', 'celltype'\n",
       "    var: 'Accession', 'Chromosome', 'End', 'Start', 'Strand', 'MURK_gene', 'Δm', 'scaled Δm'\n",
       "    uns: 'celltype_colors'\n",
       "    obsm: 'X_pca', 'X_umap'\n",
       "    layers: 'spliced', 'unspliced'"
      ]
     },
     "execution_count": 2,
     "metadata": {},
     "output_type": "execute_result"
    }
   ],
   "source": [
    "adata = scv.read(\"../../../erythroid_lineage/data/erythroid_lineage.h5ad\")\n",
    "\n",
    "cluster_key = \"celltype\"\n",
    "batch_key=\"stage\"\n",
    "\n",
    "adata"
   ]
  },
  {
   "cell_type": "code",
   "execution_count": 3,
   "metadata": {},
   "outputs": [],
   "source": [
    "batch_pair_list = [\n",
    "    [\"E7.0\", \"E7.25\"],\n",
    "    [\"E7.25\", \"E7.5\"],\n",
    "    [\"E7.5\", \"E7.75\"],\n",
    "    [\"E7.75\", \"E8.0\"],\n",
    "    [\"E8.0\", \"E8.25\"],\n",
    "    [\"E8.25\", \"E8.5\"],\n",
    "]"
   ]
  },
  {
   "cell_type": "code",
   "execution_count": 4,
   "metadata": {},
   "outputs": [],
   "source": [
    "cluster_edges = [\n",
    "    (\"Blood progenitors 1\", \"Blood progenitors 2\"), \n",
    "    (\"Blood progenitors 2\", \"Erythroid1\"), \n",
    "    (\"Erythroid1\", \"Erythroid2\"), \n",
    "    (\"Erythroid2\", \"Erythroid3\")\n",
    "    ] # 已知的细胞类型间的分化信息"
   ]
  },
  {
   "attachments": {},
   "cell_type": "markdown",
   "metadata": {},
   "source": [
    "## 2. 在预处理部分调整构建邻居数量的两个参数"
   ]
  },
  {
   "attachments": {},
   "cell_type": "markdown",
   "metadata": {},
   "source": [
    "1. 目标函数"
   ]
  },
  {
   "cell_type": "code",
   "execution_count": 5,
   "metadata": {},
   "outputs": [],
   "source": [
    "from pytorch_lightning import loggers\n",
    "from torch_geometric import seed_everything\n",
    "\n",
    "def train_velovgi(config):\n",
    "\n",
    "    # 邻居数量的两个参数\n",
    "    n_bnn_neighbors = config[\"n_bnn_neighbors\"]\n",
    "    n_knn_neighbors = config[\"n_knn_neighbors\"]\n",
    "    \n",
    "    knn_mask, bnn_mask, subsample_adata = velovgi.pp.preprocess(adata, n_bnn_neighbors, n_knn_neighbors, sample_mode=\"random\", batch_key=batch_key, batch_pair_list=batch_pair_list)\n",
    "\n",
    "    name = \"\"\n",
    "    for k,v in config.items():\n",
    "        name += \"%s_%s,\"%(k, v)\n",
    "    name = name[:-1]\n",
    "\n",
    "    seed_everything(0)\n",
    "    # 模型训练\n",
    "    logger = loggers.TensorBoardLogger(save_dir=\"./log\", name=name)\n",
    "    velovgi.tl.VELOVGI.setup_anndata(adata=subsample_adata, spliced_layer=\"Ms\", unspliced_layer=\"Mu\")\n",
    "    velovgi_model = velovgi.tl.VELOVGI(subsample_adata)\n",
    "    velovgi_model.train(logger=logger, max_epochs=50)\n",
    "\n",
    "    # 模型恢复\n",
    "    velovgi.tl.add_velovi_outputs_to_adata(subsample_adata, velovgi_model) # 模型输出\n",
    "    velovgi.pp.moment_recover(adata, subsample_adata) # 恢复\n",
    "\n",
    "    # 速率计算\n",
    "    scv.tl.velocity_graph(adata)\n",
    "    scv.pl.velocity_embedding(adata, color=cluster_key)\n",
    "    scv.pl.velocity_embedding_stream(adata, color=cluster_key, save=\"%s.png\"%name)\n",
    "\n",
    "    # 计算指标评价\n",
    "    adata_velo = velovgi.tl.pre_metric(adata)\n",
    "    exp_metrics = velovgi.tl.summary_metric(adata_velo, cluster_edges, cluster_key)[-1] # 计算指标汇总后的结果\n",
    "\n",
    "    session.report({\"CBDir\": exp_metrics[\"CBDir\"], \"ICVCoh\": exp_metrics[\"ICVCoh\"]})\n"
   ]
  },
  {
   "attachments": {},
   "cell_type": "markdown",
   "metadata": {},
   "source": [
    "2. 搜索空间，网格搜索"
   ]
  },
  {
   "cell_type": "code",
   "execution_count": 6,
   "metadata": {},
   "outputs": [],
   "source": [
    "search_space = {\n",
    "    \"n_bnn_neighbors\": tune.grid_search([15, 45]),\n",
    "    \"n_knn_neighbors\": tune.grid_search([15),\n",
    "}"
   ]
  },
  {
   "attachments": {},
   "cell_type": "markdown",
   "metadata": {},
   "source": [
    "3. 执行调参"
   ]
  },
  {
   "cell_type": "code",
   "execution_count": 7,
   "metadata": {},
   "outputs": [
    {
     "name": "stderr",
     "output_type": "stream",
     "text": [
      "2023-06-03 23:40:10,927\tINFO worker.py:1625 -- Started a local Ray instance.\n",
      "2023-06-03 23:40:12,744\tINFO tune.py:218 -- Initializing Ray automatically. For cluster usage or custom Ray initialization, call `ray.init(...)` before `Tuner(...)`.\n",
      "2023-06-03 23:40:13,086\tINFO tensorboardx.py:172 -- pip install \"ray[tune]\" to see TensorBoard files.\n",
      "2023-06-03 23:40:13,087\tWARNING callback.py:142 -- The TensorboardX logger cannot be instantiated because either TensorboardX or one of it's dependencies is not installed. Please make sure you have the latest version of TensorboardX installed: `pip install -U tensorboardx`\n"
     ]
    },
    {
     "data": {
      "text/html": [
       "<div class=\"tuneStatus\">\n",
       "  <div style=\"display: flex;flex-direction: row\">\n",
       "    <div style=\"display: flex;flex-direction: column;\">\n",
       "      <h3>Tune Status</h3>\n",
       "      <table>\n",
       "<tbody>\n",
       "<tr><td>Current time:</td><td>2023-06-03 23:42:34</td></tr>\n",
       "<tr><td>Running for: </td><td>00:02:21.56        </td></tr>\n",
       "<tr><td>Memory:      </td><td>11.5/12.4 GiB      </td></tr>\n",
       "</tbody>\n",
       "</table>\n",
       "    </div>\n",
       "    <div class=\"vDivider\"></div>\n",
       "    <div class=\"systemInfo\">\n",
       "      <h3>System Info</h3>\n",
       "      Using AsyncHyperBand: num_stopped=0<br>Bracket: Iter 64.000: None | Iter 16.000: None | Iter 4.000: None | Iter 1.000: None<br>Logical resource usage: 3.0/12 CPUs, 0/0 GPUs\n",
       "    </div>\n",
       "    <div class=\"vDivider\"></div>\n",
       "<div class=\"messages\">\n",
       "  <h3>Messages</h3>\n",
       "  : ***LOW MEMORY*** less than 10% of the memory on this node is available for use. This can cause unexpected crashes. Consider reducing the memory used by your application or reducing the Ray object store size by setting `object_store_memory` when calling `ray.init`.\n",
       "  \n",
       "  Number of errored trials: 1<br><table>\n",
       "<thead>\n",
       "<tr><th>Trial name               </th><th style=\"text-align: right;\">  # failures</th><th>error file                                                                                                                                                                                                                                           </th></tr>\n",
       "</thead>\n",
       "<tbody>\n",
       "<tr><td>train_velovgi_ee0b1_00003</td><td style=\"text-align: right;\">           1</td><td>/mnt/h/F_bak/Python进阶/scRNA/Other/velovgi_workstation/notebook/local_pc/dev_notebook/23_05_30模型调参/erythroid_lineage调参/results/test_experiment/train_velovgi_ee0b1_00003_3_n_bnn_neighbors=45,n_knn_neighbors=45_2023-06-03_23-40-38/error.txt</td></tr>\n",
       "</tbody>\n",
       "</table>\n",
       "</div>\n",
       "<style>\n",
       ".messages {\n",
       "  color: var(--jp-ui-font-color1);\n",
       "  display: flex;\n",
       "  flex-direction: column;\n",
       "  padding-left: 1em;\n",
       "  overflow-y: auto;\n",
       "}\n",
       ".messages h3 {\n",
       "  font-weight: bold;\n",
       "}\n",
       ".vDivider {\n",
       "  border-left-width: var(--jp-border-width);\n",
       "  border-left-color: var(--jp-border-color0);\n",
       "  border-left-style: solid;\n",
       "  margin: 0.5em 1em 0.5em 1em;\n",
       "}\n",
       "</style>\n",
       "\n",
       "  </div>\n",
       "  <div class=\"hDivider\"></div>\n",
       "  <div class=\"trialStatus\">\n",
       "    <h3>Trial Status</h3>\n",
       "    <table>\n",
       "<thead>\n",
       "<tr><th>Trial name               </th><th>status  </th><th>loc                 </th><th style=\"text-align: right;\">  n_bnn_neighbors</th><th style=\"text-align: right;\">  n_knn_neighbors</th></tr>\n",
       "</thead>\n",
       "<tbody>\n",
       "<tr><td>train_velovgi_ee0b1_00000</td><td>RUNNING </td><td>172.24.199.116:25135</td><td style=\"text-align: right;\">               15</td><td style=\"text-align: right;\">               15</td></tr>\n",
       "<tr><td>train_velovgi_ee0b1_00001</td><td>RUNNING </td><td>172.24.199.116:25199</td><td style=\"text-align: right;\">               45</td><td style=\"text-align: right;\">               15</td></tr>\n",
       "<tr><td>train_velovgi_ee0b1_00002</td><td>RUNNING </td><td>172.24.199.116:25257</td><td style=\"text-align: right;\">               15</td><td style=\"text-align: right;\">               45</td></tr>\n",
       "<tr><td>train_velovgi_ee0b1_00003</td><td>ERROR   </td><td>172.24.199.116:25350</td><td style=\"text-align: right;\">               45</td><td style=\"text-align: right;\">               45</td></tr>\n",
       "</tbody>\n",
       "</table>\n",
       "  </div>\n",
       "</div>\n",
       "<style>\n",
       ".tuneStatus {\n",
       "  color: var(--jp-ui-font-color1);\n",
       "}\n",
       ".tuneStatus .systemInfo {\n",
       "  display: flex;\n",
       "  flex-direction: column;\n",
       "}\n",
       ".tuneStatus td {\n",
       "  white-space: nowrap;\n",
       "}\n",
       ".tuneStatus .trialStatus {\n",
       "  display: flex;\n",
       "  flex-direction: column;\n",
       "}\n",
       ".tuneStatus h3 {\n",
       "  font-weight: bold;\n",
       "}\n",
       ".tuneStatus .hDivider {\n",
       "  border-bottom-width: var(--jp-border-width);\n",
       "  border-bottom-color: var(--jp-border-color0);\n",
       "  border-bottom-style: solid;\n",
       "}\n",
       ".tuneStatus .vDivider {\n",
       "  border-left-width: var(--jp-border-width);\n",
       "  border-left-color: var(--jp-border-color0);\n",
       "  border-left-style: solid;\n",
       "  margin: 0.5em 1em 0.5em 1em;\n",
       "}\n",
       "</style>\n"
      ],
      "text/plain": [
       "<IPython.core.display.HTML object>"
      ]
     },
     "metadata": {},
     "output_type": "display_data"
    },
    {
     "name": "stderr",
     "output_type": "stream",
     "text": [
      "2023-06-03 23:40:14,335\tWARNING worker.py:1986 -- Warning: The actor ImplicitFunc is very large (26 MiB). Check that its definition is not implicitly capturing a large array or other object in scope. Tip: use ray.put() to put large objects in the Ray object store.\n",
      "\u001b[2m\u001b[36m(pid=25135)\u001b[0m Global seed set to 0\n",
      "\u001b[2m\u001b[36m(pid=25135)\u001b[0m /usr/local/conda/envs/velovi-env/lib/python3.8/site-packages/pytorch_lightning/utilities/warnings.py:53: LightningDeprecationWarning: pytorch_lightning.utilities.warnings.rank_zero_deprecation has been deprecated in v1.6 and will be removed in v1.8. Use the equivalent function from the pytorch_lightning.utilities.rank_zero module instead.\n",
      "\u001b[2m\u001b[36m(pid=25135)\u001b[0m   new_rank_zero_deprecation(\n",
      "\u001b[2m\u001b[36m(pid=25135)\u001b[0m /usr/local/conda/envs/velovi-env/lib/python3.8/site-packages/pytorch_lightning/utilities/warnings.py:58: LightningDeprecationWarning: The `pytorch_lightning.loggers.base.rank_zero_experiment` is deprecated in v1.7 and will be removed in v1.9. Please use `pytorch_lightning.loggers.logger.rank_zero_experiment` instead.\n",
      "\u001b[2m\u001b[36m(pid=25135)\u001b[0m   return new_rank_zero_deprecation(*args, **kwargs)\n"
     ]
    },
    {
     "name": "stdout",
     "output_type": "stream",
     "text": [
      "\u001b[2m\u001b[36m(train_velovgi pid=25135)\u001b[0m Filtered out 51490 genes that are detected 20 counts (shared).\n",
      "\u001b[2m\u001b[36m(train_velovgi pid=25135)\u001b[0m Normalized count data: X, spliced, unspliced.\n",
      "\u001b[2m\u001b[36m(train_velovgi pid=25135)\u001b[0m Extracted 2000 highly variable genes.\n",
      "\u001b[2m\u001b[36m(train_velovgi pid=25135)\u001b[0m Logarithmized X.\n",
      "\u001b[2m\u001b[36m(train_velovgi pid=25135)\u001b[0m calculating knn and bnn mask...\n",
      "\u001b[2m\u001b[36m(train_velovgi pid=25135)\u001b[0m pair_list : [['E7.0', 'E7.25'], ['E7.25', 'E7.5'], ['E7.5', 'E7.75'], ['E7.75', 'E8.0'], ['E8.0', 'E8.25'], ['E8.25', 'E8.5']]\n"
     ]
    },
    {
     "name": "stderr",
     "output_type": "stream",
     "text": [
      "\u001b[2m\u001b[36m(pid=25199)\u001b[0m Global seed set to 0\n",
      "\u001b[2m\u001b[36m(pid=25199)\u001b[0m /usr/local/conda/envs/velovi-env/lib/python3.8/site-packages/pytorch_lightning/utilities/warnings.py:53: LightningDeprecationWarning: pytorch_lightning.utilities.warnings.rank_zero_deprecation has been deprecated in v1.6 and will be removed in v1.8. Use the equivalent function from the pytorch_lightning.utilities.rank_zero module instead.\n",
      "\u001b[2m\u001b[36m(pid=25199)\u001b[0m   new_rank_zero_deprecation(\n",
      "\u001b[2m\u001b[36m(pid=25199)\u001b[0m /usr/local/conda/envs/velovi-env/lib/python3.8/site-packages/pytorch_lightning/utilities/warnings.py:58: LightningDeprecationWarning: The `pytorch_lightning.loggers.base.rank_zero_experiment` is deprecated in v1.7 and will be removed in v1.9. Please use `pytorch_lightning.loggers.logger.rank_zero_experiment` instead.\n",
      "\u001b[2m\u001b[36m(pid=25199)\u001b[0m   return new_rank_zero_deprecation(*args, **kwargs)\n"
     ]
    },
    {
     "name": "stdout",
     "output_type": "stream",
     "text": [
      "\u001b[2m\u001b[36m(train_velovgi pid=25199)\u001b[0m Normalized count data: X, spliced, unspliced.\n",
      "\u001b[2m\u001b[36m(train_velovgi pid=25199)\u001b[0m Normalized count data: X, spliced, unspliced.\n",
      "\u001b[2m\u001b[36m(train_velovgi pid=25199)\u001b[0m Extracted 2000 highly variable genes.\n",
      "\u001b[2m\u001b[36m(train_velovgi pid=25199)\u001b[0m Logarithmized X.\n",
      "\u001b[2m\u001b[36m(train_velovgi pid=25199)\u001b[0m calculating knn and bnn mask...\n",
      "\u001b[2m\u001b[36m(train_velovgi pid=25199)\u001b[0m pair_list : [['E7.0', 'E7.25'], ['E7.25', 'E7.5'], ['E7.5', 'E7.75'], ['E7.75', 'E8.0'], ['E8.0', 'E8.25'], ['E8.25', 'E8.5']]\n"
     ]
    },
    {
     "name": "stderr",
     "output_type": "stream",
     "text": [
      "\u001b[2m\u001b[36m(train_velovgi pid=25135)\u001b[0m OMP: Info #276: omp_set_nested routine deprecated, please use omp_set_max_active_levels instead.\n"
     ]
    },
    {
     "name": "stdout",
     "output_type": "stream",
     "text": [
      "\u001b[2m\u001b[36m(train_velovgi pid=25135)\u001b[0m smoothing...\n",
      "\u001b[2m\u001b[36m(train_velovgi pid=25135)\u001b[0m WARNING: The neighbor graph has an unexpected format (e.g. computed outside scvelo) \n",
      "\u001b[2m\u001b[36m(train_velovgi pid=25135)\u001b[0m or is corrupted (e.g. due to subsetting). Consider recomputing with `pp.neighbors`.\n",
      "\u001b[2m\u001b[36m(train_velovgi pid=25135)\u001b[0m computing moments based on connectivities\n",
      "\u001b[2m\u001b[36m(train_velovgi pid=25135)\u001b[0m     finished (0:00:00) --> added \n",
      "\u001b[2m\u001b[36m(train_velovgi pid=25135)\u001b[0m     'Ms' and 'Mu', moments of un/spliced abundances (adata.layers)\n",
      "\u001b[2m\u001b[36m(train_velovgi pid=25135)\u001b[0m 初始训练，初始化runner参数\n",
      "\u001b[2m\u001b[36m(train_velovgi pid=25135)\u001b[0m choosing neighbor minibatch\n",
      "Epoch 1/50:   0%|          | 0/50 [00:00<?, ?it/s]\n"
     ]
    },
    {
     "name": "stderr",
     "output_type": "stream",
     "text": [
      "\u001b[2m\u001b[36m(train_velovgi pid=25135)\u001b[0m GPU available: False, used: False\n",
      "\u001b[2m\u001b[36m(train_velovgi pid=25135)\u001b[0m TPU available: False, using: 0 TPU cores\n",
      "\u001b[2m\u001b[36m(train_velovgi pid=25135)\u001b[0m IPU available: False, using: 0 IPUs\n",
      "\u001b[2m\u001b[36m(train_velovgi pid=25135)\u001b[0m HPU available: False, using: 0 HPUs\n",
      "\u001b[2m\u001b[36m(train_velovgi pid=25135)\u001b[0m Missing logger folder: ./log/n_bnn_neighbors_15,n_knn_neighbors_15\n"
     ]
    },
    {
     "name": "stdout",
     "output_type": "stream",
     "text": [
      "Epoch 1/50:   2%|▏         | 1/50 [00:01<01:12,  1.48s/it, loss=1.96e+06, v_num=0]\n",
      "Epoch 2/50:   2%|▏         | 1/50 [00:01<01:12,  1.48s/it, loss=1.96e+06, v_num=0]\n",
      "Epoch 2/50:   4%|▍         | 2/50 [00:02<01:08,  1.43s/it, loss=1.96e+06, v_num=0]\n",
      "Epoch 3/50:   4%|▍         | 2/50 [00:02<01:08,  1.43s/it, loss=1.96e+06, v_num=0]\n"
     ]
    },
    {
     "name": "stderr",
     "output_type": "stream",
     "text": [
      "\u001b[2m\u001b[36m(pid=25257)\u001b[0m Global seed set to 0\n"
     ]
    },
    {
     "name": "stdout",
     "output_type": "stream",
     "text": [
      "Epoch 4/50:   6%|▌         | 3/50 [00:04<01:07,  1.43s/it, loss=1.95e+06, v_num=0]\n",
      "Epoch 4/50:   8%|▊         | 4/50 [00:05<01:00,  1.33s/it, loss=1.94e+06, v_num=0]\n",
      "Epoch 5/50:   8%|▊         | 4/50 [00:05<01:00,  1.33s/it, loss=1.94e+06, v_num=0]\n"
     ]
    },
    {
     "name": "stderr",
     "output_type": "stream",
     "text": [
      "\u001b[2m\u001b[36m(pid=25257)\u001b[0m /usr/local/conda/envs/velovi-env/lib/python3.8/site-packages/pytorch_lightning/utilities/warnings.py:53: LightningDeprecationWarning: pytorch_lightning.utilities.warnings.rank_zero_deprecation has been deprecated in v1.6 and will be removed in v1.8. Use the equivalent function from the pytorch_lightning.utilities.rank_zero module instead.\n",
      "\u001b[2m\u001b[36m(pid=25257)\u001b[0m   new_rank_zero_deprecation(\n",
      "\u001b[2m\u001b[36m(pid=25257)\u001b[0m /usr/local/conda/envs/velovi-env/lib/python3.8/site-packages/pytorch_lightning/utilities/warnings.py:58: LightningDeprecationWarning: The `pytorch_lightning.loggers.base.rank_zero_experiment` is deprecated in v1.7 and will be removed in v1.9. Please use `pytorch_lightning.loggers.logger.rank_zero_experiment` instead.\n",
      "\u001b[2m\u001b[36m(pid=25257)\u001b[0m   return new_rank_zero_deprecation(*args, **kwargs)\n"
     ]
    },
    {
     "name": "stdout",
     "output_type": "stream",
     "text": [
      "Epoch 5/50:  10%|█         | 5/50 [00:06<00:58,  1.29s/it, loss=1.94e+06, v_num=0]\n",
      "Epoch 6/50:  10%|█         | 5/50 [00:06<00:58,  1.29s/it, loss=1.94e+06, v_num=0]\n",
      "Epoch 6/50:  12%|█▏        | 6/50 [00:08<01:02,  1.41s/it, loss=1.93e+06, v_num=0]\n",
      "\u001b[2m\u001b[36m(train_velovgi pid=25257)\u001b[0m Filtered out 51490 genes that are detected 20 counts (shared).\n",
      "\u001b[2m\u001b[36m(train_velovgi pid=25257)\u001b[0m Normalized count data: X, spliced, unspliced.\n",
      "Epoch 7/50:  12%|█▏        | 6/50 [00:08<01:02,  1.41s/it, loss=1.93e+06, v_num=0]\n",
      "\u001b[2m\u001b[36m(train_velovgi pid=25257)\u001b[0m Extracted 2000 highly variable genes.\n",
      "\u001b[2m\u001b[36m(train_velovgi pid=25257)\u001b[0m Logarithmized X.\n",
      "\u001b[2m\u001b[36m(train_velovgi pid=25257)\u001b[0m calculating knn and bnn mask...\n",
      "\u001b[2m\u001b[36m(train_velovgi pid=25257)\u001b[0m pair_list : [['E7.0', 'E7.25'], ['E7.25', 'E7.5'], ['E7.5', 'E7.75'], ['E7.75', 'E8.0'], ['E8.0', 'E8.25'], ['E8.25', 'E8.5']]\n"
     ]
    },
    {
     "name": "stderr",
     "output_type": "stream",
     "text": [
      "\u001b[2m\u001b[36m(train_velovgi pid=25199)\u001b[0m OMP: Info #276: omp_set_nested routine deprecated, please use omp_set_max_active_levels instead.\n"
     ]
    },
    {
     "name": "stdout",
     "output_type": "stream",
     "text": [
      "Epoch 8/50:  14%|█▍        | 7/50 [00:09<00:59,  1.39s/it, loss=1.93e+06, v_num=0]\n",
      "Epoch 9/50:  16%|█▌        | 8/50 [00:11<00:59,  1.42s/it, loss=1.92e+06, v_num=0]\n",
      "\u001b[2m\u001b[36m(train_velovgi pid=25199)\u001b[0m smoothing...\n",
      "\u001b[2m\u001b[36m(train_velovgi pid=25199)\u001b[0m WARNING: The neighbor graph has an unexpected format (e.g. computed outside scvelo) \n",
      "\u001b[2m\u001b[36m(train_velovgi pid=25199)\u001b[0m or is corrupted (e.g. due to subsetting). Consider recomputing with `pp.neighbors`.\n",
      "\u001b[2m\u001b[36m(train_velovgi pid=25199)\u001b[0m computing moments based on connectivities\n",
      "\u001b[2m\u001b[36m(train_velovgi pid=25199)\u001b[0m     finished (0:00:00) --> added \n",
      "\u001b[2m\u001b[36m(train_velovgi pid=25199)\u001b[0m     'Ms' and 'Mu', moments of un/spliced abundances (adata.layers)\n",
      "\u001b[2m\u001b[36m(train_velovgi pid=25199)\u001b[0m 初始训练，初始化runner参数\n",
      "\u001b[2m\u001b[36m(train_velovgi pid=25199)\u001b[0m choosing neighbor minibatch\n",
      "Epoch 1/50:   0%|          | 0/50 [00:00<?, ?it/s]\n"
     ]
    },
    {
     "name": "stderr",
     "output_type": "stream",
     "text": [
      "\u001b[2m\u001b[36m(train_velovgi pid=25199)\u001b[0m GPU available: False, used: False\n",
      "\u001b[2m\u001b[36m(train_velovgi pid=25199)\u001b[0m TPU available: False, using: 0 TPU cores\n",
      "\u001b[2m\u001b[36m(train_velovgi pid=25199)\u001b[0m IPU available: False, using: 0 IPUs\n",
      "\u001b[2m\u001b[36m(train_velovgi pid=25199)\u001b[0m HPU available: False, using: 0 HPUs\n",
      "\u001b[2m\u001b[36m(train_velovgi pid=25199)\u001b[0m Missing logger folder: ./log/n_bnn_neighbors_45,n_knn_neighbors_15\n"
     ]
    },
    {
     "name": "stdout",
     "output_type": "stream",
     "text": [
      "Epoch 9/50:  18%|█▊        | 9/50 [00:12<00:59,  1.45s/it, loss=1.91e+06, v_num=0]\n",
      "Epoch 10/50:  18%|█▊        | 9/50 [00:12<00:59,  1.45s/it, loss=1.91e+06, v_num=0]\n",
      "Epoch 10/50:  20%|██        | 10/50 [00:14<01:03,  1.59s/it, loss=1.91e+06, v_num=0]\n",
      "Epoch 11/50:  20%|██        | 10/50 [00:15<01:03,  1.59s/it, loss=1.91e+06, v_num=0]\n",
      "Epoch 3/50:   4%|▍         | 2/50 [00:04<01:34,  1.97s/it, loss=1.94e+06, v_num=0]\n"
     ]
    },
    {
     "name": "stderr",
     "output_type": "stream",
     "text": [
      "\u001b[2m\u001b[36m(pid=25350)\u001b[0m Global seed set to 0\n"
     ]
    },
    {
     "name": "stdout",
     "output_type": "stream",
     "text": [
      "Epoch 12/50:  22%|██▏       | 11/50 [00:16<01:10,  1.81s/it, loss=1.9e+06, v_num=0]\u001b[32m [repeated 2x across cluster] (Ray deduplicates logs by default. Set RAY_DEDUP_LOGS=0 to disable log deduplication, or see https://docs.ray.io/en/master/ray-observability/ray-logging.html#log-deduplication for more options.)\u001b[0m\n"
     ]
    },
    {
     "name": "stderr",
     "output_type": "stream",
     "text": [
      "\u001b[2m\u001b[36m(pid=25350)\u001b[0m /usr/local/conda/envs/velovi-env/lib/python3.8/site-packages/pytorch_lightning/utilities/warnings.py:53: LightningDeprecationWarning: pytorch_lightning.utilities.warnings.rank_zero_deprecation has been deprecated in v1.6 and will be removed in v1.8. Use the equivalent function from the pytorch_lightning.utilities.rank_zero module instead.\n",
      "\u001b[2m\u001b[36m(pid=25350)\u001b[0m   new_rank_zero_deprecation(\n",
      "\u001b[2m\u001b[36m(pid=25350)\u001b[0m /usr/local/conda/envs/velovi-env/lib/python3.8/site-packages/pytorch_lightning/utilities/warnings.py:58: LightningDeprecationWarning: The `pytorch_lightning.loggers.base.rank_zero_experiment` is deprecated in v1.7 and will be removed in v1.9. Please use `pytorch_lightning.loggers.logger.rank_zero_experiment` instead.\n",
      "\u001b[2m\u001b[36m(pid=25350)\u001b[0m   return new_rank_zero_deprecation(*args, **kwargs)\n"
     ]
    },
    {
     "name": "stdout",
     "output_type": "stream",
     "text": [
      "Epoch 4/50:   8%|▊         | 4/50 [00:08<01:34,  2.05s/it, loss=1.93e+06, v_num=0]\u001b[32m [repeated 5x across cluster]\u001b[0m\n",
      "\u001b[2m\u001b[36m(train_velovgi pid=25350)\u001b[0m Filtered out 51490 genes that are detected 20 counts (shared).\n",
      "\u001b[2m\u001b[36m(train_velovgi pid=25350)\u001b[0m Normalized count data: X, spliced, unspliced.\n",
      "\u001b[2m\u001b[36m(train_velovgi pid=25350)\u001b[0m Extracted 2000 highly variable genes.\n",
      "\u001b[2m\u001b[36m(train_velovgi pid=25350)\u001b[0m Logarithmized X.\n",
      "\u001b[2m\u001b[36m(train_velovgi pid=25350)\u001b[0m calculating knn and bnn mask...\n",
      "\u001b[2m\u001b[36m(train_velovgi pid=25350)\u001b[0m pair_list : [['E7.0', 'E7.25'], ['E7.25', 'E7.5'], ['E7.5', 'E7.75'], ['E7.75', 'E8.0'], ['E8.0', 'E8.25'], ['E8.25', 'E8.5']]\n"
     ]
    },
    {
     "name": "stderr",
     "output_type": "stream",
     "text": [
      "\u001b[2m\u001b[36m(train_velovgi pid=25257)\u001b[0m OMP: Info #276: omp_set_nested routine deprecated, please use omp_set_max_active_levels instead.\n"
     ]
    },
    {
     "name": "stdout",
     "output_type": "stream",
     "text": [
      "Epoch 6/50:  10%|█         | 5/50 [00:10<01:29,  1.99s/it, loss=1.93e+06, v_num=0]\u001b[32m [repeated 4x across cluster]\u001b[0m\n",
      "\u001b[2m\u001b[36m(train_velovgi pid=25257)\u001b[0m smoothing...\n",
      "\u001b[2m\u001b[36m(train_velovgi pid=25257)\u001b[0m WARNING: The neighbor graph has an unexpected format (e.g. computed outside scvelo) \n",
      "\u001b[2m\u001b[36m(train_velovgi pid=25257)\u001b[0m or is corrupted (e.g. due to subsetting). Consider recomputing with `pp.neighbors`.\n",
      "\u001b[2m\u001b[36m(train_velovgi pid=25257)\u001b[0m computing moments based on connectivities\n",
      "Epoch 14/50:  28%|██▊       | 14/50 [00:23<01:16,  2.14s/it, loss=1.88e+06, v_num=0]\u001b[32m [repeated 2x across cluster]\u001b[0m\n",
      "\u001b[2m\u001b[36m(train_velovgi pid=25257)\u001b[0m     finished (0:00:00) --> added \n",
      "\u001b[2m\u001b[36m(train_velovgi pid=25257)\u001b[0m     'Ms' and 'Mu', moments of un/spliced abundances (adata.layers)\n",
      "\u001b[2m\u001b[36m(train_velovgi pid=25257)\u001b[0m 初始训练，初始化runner参数\n",
      "\u001b[2m\u001b[36m(train_velovgi pid=25257)\u001b[0m choosing neighbor minibatch\n",
      "Epoch 16/50:  30%|███       | 15/50 [00:26<01:16,  2.19s/it, loss=1.88e+06, v_num=0]\u001b[32m [repeated 2x across cluster]\u001b[0m\n"
     ]
    },
    {
     "name": "stdout",
     "output_type": "stream",
     "text": [
      "Epoch 8/50:  14%|█▍        | 7/50 [00:14<01:28,  2.06s/it, loss=1.91e+06, v_num=0]\u001b[32m [repeated 2x across cluster]\u001b[0m\n",
      "Epoch 16/50:  32%|███▏      | 16/50 [00:28<01:20,  2.38s/it, loss=1.87e+06, v_num=0]\u001b[32m [repeated 2x across cluster]\u001b[0m\n",
      "Epoch 2/50:   2%|▏         | 1/50 [00:04<03:26,  4.22s/it, loss=1.89e+06, v_num=0]\u001b[32m [repeated 2x across cluster]\u001b[0m\n"
     ]
    },
    {
     "name": "stderr",
     "output_type": "stream",
     "text": [
      "2023-06-03 23:41:03,368\tERROR trial_runner.py:1450 -- Trial train_velovgi_ee0b1_00003: Error happened when processing _ExecutorEventType.TRAINING_RESULT.\n",
      "ray.tune.error._TuneNoNextExecutorEventError: Traceback (most recent call last):\n",
      "  File \"/usr/local/conda/envs/velovi-env/lib/python3.8/site-packages/ray/tune/execution/ray_trial_executor.py\", line 1231, in get_next_executor_event\n",
      "    future_result = ray.get(ready_future)\n",
      "  File \"/usr/local/conda/envs/velovi-env/lib/python3.8/site-packages/ray/_private/client_mode_hook.py\", line 105, in wrapper\n",
      "    return func(*args, **kwargs)\n",
      "  File \"/usr/local/conda/envs/velovi-env/lib/python3.8/site-packages/ray/_private/worker.py\", line 2523, in get\n",
      "    raise value\n",
      "ray.exceptions.OutOfMemoryError: Task was killed due to the node running low on memory.\n",
      "Memory on the node (IP: 172.24.199.116, ID: 2dfdba42a28fe9d17bbfb37d7aba897717420052661643c79e1b9214) where the task (actor ID: 9d1379104de1f40573f83dcc01000000, name=ImplicitFunc.__init__, pid=25350, memory used=0.51GB) was running was 11.79GB / 12.39GB (0.951635), which exceeds the memory usage threshold of 0.95. Ray killed this worker (ID: 246228dd4a9fcd6b35d7a4c9ea652467a5d7d0758fd25c593f0aae45) because it was the most recently scheduled task; to see more information about memory usage on this node, use `ray logs raylet.out -ip 172.24.199.116`. To see the logs of the worker, use `ray logs worker-246228dd4a9fcd6b35d7a4c9ea652467a5d7d0758fd25c593f0aae45*out -ip 172.24.199.116. Top 10 memory users:\n",
      "PID\tMEM(GB)\tCOMMAND\n",
      "326\t3.85\t/usr/local/conda/envs/velovi-env/bin/python -m ipykernel_launcher --ip=127.0.0.1 --stdin=9011 --cont...\n",
      "25257\t1.26\tray::ImplicitFunc.train\n",
      "25199\t1.05\tray::ImplicitFunc.train\n",
      "25135\t0.94\tray::ImplicitFunc.train\n",
      "279\t0.84\t/root/.vscode-server/bin/b3e4e68a0bc097f0ae7907b217c1119af9e03435/node /root/.vscode-server/extensio...\n",
      "24282\t0.69\t/usr/local/conda/envs/velovi-env/bin/python -m ipykernel_launcher --ip=127.0.0.1 --stdin=9018 --cont...\n",
      "324\t0.53\t/usr/local/conda/envs/velovi-env/bin/python -m ipykernel_launcher --ip=127.0.0.1 --stdin=9003 --cont...\n",
      "25350\t0.51\tray::ImplicitFunc.train\n",
      "4752\t0.37\t/usr/local/conda/envs/velovi-env/bin/python -m ipykernel_launcher --ip=127.0.0.1 --stdin=9008 --cont...\n",
      "132\t0.26\t/root/.vscode-server/bin/b3e4e68a0bc097f0ae7907b217c1119af9e03435/node /root/.vscode-server/bin/b3e4...\n",
      "Refer to the documentation on how to address the out of memory issue: https://docs.ray.io/en/latest/ray-core/scheduling/ray-oom-prevention.html. Consider provisioning more memory on this node or reducing task parallelism by requesting more CPUs per task. Set max_restarts and max_task_retries to enable retry when the task crashes due to OOM. To adjust the kill threshold, set the environment variable `RAY_memory_usage_threshold` when starting Ray. To disable worker killing, set the environment variable `RAY_memory_monitor_refresh_ms` to zero.\n",
      "\n"
     ]
    },
    {
     "data": {
      "text/html": [
       "<div class=\"trialProgress\">\n",
       "  <h3>Trial Progress</h3>\n",
       "  <table>\n",
       "<thead>\n",
       "<tr><th>Trial name               </th><th>date               </th><th>hostname       </th><th>node_ip       </th><th style=\"text-align: right;\">  pid</th><th style=\"text-align: right;\">  timestamp</th><th>trial_id   </th></tr>\n",
       "</thead>\n",
       "<tbody>\n",
       "<tr><td>train_velovgi_ee0b1_00003</td><td>2023-06-03_23-40-52</td><td>DESKTOP-9GVJMSD</td><td>172.24.199.116</td><td style=\"text-align: right;\">25350</td><td style=\"text-align: right;\"> 1685806852</td><td>ee0b1_00003</td></tr>\n",
       "</tbody>\n",
       "</table>\n",
       "</div>\n",
       "<style>\n",
       ".trialProgress {\n",
       "  display: flex;\n",
       "  flex-direction: column;\n",
       "  color: var(--jp-ui-font-color1);\n",
       "}\n",
       ".trialProgress h3 {\n",
       "  font-weight: bold;\n",
       "}\n",
       ".trialProgress td {\n",
       "  white-space: nowrap;\n",
       "}\n",
       "</style>\n"
      ],
      "text/plain": [
       "<IPython.core.display.HTML object>"
      ]
     },
     "metadata": {},
     "output_type": "display_data"
    },
    {
     "name": "stderr",
     "output_type": "stream",
     "text": [
      "2023-06-03 23:41:03,489\tERROR ray_trial_executor.py:883 -- An exception occurred when trying to stop the Ray actor:Traceback (most recent call last):\n",
      "  File \"/usr/local/conda/envs/velovi-env/lib/python3.8/site-packages/ray/tune/execution/ray_trial_executor.py\", line 874, in _resolve_stop_event\n",
      "    ray.get(future, timeout=timeout)\n",
      "  File \"/usr/local/conda/envs/velovi-env/lib/python3.8/site-packages/ray/_private/client_mode_hook.py\", line 105, in wrapper\n",
      "    return func(*args, **kwargs)\n",
      "  File \"/usr/local/conda/envs/velovi-env/lib/python3.8/site-packages/ray/_private/worker.py\", line 2523, in get\n",
      "    raise value\n",
      "ray.exceptions.OutOfMemoryError: Task was killed due to the node running low on memory.\n",
      "Memory on the node (IP: 172.24.199.116, ID: 2dfdba42a28fe9d17bbfb37d7aba897717420052661643c79e1b9214) where the task (actor ID: 9d1379104de1f40573f83dcc01000000, name=ImplicitFunc.__init__, pid=25350, memory used=0.51GB) was running was 11.79GB / 12.39GB (0.951635), which exceeds the memory usage threshold of 0.95. Ray killed this worker (ID: 246228dd4a9fcd6b35d7a4c9ea652467a5d7d0758fd25c593f0aae45) because it was the most recently scheduled task; to see more information about memory usage on this node, use `ray logs raylet.out -ip 172.24.199.116`. To see the logs of the worker, use `ray logs worker-246228dd4a9fcd6b35d7a4c9ea652467a5d7d0758fd25c593f0aae45*out -ip 172.24.199.116. Top 10 memory users:\n",
      "PID\tMEM(GB)\tCOMMAND\n",
      "326\t3.85\t/usr/local/conda/envs/velovi-env/bin/python -m ipykernel_launcher --ip=127.0.0.1 --stdin=9011 --cont...\n",
      "25257\t1.26\tray::ImplicitFunc.train\n",
      "25199\t1.05\tray::ImplicitFunc.train\n",
      "25135\t0.94\tray::ImplicitFunc.train\n",
      "279\t0.84\t/root/.vscode-server/bin/b3e4e68a0bc097f0ae7907b217c1119af9e03435/node /root/.vscode-server/extensio...\n",
      "24282\t0.69\t/usr/local/conda/envs/velovi-env/bin/python -m ipykernel_launcher --ip=127.0.0.1 --stdin=9018 --cont...\n",
      "324\t0.53\t/usr/local/conda/envs/velovi-env/bin/python -m ipykernel_launcher --ip=127.0.0.1 --stdin=9003 --cont...\n",
      "25350\t0.51\tray::ImplicitFunc.train\n",
      "4752\t0.37\t/usr/local/conda/envs/velovi-env/bin/python -m ipykernel_launcher --ip=127.0.0.1 --stdin=9008 --cont...\n",
      "132\t0.26\t/root/.vscode-server/bin/b3e4e68a0bc097f0ae7907b217c1119af9e03435/node /root/.vscode-server/bin/b3e4...\n",
      "Refer to the documentation on how to address the out of memory issue: https://docs.ray.io/en/latest/ray-core/scheduling/ray-oom-prevention.html. Consider provisioning more memory on this node or reducing task parallelism by requesting more CPUs per task. Set max_restarts and max_task_retries to enable retry when the task crashes due to OOM. To adjust the kill threshold, set the environment variable `RAY_memory_usage_threshold` when starting Ray. To disable worker killing, set the environment variable `RAY_memory_monitor_refresh_ms` to zero.\n",
      "\n"
     ]
    },
    {
     "name": "stdout",
     "output_type": "stream",
     "text": [
      "Epoch 18/50:  34%|███▍      | 17/50 [00:31<01:21,  2.48s/it, loss=1.87e+06, v_num=0]\u001b[32m [repeated 2x across cluster]\u001b[0m\n",
      "Epoch 11/50:  22%|██▏       | 11/50 [00:25<01:44,  2.67s/it, loss=1.89e+06, v_num=0]\u001b[32m [repeated 3x across cluster]\u001b[0m\n",
      "Epoch 3/50:   4%|▍         | 2/50 [00:08<03:11,  4.00s/it, loss=1.88e+06, v_num=0]\u001b[32m [repeated 3x across cluster]\u001b[0m\n",
      "Epoch 4/50:   6%|▌         | 3/50 [00:11<02:54,  3.71s/it, loss=1.87e+06, v_num=0]\u001b[32m [repeated 3x across cluster]\u001b[0m\n"
     ]
    },
    {
     "name": "stderr",
     "output_type": "stream",
     "text": [
      "\u001b[2m\u001b[33m(raylet)\u001b[0m [2023-06-03 23:41:10,847 E 24460 24460] (raylet) node_manager.cc:3071: 5 Workers (tasks / actors) killed due to memory pressure (OOM), 0 Workers crashed due to other reasons at node (ID: 2dfdba42a28fe9d17bbfb37d7aba897717420052661643c79e1b9214, IP: 172.24.199.116) over the last time period. To see more information about the Workers killed on this node, use `ray logs raylet.out -ip 172.24.199.116`\n",
      "\u001b[2m\u001b[33m(raylet)\u001b[0m \n",
      "\u001b[2m\u001b[33m(raylet)\u001b[0m Refer to the documentation on how to address the out of memory issue: https://docs.ray.io/en/latest/ray-core/scheduling/ray-oom-prevention.html. Consider provisioning more memory on this node or reducing task parallelism by requesting more CPUs per task. To adjust the kill threshold, set the environment variable `RAY_memory_usage_threshold` when starting Ray. To disable worker killing, set the environment variable `RAY_memory_monitor_refresh_ms` to zero.\n"
     ]
    },
    {
     "name": "stdout",
     "output_type": "stream",
     "text": [
      "Epoch 13/50:  26%|██▌       | 13/50 [00:31<01:40,  2.71s/it, loss=1.88e+06, v_num=0]\u001b[32m [repeated 3x across cluster]\u001b[0m\n",
      "Epoch 5/50:   8%|▊         | 4/50 [00:13<02:26,  3.19s/it, loss=1.87e+06, v_num=0]\u001b[32m [repeated 3x across cluster]\u001b[0m\n",
      "Epoch 22/50:  42%|████▏     | 21/50 [00:44<01:22,  2.85s/it, loss=1.84e+06, v_num=0]\u001b[32m [repeated 4x across cluster]\u001b[0m\n",
      "Epoch 15/50:  30%|███       | 15/50 [00:36<01:32,  2.64s/it, loss=1.87e+06, v_num=0]\u001b[32m [repeated 6x across cluster]\u001b[0m\n",
      "Epoch 8/50:  14%|█▍        | 7/50 [00:21<02:00,  2.79s/it, loss=1.85e+06, v_num=0]\n",
      "Epoch 17/50:  32%|███▏      | 16/50 [00:38<01:26,  2.54s/it, loss=1.86e+06, v_num=0]\u001b[32m [repeated 5x across cluster]\u001b[0m\n",
      "Epoch 9/50:  18%|█▊        | 9/50 [00:26<01:40,  2.45s/it, loss=1.84e+06, v_num=0]\u001b[32m [repeated 4x across cluster]\u001b[0m\n",
      "Epoch 26/50:  50%|█████     | 25/50 [00:55<01:11,  2.87s/it, loss=1.79e+06, v_num=0]\u001b[32m [repeated 3x across cluster]\u001b[0m\n",
      "Epoch 11/50:  20%|██        | 10/50 [00:29<01:41,  2.55s/it, loss=1.83e+06, v_num=0]\u001b[32m [repeated 4x across cluster]\u001b[0m\n",
      "Epoch 19/50:  38%|███▊      | 19/50 [00:46<01:22,  2.68s/it, loss=1.85e+06, v_num=0]\u001b[32m [repeated 3x across cluster]\u001b[0m\n",
      "Epoch 21/50:  40%|████      | 20/50 [00:49<01:20,  2.67s/it, loss=1.84e+06, v_num=0]\u001b[32m [repeated 3x across cluster]\u001b[0m\n",
      "Epoch 13/50:  24%|██▍       | 12/50 [00:35<01:50,  2.92s/it, loss=1.82e+06, v_num=0]\u001b[32m [repeated 6x across cluster]\u001b[0m\n",
      "Epoch 21/50:  42%|████▏     | 21/50 [00:52<01:21,  2.80s/it, loss=1.83e+06, v_num=0]\u001b[32m [repeated 2x across cluster]\u001b[0m\n",
      "Epoch 23/50:  44%|████▍     | 22/50 [00:55<01:21,  2.91s/it, loss=1.82e+06, v_num=0]\u001b[32m [repeated 4x across cluster]\u001b[0m\n",
      "Epoch 29/50:  58%|█████▊    | 29/50 [01:09<01:13,  3.49s/it, loss=1.75e+06, v_num=0]\u001b[32m [repeated 4x across cluster]\u001b[0m\n",
      "Epoch 24/50:  46%|████▌     | 23/50 [00:58<01:21,  3.02s/it, loss=1.81e+06, v_num=0]\n",
      "Epoch 31/50:  60%|██████    | 30/50 [01:12<01:05,  3.26s/it, loss=1.74e+06, v_num=0]\u001b[32m [repeated 3x across cluster]\u001b[0m\n",
      "Epoch 31/50:  62%|██████▏   | 31/50 [01:15<00:59,  3.12s/it, loss=1.73e+06, v_num=0]\u001b[32m [repeated 3x across cluster]\u001b[0m\n",
      "Epoch 25/50:  48%|████▊     | 24/50 [01:01<01:14,  2.85s/it, loss=1.8e+06, v_num=0]\u001b[32m [repeated 2x across cluster]\u001b[0m\n",
      "Epoch 27/50:  52%|█████▏    | 26/50 [01:06<01:04,  2.69s/it, loss=1.77e+06, v_num=0]\u001b[32m [repeated 6x across cluster]\u001b[0m\n",
      "Epoch 26/50:  52%|█████▏    | 26/50 [01:06<01:04,  2.69s/it, loss=1.77e+06, v_num=0]\u001b[32m [repeated 5x across cluster]\u001b[0m\n",
      "Epoch 28/50:  54%|█████▍    | 27/50 [01:09<01:02,  2.70s/it, loss=1.76e+06, v_num=0]\u001b[32m [repeated 3x across cluster]\u001b[0m\n",
      "Epoch 21/50:  40%|████      | 20/50 [00:58<01:18,  2.60s/it, loss=1.78e+06, v_num=0]\u001b[32m [repeated 3x across cluster]\u001b[0m\n",
      "Epoch 29/50:  58%|█████▊    | 29/50 [01:13<00:53,  2.53s/it, loss=1.74e+06, v_num=0]\u001b[32m [repeated 4x across cluster]\u001b[0m\n",
      "Epoch 36/50:  70%|███████   | 35/50 [01:26<00:43,  2.87s/it, loss=1.69e+06, v_num=0]\u001b[32m [repeated 2x across cluster]\u001b[0m\n",
      "Epoch 22/50:  42%|████▏     | 21/50 [01:01<01:18,  2.70s/it, loss=1.77e+06, v_num=0]\u001b[32m [repeated 2x across cluster]\u001b[0m\n",
      "Epoch 32/50:  62%|██████▏   | 31/50 [01:18<00:47,  2.52s/it, loss=1.72e+06, v_num=0]\n",
      "Epoch 22/50:  44%|████▍     | 22/50 [01:04<01:15,  2.68s/it, loss=1.76e+06, v_num=0]\n",
      "Epoch 33/50:  64%|██████▍   | 32/50 [01:20<00:43,  2.41s/it, loss=1.71e+06, v_num=0]\u001b[32m [repeated 4x across cluster]\u001b[0m\n",
      "Epoch 34/50:  66%|██████▌   | 33/50 [01:23<00:40,  2.40s/it, loss=1.7e+06, v_num=0]\u001b[32m [repeated 5x across cluster]\u001b[0m\n",
      "Epoch 24/50:  48%|████▊     | 24/50 [01:09<01:08,  2.63s/it, loss=1.73e+06, v_num=0]\u001b[32m [repeated 5x across cluster]\u001b[0m\n",
      "Epoch 35/50:  68%|██████▊   | 34/50 [01:25<00:37,  2.32s/it, loss=1.69e+06, v_num=0]\u001b[32m [repeated 2x across cluster]\u001b[0m\n",
      "Epoch 36/50:  70%|███████   | 35/50 [01:28<00:36,  2.42s/it, loss=1.68e+06, v_num=0]\u001b[32m [repeated 4x across cluster]\u001b[0m\n",
      "Epoch 26/50:  52%|█████▏    | 26/50 [01:14<01:02,  2.61s/it, loss=1.71e+06, v_num=0]\u001b[32m [repeated 4x across cluster]\u001b[0m\n",
      "Epoch 43/50:  84%|████████▍ | 42/50 [01:44<00:20,  2.51s/it, loss=1.62e+06, v_num=0]\n",
      "Epoch 38/50:  74%|███████▍  | 37/50 [01:32<00:31,  2.38s/it, loss=1.66e+06, v_num=0]\u001b[32m [repeated 5x across cluster]\u001b[0m\n",
      "Epoch 28/50:  56%|█████▌    | 28/50 [01:19<00:57,  2.60s/it, loss=1.69e+06, v_num=0]\u001b[32m [repeated 5x across cluster]\u001b[0m\n",
      "Epoch 44/50:  86%|████████▌ | 43/50 [01:47<00:18,  2.70s/it, loss=1.61e+06, v_num=0]\n",
      "Epoch 40/50:  78%|███████▊  | 39/50 [01:38<00:28,  2.56s/it, loss=1.64e+06, v_num=0]\n",
      "Epoch 45/50:  88%|████████▊ | 44/50 [01:49<00:15,  2.66s/it, loss=1.6e+06, v_num=0]\u001b[32m [repeated 4x across cluster]\u001b[0m\n",
      "Epoch 44/50:  88%|████████▊ | 44/50 [01:49<00:15,  2.66s/it, loss=1.6e+06, v_num=0] \u001b[32m [repeated 3x across cluster]\u001b[0m\n",
      "Epoch 47/50:  92%|█████████▏| 46/50 [01:54<00:10,  2.59s/it, loss=1.58e+06, v_num=0]\n",
      "Epoch 32/50:  64%|██████▍   | 32/50 [01:29<00:46,  2.60s/it, loss=1.65e+06, v_num=0]\n",
      "Epoch 42/50:  82%|████████▏ | 41/50 [01:43<00:22,  2.46s/it, loss=1.62e+06, v_num=0]\u001b[32m [repeated 4x across cluster]\u001b[0m\n",
      "Epoch 32/50:  64%|██████▍   | 32/50 [01:29<00:46,  2.60s/it, loss=1.65e+06, v_num=0]\u001b[32m [repeated 5x across cluster]\u001b[0m\n",
      "Epoch 47/50:  94%|█████████▍| 47/50 [01:57<00:07,  2.54s/it, loss=1.57e+06, v_num=0]\n",
      "Epoch 48/50:  94%|█████████▍| 47/50 [01:57<00:07,  2.54s/it, loss=1.57e+06, v_num=0]\n",
      "Epoch 43/50:  84%|████████▍ | 42/50 [01:46<00:20,  2.56s/it, loss=1.61e+06, v_num=0]\n",
      "Epoch 49/50:  96%|█████████▌| 48/50 [02:00<00:05,  2.65s/it, loss=1.56e+06, v_num=0]\n",
      "Epoch 44/50:  86%|████████▌ | 43/50 [01:48<00:18,  2.59s/it, loss=1.6e+06, v_num=0]\u001b[32m [repeated 3x across cluster]\u001b[0m\n",
      "Epoch 34/50:  68%|██████▊   | 34/50 [01:35<00:44,  2.78s/it, loss=1.63e+06, v_num=0]\u001b[32m [repeated 3x across cluster]\u001b[0m\n",
      "Epoch 49/50:  98%|█████████▊| 49/50 [02:03<00:02,  2.70s/it, loss=1.55e+06, v_num=0]\n",
      "Epoch 50/50:  98%|█████████▊| 49/50 [02:03<00:02,  2.70s/it, loss=1.55e+06, v_num=0]\n",
      "Epoch 50/50: 100%|██████████| 50/50 [02:05<00:00,  2.69s/it, loss=1.54e+06, v_num=0]\n",
      "Epoch 50/50: 100%|██████████| 50/50 [02:05<00:00,  2.52s/it, loss=1.54e+06, v_num=0]\n"
     ]
    },
    {
     "name": "stderr",
     "output_type": "stream",
     "text": [
      "\u001b[2m\u001b[36m(train_velovgi pid=25135)\u001b[0m `Trainer.fit` stopped: `max_epochs=50` reached.\n"
     ]
    }
   ],
   "source": [
    "from ray.tune.schedulers import ASHAScheduler\n",
    "\n",
    "name = \"test_experiment\"\n",
    "\n",
    "tuner = tune.Tuner(\n",
    "    train_velovgi,\n",
    "    tune_config=tune.TuneConfig(\n",
    "        metric=\"CBDir\",\n",
    "        mode=\"max\",\n",
    "        scheduler=ASHAScheduler()\n",
    "    ),\n",
    "    run_config=air.RunConfig(\n",
    "        local_dir=\"./results\", # Trail内部具体输出结果在这里保存\n",
    "        name=name # 开启调参的Tensorboard日志\n",
    "    ),\n",
    "    param_space=search_space,\n",
    ")\n",
    "\n",
    "results = tuner.fit()"
   ]
  },
  {
   "attachments": {},
   "cell_type": "markdown",
   "metadata": {},
   "source": [
    "4. 查看训练日志与最优结果: tensorboard --logdir"
   ]
  },
  {
   "cell_type": "code",
   "execution_count": null,
   "metadata": {},
   "outputs": [
    {
     "name": "stderr",
     "output_type": "stream",
     "text": [
      "2023-06-03 21:51:18,641\tWARNING experiment_analysis.py:644 -- Could not find best trial. Did you pass the correct `metric` parameter?\n"
     ]
    },
    {
     "ename": "RuntimeError",
     "evalue": "No best trial found for the given metric: CBDir. This means that no trial has reported this metric, or all values reported for this metric are NaN. To not ignore NaN values, you can set the `filter_nan_and_inf` arg to False.",
     "output_type": "error",
     "traceback": [
      "\u001b[0;31m---------------------------------------------------------------------------\u001b[0m",
      "\u001b[0;31mRuntimeError\u001b[0m                              Traceback (most recent call last)",
      "Cell \u001b[0;32mIn[9], line 1\u001b[0m\n\u001b[0;32m----> 1\u001b[0m results\u001b[39m.\u001b[39;49mget_best_result()\u001b[39m.\u001b[39mconfig\n",
      "File \u001b[0;32m/usr/local/conda/envs/velovi-env/lib/python3.8/site-packages/ray/tune/result_grid.py:158\u001b[0m, in \u001b[0;36mResultGrid.get_best_result\u001b[0;34m(self, metric, mode, scope, filter_nan_and_inf)\u001b[0m\n\u001b[1;32m    147\u001b[0m     error_msg \u001b[39m=\u001b[39m (\n\u001b[1;32m    148\u001b[0m         \u001b[39m\"\u001b[39m\u001b[39mNo best trial found for the given metric: \u001b[39m\u001b[39m\"\u001b[39m\n\u001b[1;32m    149\u001b[0m         \u001b[39mf\u001b[39m\u001b[39m\"\u001b[39m\u001b[39m{\u001b[39;00mmetric\u001b[39m \u001b[39m\u001b[39mor\u001b[39;00m\u001b[39m \u001b[39m\u001b[39mself\u001b[39m\u001b[39m.\u001b[39m_experiment_analysis\u001b[39m.\u001b[39mdefault_metric\u001b[39m}\u001b[39;00m\u001b[39m. \u001b[39m\u001b[39m\"\u001b[39m\n\u001b[1;32m    150\u001b[0m         \u001b[39m\"\u001b[39m\u001b[39mThis means that no trial has reported this metric\u001b[39m\u001b[39m\"\u001b[39m\n\u001b[1;32m    151\u001b[0m     )\n\u001b[1;32m    152\u001b[0m     error_msg \u001b[39m+\u001b[39m\u001b[39m=\u001b[39m (\n\u001b[1;32m    153\u001b[0m         \u001b[39m\"\u001b[39m\u001b[39m, or all values reported for this metric are NaN. To not ignore NaN \u001b[39m\u001b[39m\"\u001b[39m\n\u001b[1;32m    154\u001b[0m         \u001b[39m\"\u001b[39m\u001b[39mvalues, you can set the `filter_nan_and_inf` arg to False.\u001b[39m\u001b[39m\"\u001b[39m\n\u001b[1;32m    155\u001b[0m         \u001b[39mif\u001b[39;00m filter_nan_and_inf\n\u001b[1;32m    156\u001b[0m         \u001b[39melse\u001b[39;00m \u001b[39m\"\u001b[39m\u001b[39m.\u001b[39m\u001b[39m\"\u001b[39m\n\u001b[1;32m    157\u001b[0m     )\n\u001b[0;32m--> 158\u001b[0m     \u001b[39mraise\u001b[39;00m \u001b[39mRuntimeError\u001b[39;00m(error_msg)\n\u001b[1;32m    160\u001b[0m \u001b[39mreturn\u001b[39;00m \u001b[39mself\u001b[39m\u001b[39m.\u001b[39m_trial_to_result(best_trial)\n",
      "\u001b[0;31mRuntimeError\u001b[0m: No best trial found for the given metric: CBDir. This means that no trial has reported this metric, or all values reported for this metric are NaN. To not ignore NaN values, you can set the `filter_nan_and_inf` arg to False."
     ]
    }
   ],
   "source": [
    "results.get_best_result().config"
   ]
  }
 ],
 "metadata": {
  "kernelspec": {
   "display_name": "velovi-env",
   "language": "python",
   "name": "python3"
  },
  "language_info": {
   "codemirror_mode": {
    "name": "ipython",
    "version": 3
   },
   "file_extension": ".py",
   "mimetype": "text/x-python",
   "name": "python",
   "nbconvert_exporter": "python",
   "pygments_lexer": "ipython3",
   "version": "3.8.15"
  },
  "orig_nbformat": 4
 },
 "nbformat": 4,
 "nbformat_minor": 2
}
