{
 "cells": [
  {
   "cell_type": "code",
   "execution_count": 1,
   "metadata": {},
   "outputs": [
    {
     "name": "stderr",
     "output_type": "stream",
     "text": [
      "Global seed set to 0\n",
      "/usr/local/conda/envs/velovi-env/lib/python3.8/site-packages/pytorch_lightning/utilities/warnings.py:53: LightningDeprecationWarning: pytorch_lightning.utilities.warnings.rank_zero_deprecation has been deprecated in v1.6 and will be removed in v1.8. Use the equivalent function from the pytorch_lightning.utilities.rank_zero module instead.\n",
      "  new_rank_zero_deprecation(\n",
      "/usr/local/conda/envs/velovi-env/lib/python3.8/site-packages/pytorch_lightning/utilities/warnings.py:58: LightningDeprecationWarning: The `pytorch_lightning.loggers.base.rank_zero_experiment` is deprecated in v1.7 and will be removed in v1.9. Please use `pytorch_lightning.loggers.logger.rank_zero_experiment` instead.\n",
      "  return new_rank_zero_deprecation(*args, **kwargs)\n"
     ]
    },
    {
     "name": "stdout",
     "output_type": "stream",
     "text": [
      "load ../../../erythroid_lineage/data/adata//adata.h5ad\n",
      "load ../../../erythroid_lineage/data/adata//sample_recover.pkl\n"
     ]
    }
   ],
   "source": [
    "import base\n",
    "from ray import tune"
   ]
  },
  {
   "cell_type": "code",
   "execution_count": 2,
   "metadata": {},
   "outputs": [
    {
     "name": "stderr",
     "output_type": "stream",
     "text": [
      "2023-06-01 13:33:58,851\tINFO worker.py:1625 -- Started a local Ray instance.\n",
      "2023-06-01 13:34:00,347\tINFO tune.py:218 -- Initializing Ray automatically. For cluster usage or custom Ray initialization, call `ray.init(...)` before `Tuner(...)`.\n",
      "2023-06-01 13:34:00,353\tINFO tensorboardx.py:172 -- pip install \"ray[tune]\" to see TensorBoard files.\n",
      "2023-06-01 13:34:00,354\tWARNING callback.py:142 -- The TensorboardX logger cannot be instantiated because either TensorboardX or one of it's dependencies is not installed. Please make sure you have the latest version of TensorboardX installed: `pip install -U tensorboardx`\n"
     ]
    },
    {
     "data": {
      "text/html": [
       "<div class=\"tuneStatus\">\n",
       "  <div style=\"display: flex;flex-direction: row\">\n",
       "    <div style=\"display: flex;flex-direction: column;\">\n",
       "      <h3>Tune Status</h3>\n",
       "      <table>\n",
       "<tbody>\n",
       "<tr><td>Current time:</td><td>2023-06-01 13:35:15</td></tr>\n",
       "<tr><td>Running for: </td><td>00:01:15.19        </td></tr>\n",
       "<tr><td>Memory:      </td><td>5.7/12.4 GiB       </td></tr>\n",
       "</tbody>\n",
       "</table>\n",
       "    </div>\n",
       "    <div class=\"vDivider\"></div>\n",
       "    <div class=\"systemInfo\">\n",
       "      <h3>System Info</h3>\n",
       "      Using AsyncHyperBand: num_stopped=2<br>Bracket: Iter 64.000: None | Iter 16.000: None | Iter 4.000: None | Iter 1.000: 0.3759481177964008<br>Logical resource usage: 0/12 CPUs, 0/0 GPUs\n",
       "    </div>\n",
       "    \n",
       "  </div>\n",
       "  <div class=\"hDivider\"></div>\n",
       "  <div class=\"trialStatus\">\n",
       "    <h3>Trial Status</h3>\n",
       "    <table>\n",
       "<thead>\n",
       "<tr><th>Trial name               </th><th>status    </th><th>loc                </th><th style=\"text-align: right;\">  n_layers</th><th style=\"text-align: right;\">  iter</th><th style=\"text-align: right;\">  total time (s)</th><th style=\"text-align: right;\">    CBDir</th><th style=\"text-align: right;\">  ICVCoh</th></tr>\n",
       "</thead>\n",
       "<tbody>\n",
       "<tr><td>train_velovgi_e9610_00000</td><td>TERMINATED</td><td>172.24.192.172:1585</td><td style=\"text-align: right;\">         1</td><td style=\"text-align: right;\">     1</td><td style=\"text-align: right;\">         51.3473</td><td style=\"text-align: right;\"> 0.477679</td><td style=\"text-align: right;\">0.973853</td></tr>\n",
       "<tr><td>train_velovgi_e9610_00001</td><td>TERMINATED</td><td>172.24.192.172:1653</td><td style=\"text-align: right;\">         2</td><td style=\"text-align: right;\">     1</td><td style=\"text-align: right;\">         53.529 </td><td style=\"text-align: right;\"> 0.274217</td><td style=\"text-align: right;\">0.975651</td></tr>\n",
       "<tr><td>train_velovgi_e9610_00002</td><td>TERMINATED</td><td>172.24.192.172:1725</td><td style=\"text-align: right;\">         3</td><td style=\"text-align: right;\">     1</td><td style=\"text-align: right;\">         54.8984</td><td style=\"text-align: right;\">-0.104881</td><td style=\"text-align: right;\">0.97622 </td></tr>\n",
       "</tbody>\n",
       "</table>\n",
       "  </div>\n",
       "</div>\n",
       "<style>\n",
       ".tuneStatus {\n",
       "  color: var(--jp-ui-font-color1);\n",
       "}\n",
       ".tuneStatus .systemInfo {\n",
       "  display: flex;\n",
       "  flex-direction: column;\n",
       "}\n",
       ".tuneStatus td {\n",
       "  white-space: nowrap;\n",
       "}\n",
       ".tuneStatus .trialStatus {\n",
       "  display: flex;\n",
       "  flex-direction: column;\n",
       "}\n",
       ".tuneStatus h3 {\n",
       "  font-weight: bold;\n",
       "}\n",
       ".tuneStatus .hDivider {\n",
       "  border-bottom-width: var(--jp-border-width);\n",
       "  border-bottom-color: var(--jp-border-color0);\n",
       "  border-bottom-style: solid;\n",
       "}\n",
       ".tuneStatus .vDivider {\n",
       "  border-left-width: var(--jp-border-width);\n",
       "  border-left-color: var(--jp-border-color0);\n",
       "  border-left-style: solid;\n",
       "  margin: 0.5em 1em 0.5em 1em;\n",
       "}\n",
       "</style>\n"
      ],
      "text/plain": [
       "<IPython.core.display.HTML object>"
      ]
     },
     "metadata": {},
     "output_type": "display_data"
    },
    {
     "name": "stderr",
     "output_type": "stream",
     "text": [
      "\u001b[2m\u001b[36m(pid=1585)\u001b[0m Global seed set to 0\n",
      "\u001b[2m\u001b[36m(pid=1585)\u001b[0m /usr/local/conda/envs/velovi-env/lib/python3.8/site-packages/pytorch_lightning/utilities/warnings.py:53: LightningDeprecationWarning: pytorch_lightning.utilities.warnings.rank_zero_deprecation has been deprecated in v1.6 and will be removed in v1.8. Use the equivalent function from the pytorch_lightning.utilities.rank_zero module instead.\n",
      "\u001b[2m\u001b[36m(pid=1585)\u001b[0m   new_rank_zero_deprecation(\n",
      "\u001b[2m\u001b[36m(pid=1585)\u001b[0m /usr/local/conda/envs/velovi-env/lib/python3.8/site-packages/pytorch_lightning/utilities/warnings.py:58: LightningDeprecationWarning: The `pytorch_lightning.loggers.base.rank_zero_experiment` is deprecated in v1.7 and will be removed in v1.9. Please use `pytorch_lightning.loggers.logger.rank_zero_experiment` instead.\n",
      "\u001b[2m\u001b[36m(pid=1585)\u001b[0m   return new_rank_zero_deprecation(*args, **kwargs)\n"
     ]
    },
    {
     "name": "stderr",
     "output_type": "stream",
     "text": [
      "\u001b[2m\u001b[36m(train_velovgi pid=1585)\u001b[0m GPU available: False, used: False\n",
      "\u001b[2m\u001b[36m(train_velovgi pid=1585)\u001b[0m TPU available: False, using: 0 TPU cores\n",
      "\u001b[2m\u001b[36m(train_velovgi pid=1585)\u001b[0m IPU available: False, using: 0 IPUs\n",
      "\u001b[2m\u001b[36m(train_velovgi pid=1585)\u001b[0m HPU available: False, using: 0 HPUs\n",
      "\u001b[2m\u001b[36m(train_velovgi pid=1585)\u001b[0m Missing logger folder: ./log/n_layers_1\n"
     ]
    },
    {
     "name": "stdout",
     "output_type": "stream",
     "text": [
      "Epoch 1/10:   0%|          | 0/10 [00:00<?, ?it/s]\n",
      "Epoch 2/10:  10%|█         | 1/10 [00:01<00:14,  1.57s/it, loss=1.94e+06, v_num=0]\n",
      "Epoch 3/10:  20%|██        | 2/10 [00:03<00:11,  1.47s/it, loss=1.92e+06, v_num=0]\n"
     ]
    },
    {
     "name": "stderr",
     "output_type": "stream",
     "text": [
      "\u001b[2m\u001b[36m(pid=1653)\u001b[0m Global seed set to 0\n",
      "\u001b[2m\u001b[36m(pid=1653)\u001b[0m /usr/local/conda/envs/velovi-env/lib/python3.8/site-packages/pytorch_lightning/utilities/warnings.py:53: LightningDeprecationWarning: pytorch_lightning.utilities.warnings.rank_zero_deprecation has been deprecated in v1.6 and will be removed in v1.8. Use the equivalent function from the pytorch_lightning.utilities.rank_zero module instead.\n",
      "\u001b[2m\u001b[36m(pid=1653)\u001b[0m   new_rank_zero_deprecation(\n",
      "\u001b[2m\u001b[36m(pid=1653)\u001b[0m /usr/local/conda/envs/velovi-env/lib/python3.8/site-packages/pytorch_lightning/utilities/warnings.py:58: LightningDeprecationWarning: The `pytorch_lightning.loggers.base.rank_zero_experiment` is deprecated in v1.7 and will be removed in v1.9. Please use `pytorch_lightning.loggers.logger.rank_zero_experiment` instead.\n",
      "\u001b[2m\u001b[36m(pid=1653)\u001b[0m   return new_rank_zero_deprecation(*args, **kwargs)\n"
     ]
    },
    {
     "name": "stdout",
     "output_type": "stream",
     "text": [
      "Epoch 3/10:  30%|███       | 3/10 [00:04<00:10,  1.50s/it, loss=1.9e+06, v_num=0] \n",
      "Epoch 4/10:  30%|███       | 3/10 [00:04<00:10,  1.50s/it, loss=1.9e+06, v_num=0]\n",
      "Epoch 5/10:  40%|████      | 4/10 [00:06<00:09,  1.52s/it, loss=1.9e+06, v_num=0]\n",
      "\u001b[2m\u001b[36m(pid=1653)\u001b[0m load ../../../erythroid_lineage/data/adata//adata.h5ad\n",
      "\u001b[2m\u001b[36m(pid=1653)\u001b[0m load ../../../erythroid_lineage/data/adata//sample_recover.pkl\n",
      "\u001b[2m\u001b[36m(train_velovgi pid=1653)\u001b[0m 初始训练，初始化runner参数\n",
      "\u001b[2m\u001b[36m(train_velovgi pid=1653)\u001b[0m choosing neighbor minibatch\n",
      "Epoch 1/10:   0%|          | 0/10 [00:00<?, ?it/s]\n"
     ]
    },
    {
     "name": "stderr",
     "output_type": "stream",
     "text": [
      "\u001b[2m\u001b[36m(train_velovgi pid=1653)\u001b[0m Missing logger folder: ./log/n_layers_2\n",
      "\u001b[2m\u001b[36m(train_velovgi pid=1653)\u001b[0m Missing logger folder: ./log/n_layers_2\n",
      "\u001b[2m\u001b[36m(train_velovgi pid=1653)\u001b[0m Missing logger folder: ./log/n_layers_2\n",
      "\u001b[2m\u001b[36m(train_velovgi pid=1653)\u001b[0m Missing logger folder: ./log/n_layers_2\n",
      "\u001b[2m\u001b[36m(train_velovgi pid=1653)\u001b[0m Missing logger folder: ./log/n_layers_2\n"
     ]
    },
    {
     "name": "stdout",
     "output_type": "stream",
     "text": [
      "Epoch 5/10:  50%|█████     | 5/10 [00:07<00:07,  1.56s/it, loss=1.87e+06, v_num=0]\n",
      "Epoch 6/10:  50%|█████     | 5/10 [00:07<00:07,  1.56s/it, loss=1.87e+06, v_num=0]\n",
      "Epoch 2/10:  10%|█         | 1/10 [00:01<00:16,  1.83s/it, loss=1.98e+06, v_num=0]\n"
     ]
    },
    {
     "name": "stderr",
     "output_type": "stream",
     "text": [
      "\u001b[2m\u001b[36m(pid=1725)\u001b[0m Global seed set to 0\n",
      "\u001b[2m\u001b[36m(pid=1725)\u001b[0m /usr/local/conda/envs/velovi-env/lib/python3.8/site-packages/pytorch_lightning/utilities/warnings.py:53: LightningDeprecationWarning: pytorch_lightning.utilities.warnings.rank_zero_deprecation has been deprecated in v1.6 and will be removed in v1.8. Use the equivalent function from the pytorch_lightning.utilities.rank_zero module instead.\n",
      "\u001b[2m\u001b[36m(pid=1725)\u001b[0m   new_rank_zero_deprecation(\n",
      "\u001b[2m\u001b[36m(pid=1725)\u001b[0m /usr/local/conda/envs/velovi-env/lib/python3.8/site-packages/pytorch_lightning/utilities/warnings.py:58: LightningDeprecationWarning: The `pytorch_lightning.loggers.base.rank_zero_experiment` is deprecated in v1.7 and will be removed in v1.9. Please use `pytorch_lightning.loggers.logger.rank_zero_experiment` instead.\n",
      "\u001b[2m\u001b[36m(pid=1725)\u001b[0m   return new_rank_zero_deprecation(*args, **kwargs)\n"
     ]
    },
    {
     "name": "stdout",
     "output_type": "stream",
     "text": [
      "Epoch 8/10:  80%|████████  | 8/10 [00:12<00:03,  1.63s/it, loss=1.77e+06, v_num=0]\n",
      "Epoch 9/10:  80%|████████  | 8/10 [00:12<00:03,  1.63s/it, loss=1.77e+06, v_num=0]\n",
      "Epoch 4/10:  30%|███       | 3/10 [00:05<00:12,  1.75s/it, loss=1.93e+06, v_num=0]\u001b[32m [repeated 4x across cluster] (Ray deduplicates logs by default. Set RAY_DEDUP_LOGS=0 to disable log deduplication, or see https://docs.ray.io/en/master/ray-observability/ray-logging.html#log-deduplication for more options.)\u001b[0m\n",
      "\u001b[2m\u001b[36m(pid=1725)\u001b[0m load ../../../erythroid_lineage/data/adata//adata.h5ad\n",
      "\u001b[2m\u001b[36m(pid=1725)\u001b[0m load ../../../erythroid_lineage/data/adata//sample_recover.pkl\n",
      "\u001b[2m\u001b[36m(train_velovgi pid=1725)\u001b[0m 初始训练，初始化runner参数\n",
      "\u001b[2m\u001b[36m(train_velovgi pid=1725)\u001b[0m choosing neighbor minibatch\n",
      "Epoch 1/10:   0%|          | 0/10 [00:00<?, ?it/s]\n"
     ]
    },
    {
     "name": "stderr",
     "output_type": "stream",
     "text": [
      "\u001b[2m\u001b[36m(train_velovgi pid=1725)\u001b[0m GPU available: False, used: False\n",
      "\u001b[2m\u001b[36m(train_velovgi pid=1725)\u001b[0m TPU available: False, using: 0 TPU cores\n",
      "\u001b[2m\u001b[36m(train_velovgi pid=1725)\u001b[0m IPU available: False, using: 0 IPUs\n",
      "\u001b[2m\u001b[36m(train_velovgi pid=1725)\u001b[0m HPU available: False, using: 0 HPUs\n",
      "\u001b[2m\u001b[36m(train_velovgi pid=1725)\u001b[0m Missing logger folder: ./log/n_layers_3\n",
      "\u001b[2m\u001b[36m(train_velovgi pid=1585)\u001b[0m `Trainer.fit` stopped: `max_epochs=10` reached.\n"
     ]
    },
    {
     "name": "stdout",
     "output_type": "stream",
     "text": [
      "Epoch 10/10: 100%|██████████| 10/10 [00:16<00:00,  1.61s/it, loss=1.69e+06, v_num=0]\n",
      "Epoch 6/10:  60%|██████    | 6/10 [00:10<00:07,  1.75s/it, loss=1.83e+06, v_num=0]\u001b[32m [repeated 2x across cluster]\u001b[0m\n",
      "Epoch 7/10:  60%|██████    | 6/10 [00:10<00:07,  1.75s/it, loss=1.83e+06, v_num=0]\u001b[32m [repeated 2x across cluster]\u001b[0m\n",
      "Epoch 3/10:  20%|██        | 2/10 [00:04<00:15,  1.97s/it, loss=1.92e+06, v_num=0]\u001b[32m [repeated 4x across cluster]\u001b[0m\n",
      "Epoch 5/10:  50%|█████     | 5/10 [00:09<00:09,  1.98s/it, loss=1.86e+06, v_num=0]\u001b[32m [repeated 4x across cluster]\u001b[0m\n",
      "Epoch 5/10:  40%|████      | 4/10 [00:07<00:11,  1.93s/it, loss=1.87e+06, v_num=0]\u001b[32m [repeated 3x across cluster]\u001b[0m\n",
      "Epoch 10/10:  90%|█████████ | 9/10 [00:15<00:01,  1.81s/it, loss=1.71e+06, v_num=0]\u001b[32m [repeated 2x across cluster]\u001b[0m\n",
      "Epoch 10/10: 100%|██████████| 10/10 [00:17<00:00,  1.86s/it, loss=1.67e+06, v_num=0]\n",
      "Epoch 10/10: 100%|██████████| 10/10 [00:17<00:00,  1.79s/it, loss=1.67e+06, v_num=0]\n"
     ]
    },
    {
     "name": "stderr",
     "output_type": "stream",
     "text": [
      "\u001b[2m\u001b[36m(train_velovgi pid=1653)\u001b[0m `Trainer.fit` stopped: `max_epochs=10` reached.\n"
     ]
    },
    {
     "name": "stdout",
     "output_type": "stream",
     "text": [
      "Epoch 8/10:  80%|████████  | 8/10 [00:15<00:03,  1.96s/it, loss=1.75e+06, v_num=0]\u001b[32m [repeated 2x across cluster]\u001b[0m\n",
      "Epoch 8/10:  70%|███████   | 7/10 [00:13<00:05,  1.97s/it, loss=1.78e+06, v_num=0]\u001b[32m [repeated 2x across cluster]\u001b[0m\n",
      "Epoch 8/10:  80%|████████  | 8/10 [00:15<00:03,  1.96s/it, loss=1.75e+06, v_num=0]\n"
     ]
    },
    {
     "name": "stdout",
     "output_type": "stream",
     "text": [
      "\u001b[2m\u001b[36m(train_velovgi pid=1585)\u001b[0m WARNING: The neighbor graph has an unexpected format (e.g. computed outside scvelo) \n",
      "\u001b[2m\u001b[36m(train_velovgi pid=1585)\u001b[0m or is corrupted (e.g. due to subsetting). Consider recomputing with `pp.neighbors`.\n",
      "\u001b[2m\u001b[36m(train_velovgi pid=1585)\u001b[0m computing velocity graph (using 1/12 cores)\n",
      "\u001b[2m\u001b[36m(train_velovgi pid=1585)\u001b[0m   0%|          | 0/500 [00:00<?, ?cells/s]\n",
      "\u001b[2m\u001b[36m(train_velovgi pid=1725)\u001b[0m   0%|          | 0/500 [00:00<?, ?cells/s]\n",
      "Epoch 10/10:  90%|█████████ | 9/10 [00:17<00:01,  1.95s/it, loss=1.71e+06, v_num=0]\u001b[32m [repeated 2x across cluster]\u001b[0m\n",
      "\u001b[2m\u001b[36m(train_velovgi pid=1585)\u001b[0m     finished (0:00:00) --> added \n",
      "\u001b[2m\u001b[36m(train_velovgi pid=1585)\u001b[0m     'velocity_graph', sparse matrix with cosine correlations (adata.uns)\n",
      "\u001b[2m\u001b[36m(train_velovgi pid=1585)\u001b[0m computing velocity embedding\n",
      "\u001b[2m\u001b[36m(train_velovgi pid=1585)\u001b[0m     finished (0:00:00) --> added\n",
      "\u001b[2m\u001b[36m(train_velovgi pid=1585)\u001b[0m     'velocity_umap', embedded velocity vectors (adata.obsm)\n",
      "\u001b[2m\u001b[36m(train_velovgi pid=1585)\u001b[0m Figure(640x480)\n",
      "\u001b[2m\u001b[36m(train_velovgi pid=1585)\u001b[0m saving figure to file ./figures/scvelo_n_layers_1.png\n",
      "\u001b[2m\u001b[36m(train_velovgi pid=1585)\u001b[0m Figure(640x480)\n"
     ]
    },
    {
     "data": {
      "text/html": [
       "<div class=\"trialProgress\">\n",
       "  <h3>Trial Progress</h3>\n",
       "  <table>\n",
       "<thead>\n",
       "<tr><th>Trial name               </th><th style=\"text-align: right;\">    CBDir</th><th style=\"text-align: right;\">  ICVCoh</th><th>date               </th><th>done  </th><th>hostname       </th><th style=\"text-align: right;\">  iterations_since_restore</th><th>node_ip       </th><th style=\"text-align: right;\">  pid</th><th style=\"text-align: right;\">  time_since_restore</th><th style=\"text-align: right;\">  time_this_iter_s</th><th style=\"text-align: right;\">  time_total_s</th><th style=\"text-align: right;\">  timestamp</th><th style=\"text-align: right;\">  training_iteration</th><th>trial_id   </th></tr>\n",
       "</thead>\n",
       "<tbody>\n",
       "<tr><td>train_velovgi_e9610_00000</td><td style=\"text-align: right;\"> 0.477679</td><td style=\"text-align: right;\">0.973853</td><td>2023-06-01_13-34-57</td><td>True  </td><td>DESKTOP-9GVJMSD</td><td style=\"text-align: right;\">                         1</td><td>172.24.192.172</td><td style=\"text-align: right;\"> 1585</td><td style=\"text-align: right;\">             51.3473</td><td style=\"text-align: right;\">           51.3473</td><td style=\"text-align: right;\">       51.3473</td><td style=\"text-align: right;\"> 1685597697</td><td style=\"text-align: right;\">                   1</td><td>e9610_00000</td></tr>\n",
       "<tr><td>train_velovgi_e9610_00001</td><td style=\"text-align: right;\"> 0.274217</td><td style=\"text-align: right;\">0.975651</td><td>2023-06-01_13-35-06</td><td>True  </td><td>DESKTOP-9GVJMSD</td><td style=\"text-align: right;\">                         1</td><td>172.24.192.172</td><td style=\"text-align: right;\"> 1653</td><td style=\"text-align: right;\">             53.529 </td><td style=\"text-align: right;\">           53.529 </td><td style=\"text-align: right;\">       53.529 </td><td style=\"text-align: right;\"> 1685597706</td><td style=\"text-align: right;\">                   1</td><td>e9610_00001</td></tr>\n",
       "<tr><td>train_velovgi_e9610_00002</td><td style=\"text-align: right;\">-0.104881</td><td style=\"text-align: right;\">0.97622 </td><td>2023-06-01_13-35-15</td><td>True  </td><td>DESKTOP-9GVJMSD</td><td style=\"text-align: right;\">                         1</td><td>172.24.192.172</td><td style=\"text-align: right;\"> 1725</td><td style=\"text-align: right;\">             54.8984</td><td style=\"text-align: right;\">           54.8984</td><td style=\"text-align: right;\">       54.8984</td><td style=\"text-align: right;\"> 1685597715</td><td style=\"text-align: right;\">                   1</td><td>e9610_00002</td></tr>\n",
       "</tbody>\n",
       "</table>\n",
       "</div>\n",
       "<style>\n",
       ".trialProgress {\n",
       "  display: flex;\n",
       "  flex-direction: column;\n",
       "  color: var(--jp-ui-font-color1);\n",
       "}\n",
       ".trialProgress h3 {\n",
       "  font-weight: bold;\n",
       "}\n",
       ".trialProgress td {\n",
       "  white-space: nowrap;\n",
       "}\n",
       "</style>\n"
      ],
      "text/plain": [
       "<IPython.core.display.HTML object>"
      ]
     },
     "metadata": {},
     "output_type": "display_data"
    },
    {
     "name": "stdout",
     "output_type": "stream",
     "text": [
      "\u001b[2m\u001b[36m(train_velovgi pid=1653)\u001b[0m or is corrupted (e.g. due to subsetting). Consider recomputing with `pp.neighbors`.\n",
      "\u001b[2m\u001b[36m(train_velovgi pid=1653)\u001b[0m or is corrupted (e.g. due to subsetting). Consider recomputing with `pp.neighbors`.\n",
      "\u001b[2m\u001b[36m(train_velovgi pid=1653)\u001b[0m computing velocity graph (using 1/12 cores)\n",
      "\u001b[2m\u001b[36m(train_velovgi pid=1653)\u001b[0m   0%|          | 0/500 [00:00<?, ?cells/s]\n",
      "\u001b[2m\u001b[36m(train_velovgi pid=1653)\u001b[0m     finished (0:00:00) --> added \n",
      "\u001b[2m\u001b[36m(train_velovgi pid=1653)\u001b[0m     'velocity_graph', sparse matrix with cosine correlations (adata.uns)\n",
      "\u001b[2m\u001b[36m(train_velovgi pid=1653)\u001b[0m computing velocity embedding\n",
      "\u001b[2m\u001b[36m(train_velovgi pid=1653)\u001b[0m     finished (0:00:00) --> added\n",
      "\u001b[2m\u001b[36m(train_velovgi pid=1653)\u001b[0m     'velocity_umap', embedded velocity vectors (adata.obsm)\n",
      "\u001b[2m\u001b[36m(train_velovgi pid=1653)\u001b[0m Figure(640x480)\n",
      "\u001b[2m\u001b[36m(train_velovgi pid=1653)\u001b[0m saving figure to file ./figures/scvelo_n_layers_2.png\n",
      "\u001b[2m\u001b[36m(train_velovgi pid=1653)\u001b[0m Figure(640x480)\n",
      "\u001b[2m\u001b[36m(train_velovgi pid=1725)\u001b[0m WARNING: The neighbor graph has an unexpected format (e.g. computed outside scvelo) \n",
      "\u001b[2m\u001b[36m(train_velovgi pid=1725)\u001b[0m or is corrupted (e.g. due to subsetting). Consider recomputing with `pp.neighbors`.\n",
      "\u001b[2m\u001b[36m(train_velovgi pid=1725)\u001b[0m computing velocity graph (using 1/12 cores)\n",
      "\u001b[2m\u001b[36m(train_velovgi pid=1725)\u001b[0m   0%|          | 0/500 [00:00<?, ?cells/s]\n",
      "\u001b[2m\u001b[36m(train_velovgi pid=1725)\u001b[0m     finished (0:00:00) --> added \n",
      "\u001b[2m\u001b[36m(train_velovgi pid=1725)\u001b[0m     'velocity_graph', sparse matrix with cosine correlations (adata.uns)\n",
      "\u001b[2m\u001b[36m(train_velovgi pid=1725)\u001b[0m computing velocity embedding\n",
      "\u001b[2m\u001b[36m(train_velovgi pid=1725)\u001b[0m     finished (0:00:00) --> added\n",
      "\u001b[2m\u001b[36m(train_velovgi pid=1725)\u001b[0m     'velocity_umap', embedded velocity vectors (adata.obsm)\n",
      "\u001b[2m\u001b[36m(train_velovgi pid=1725)\u001b[0m Figure(640x480)\n",
      "\u001b[2m\u001b[36m(train_velovgi pid=1725)\u001b[0m saving figure to file ./figures/scvelo_n_layers_3.png\n",
      "\u001b[2m\u001b[36m(train_velovgi pid=1725)\u001b[0m Figure(640x480)\n"
     ]
    },
    {
     "name": "stderr",
     "output_type": "stream",
     "text": [
      "2023-06-01 13:35:15,571\tINFO tune.py:945 -- Total run time: 75.22 seconds (75.15 seconds for the tuning loop).\n"
     ]
    }
   ],
   "source": [
    "name = \"n_layers_adjust\"\n",
    "search_space = {\"n_layers\": tune.grid_search([1, 2, 3])}\n",
    "results = base.hyperparameter_tuner(name, search_space)"
   ]
  },
  {
   "cell_type": "code",
   "execution_count": 4,
   "metadata": {},
   "outputs": [
    {
     "data": {
      "text/plain": [
       "{'n_layers': 1}"
      ]
     },
     "execution_count": 4,
     "metadata": {},
     "output_type": "execute_result"
    }
   ],
   "source": [
    "results.get_best_result().config"
   ]
  }
 ],
 "metadata": {
  "kernelspec": {
   "display_name": "velovi-env",
   "language": "python",
   "name": "python3"
  },
  "language_info": {
   "codemirror_mode": {
    "name": "ipython",
    "version": 3
   },
   "file_extension": ".py",
   "mimetype": "text/x-python",
   "name": "python",
   "nbconvert_exporter": "python",
   "pygments_lexer": "ipython3",
   "version": "3.8.15"
  },
  "orig_nbformat": 4
 },
 "nbformat": 4,
 "nbformat_minor": 2
}
