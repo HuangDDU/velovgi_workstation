{
 "cells": [
  {
   "cell_type": "code",
   "execution_count": 1,
   "metadata": {},
   "outputs": [
    {
     "name": "stderr",
     "output_type": "stream",
     "text": [
      "Global seed set to 0\n",
      "/usr/local/conda/envs/velovi-env/lib/python3.8/site-packages/pytorch_lightning/utilities/warnings.py:53: LightningDeprecationWarning: pytorch_lightning.utilities.warnings.rank_zero_deprecation has been deprecated in v1.6 and will be removed in v1.8. Use the equivalent function from the pytorch_lightning.utilities.rank_zero module instead.\n",
      "  new_rank_zero_deprecation(\n",
      "/usr/local/conda/envs/velovi-env/lib/python3.8/site-packages/pytorch_lightning/utilities/warnings.py:58: LightningDeprecationWarning: The `pytorch_lightning.loggers.base.rank_zero_experiment` is deprecated in v1.7 and will be removed in v1.9. Please use `pytorch_lightning.loggers.logger.rank_zero_experiment` instead.\n",
      "  return new_rank_zero_deprecation(*args, **kwargs)\n"
     ]
    },
    {
     "name": "stdout",
     "output_type": "stream",
     "text": [
      "load ../../../erythroid_lineage/data/adata//adata.h5ad\n",
      "load ../../../erythroid_lineage/data/adata//sample_recover.pkl\n"
     ]
    }
   ],
   "source": [
    "import base\n",
    "from ray import tune"
   ]
  },
  {
   "cell_type": "code",
   "execution_count": 2,
   "metadata": {},
   "outputs": [
    {
     "name": "stderr",
     "output_type": "stream",
     "text": [
      "2023-06-01 13:24:47,013\tINFO worker.py:1625 -- Started a local Ray instance.\n",
      "2023-06-01 13:24:48,388\tINFO tune.py:218 -- Initializing Ray automatically. For cluster usage or custom Ray initialization, call `ray.init(...)` before `Tuner(...)`.\n",
      "2023-06-01 13:24:48,394\tINFO tensorboardx.py:172 -- pip install \"ray[tune]\" to see TensorBoard files.\n",
      "2023-06-01 13:24:48,394\tWARNING callback.py:142 -- The TensorboardX logger cannot be instantiated because either TensorboardX or one of it's dependencies is not installed. Please make sure you have the latest version of TensorboardX installed: `pip install -U tensorboardx`\n"
     ]
    },
    {
     "data": {
      "text/html": [
       "<div class=\"tuneStatus\">\n",
       "  <div style=\"display: flex;flex-direction: row\">\n",
       "    <div style=\"display: flex;flex-direction: column;\">\n",
       "      <h3>Tune Status</h3>\n",
       "      <table>\n",
       "<tbody>\n",
       "<tr><td>Current time:</td><td>2023-06-01 13:25:48</td></tr>\n",
       "<tr><td>Running for: </td><td>00:01:00.47        </td></tr>\n",
       "<tr><td>Memory:      </td><td>6.3/12.4 GiB       </td></tr>\n",
       "</tbody>\n",
       "</table>\n",
       "    </div>\n",
       "    <div class=\"vDivider\"></div>\n",
       "    <div class=\"systemInfo\">\n",
       "      <h3>System Info</h3>\n",
       "      Using AsyncHyperBand: num_stopped=2<br>Bracket: Iter 64.000: None | Iter 16.000: None | Iter 4.000: None | Iter 1.000: 0.41419492273184144<br>Logical resource usage: 0/12 CPUs, 0/0 GPUs\n",
       "    </div>\n",
       "    \n",
       "  </div>\n",
       "  <div class=\"hDivider\"></div>\n",
       "  <div class=\"trialStatus\">\n",
       "    <h3>Trial Status</h3>\n",
       "    <table>\n",
       "<thead>\n",
       "<tr><th>Trial name               </th><th>status    </th><th>loc                 </th><th style=\"text-align: right;\">  batch_size</th><th style=\"text-align: right;\">  iter</th><th style=\"text-align: right;\">  total time (s)</th><th style=\"text-align: right;\">   CBDir</th><th style=\"text-align: right;\">  ICVCoh</th></tr>\n",
       "</thead>\n",
       "<tbody>\n",
       "<tr><td>train_velovgi_a062b_00000</td><td>TERMINATED</td><td>172.24.192.172:24091</td><td style=\"text-align: right;\">          64</td><td style=\"text-align: right;\">     1</td><td style=\"text-align: right;\">         43.8126</td><td style=\"text-align: right;\">0.427777</td><td style=\"text-align: right;\">0.970058</td></tr>\n",
       "<tr><td>train_velovgi_a062b_00001</td><td>TERMINATED</td><td>172.24.192.172:24158</td><td style=\"text-align: right;\">         128</td><td style=\"text-align: right;\">     1</td><td style=\"text-align: right;\">         43.2768</td><td style=\"text-align: right;\">0.394066</td><td style=\"text-align: right;\">0.971615</td></tr>\n",
       "<tr><td>train_velovgi_a062b_00002</td><td>TERMINATED</td><td>172.24.192.172:24228</td><td style=\"text-align: right;\">         256</td><td style=\"text-align: right;\">     1</td><td style=\"text-align: right;\">         41.631 </td><td style=\"text-align: right;\">0.400612</td><td style=\"text-align: right;\">0.970936</td></tr>\n",
       "</tbody>\n",
       "</table>\n",
       "  </div>\n",
       "</div>\n",
       "<style>\n",
       ".tuneStatus {\n",
       "  color: var(--jp-ui-font-color1);\n",
       "}\n",
       ".tuneStatus .systemInfo {\n",
       "  display: flex;\n",
       "  flex-direction: column;\n",
       "}\n",
       ".tuneStatus td {\n",
       "  white-space: nowrap;\n",
       "}\n",
       ".tuneStatus .trialStatus {\n",
       "  display: flex;\n",
       "  flex-direction: column;\n",
       "}\n",
       ".tuneStatus h3 {\n",
       "  font-weight: bold;\n",
       "}\n",
       ".tuneStatus .hDivider {\n",
       "  border-bottom-width: var(--jp-border-width);\n",
       "  border-bottom-color: var(--jp-border-color0);\n",
       "  border-bottom-style: solid;\n",
       "}\n",
       ".tuneStatus .vDivider {\n",
       "  border-left-width: var(--jp-border-width);\n",
       "  border-left-color: var(--jp-border-color0);\n",
       "  border-left-style: solid;\n",
       "  margin: 0.5em 1em 0.5em 1em;\n",
       "}\n",
       "</style>\n"
      ],
      "text/plain": [
       "<IPython.core.display.HTML object>"
      ]
     },
     "metadata": {},
     "output_type": "display_data"
    },
    {
     "name": "stderr",
     "output_type": "stream",
     "text": [
      "\u001b[2m\u001b[36m(pid=24091)\u001b[0m Global seed set to 0\n",
      "\u001b[2m\u001b[36m(pid=24091)\u001b[0m /usr/local/conda/envs/velovi-env/lib/python3.8/site-packages/pytorch_lightning/utilities/warnings.py:53: LightningDeprecationWarning: pytorch_lightning.utilities.warnings.rank_zero_deprecation has been deprecated in v1.6 and will be removed in v1.8. Use the equivalent function from the pytorch_lightning.utilities.rank_zero module instead.\n",
      "\u001b[2m\u001b[36m(pid=24091)\u001b[0m   new_rank_zero_deprecation(\n",
      "\u001b[2m\u001b[36m(pid=24091)\u001b[0m /usr/local/conda/envs/velovi-env/lib/python3.8/site-packages/pytorch_lightning/utilities/warnings.py:58: LightningDeprecationWarning: The `pytorch_lightning.loggers.base.rank_zero_experiment` is deprecated in v1.7 and will be removed in v1.9. Please use `pytorch_lightning.loggers.logger.rank_zero_experiment` instead.\n",
      "\u001b[2m\u001b[36m(pid=24091)\u001b[0m   return new_rank_zero_deprecation(*args, **kwargs)\n"
     ]
    },
    {
     "name": "stderr",
     "output_type": "stream",
     "text": [
      "\u001b[2m\u001b[36m(train_velovgi pid=24091)\u001b[0m GPU available: False, used: False\n",
      "\u001b[2m\u001b[36m(train_velovgi pid=24091)\u001b[0m TPU available: False, using: 0 TPU cores\n",
      "\u001b[2m\u001b[36m(train_velovgi pid=24091)\u001b[0m IPU available: False, using: 0 IPUs\n",
      "\u001b[2m\u001b[36m(train_velovgi pid=24091)\u001b[0m HPU available: False, using: 0 HPUs\n",
      "\u001b[2m\u001b[36m(train_velovgi pid=24091)\u001b[0m Missing logger folder: ./log/batch_size_64\n"
     ]
    },
    {
     "name": "stdout",
     "output_type": "stream",
     "text": [
      "Epoch 2/10:  10%|█         | 1/10 [00:01<00:13,  1.51s/it, loss=1.94e+06, v_num=0]\n",
      "Epoch 3/10:  20%|██        | 2/10 [00:02<00:11,  1.41s/it, loss=1.91e+06, v_num=0]\n"
     ]
    },
    {
     "name": "stderr",
     "output_type": "stream",
     "text": [
      "\u001b[2m\u001b[36m(pid=24158)\u001b[0m Global seed set to 0\n",
      "\u001b[2m\u001b[36m(pid=24158)\u001b[0m /usr/local/conda/envs/velovi-env/lib/python3.8/site-packages/pytorch_lightning/utilities/warnings.py:53: LightningDeprecationWarning: pytorch_lightning.utilities.warnings.rank_zero_deprecation has been deprecated in v1.6 and will be removed in v1.8. Use the equivalent function from the pytorch_lightning.utilities.rank_zero module instead.\n",
      "\u001b[2m\u001b[36m(pid=24158)\u001b[0m   new_rank_zero_deprecation(\n",
      "\u001b[2m\u001b[36m(pid=24158)\u001b[0m /usr/local/conda/envs/velovi-env/lib/python3.8/site-packages/pytorch_lightning/utilities/warnings.py:58: LightningDeprecationWarning: The `pytorch_lightning.loggers.base.rank_zero_experiment` is deprecated in v1.7 and will be removed in v1.9. Please use `pytorch_lightning.loggers.logger.rank_zero_experiment` instead.\n",
      "\u001b[2m\u001b[36m(pid=24158)\u001b[0m   return new_rank_zero_deprecation(*args, **kwargs)\n"
     ]
    },
    {
     "name": "stdout",
     "output_type": "stream",
     "text": [
      "Epoch 4/10:  30%|███       | 3/10 [00:04<00:09,  1.39s/it, loss=1.91e+06, v_num=0]\n"
     ]
    },
    {
     "name": "stderr",
     "output_type": "stream",
     "text": [
      "\u001b[2m\u001b[36m(train_velovgi pid=24158)\u001b[0m Missing logger folder: ./log/batch_size_128\n",
      "\u001b[2m\u001b[36m(train_velovgi pid=24158)\u001b[0m Missing logger folder: ./log/batch_size_128\n",
      "\u001b[2m\u001b[36m(train_velovgi pid=24158)\u001b[0m Missing logger folder: ./log/batch_size_128\n",
      "\u001b[2m\u001b[36m(train_velovgi pid=24158)\u001b[0m Missing logger folder: ./log/batch_size_128\n",
      "\u001b[2m\u001b[36m(train_velovgi pid=24158)\u001b[0m Missing logger folder: ./log/batch_size_128\n"
     ]
    },
    {
     "name": "stdout",
     "output_type": "stream",
     "text": [
      "\u001b[2m\u001b[36m(train_velovgi pid=24158)\u001b[0m 初始训练，初始化runner参数\n",
      "\u001b[2m\u001b[36m(train_velovgi pid=24158)\u001b[0m choosing neighbor minibatch\n",
      "Epoch 1/10:   0%|          | 0/10 [00:00<?, ?it/s]\n",
      "Epoch 5/10:  50%|█████     | 5/10 [00:07<00:07,  1.44s/it, loss=1.86e+06, v_num=0]\n",
      "Epoch 6/10:  50%|█████     | 5/10 [00:07<00:07,  1.44s/it, loss=1.86e+06, v_num=0]\n",
      "Epoch 3/10:  20%|██        | 2/10 [00:02<00:11,  1.44s/it, loss=1.95e+06, v_num=0]\n"
     ]
    },
    {
     "name": "stderr",
     "output_type": "stream",
     "text": [
      "\u001b[2m\u001b[36m(pid=24228)\u001b[0m Global seed set to 0\n",
      "\u001b[2m\u001b[36m(pid=24228)\u001b[0m /usr/local/conda/envs/velovi-env/lib/python3.8/site-packages/pytorch_lightning/utilities/warnings.py:53: LightningDeprecationWarning: pytorch_lightning.utilities.warnings.rank_zero_deprecation has been deprecated in v1.6 and will be removed in v1.8. Use the equivalent function from the pytorch_lightning.utilities.rank_zero module instead.\n",
      "\u001b[2m\u001b[36m(pid=24228)\u001b[0m   new_rank_zero_deprecation(\n",
      "\u001b[2m\u001b[36m(pid=24228)\u001b[0m /usr/local/conda/envs/velovi-env/lib/python3.8/site-packages/pytorch_lightning/utilities/warnings.py:58: LightningDeprecationWarning: The `pytorch_lightning.loggers.base.rank_zero_experiment` is deprecated in v1.7 and will be removed in v1.9. Please use `pytorch_lightning.loggers.logger.rank_zero_experiment` instead.\n",
      "\u001b[2m\u001b[36m(pid=24228)\u001b[0m   return new_rank_zero_deprecation(*args, **kwargs)\n"
     ]
    },
    {
     "name": "stdout",
     "output_type": "stream",
     "text": [
      "\u001b[2m\u001b[36m(pid=24228)\u001b[0m load ../../../erythroid_lineage/data/adata//adata.h5ad\n",
      "\u001b[2m\u001b[36m(pid=24228)\u001b[0m load ../../../erythroid_lineage/data/adata//sample_recover.pkl\n",
      "Epoch 6/10:  60%|██████    | 6/10 [00:08<00:05,  1.47s/it, loss=1.82e+06, v_num=0]\u001b[32m [repeated 2x across cluster] (Ray deduplicates logs by default. Set RAY_DEDUP_LOGS=0 to disable log deduplication, or see https://docs.ray.io/en/master/ray-observability/ray-logging.html#log-deduplication for more options.)\u001b[0m\n",
      "Epoch 7/10:  60%|██████    | 6/10 [00:08<00:05,  1.47s/it, loss=1.82e+06, v_num=0]\u001b[32m [repeated 2x across cluster]\u001b[0m\n",
      "\u001b[2m\u001b[36m(train_velovgi pid=24228)\u001b[0m 初始训练，初始化runner参数\n",
      "\u001b[2m\u001b[36m(train_velovgi pid=24228)\u001b[0m choosing neighbor minibatch\n",
      "Epoch 1/10:   0%|          | 0/10 [00:00<?, ?it/s]\n"
     ]
    },
    {
     "name": "stderr",
     "output_type": "stream",
     "text": [
      "\u001b[2m\u001b[36m(train_velovgi pid=24228)\u001b[0m GPU available: False, used: False\n",
      "\u001b[2m\u001b[36m(train_velovgi pid=24228)\u001b[0m TPU available: False, using: 0 TPU cores\n",
      "\u001b[2m\u001b[36m(train_velovgi pid=24228)\u001b[0m IPU available: False, using: 0 IPUs\n",
      "\u001b[2m\u001b[36m(train_velovgi pid=24228)\u001b[0m HPU available: False, using: 0 HPUs\n",
      "\u001b[2m\u001b[36m(train_velovgi pid=24228)\u001b[0m Missing logger folder: ./log/batch_size_256\n"
     ]
    },
    {
     "name": "stdout",
     "output_type": "stream",
     "text": [
      "Epoch 10/10: 100%|██████████| 10/10 [00:14<00:00,  1.51s/it, loss=1.67e+06, v_num=0]\n",
      "Epoch 6/10:  50%|█████     | 5/10 [00:07<00:07,  1.41s/it, loss=1.91e+06, v_num=0]\u001b[32m [repeated 6x across cluster]\u001b[0m\n",
      "Epoch 10/10: 100%|██████████| 10/10 [00:14<00:00,  1.48s/it, loss=1.67e+06, v_num=0]\n"
     ]
    },
    {
     "name": "stderr",
     "output_type": "stream",
     "text": [
      "\u001b[2m\u001b[36m(train_velovgi pid=24091)\u001b[0m `Trainer.fit` stopped: `max_epochs=10` reached.\n"
     ]
    },
    {
     "name": "stdout",
     "output_type": "stream",
     "text": [
      "Epoch 3/10:  30%|███       | 3/10 [00:04<00:10,  1.45s/it, loss=1.95e+06, v_num=0]\u001b[32m [repeated 3x across cluster]\u001b[0m\n",
      "Epoch 3/10:  20%|██        | 2/10 [00:03<00:11,  1.48s/it, loss=1.96e+06, v_num=0]\u001b[32m [repeated 2x across cluster]\u001b[0m\n",
      "Epoch 10/10:  90%|█████████ | 9/10 [00:13<00:01,  1.44s/it, loss=1.87e+06, v_num=0]\u001b[32m [repeated 4x across cluster]\u001b[0m\n",
      "Epoch 10/10: 100%|██████████| 10/10 [00:14<00:00,  1.45s/it, loss=1.86e+06, v_num=0]\n"
     ]
    },
    {
     "name": "stderr",
     "output_type": "stream",
     "text": [
      "\u001b[2m\u001b[36m(train_velovgi pid=24158)\u001b[0m `Trainer.fit` stopped: `max_epochs=10` reached.\n"
     ]
    },
    {
     "name": "stdout",
     "output_type": "stream",
     "text": [
      "Epoch 7/10:  70%|███████   | 7/10 [00:09<00:04,  1.40s/it, loss=1.93e+06, v_num=0]\u001b[32m [repeated 3x across cluster]\u001b[0m\n",
      "Epoch 6/10:  50%|█████     | 5/10 [00:07<00:07,  1.44s/it, loss=1.94e+06, v_num=0]\u001b[32m [repeated 3x across cluster]\u001b[0m\n",
      "Epoch 9/10:  80%|████████  | 8/10 [00:11<00:02,  1.43s/it, loss=1.92e+06, v_num=0]\u001b[32m [repeated 2x across cluster]\u001b[0m\n",
      "Epoch 10/10: 100%|██████████| 10/10 [00:14<00:00,  1.44s/it, loss=1.91e+06, v_num=0]\n"
     ]
    },
    {
     "name": "stderr",
     "output_type": "stream",
     "text": [
      "\u001b[2m\u001b[36m(train_velovgi pid=24228)\u001b[0m `Trainer.fit` stopped: `max_epochs=10` reached.\n"
     ]
    },
    {
     "name": "stdout",
     "output_type": "stream",
     "text": [
      "\u001b[2m\u001b[36m(train_velovgi pid=24091)\u001b[0m WARNING: The neighbor graph has an unexpected format (e.g. computed outside scvelo) \n",
      "\u001b[2m\u001b[36m(train_velovgi pid=24091)\u001b[0m or is corrupted (e.g. due to subsetting). Consider recomputing with `pp.neighbors`.\n",
      "\u001b[2m\u001b[36m(train_velovgi pid=24091)\u001b[0m computing velocity graph (using 1/12 cores)\n",
      "\u001b[2m\u001b[36m(train_velovgi pid=24091)\u001b[0m   0%|          | 0/500 [00:00<?, ?cells/s]\n",
      "\u001b[2m\u001b[36m(train_velovgi pid=24228)\u001b[0m   0%|          | 0/500 [00:00<?, ?cells/s]\n",
      "Epoch 10/10:  90%|█████████ | 9/10 [00:13<00:01,  1.42s/it, loss=1.92e+06, v_num=0]\u001b[32m [repeated 2x across cluster]\u001b[0m\n",
      "\u001b[2m\u001b[36m(train_velovgi pid=24091)\u001b[0m     finished (0:00:00) --> added \n",
      "\u001b[2m\u001b[36m(train_velovgi pid=24091)\u001b[0m     'velocity_graph', sparse matrix with cosine correlations (adata.uns)\n",
      "\u001b[2m\u001b[36m(train_velovgi pid=24091)\u001b[0m computing velocity embedding\n",
      "\u001b[2m\u001b[36m(train_velovgi pid=24091)\u001b[0m     finished (0:00:00) --> added\n",
      "\u001b[2m\u001b[36m(train_velovgi pid=24091)\u001b[0m     'velocity_umap', embedded velocity vectors (adata.obsm)\n",
      "\u001b[2m\u001b[36m(train_velovgi pid=24091)\u001b[0m Figure(640x480)\n"
     ]
    },
    {
     "data": {
      "text/html": [
       "<div class=\"trialProgress\">\n",
       "  <h3>Trial Progress</h3>\n",
       "  <table>\n",
       "<thead>\n",
       "<tr><th>Trial name               </th><th style=\"text-align: right;\">   CBDir</th><th style=\"text-align: right;\">  ICVCoh</th><th>date               </th><th>done  </th><th>hostname       </th><th style=\"text-align: right;\">  iterations_since_restore</th><th>node_ip       </th><th style=\"text-align: right;\">  pid</th><th style=\"text-align: right;\">  time_since_restore</th><th style=\"text-align: right;\">  time_this_iter_s</th><th style=\"text-align: right;\">  time_total_s</th><th style=\"text-align: right;\">  timestamp</th><th style=\"text-align: right;\">  training_iteration</th><th>trial_id   </th></tr>\n",
       "</thead>\n",
       "<tbody>\n",
       "<tr><td>train_velovgi_a062b_00000</td><td style=\"text-align: right;\">0.427777</td><td style=\"text-align: right;\">0.970058</td><td>2023-06-01_13-25-37</td><td>True  </td><td>DESKTOP-9GVJMSD</td><td style=\"text-align: right;\">                         1</td><td>172.24.192.172</td><td style=\"text-align: right;\">24091</td><td style=\"text-align: right;\">             43.8126</td><td style=\"text-align: right;\">           43.8126</td><td style=\"text-align: right;\">       43.8126</td><td style=\"text-align: right;\"> 1685597137</td><td style=\"text-align: right;\">                   1</td><td>a062b_00000</td></tr>\n",
       "<tr><td>train_velovgi_a062b_00001</td><td style=\"text-align: right;\">0.394066</td><td style=\"text-align: right;\">0.971615</td><td>2023-06-01_13-25-43</td><td>True  </td><td>DESKTOP-9GVJMSD</td><td style=\"text-align: right;\">                         1</td><td>172.24.192.172</td><td style=\"text-align: right;\">24158</td><td style=\"text-align: right;\">             43.2768</td><td style=\"text-align: right;\">           43.2768</td><td style=\"text-align: right;\">       43.2768</td><td style=\"text-align: right;\"> 1685597143</td><td style=\"text-align: right;\">                   1</td><td>a062b_00001</td></tr>\n",
       "<tr><td>train_velovgi_a062b_00002</td><td style=\"text-align: right;\">0.400612</td><td style=\"text-align: right;\">0.970936</td><td>2023-06-01_13-25-48</td><td>True  </td><td>DESKTOP-9GVJMSD</td><td style=\"text-align: right;\">                         1</td><td>172.24.192.172</td><td style=\"text-align: right;\">24228</td><td style=\"text-align: right;\">             41.631 </td><td style=\"text-align: right;\">           41.631 </td><td style=\"text-align: right;\">       41.631 </td><td style=\"text-align: right;\"> 1685597148</td><td style=\"text-align: right;\">                   1</td><td>a062b_00002</td></tr>\n",
       "</tbody>\n",
       "</table>\n",
       "</div>\n",
       "<style>\n",
       ".trialProgress {\n",
       "  display: flex;\n",
       "  flex-direction: column;\n",
       "  color: var(--jp-ui-font-color1);\n",
       "}\n",
       ".trialProgress h3 {\n",
       "  font-weight: bold;\n",
       "}\n",
       ".trialProgress td {\n",
       "  white-space: nowrap;\n",
       "}\n",
       "</style>\n"
      ],
      "text/plain": [
       "<IPython.core.display.HTML object>"
      ]
     },
     "metadata": {},
     "output_type": "display_data"
    },
    {
     "name": "stdout",
     "output_type": "stream",
     "text": [
      "\u001b[2m\u001b[36m(train_velovgi pid=24158)\u001b[0m   0%|          | 0/500 [00:00<?, ?cells/s]\n",
      "\u001b[2m\u001b[36m(train_velovgi pid=24158)\u001b[0m   0%|          | 0/500 [00:00<?, ?cells/s]\n",
      "\u001b[2m\u001b[36m(train_velovgi pid=24158)\u001b[0m   0%|          | 0/500 [00:00<?, ?cells/s]\n",
      "\u001b[2m\u001b[36m(train_velovgi pid=24158)\u001b[0m   0%|          | 0/500 [00:00<?, ?cells/s]\n",
      "\u001b[2m\u001b[36m(train_velovgi pid=24158)\u001b[0m     finished (0:00:00) --> added \n",
      "\u001b[2m\u001b[36m(train_velovgi pid=24158)\u001b[0m     'velocity_graph', sparse matrix with cosine correlations (adata.uns)\n",
      "\u001b[2m\u001b[36m(train_velovgi pid=24158)\u001b[0m computing velocity embedding\n",
      "\u001b[2m\u001b[36m(train_velovgi pid=24158)\u001b[0m     finished (0:00:00) --> added\n",
      "\u001b[2m\u001b[36m(train_velovgi pid=24158)\u001b[0m     'velocity_umap', embedded velocity vectors (adata.obsm)\n",
      "\u001b[2m\u001b[36m(train_velovgi pid=24158)\u001b[0m Figure(640x480)\n",
      "\u001b[2m\u001b[36m(train_velovgi pid=24158)\u001b[0m Figure(640x480)\n",
      "\u001b[2m\u001b[36m(train_velovgi pid=24158)\u001b[0m Figure(640x480)\n",
      "\u001b[2m\u001b[36m(train_velovgi pid=24228)\u001b[0m WARNING: The neighbor graph has an unexpected format (e.g. computed outside scvelo) \n",
      "\u001b[2m\u001b[36m(train_velovgi pid=24228)\u001b[0m or is corrupted (e.g. due to subsetting). Consider recomputing with `pp.neighbors`.\n",
      "\u001b[2m\u001b[36m(train_velovgi pid=24228)\u001b[0m computing velocity graph (using 1/12 cores)\n",
      "\u001b[2m\u001b[36m(train_velovgi pid=24228)\u001b[0m   0%|          | 0/500 [00:00<?, ?cells/s]\n",
      "\u001b[2m\u001b[36m(train_velovgi pid=24228)\u001b[0m     finished (0:00:00) --> added \n",
      "\u001b[2m\u001b[36m(train_velovgi pid=24228)\u001b[0m     'velocity_graph', sparse matrix with cosine correlations (adata.uns)\n",
      "\u001b[2m\u001b[36m(train_velovgi pid=24228)\u001b[0m computing velocity embedding\n",
      "\u001b[2m\u001b[36m(train_velovgi pid=24228)\u001b[0m     finished (0:00:00) --> added\n",
      "\u001b[2m\u001b[36m(train_velovgi pid=24228)\u001b[0m     'velocity_umap', embedded velocity vectors (adata.obsm)\n",
      "\u001b[2m\u001b[36m(train_velovgi pid=24228)\u001b[0m Figure(640x480)\n",
      "\u001b[2m\u001b[36m(train_velovgi pid=24228)\u001b[0m saving figure to file ./figures/scvelo_batch_size_256.png\n",
      "\u001b[2m\u001b[36m(train_velovgi pid=24228)\u001b[0m Figure(640x480)\n"
     ]
    },
    {
     "name": "stderr",
     "output_type": "stream",
     "text": [
      "2023-06-01 13:25:48,888\tINFO tune.py:945 -- Total run time: 60.50 seconds (60.45 seconds for the tuning loop).\n"
     ]
    }
   ],
   "source": [
    "name = \"batch_size_adjust\"\n",
    "search_space = {\"batch_size\": tune.grid_search([64, 128, 256])}\n",
    "results = base.hyperparameter_tuner(name, search_space)"
   ]
  },
  {
   "cell_type": "code",
   "execution_count": 5,
   "metadata": {},
   "outputs": [
    {
     "data": {
      "text/plain": [
       "{'batch_size': 64}"
      ]
     },
     "execution_count": 5,
     "metadata": {},
     "output_type": "execute_result"
    }
   ],
   "source": [
    "results.get_best_result().config"
   ]
  }
 ],
 "metadata": {
  "kernelspec": {
   "display_name": "velovi-env",
   "language": "python",
   "name": "python3"
  },
  "language_info": {
   "codemirror_mode": {
    "name": "ipython",
    "version": 3
   },
   "file_extension": ".py",
   "mimetype": "text/x-python",
   "name": "python",
   "nbconvert_exporter": "python",
   "pygments_lexer": "ipython3",
   "version": "3.8.15"
  },
  "orig_nbformat": 4
 },
 "nbformat": 4,
 "nbformat_minor": 2
}
