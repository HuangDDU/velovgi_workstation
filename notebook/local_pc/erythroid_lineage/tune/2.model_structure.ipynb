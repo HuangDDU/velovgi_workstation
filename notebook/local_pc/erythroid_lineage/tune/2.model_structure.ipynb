{
 "cells": [
  {
   "attachments": {},
   "cell_type": "markdown",
   "metadata": {},
   "source": [
    "# 2.model_structure"
   ]
  },
  {
   "cell_type": "code",
   "execution_count": 2,
   "metadata": {},
   "outputs": [
    {
     "name": "stderr",
     "output_type": "stream",
     "text": [
      "Global seed set to 0\n"
     ]
    }
   ],
   "source": [
    "import sys\n",
    "sys.path = [\"../../..\"] + sys.path # 切换到项目目录下\n",
    "\n",
    "import scanpy as sc\n",
    "import scvelo as scv\n",
    "import velovgi\n",
    "\n",
    "from ray import tune, air\n",
    "from ray.air import session"
   ]
  },
  {
   "attachments": {},
   "cell_type": "markdown",
   "metadata": {},
   "source": [
    "1. 目标函数"
   ]
  },
  {
   "cell_type": "code",
   "execution_count": 3,
   "metadata": {},
   "outputs": [],
   "source": [
    "from pytorch_lightning import loggers\n",
    "from torch_geometric import seed_everything\n",
    "\n",
    "# TODO: 跳整多种参数，简化调参Trail的名字\n",
    "def train_velovgi(config):\n",
    "    # 提取参数\n",
    "    # 随机数种子，确保结果的可复现性\n",
    "    random_seed = config.get(\"random_seed\", 0)\n",
    "    # 预处理的参数\n",
    "    n_bnn_neighbors = config.get(\"n_bnn_neighbors\", 15)\n",
    "    n_knn_neighbors = config.get(\"n_knn_neighbors\", 15)\n",
    "    is_ot = config.get(\"is_ot\", True)\n",
    "    # 模型结构参数\n",
    "    n_hidden = config.get(\"n_hidden\", 256)\n",
    "    n_latent = config.get(\"n_latent\", 10)\n",
    "    n_layers = config.get(\"n_layers\", 1)\n",
    "    # 训练参数\n",
    "    num_neighbors = [config.get(\"num_neighbors\", 8)]*n_layers\n",
    "    max_epochs = config.get(\"max_epochs\", 10) # TODO:这里是最关键的一个参数，小epochs测试之后再提交到服务器上用大epoch\n",
    "    batch_size = config.get(\"batch_size\", 64)\n",
    "    max_kl_weight = config.get(\"max_kl_weight\", 0.8)\n",
    "\n",
    "    name = \"\"\n",
    "    for k,v in config.items():\n",
    "        name += \"%s_%s,\"%(k, v)\n",
    "    name = name[:-1]\n",
    "\n",
    "    # seed_everything(random_seed)\n",
    "    # # TODO:数据读入，对于不同的数据集这里需要替换\n",
    "    # adata_filename = \"/mnt/h/F_bak/Python进阶/scRNA/Other/velovgi_workstation/notebook/local_pc/erythroid_lineage/data/erythroid_lineage.h5ad\" # 数据路径使用绝对路径\n",
    "    # adata = scv.read(adata_filename)\n",
    "    # batch_key = \"stage\" # 批次key\n",
    "    cluster_key = \"celltype\" # 细胞类型key\n",
    "    cluster_edges = [\n",
    "    (\"Blood progenitors 1\", \"Blood progenitors 2\"), \n",
    "    (\"Blood progenitors 2\", \"Erythroid1\"), \n",
    "    (\"Erythroid1\", \"Erythroid2\"), \n",
    "    (\"Erythroid2\", \"Erythroid3\")\n",
    "    ] # 指定对应数据集已知的细胞类型间的分化信息\n",
    "\n",
    "    # # TODO:预处理，这里batch_pair_list以后可能需要手动指定\n",
    "    # batch_list = list(adata.obs[batch_key].cat.categories)\n",
    "    # batch_pair_list = list(zip(batch_list[:-1], batch_list[1:]))\n",
    "    # subsample_adata = velovgi.pp.preprocess(adata,\n",
    "    #                                         n_bnn_neighbors=n_bnn_neighbors,\n",
    "    #                                         n_knn_neighbors=n_knn_neighbors,\n",
    "    #                                         batch_key=batch_key,\n",
    "    #                                         batch_pair_list=batch_pair_list,\n",
    "    #                                         is_ot=is_ot)\n",
    "    # TODO: 如果需要调整预处理之后的参数，就不需要重复做预处理了，读取预处理之后的结果即可\n",
    "    adata = velovgi.tl.read_adata(\"/mnt/h/F_bak/Python进阶/scRNA/Other/velovgi_workstation/notebook/local_pc/erythroid_lineage/data/adata\")\n",
    "    subsample_adata = scv.read(\"/mnt/h/F_bak/Python进阶/scRNA/Other/velovgi_workstation/notebook/local_pc/erythroid_lineage/data/subsample_adata.h5ad\") # 使用这个AnnData做训练\n",
    "    seed_everything(random_seed)\n",
    "\n",
    "    # 模型训练\n",
    "    logger = loggers.TensorBoardLogger(save_dir=\"./log\", name=name)\n",
    "    velovgi.tl.VELOVGI.setup_anndata(adata=subsample_adata, spliced_layer=\"Ms\", unspliced_layer=\"Mu\")\n",
    "    velovgi_model = velovgi.tl.VELOVGI(subsample_adata,\n",
    "                                       n_hidden=n_hidden,\n",
    "                                       n_latent=n_latent,\n",
    "                                       n_layers=n_layers)\n",
    "    velovgi_model.train(num_neighbors=num_neighbors,\n",
    "                        max_epochs=max_epochs,\n",
    "                        batch_size=batch_size,\n",
    "                        plan_kwargs={\"max_kl_weight\": max_kl_weight},\n",
    "                        logger=logger)\n",
    "\n",
    "    # 模型恢复\n",
    "    velovgi.tl.add_velovi_outputs_to_adata(subsample_adata, velovgi_model) # 模型输出\n",
    "    velovgi.pp.moment_recover(adata, subsample_adata) # 恢复\n",
    "\n",
    "    # 速率计算\n",
    "    scv.tl.velocity_graph(adata)\n",
    "    scv.pl.velocity_embedding(adata, color=cluster_key, title=name, save=\"arrow.png\")\n",
    "    scv.pl.velocity_embedding_stream(adata, color=cluster_key, title=name, legend_loc=\"right\", save=\"stream.png\")\n",
    "\n",
    "    # 伪时间计算\n",
    "    scv.tl.velocity_pseudotime(adata)\n",
    "    scv.pl.velocity_embedding_stream(adata, color=\"velocity_pseudotime\", title=name, colorbar=False, save=\"pseudotime.png\")\n",
    "\n",
    "\n",
    "    # 保存结果\n",
    "    subsample_adata.write(\"subsample_adata.h5ad\")\n",
    "    velovgi.tl.write_adata(adata, \"adata\")\n",
    "    velovgi_model.save(\"model\")\n",
    "\n",
    "    # 计算指标评价\n",
    "    adata_velo = velovgi.tl.pre_metric(adata)\n",
    "    exp_metrics = velovgi.tl.summary_metric(adata_velo, cluster_edges, cluster_key)[-1] # 计算指标汇总后的结果\n",
    "\n",
    "    session.report({\"CBDir\": exp_metrics[\"CBDir\"], \"ICVCoh\": exp_metrics[\"ICVCoh\"]})\n"
   ]
  },
  {
   "attachments": {},
   "cell_type": "markdown",
   "metadata": {},
   "source": [
    "2. 搜索空间，这里可以添加键值，实现更多层面的网格调参"
   ]
  },
  {
   "cell_type": "code",
   "execution_count": 4,
   "metadata": {},
   "outputs": [],
   "source": [
    "search_space = {\n",
    "    \"n_hidden\" : tune.grid_search([128, 256]),\n",
    "    # \"n_latent\" : tune.grid_search([8, 16]),\n",
    "    # \"n_layers\" : tune.grid_search([1, 2]),\n",
    "}"
   ]
  },
  {
   "attachments": {},
   "cell_type": "markdown",
   "metadata": {},
   "source": [
    "3. 执行调参，等待传入实验名称和搜索空间"
   ]
  },
  {
   "cell_type": "code",
   "execution_count": 5,
   "metadata": {},
   "outputs": [
    {
     "name": "stderr",
     "output_type": "stream",
     "text": [
      "2023-06-10 11:03:51,791\tINFO worker.py:1625 -- Started a local Ray instance.\n",
      "2023-06-10 11:03:53,485\tINFO tune.py:218 -- Initializing Ray automatically. For cluster usage or custom Ray initialization, call `ray.init(...)` before `Tuner(...)`.\n",
      "2023-06-10 11:03:53,501\tINFO tensorboardx.py:172 -- pip install \"ray[tune]\" to see TensorBoard files.\n",
      "2023-06-10 11:03:53,502\tWARNING callback.py:142 -- The TensorboardX logger cannot be instantiated because either TensorboardX or one of it's dependencies is not installed. Please make sure you have the latest version of TensorboardX installed: `pip install -U tensorboardx`\n"
     ]
    },
    {
     "data": {
      "text/html": [
       "<div class=\"tuneStatus\">\n",
       "  <div style=\"display: flex;flex-direction: row\">\n",
       "    <div style=\"display: flex;flex-direction: column;\">\n",
       "      <h3>Tune Status</h3>\n",
       "      <table>\n",
       "<tbody>\n",
       "<tr><td>Current time:</td><td>2023-06-10 11:04:59</td></tr>\n",
       "<tr><td>Running for: </td><td>00:01:05.93        </td></tr>\n",
       "<tr><td>Memory:      </td><td>2.9/12.4 GiB       </td></tr>\n",
       "</tbody>\n",
       "</table>\n",
       "    </div>\n",
       "    <div class=\"vDivider\"></div>\n",
       "    <div class=\"systemInfo\">\n",
       "      <h3>System Info</h3>\n",
       "      Using AsyncHyperBand: num_stopped=0<br>Bracket: Iter 64.000: None | Iter 16.000: None | Iter 4.000: None | Iter 1.000: 0.5145572862300845<br>Logical resource usage: 0/12 CPUs, 0/0 GPUs\n",
       "    </div>\n",
       "    \n",
       "  </div>\n",
       "  <div class=\"hDivider\"></div>\n",
       "  <div class=\"trialStatus\">\n",
       "    <h3>Trial Status</h3>\n",
       "    <table>\n",
       "<thead>\n",
       "<tr><th>Trial name               </th><th>status    </th><th>loc                </th><th style=\"text-align: right;\">  n_hidden</th><th style=\"text-align: right;\">  iter</th><th style=\"text-align: right;\">  total time (s)</th><th style=\"text-align: right;\">   CBDir</th><th style=\"text-align: right;\">  ICVCoh</th></tr>\n",
       "</thead>\n",
       "<tbody>\n",
       "<tr><td>train_velovgi_6e982_00000</td><td>TERMINATED</td><td>172.29.205.215:3905</td><td style=\"text-align: right;\">       128</td><td style=\"text-align: right;\">     1</td><td style=\"text-align: right;\">         52.2752</td><td style=\"text-align: right;\">0.45055 </td><td style=\"text-align: right;\">0.973809</td></tr>\n",
       "<tr><td>train_velovgi_6e982_00001</td><td>TERMINATED</td><td>172.29.205.215:3969</td><td style=\"text-align: right;\">       256</td><td style=\"text-align: right;\">     1</td><td style=\"text-align: right;\">         54.2011</td><td style=\"text-align: right;\">0.535893</td><td style=\"text-align: right;\">0.971254</td></tr>\n",
       "</tbody>\n",
       "</table>\n",
       "  </div>\n",
       "</div>\n",
       "<style>\n",
       ".tuneStatus {\n",
       "  color: var(--jp-ui-font-color1);\n",
       "}\n",
       ".tuneStatus .systemInfo {\n",
       "  display: flex;\n",
       "  flex-direction: column;\n",
       "}\n",
       ".tuneStatus td {\n",
       "  white-space: nowrap;\n",
       "}\n",
       ".tuneStatus .trialStatus {\n",
       "  display: flex;\n",
       "  flex-direction: column;\n",
       "}\n",
       ".tuneStatus h3 {\n",
       "  font-weight: bold;\n",
       "}\n",
       ".tuneStatus .hDivider {\n",
       "  border-bottom-width: var(--jp-border-width);\n",
       "  border-bottom-color: var(--jp-border-color0);\n",
       "  border-bottom-style: solid;\n",
       "}\n",
       ".tuneStatus .vDivider {\n",
       "  border-left-width: var(--jp-border-width);\n",
       "  border-left-color: var(--jp-border-color0);\n",
       "  border-left-style: solid;\n",
       "  margin: 0.5em 1em 0.5em 1em;\n",
       "}\n",
       "</style>\n"
      ],
      "text/plain": [
       "<IPython.core.display.HTML object>"
      ]
     },
     "metadata": {},
     "output_type": "display_data"
    },
    {
     "name": "stderr",
     "output_type": "stream",
     "text": [
      "\u001b[2m\u001b[36m(pid=3905)\u001b[0m Global seed set to 0\n",
      "\u001b[2m\u001b[36m(pid=3905)\u001b[0m /usr/local/conda/envs/velovi-env/lib/python3.8/site-packages/pytorch_lightning/utilities/warnings.py:53: LightningDeprecationWarning: pytorch_lightning.utilities.warnings.rank_zero_deprecation has been deprecated in v1.6 and will be removed in v1.8. Use the equivalent function from the pytorch_lightning.utilities.rank_zero module instead.\n",
      "\u001b[2m\u001b[36m(pid=3905)\u001b[0m   new_rank_zero_deprecation(\n",
      "\u001b[2m\u001b[36m(pid=3905)\u001b[0m /usr/local/conda/envs/velovi-env/lib/python3.8/site-packages/pytorch_lightning/utilities/warnings.py:58: LightningDeprecationWarning: The `pytorch_lightning.loggers.base.rank_zero_experiment` is deprecated in v1.7 and will be removed in v1.9. Please use `pytorch_lightning.loggers.logger.rank_zero_experiment` instead.\n",
      "\u001b[2m\u001b[36m(pid=3905)\u001b[0m   return new_rank_zero_deprecation(*args, **kwargs)\n"
     ]
    },
    {
     "name": "stdout",
     "output_type": "stream",
     "text": [
      "\u001b[2m\u001b[36m(train_velovgi pid=3905)\u001b[0m load /mnt/h/F_bak/Python进阶/scRNA/Other/velovgi_workstation/notebook/local_pc/erythroid_lineage/data/adata/adata.h5ad\n",
      "\u001b[2m\u001b[36m(train_velovgi pid=3905)\u001b[0m load /mnt/h/F_bak/Python进阶/scRNA/Other/velovgi_workstation/notebook/local_pc/erythroid_lineage/data/adata/sample_recover.pkl\n",
      "\u001b[2m\u001b[36m(train_velovgi pid=3905)\u001b[0m 初始训练，初始化runner参数\n",
      "\u001b[2m\u001b[36m(train_velovgi pid=3905)\u001b[0m choosing neighbor minibatch\n"
     ]
    },
    {
     "name": "stderr",
     "output_type": "stream",
     "text": [
      "\u001b[2m\u001b[36m(train_velovgi pid=3905)\u001b[0m GPU available: False, used: False\n",
      "\u001b[2m\u001b[36m(train_velovgi pid=3905)\u001b[0m TPU available: False, using: 0 TPU cores\n",
      "\u001b[2m\u001b[36m(train_velovgi pid=3905)\u001b[0m IPU available: False, using: 0 IPUs\n",
      "\u001b[2m\u001b[36m(train_velovgi pid=3905)\u001b[0m HPU available: False, using: 0 HPUs\n",
      "\u001b[2m\u001b[36m(train_velovgi pid=3905)\u001b[0m Missing logger folder: ./log/n_hidden_128\n"
     ]
    },
    {
     "name": "stdout",
     "output_type": "stream",
     "text": [
      "Epoch 1/10:   0%|          | 0/10 [00:00<?, ?it/s]\n",
      "Epoch 1/10:  10%|█         | 1/10 [00:01<00:13,  1.53s/it, loss=1.93e+06, v_num=0]\n",
      "Epoch 2/10:  10%|█         | 1/10 [00:01<00:13,  1.53s/it, loss=1.93e+06, v_num=0]\n"
     ]
    },
    {
     "name": "stderr",
     "output_type": "stream",
     "text": [
      "\u001b[2m\u001b[36m(pid=3969)\u001b[0m Global seed set to 0\n",
      "\u001b[2m\u001b[36m(pid=3969)\u001b[0m /usr/local/conda/envs/velovi-env/lib/python3.8/site-packages/pytorch_lightning/utilities/warnings.py:53: LightningDeprecationWarning: pytorch_lightning.utilities.warnings.rank_zero_deprecation has been deprecated in v1.6 and will be removed in v1.8. Use the equivalent function from the pytorch_lightning.utilities.rank_zero module instead.\n",
      "\u001b[2m\u001b[36m(pid=3969)\u001b[0m   new_rank_zero_deprecation(\n",
      "\u001b[2m\u001b[36m(pid=3969)\u001b[0m /usr/local/conda/envs/velovi-env/lib/python3.8/site-packages/pytorch_lightning/utilities/warnings.py:58: LightningDeprecationWarning: The `pytorch_lightning.loggers.base.rank_zero_experiment` is deprecated in v1.7 and will be removed in v1.9. Please use `pytorch_lightning.loggers.logger.rank_zero_experiment` instead.\n",
      "\u001b[2m\u001b[36m(pid=3969)\u001b[0m   return new_rank_zero_deprecation(*args, **kwargs)\n"
     ]
    },
    {
     "name": "stdout",
     "output_type": "stream",
     "text": [
      "Epoch 3/10:  20%|██        | 2/10 [00:03<00:12,  1.51s/it, loss=1.9e+06, v_num=0] \n",
      "\u001b[2m\u001b[36m(train_velovgi pid=3969)\u001b[0m load /mnt/h/F_bak/Python进阶/scRNA/Other/velovgi_workstation/notebook/local_pc/erythroid_lineage/data/adata/sample_recover.pkl\n",
      "\u001b[2m\u001b[36m(train_velovgi pid=3969)\u001b[0m load /mnt/h/F_bak/Python进阶/scRNA/Other/velovgi_workstation/notebook/local_pc/erythroid_lineage/data/adata/sample_recover.pkl\n",
      "Epoch 4/10:  30%|███       | 3/10 [00:04<00:10,  1.49s/it, loss=1.88e+06, v_num=0]\n",
      "Epoch 4/10:  40%|████      | 4/10 [00:06<00:09,  1.54s/it, loss=1.85e+06, v_num=0]\n",
      "Epoch 4/10:  40%|████      | 4/10 [00:06<00:09,  1.54s/it, loss=1.85e+06, v_num=0]\n",
      "Epoch 4/10:  40%|████      | 4/10 [00:06<00:09,  1.54s/it, loss=1.85e+06, v_num=0]\n",
      "Epoch 4/10:  40%|████      | 4/10 [00:06<00:09,  1.54s/it, loss=1.85e+06, v_num=0]\n",
      "Epoch 5/10:  40%|████      | 4/10 [00:06<00:09,  1.54s/it, loss=1.85e+06, v_num=0]\n",
      "Epoch 7/10:  60%|██████    | 6/10 [00:09<00:06,  1.53s/it, loss=1.78e+06, v_num=0]\u001b[32m [repeated 4x across cluster] (Ray deduplicates logs by default. Set RAY_DEDUP_LOGS=0 to disable log deduplication, or see https://docs.ray.io/en/master/ray-observability/ray-logging.html#log-deduplication for more options.)\u001b[0m\n",
      "Epoch 3/10:  30%|███       | 3/10 [00:05<00:11,  1.70s/it, loss=1.85e+06, v_num=0]\n",
      "Epoch 4/10:  30%|███       | 3/10 [00:05<00:11,  1.70s/it, loss=1.85e+06, v_num=0]\n",
      "Epoch 7/10:  60%|██████    | 6/10 [00:10<00:06,  1.70s/it, loss=1.77e+06, v_num=0]\u001b[32m [repeated 4x across cluster]\u001b[0m\n",
      "Epoch 5/10:  50%|█████     | 5/10 [00:08<00:08,  1.72s/it, loss=1.81e+06, v_num=0]\u001b[32m [repeated 2x across cluster]\u001b[0m\n",
      "Epoch 6/10:  50%|█████     | 5/10 [00:08<00:08,  1.72s/it, loss=1.81e+06, v_num=0]\u001b[32m [repeated 2x across cluster]\u001b[0m\n",
      "Epoch 10/10: 100%|██████████| 10/10 [00:15<00:00,  1.55s/it, loss=1.63e+06, v_num=0]\n",
      "Epoch 10/10: 100%|██████████| 10/10 [00:15<00:00,  1.55s/it, loss=1.63e+06, v_num=0]\n"
     ]
    },
    {
     "name": "stderr",
     "output_type": "stream",
     "text": [
      "\u001b[2m\u001b[36m(train_velovgi pid=3905)\u001b[0m `Trainer.fit` stopped: `max_epochs=10` reached.\n",
      "\u001b[2m\u001b[36m(train_velovgi pid=3969)\u001b[0m `Trainer.fit` stopped: `max_epochs=10` reached.\n",
      "\u001b[2m\u001b[36m(train_velovgi pid=3969)\u001b[0m `Trainer.fit` stopped: `max_epochs=10` reached.\n",
      "\u001b[2m\u001b[36m(train_velovgi pid=3969)\u001b[0m `Trainer.fit` stopped: `max_epochs=10` reached.\n",
      "\u001b[2m\u001b[36m(train_velovgi pid=3969)\u001b[0m `Trainer.fit` stopped: `max_epochs=10` reached.\n",
      "\u001b[2m\u001b[36m(train_velovgi pid=3969)\u001b[0m `Trainer.fit` stopped: `max_epochs=10` reached.\n"
     ]
    },
    {
     "name": "stdout",
     "output_type": "stream",
     "text": [
      "Epoch 9/10:  90%|█████████ | 9/10 [00:15<00:01,  1.68s/it, loss=1.67e+06, v_num=0]\n",
      "Epoch 9/10:  90%|█████████ | 9/10 [00:15<00:01,  1.68s/it, loss=1.67e+06, v_num=0]\u001b[32m [repeated 2x across cluster]\u001b[0m\n",
      "Epoch 9/10:  90%|█████████ | 9/10 [00:15<00:01,  1.68s/it, loss=1.67e+06, v_num=0]\n",
      "Epoch 10/10:  90%|█████████ | 9/10 [00:15<00:01,  1.68s/it, loss=1.67e+06, v_num=0]\n",
      "Epoch 10/10: 100%|██████████| 10/10 [00:17<00:00,  1.68s/it, loss=1.64e+06, v_num=0]\n",
      "Epoch 10/10: 100%|██████████| 10/10 [00:17<00:00,  1.70s/it, loss=1.64e+06, v_num=0]\n"
     ]
    },
    {
     "name": "stderr",
     "output_type": "stream",
     "text": [
      "\u001b[2m\u001b[36m(train_velovgi pid=3969)\u001b[0m `Trainer.fit` stopped: `max_epochs=10` reached.\n"
     ]
    },
    {
     "name": "stdout",
     "output_type": "stream",
     "text": [
      "\u001b[2m\u001b[36m(train_velovgi pid=3905)\u001b[0m computing velocity graph (using 1/12 cores)\n",
      "\u001b[2m\u001b[36m(train_velovgi pid=3905)\u001b[0m   0%|          | 0/500 [00:00<?, ?cells/s]\n",
      "\u001b[2m\u001b[36m(train_velovgi pid=3905)\u001b[0m     finished (0:00:01) --> added \n",
      "\u001b[2m\u001b[36m(train_velovgi pid=3905)\u001b[0m     'velocity_graph', sparse matrix with cosine correlations (adata.uns)\n",
      "\u001b[2m\u001b[36m(train_velovgi pid=3905)\u001b[0m computing velocity embedding\n",
      "\u001b[2m\u001b[36m(train_velovgi pid=3905)\u001b[0m     finished (0:00:00) --> added\n",
      "\u001b[2m\u001b[36m(train_velovgi pid=3905)\u001b[0m     'velocity_umap', embedded velocity vectors (adata.obsm)\n",
      "\u001b[2m\u001b[36m(train_velovgi pid=3905)\u001b[0m saving figure to file ./figures/scvelo_arrow.png\n",
      "\u001b[2m\u001b[36m(train_velovgi pid=3905)\u001b[0m Figure(640x480)\n",
      "\u001b[2m\u001b[36m(train_velovgi pid=3905)\u001b[0m saving figure to file ./figures/scvelo_stream.png\n",
      "\u001b[2m\u001b[36m(train_velovgi pid=3905)\u001b[0m Figure(640x480)\n",
      "\u001b[2m\u001b[36m(train_velovgi pid=3905)\u001b[0m saving figure to file ./figures/scvelo_pseudotime.png\n",
      "\u001b[2m\u001b[36m(train_velovgi pid=3905)\u001b[0m Figure(640x480)\n",
      "\u001b[2m\u001b[36m(train_velovgi pid=3905)\u001b[0m create adata\n",
      "\u001b[2m\u001b[36m(train_velovgi pid=3905)\u001b[0m save adata/sample_recover.pkl\n",
      "\u001b[2m\u001b[36m(train_velovgi pid=3905)\u001b[0m save adata/adata.h5ad\n",
      "\u001b[2m\u001b[36m(train_velovgi pid=3969)\u001b[0m computing velocity graph (using 1/12 cores)\n",
      "\u001b[2m\u001b[36m(train_velovgi pid=3969)\u001b[0m   0%|          | 0/500 [00:00<?, ?cells/s]\n"
     ]
    },
    {
     "data": {
      "text/html": [
       "<div class=\"trialProgress\">\n",
       "  <h3>Trial Progress</h3>\n",
       "  <table>\n",
       "<thead>\n",
       "<tr><th>Trial name               </th><th style=\"text-align: right;\">   CBDir</th><th style=\"text-align: right;\">  ICVCoh</th><th>date               </th><th>done  </th><th>experiment_tag  </th><th>hostname       </th><th style=\"text-align: right;\">  iterations_since_restore</th><th>node_ip       </th><th style=\"text-align: right;\">  pid</th><th style=\"text-align: right;\">  time_since_restore</th><th style=\"text-align: right;\">  time_this_iter_s</th><th style=\"text-align: right;\">  time_total_s</th><th style=\"text-align: right;\">  timestamp</th><th style=\"text-align: right;\">  training_iteration</th><th>trial_id   </th></tr>\n",
       "</thead>\n",
       "<tbody>\n",
       "<tr><td>train_velovgi_6e982_00000</td><td style=\"text-align: right;\">0.45055 </td><td style=\"text-align: right;\">0.973809</td><td>2023-06-10_11-04-51</td><td>True  </td><td>0_n_hidden=128  </td><td>DESKTOP-9GVJMSD</td><td style=\"text-align: right;\">                         1</td><td>172.29.205.215</td><td style=\"text-align: right;\"> 3905</td><td style=\"text-align: right;\">             52.2752</td><td style=\"text-align: right;\">           52.2752</td><td style=\"text-align: right;\">       52.2752</td><td style=\"text-align: right;\"> 1686366291</td><td style=\"text-align: right;\">                   1</td><td>6e982_00000</td></tr>\n",
       "<tr><td>train_velovgi_6e982_00001</td><td style=\"text-align: right;\">0.535893</td><td style=\"text-align: right;\">0.971254</td><td>2023-06-10_11-04-59</td><td>True  </td><td>1_n_hidden=256  </td><td>DESKTOP-9GVJMSD</td><td style=\"text-align: right;\">                         1</td><td>172.29.205.215</td><td style=\"text-align: right;\"> 3969</td><td style=\"text-align: right;\">             54.2011</td><td style=\"text-align: right;\">           54.2011</td><td style=\"text-align: right;\">       54.2011</td><td style=\"text-align: right;\"> 1686366299</td><td style=\"text-align: right;\">                   1</td><td>6e982_00001</td></tr>\n",
       "</tbody>\n",
       "</table>\n",
       "</div>\n",
       "<style>\n",
       ".trialProgress {\n",
       "  display: flex;\n",
       "  flex-direction: column;\n",
       "  color: var(--jp-ui-font-color1);\n",
       "}\n",
       ".trialProgress h3 {\n",
       "  font-weight: bold;\n",
       "}\n",
       ".trialProgress td {\n",
       "  white-space: nowrap;\n",
       "}\n",
       "</style>\n"
      ],
      "text/plain": [
       "<IPython.core.display.HTML object>"
      ]
     },
     "metadata": {},
     "output_type": "display_data"
    },
    {
     "name": "stdout",
     "output_type": "stream",
     "text": [
      "\u001b[2m\u001b[36m(train_velovgi pid=3969)\u001b[0m     finished (0:00:01) --> added \n",
      "\u001b[2m\u001b[36m(train_velovgi pid=3969)\u001b[0m     'velocity_graph', sparse matrix with cosine correlations (adata.uns)\n",
      "\u001b[2m\u001b[36m(train_velovgi pid=3969)\u001b[0m computing velocity embedding\n",
      "\u001b[2m\u001b[36m(train_velovgi pid=3969)\u001b[0m     finished (0:00:00) --> added\n",
      "\u001b[2m\u001b[36m(train_velovgi pid=3969)\u001b[0m     'velocity_umap', embedded velocity vectors (adata.obsm)\n",
      "\u001b[2m\u001b[36m(train_velovgi pid=3969)\u001b[0m saving figure to file ./figures/scvelo_arrow.png\n",
      "\u001b[2m\u001b[36m(train_velovgi pid=3969)\u001b[0m Figure(640x480)\n",
      "\u001b[2m\u001b[36m(train_velovgi pid=3969)\u001b[0m saving figure to file ./figures/scvelo_stream.png\n",
      "\u001b[2m\u001b[36m(train_velovgi pid=3969)\u001b[0m Figure(640x480)\n",
      "\u001b[2m\u001b[36m(train_velovgi pid=3969)\u001b[0m saving figure to file ./figures/scvelo_pseudotime.png\n",
      "\u001b[2m\u001b[36m(train_velovgi pid=3969)\u001b[0m Figure(640x480)\n",
      "\u001b[2m\u001b[36m(train_velovgi pid=3969)\u001b[0m create adata\n",
      "\u001b[2m\u001b[36m(train_velovgi pid=3969)\u001b[0m save adata/sample_recover.pkl\n",
      "\u001b[2m\u001b[36m(train_velovgi pid=3969)\u001b[0m save adata/adata.h5ad\n"
     ]
    },
    {
     "name": "stderr",
     "output_type": "stream",
     "text": [
      "2023-06-10 11:04:59,454\tINFO tune.py:945 -- Total run time: 65.97 seconds (65.91 seconds for the tuning loop).\n"
     ]
    }
   ],
   "source": [
    "from ray.tune.schedulers import ASHAScheduler\n",
    "\n",
    "name = \"model_structure\" # TODO:指定此次调参的名字，这里是预处理过程的调参\n",
    "\n",
    "tuner = tune.Tuner(\n",
    "    train_velovgi,\n",
    "    tune_config=tune.TuneConfig(\n",
    "        metric=\"CBDir\",\n",
    "        mode=\"max\",\n",
    "        scheduler=ASHAScheduler()\n",
    "    ),\n",
    "    run_config=air.RunConfig(\n",
    "        local_dir=\"./results\", # Trail内部具体输出结果在这里保存\n",
    "        name=name # 开启调参的Tensorboard日志\n",
    "    ),\n",
    "    param_space=search_space,\n",
    ")\n",
    "\n",
    "results = tuner.fit()"
   ]
  }
 ],
 "metadata": {
  "kernelspec": {
   "display_name": "velovi-env",
   "language": "python",
   "name": "python3"
  },
  "language_info": {
   "codemirror_mode": {
    "name": "ipython",
    "version": 3
   },
   "file_extension": ".py",
   "mimetype": "text/x-python",
   "name": "python",
   "nbconvert_exporter": "python",
   "pygments_lexer": "ipython3",
   "version": "3.8.15"
  },
  "orig_nbformat": 4
 },
 "nbformat": 4,
 "nbformat_minor": 2
}
