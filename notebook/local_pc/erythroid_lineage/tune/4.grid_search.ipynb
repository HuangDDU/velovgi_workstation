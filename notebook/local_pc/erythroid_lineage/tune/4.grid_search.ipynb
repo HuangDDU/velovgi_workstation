{
 "cells": [
  {
   "attachments": {},
   "cell_type": "markdown",
   "metadata": {},
   "source": [
    "# 1.preprocess"
   ]
  },
  {
   "cell_type": "code",
   "execution_count": 1,
   "metadata": {},
   "outputs": [
    {
     "name": "stderr",
     "output_type": "stream",
     "text": [
      "Global seed set to 0\n",
      "/usr/local/conda/envs/velovi-env/lib/python3.8/site-packages/pytorch_lightning/utilities/warnings.py:53: LightningDeprecationWarning: pytorch_lightning.utilities.warnings.rank_zero_deprecation has been deprecated in v1.6 and will be removed in v1.8. Use the equivalent function from the pytorch_lightning.utilities.rank_zero module instead.\n",
      "  new_rank_zero_deprecation(\n",
      "/usr/local/conda/envs/velovi-env/lib/python3.8/site-packages/pytorch_lightning/utilities/warnings.py:58: LightningDeprecationWarning: The `pytorch_lightning.loggers.base.rank_zero_experiment` is deprecated in v1.7 and will be removed in v1.9. Please use `pytorch_lightning.loggers.logger.rank_zero_experiment` instead.\n",
      "  return new_rank_zero_deprecation(*args, **kwargs)\n"
     ]
    }
   ],
   "source": [
    "import sys\n",
    "sys.path = [\"../../..\"] + sys.path # 切换到项目目录下\n",
    "\n",
    "import scanpy as sc\n",
    "import scvelo as scv\n",
    "import velovgi\n",
    "\n",
    "from ray import tune, air\n",
    "from ray.air import session"
   ]
  },
  {
   "attachments": {},
   "cell_type": "markdown",
   "metadata": {},
   "source": [
    "1. 目标函数"
   ]
  },
  {
   "cell_type": "code",
   "execution_count": 2,
   "metadata": {},
   "outputs": [],
   "source": [
    "from pytorch_lightning import loggers\n",
    "from torch_geometric import seed_everything\n",
    "\n",
    "# TODO: 跳整多种参数，简化调参Trail的名字\n",
    "def train_velovgi(config):\n",
    "    # 提取参数\n",
    "    # 随机数种子，确保结果的可复现性\n",
    "    random_seed = config.get(\"random_seed\", 0)\n",
    "    # 预处理的参数\n",
    "    n_bnn_neighbors = config.get(\"n_bnn_neighbors\", 15)\n",
    "    n_knn_neighbors = config.get(\"n_knn_neighbors\", 15)\n",
    "    is_ot = config.get(\"is_ot\", True)\n",
    "    # 模型结构参数\n",
    "    n_hidden = config.get(\"n_hidden\", 256)\n",
    "    n_latent = config.get(\"n_latent\", 10)\n",
    "    n_layers = config.get(\"n_layers\", 1)\n",
    "    # 训练参数\n",
    "    num_neighbors = [config.get(\"num_neighbors\", 8)]*n_layers\n",
    "    max_epochs = config.get(\"max_epochs\", 10) # TODO:这里是最关键的一个参数，小epochs测试之后再提交到服务器上用大epoch\n",
    "    batch_size = config.get(\"batch_size\", 64)\n",
    "    max_kl_weight = config.get(\"max_kl_weight\", 0.8)\n",
    "\n",
    "    name = \"\"\n",
    "    for k,v in config.items():\n",
    "        name += \"%s_%s,\"%(k, v)\n",
    "    name = name[:-1]\n",
    "\n",
    "    seed_everything(random_seed)\n",
    "    # TODO:数据读入，对于不同的数据集这里需要替换\n",
    "    adata_filename = \"/mnt/h/F_bak/Python进阶/scRNA/Other/velovgi_workstation/notebook/local_pc/erythroid_lineage/data/erythroid_lineage.h5ad\" # 数据路径使用绝对路径\n",
    "    adata = scv.read(adata_filename)\n",
    "    batch_key = \"stage\" # 批次key\n",
    "    cluster_key = \"celltype\" # 细胞类型key\n",
    "    cluster_edges = [\n",
    "    (\"Blood progenitors 1\", \"Blood progenitors 2\"), \n",
    "    (\"Blood progenitors 2\", \"Erythroid1\"), \n",
    "    (\"Erythroid1\", \"Erythroid2\"), \n",
    "    (\"Erythroid2\", \"Erythroid3\")\n",
    "    ] # 指定对应数据集已知的细胞类型间的分化信息\n",
    "\n",
    "    # TODO:预处理，这里batch_pair_list以后可能需要手动指定\n",
    "    batch_list = list(adata.obs[batch_key].cat.categories)\n",
    "    batch_pair_list = list(zip(batch_list[:-1], batch_list[1:]))\n",
    "    subsample_adata = velovgi.pp.preprocess(adata,\n",
    "                                            n_bnn_neighbors=n_bnn_neighbors,\n",
    "                                            n_knn_neighbors=n_knn_neighbors,\n",
    "                                            batch_key=batch_key,\n",
    "                                            batch_pair_list=batch_pair_list,\n",
    "                                            is_ot=is_ot)\n",
    "    # TODO: 如果需要调整预处理之后的参数，就不需要重复做预处理了，读取预处理之后的结果即可\n",
    "    # adata = velovgi.tl.read_adata(\"/mnt/h/F_bak/Python进阶/scRNA/Other/velovgi_workstation/notebook/local_pc/erythroid_lineage/data/adata\")\n",
    "    # subsample_adata = scv.read(\"/mnt/h/F_bak/Python进阶/scRNA/Other/velovgi_workstation/notebook/local_pc/erythroid_lineage/data/subsample_adata.h5ad\") # 使用这个AnnData做训练\n",
    "    # seed_everything(random_seed)\n",
    "\n",
    "    # 模型训练\n",
    "    logger = loggers.TensorBoardLogger(save_dir=\"./log\", name=name)\n",
    "    velovgi.tl.VELOVGI.setup_anndata(adata=subsample_adata, spliced_layer=\"Ms\", unspliced_layer=\"Mu\")\n",
    "    velovgi_model = velovgi.tl.VELOVGI(subsample_adata,\n",
    "                                       n_hidden=n_hidden,\n",
    "                                       n_latent=n_latent,\n",
    "                                       n_layers=n_layers)\n",
    "    velovgi_model.train(num_neighbors=num_neighbors,\n",
    "                        max_epochs=max_epochs,\n",
    "                        batch_size=batch_size,\n",
    "                        plan_kwargs={\"max_kl_weight\": max_kl_weight},\n",
    "                        logger=logger)\n",
    "\n",
    "    # 模型恢复\n",
    "    velovgi.tl.add_velovi_outputs_to_adata(subsample_adata, velovgi_model) # 模型输出\n",
    "    velovgi.pp.moment_recover(adata, subsample_adata) # 恢复\n",
    "\n",
    "    # 速率计算\n",
    "    scv.tl.velocity_graph(adata)\n",
    "    scv.pl.velocity_embedding(adata, color=cluster_key, title=name, save=\"arrow.png\")\n",
    "    scv.pl.velocity_embedding_stream(adata, color=cluster_key, title=name, legend_loc=\"right\", save=\"stream.png\")\n",
    "\n",
    "    # 伪时间计算\n",
    "    scv.tl.velocity_pseudotime(adata)\n",
    "    scv.pl.velocity_embedding_stream(adata, color=\"velocity_pseudotime\", title=name, colorbar=False, save=\"pseudotime.png\")\n",
    "\n",
    "\n",
    "    # 保存结果\n",
    "    subsample_adata.write(\"subsample_adata.h5ad\")\n",
    "    velovgi.tl.write_adata(adata, \"adata\")\n",
    "    velovgi_model.save(\"model\")\n",
    "\n",
    "    # 计算指标评价\n",
    "    adata_velo = velovgi.tl.pre_metric(adata)\n",
    "    exp_metrics = velovgi.tl.summary_metric(adata_velo, cluster_edges, cluster_key)[-1] # 计算指标汇总后的结果\n",
    "\n",
    "    session.report({\"CBDir\": exp_metrics[\"CBDir\"], \"ICVCoh\": exp_metrics[\"ICVCoh\"]})\n"
   ]
  },
  {
   "attachments": {},
   "cell_type": "markdown",
   "metadata": {},
   "source": [
    "2. 搜索空间，这里可以添加键值，实现更多层面的网格调参"
   ]
  },
  {
   "cell_type": "code",
   "execution_count": 3,
   "metadata": {},
   "outputs": [],
   "source": [
    "search_space = {\n",
    "    # 随机数种子\n",
    "    # \"random_seed\" : tune.grid_search([0, 2023]),\n",
    "    # 预处理的参数\n",
    "    # \"n_bnn_neighbors\" : tune.grid_search([10,20]),\n",
    "    # \"n_knn_neighbors\" : tune.grid_search([10,20]),\n",
    "    \"is_ot\" : tune.grid_search([True, False]),\n",
    "    # 模型结构参数\n",
    "    # \"n_hidden\" : tune.grid_search([128, 256]),\n",
    "    # \"n_latent\" : tune.grid_search([8, 16]),\n",
    "    # \"n_layers\" : tune.grid_search([1, 2]),\n",
    "    # 训练参数\n",
    "    # \"num_neighbors\" : tune.grid_search([2, 4]),\n",
    "    \"max_epochs\" : tune.grid_search([10, 20, 30]),\n",
    "    # \"batch_size\" : tune.grid_search([64, 128]),\n",
    "    # \"max_kl_weight\" : tune.grid_search([0.6, 0.8]),\n",
    "}"
   ]
  },
  {
   "attachments": {},
   "cell_type": "markdown",
   "metadata": {},
   "source": [
    "3. 执行调参，等待传入实验名称和搜索空间"
   ]
  },
  {
   "cell_type": "code",
   "execution_count": 4,
   "metadata": {},
   "outputs": [
    {
     "name": "stderr",
     "output_type": "stream",
     "text": [
      "2023-06-10 11:14:16,901\tINFO worker.py:1625 -- Started a local Ray instance.\n",
      "2023-06-10 11:14:18,648\tINFO tune.py:218 -- Initializing Ray automatically. For cluster usage or custom Ray initialization, call `ray.init(...)` before `Tuner(...)`.\n",
      "2023-06-10 11:14:18,661\tINFO tensorboardx.py:172 -- pip install \"ray[tune]\" to see TensorBoard files.\n",
      "2023-06-10 11:14:18,662\tWARNING callback.py:142 -- The TensorboardX logger cannot be instantiated because either TensorboardX or one of it's dependencies is not installed. Please make sure you have the latest version of TensorboardX installed: `pip install -U tensorboardx`\n"
     ]
    },
    {
     "data": {
      "text/html": [
       "<div class=\"tuneStatus\">\n",
       "  <div style=\"display: flex;flex-direction: row\">\n",
       "    <div style=\"display: flex;flex-direction: column;\">\n",
       "      <h3>Tune Status</h3>\n",
       "      <table>\n",
       "<tbody>\n",
       "<tr><td>Current time:</td><td>2023-06-10 11:20:55</td></tr>\n",
       "<tr><td>Running for: </td><td>00:06:36.51        </td></tr>\n",
       "<tr><td>Memory:      </td><td>5.5/12.4 GiB       </td></tr>\n",
       "</tbody>\n",
       "</table>\n",
       "    </div>\n",
       "    <div class=\"vDivider\"></div>\n",
       "    <div class=\"systemInfo\">\n",
       "      <h3>System Info</h3>\n",
       "      Using AsyncHyperBand: num_stopped=0<br>Bracket: Iter 64.000: None | Iter 16.000: None | Iter 4.000: None | Iter 1.000: 0.8063753166336065<br>Logical resource usage: 0/12 CPUs, 0/0 GPUs\n",
       "    </div>\n",
       "    \n",
       "  </div>\n",
       "  <div class=\"hDivider\"></div>\n",
       "  <div class=\"trialStatus\">\n",
       "    <h3>Trial Status</h3>\n",
       "    <table>\n",
       "<thead>\n",
       "<tr><th>Trial name               </th><th>status    </th><th>loc                </th><th>is_ot  </th><th style=\"text-align: right;\">  max_epochs</th><th style=\"text-align: right;\">  iter</th><th style=\"text-align: right;\">  total time (s)</th><th style=\"text-align: right;\">   CBDir</th><th style=\"text-align: right;\">  ICVCoh</th></tr>\n",
       "</thead>\n",
       "<tbody>\n",
       "<tr><td>train_velovgi_e3382_00000</td><td>TERMINATED</td><td>172.29.205.215:6679</td><td>True   </td><td style=\"text-align: right;\">          10</td><td style=\"text-align: right;\">     1</td><td style=\"text-align: right;\">         220.738</td><td style=\"text-align: right;\">0.517838</td><td style=\"text-align: right;\">0.970699</td></tr>\n",
       "<tr><td>train_velovgi_e3382_00001</td><td>TERMINATED</td><td>172.29.205.215:6748</td><td>False  </td><td style=\"text-align: right;\">          10</td><td style=\"text-align: right;\">     1</td><td style=\"text-align: right;\">         255.032</td><td style=\"text-align: right;\">0.517838</td><td style=\"text-align: right;\">0.970699</td></tr>\n",
       "<tr><td>train_velovgi_e3382_00002</td><td>TERMINATED</td><td>172.29.205.215:6810</td><td>True   </td><td style=\"text-align: right;\">          20</td><td style=\"text-align: right;\">     1</td><td style=\"text-align: right;\">         322.986</td><td style=\"text-align: right;\">0.728481</td><td style=\"text-align: right;\">0.970445</td></tr>\n",
       "<tr><td>train_velovgi_e3382_00003</td><td>TERMINATED</td><td>172.29.205.215:6899</td><td>False  </td><td style=\"text-align: right;\">          20</td><td style=\"text-align: right;\">     1</td><td style=\"text-align: right;\">         317.804</td><td style=\"text-align: right;\">0.728481</td><td style=\"text-align: right;\">0.970445</td></tr>\n",
       "<tr><td>train_velovgi_e3382_00004</td><td>TERMINATED</td><td>172.29.205.215:7010</td><td>True   </td><td style=\"text-align: right;\">          30</td><td style=\"text-align: right;\">     1</td><td style=\"text-align: right;\">         324.379</td><td style=\"text-align: right;\">0.83234 </td><td style=\"text-align: right;\">0.974324</td></tr>\n",
       "<tr><td>train_velovgi_e3382_00005</td><td>TERMINATED</td><td>172.29.205.215:7122</td><td>False  </td><td style=\"text-align: right;\">          30</td><td style=\"text-align: right;\">     1</td><td style=\"text-align: right;\">         294.288</td><td style=\"text-align: right;\">0.83234 </td><td style=\"text-align: right;\">0.974324</td></tr>\n",
       "</tbody>\n",
       "</table>\n",
       "  </div>\n",
       "</div>\n",
       "<style>\n",
       ".tuneStatus {\n",
       "  color: var(--jp-ui-font-color1);\n",
       "}\n",
       ".tuneStatus .systemInfo {\n",
       "  display: flex;\n",
       "  flex-direction: column;\n",
       "}\n",
       ".tuneStatus td {\n",
       "  white-space: nowrap;\n",
       "}\n",
       ".tuneStatus .trialStatus {\n",
       "  display: flex;\n",
       "  flex-direction: column;\n",
       "}\n",
       ".tuneStatus h3 {\n",
       "  font-weight: bold;\n",
       "}\n",
       ".tuneStatus .hDivider {\n",
       "  border-bottom-width: var(--jp-border-width);\n",
       "  border-bottom-color: var(--jp-border-color0);\n",
       "  border-bottom-style: solid;\n",
       "}\n",
       ".tuneStatus .vDivider {\n",
       "  border-left-width: var(--jp-border-width);\n",
       "  border-left-color: var(--jp-border-color0);\n",
       "  border-left-style: solid;\n",
       "  margin: 0.5em 1em 0.5em 1em;\n",
       "}\n",
       "</style>\n"
      ],
      "text/plain": [
       "<IPython.core.display.HTML object>"
      ]
     },
     "metadata": {},
     "output_type": "display_data"
    },
    {
     "name": "stderr",
     "output_type": "stream",
     "text": [
      "\u001b[2m\u001b[36m(pid=6679)\u001b[0m Global seed set to 0\n",
      "\u001b[2m\u001b[36m(pid=6679)\u001b[0m /usr/local/conda/envs/velovi-env/lib/python3.8/site-packages/pytorch_lightning/utilities/warnings.py:53: LightningDeprecationWarning: pytorch_lightning.utilities.warnings.rank_zero_deprecation has been deprecated in v1.6 and will be removed in v1.8. Use the equivalent function from the pytorch_lightning.utilities.rank_zero module instead.\n",
      "\u001b[2m\u001b[36m(pid=6679)\u001b[0m   new_rank_zero_deprecation(\n",
      "\u001b[2m\u001b[36m(pid=6679)\u001b[0m /usr/local/conda/envs/velovi-env/lib/python3.8/site-packages/pytorch_lightning/utilities/warnings.py:58: LightningDeprecationWarning: The `pytorch_lightning.loggers.base.rank_zero_experiment` is deprecated in v1.7 and will be removed in v1.9. Please use `pytorch_lightning.loggers.logger.rank_zero_experiment` instead.\n",
      "\u001b[2m\u001b[36m(pid=6679)\u001b[0m   return new_rank_zero_deprecation(*args, **kwargs)\n"
     ]
    },
    {
     "name": "stdout",
     "output_type": "stream",
     "text": [
      "\u001b[2m\u001b[36m(train_velovgi pid=6679)\u001b[0m Filtered out 51490 genes that are detected 20 counts (shared).\n",
      "\u001b[2m\u001b[36m(train_velovgi pid=6679)\u001b[0m Normalized count data: X, spliced, unspliced.\n",
      "\u001b[2m\u001b[36m(train_velovgi pid=6679)\u001b[0m Extracted 2000 highly variable genes.\n",
      "\u001b[2m\u001b[36m(train_velovgi pid=6679)\u001b[0m Logarithmized X.\n",
      "\u001b[2m\u001b[36m(train_velovgi pid=6679)\u001b[0m use_rep : X_pca\n"
     ]
    },
    {
     "name": "stderr",
     "output_type": "stream",
     "text": [
      "\u001b[2m\u001b[36m(train_velovgi pid=6679)\u001b[0m WARNING: n_obs too small: adjusting to `n_neighbors = 1`\n",
      "\u001b[2m\u001b[36m(pid=6748)\u001b[0m Global seed set to 0\n",
      "\u001b[2m\u001b[36m(pid=6748)\u001b[0m /usr/local/conda/envs/velovi-env/lib/python3.8/site-packages/pytorch_lightning/utilities/warnings.py:53: LightningDeprecationWarning: pytorch_lightning.utilities.warnings.rank_zero_deprecation has been deprecated in v1.6 and will be removed in v1.8. Use the equivalent function from the pytorch_lightning.utilities.rank_zero module instead.\n",
      "\u001b[2m\u001b[36m(pid=6748)\u001b[0m   new_rank_zero_deprecation(\n",
      "\u001b[2m\u001b[36m(pid=6748)\u001b[0m /usr/local/conda/envs/velovi-env/lib/python3.8/site-packages/pytorch_lightning/utilities/warnings.py:58: LightningDeprecationWarning: The `pytorch_lightning.loggers.base.rank_zero_experiment` is deprecated in v1.7 and will be removed in v1.9. Please use `pytorch_lightning.loggers.logger.rank_zero_experiment` instead.\n",
      "\u001b[2m\u001b[36m(pid=6748)\u001b[0m   return new_rank_zero_deprecation(*args, **kwargs)\n"
     ]
    },
    {
     "name": "stdout",
     "output_type": "stream",
     "text": [
      "\u001b[2m\u001b[36m(train_velovgi pid=6748)\u001b[0m Normalized count data: X, spliced, unspliced.\n",
      "\u001b[2m\u001b[36m(train_velovgi pid=6748)\u001b[0m Normalized count data: X, spliced, unspliced.\n",
      "\u001b[2m\u001b[36m(train_velovgi pid=6748)\u001b[0m Extracted 2000 highly variable genes.\n",
      "\u001b[2m\u001b[36m(train_velovgi pid=6748)\u001b[0m Logarithmized X.\n",
      "\u001b[2m\u001b[36m(train_velovgi pid=6748)\u001b[0m use_rep : X_pca\n"
     ]
    },
    {
     "name": "stderr",
     "output_type": "stream",
     "text": [
      "\u001b[2m\u001b[36m(train_velovgi pid=6748)\u001b[0m WARNING: n_obs too small: adjusting to `n_neighbors = 1`\n",
      "\u001b[2m\u001b[36m(train_velovgi pid=6679)\u001b[0m OMP: Info #276: omp_set_nested routine deprecated, please use omp_set_max_active_levels instead.\n",
      "\u001b[2m\u001b[36m(train_velovgi pid=6679)\u001b[0m WARNING: n_obs too small: adjusting to `n_neighbors = 3`\n"
     ]
    },
    {
     "name": "stdout",
     "output_type": "stream",
     "text": [
      "\u001b[2m\u001b[36m(train_velovgi pid=6679)\u001b[0m batch_pair_list : [('E7.0', 'E7.25'), ('E7.25', 'E7.5'), ('E7.5', 'E7.75'), ('E7.75', 'E8.0'), ('E8.0', 'E8.25'), ('E8.25', 'E8.5')]\n",
      "\u001b[2m\u001b[36m(train_velovgi pid=6679)\u001b[0m pair ('E7.0', 'E7.25') cells not enough, k=1\n",
      "\u001b[2m\u001b[36m(train_velovgi pid=6679)\u001b[0m pair ('E7.25', 'E7.5') cells not enough, k=5\n",
      "\u001b[2m\u001b[36m(train_velovgi pid=6679)\u001b[0m computing neighbors\n",
      "\u001b[2m\u001b[36m(train_velovgi pid=6679)\u001b[0m     finished (0:00:00) --> added \n",
      "\u001b[2m\u001b[36m(train_velovgi pid=6679)\u001b[0m     'distances' and 'connectivities', weighted adjacency matrices (adata.obsp)\n",
      "\u001b[2m\u001b[36m(train_velovgi pid=6679)\u001b[0m computing moments based on connectivities\n",
      "\u001b[2m\u001b[36m(train_velovgi pid=6679)\u001b[0m     finished (0:00:00) --> added \n",
      "\u001b[2m\u001b[36m(train_velovgi pid=6679)\u001b[0m     'Ms' and 'Mu', moments of un/spliced abundances (adata.layers)\n",
      "\u001b[2m\u001b[36m(train_velovgi pid=6679)\u001b[0m 初始训练，初始化runner参数\n",
      "\u001b[2m\u001b[36m(train_velovgi pid=6679)\u001b[0m choosing neighbor minibatch\n"
     ]
    },
    {
     "name": "stderr",
     "output_type": "stream",
     "text": [
      "\u001b[2m\u001b[36m(train_velovgi pid=6679)\u001b[0m GPU available: False, used: False\n",
      "\u001b[2m\u001b[36m(train_velovgi pid=6679)\u001b[0m TPU available: False, using: 0 TPU cores\n",
      "\u001b[2m\u001b[36m(train_velovgi pid=6679)\u001b[0m IPU available: False, using: 0 IPUs\n",
      "\u001b[2m\u001b[36m(train_velovgi pid=6679)\u001b[0m HPU available: False, using: 0 HPUs\n",
      "\u001b[2m\u001b[36m(train_velovgi pid=6679)\u001b[0m Missing logger folder: ./log/is_ot_True,max_epochs_10\n"
     ]
    },
    {
     "name": "stdout",
     "output_type": "stream",
     "text": [
      "Epoch 1/10:   0%|          | 0/10 [00:00<?, ?it/s]\n",
      "Epoch 2/10:  10%|█         | 1/10 [00:02<00:20,  2.31s/it, loss=1.91e+06, v_num=0]\n"
     ]
    },
    {
     "name": "stderr",
     "output_type": "stream",
     "text": [
      "\u001b[2m\u001b[36m(pid=6810)\u001b[0m Global seed set to 0\n",
      "\u001b[2m\u001b[36m(pid=6810)\u001b[0m /usr/local/conda/envs/velovi-env/lib/python3.8/site-packages/pytorch_lightning/utilities/warnings.py:53: LightningDeprecationWarning: pytorch_lightning.utilities.warnings.rank_zero_deprecation has been deprecated in v1.6 and will be removed in v1.8. Use the equivalent function from the pytorch_lightning.utilities.rank_zero module instead.\n",
      "\u001b[2m\u001b[36m(pid=6810)\u001b[0m   new_rank_zero_deprecation(\n",
      "\u001b[2m\u001b[36m(pid=6810)\u001b[0m /usr/local/conda/envs/velovi-env/lib/python3.8/site-packages/pytorch_lightning/utilities/warnings.py:58: LightningDeprecationWarning: The `pytorch_lightning.loggers.base.rank_zero_experiment` is deprecated in v1.7 and will be removed in v1.9. Please use `pytorch_lightning.loggers.logger.rank_zero_experiment` instead.\n",
      "\u001b[2m\u001b[36m(pid=6810)\u001b[0m   return new_rank_zero_deprecation(*args, **kwargs)\n"
     ]
    },
    {
     "name": "stdout",
     "output_type": "stream",
     "text": [
      "Epoch 2/10:  20%|██        | 2/10 [00:04<00:16,  2.12s/it, loss=1.87e+06, v_num=0]\n",
      "Epoch 3/10:  20%|██        | 2/10 [00:04<00:16,  2.12s/it, loss=1.87e+06, v_num=0]\n",
      "Epoch 3/10:  30%|███       | 3/10 [00:06<00:14,  2.01s/it, loss=1.85e+06, v_num=0]\n",
      "Epoch 4/10:  30%|███       | 3/10 [00:06<00:14,  2.01s/it, loss=1.85e+06, v_num=0]\n",
      "\u001b[2m\u001b[36m(train_velovgi pid=6810)\u001b[0m Filtered out 51490 genes that are detected 20 counts (shared).\n",
      "\u001b[2m\u001b[36m(train_velovgi pid=6810)\u001b[0m Normalized count data: X, spliced, unspliced.\n",
      "\u001b[2m\u001b[36m(train_velovgi pid=6810)\u001b[0m Extracted 2000 highly variable genes.\n",
      "\u001b[2m\u001b[36m(train_velovgi pid=6810)\u001b[0m Logarithmized X.\n",
      "\u001b[2m\u001b[36m(train_velovgi pid=6810)\u001b[0m use_rep : X_pca\n"
     ]
    },
    {
     "name": "stderr",
     "output_type": "stream",
     "text": [
      "\u001b[2m\u001b[36m(train_velovgi pid=6810)\u001b[0m WARNING: n_obs too small: adjusting to `n_neighbors = 1`\n"
     ]
    },
    {
     "name": "stdout",
     "output_type": "stream",
     "text": [
      "Epoch 4/10:  40%|████      | 4/10 [00:08<00:12,  2.03s/it, loss=1.83e+06, v_num=0]\n",
      "Epoch 5/10:  40%|████      | 4/10 [00:08<00:12,  2.03s/it, loss=1.83e+06, v_num=0]\n"
     ]
    },
    {
     "name": "stderr",
     "output_type": "stream",
     "text": [
      "\u001b[2m\u001b[36m(train_velovgi pid=6748)\u001b[0m OMP: Info #276: omp_set_nested routine deprecated, please use omp_set_max_active_levels instead.\n"
     ]
    },
    {
     "name": "stdout",
     "output_type": "stream",
     "text": [
      "Epoch 6/10:  50%|█████     | 5/10 [00:10<00:11,  2.24s/it, loss=1.81e+06, v_num=0]\n",
      "\u001b[2m\u001b[36m(train_velovgi pid=6748)\u001b[0m batch_pair_list : [('E7.0', 'E7.25'), ('E7.25', 'E7.5'), ('E7.5', 'E7.75'), ('E7.75', 'E8.0'), ('E8.0', 'E8.25'), ('E8.25', 'E8.5')]\n",
      "\u001b[2m\u001b[36m(train_velovgi pid=6748)\u001b[0m pair ('E7.0', 'E7.25') cells not enough, k=1\n",
      "\u001b[2m\u001b[36m(train_velovgi pid=6748)\u001b[0m pair ('E7.25', 'E7.5') cells not enough, k=5\n",
      "\u001b[2m\u001b[36m(train_velovgi pid=6748)\u001b[0m computing neighbors\n",
      "\u001b[2m\u001b[36m(train_velovgi pid=6748)\u001b[0m     finished (0:00:00) --> added \n",
      "\u001b[2m\u001b[36m(train_velovgi pid=6748)\u001b[0m     'distances' and 'connectivities', weighted adjacency matrices (adata.obsp)\n",
      "\u001b[2m\u001b[36m(train_velovgi pid=6748)\u001b[0m computing moments based on connectivities\n",
      "\u001b[2m\u001b[36m(train_velovgi pid=6748)\u001b[0m     finished (0:00:00) --> added \n",
      "\u001b[2m\u001b[36m(train_velovgi pid=6748)\u001b[0m     'Ms' and 'Mu', moments of un/spliced abundances (adata.layers)\n",
      "\u001b[2m\u001b[36m(train_velovgi pid=6748)\u001b[0m 初始训练，初始化runner参数\n",
      "\u001b[2m\u001b[36m(train_velovgi pid=6748)\u001b[0m choosing neighbor minibatch\n"
     ]
    },
    {
     "name": "stderr",
     "output_type": "stream",
     "text": [
      "\u001b[2m\u001b[36m(train_velovgi pid=6748)\u001b[0m GPU available: False, used: False\n",
      "\u001b[2m\u001b[36m(train_velovgi pid=6748)\u001b[0m TPU available: False, using: 0 TPU cores\n",
      "\u001b[2m\u001b[36m(train_velovgi pid=6748)\u001b[0m IPU available: False, using: 0 IPUs\n",
      "\u001b[2m\u001b[36m(train_velovgi pid=6748)\u001b[0m HPU available: False, using: 0 HPUs\n",
      "\u001b[2m\u001b[36m(train_velovgi pid=6748)\u001b[0m Missing logger folder: ./log/is_ot_False,max_epochs_10\n",
      "\u001b[2m\u001b[36m(train_velovgi pid=6748)\u001b[0m Missing logger folder: ./log/is_ot_False,max_epochs_10\n"
     ]
    },
    {
     "name": "stdout",
     "output_type": "stream",
     "text": [
      "Epoch 1/10:   0%|          | 0/10 [00:00<?, ?it/s]\n",
      "Epoch 6/10:  60%|██████    | 6/10 [00:14<00:10,  2.74s/it, loss=1.77e+06, v_num=0]\n",
      "Epoch 7/10:  60%|██████    | 6/10 [00:14<00:10,  2.74s/it, loss=1.77e+06, v_num=0]\n",
      "Epoch 2/10:  10%|█         | 1/10 [00:04<00:37,  4.15s/it, loss=1.91e+06, v_num=0]\n",
      "Epoch 7/10:  70%|███████   | 7/10 [00:18<00:09,  3.08s/it, loss=1.74e+06, v_num=0]\n",
      "Epoch 8/10:  70%|███████   | 7/10 [00:18<00:09,  3.08s/it, loss=1.74e+06, v_num=0]\n"
     ]
    },
    {
     "name": "stderr",
     "output_type": "stream",
     "text": [
      "\u001b[2m\u001b[36m(pid=6899)\u001b[0m Global seed set to 0\n"
     ]
    },
    {
     "name": "stdout",
     "output_type": "stream",
     "text": [
      "Epoch 2/10:  20%|██        | 2/10 [00:07<00:30,  3.83s/it, loss=1.87e+06, v_num=0]\n",
      "Epoch 3/10:  20%|██        | 2/10 [00:07<00:30,  3.83s/it, loss=1.87e+06, v_num=0]\n"
     ]
    },
    {
     "name": "stderr",
     "output_type": "stream",
     "text": [
      "\u001b[2m\u001b[36m(pid=6899)\u001b[0m /usr/local/conda/envs/velovi-env/lib/python3.8/site-packages/pytorch_lightning/utilities/warnings.py:53: LightningDeprecationWarning: pytorch_lightning.utilities.warnings.rank_zero_deprecation has been deprecated in v1.6 and will be removed in v1.8. Use the equivalent function from the pytorch_lightning.utilities.rank_zero module instead.\n",
      "\u001b[2m\u001b[36m(pid=6899)\u001b[0m   new_rank_zero_deprecation(\n",
      "\u001b[2m\u001b[36m(pid=6899)\u001b[0m /usr/local/conda/envs/velovi-env/lib/python3.8/site-packages/pytorch_lightning/utilities/warnings.py:58: LightningDeprecationWarning: The `pytorch_lightning.loggers.base.rank_zero_experiment` is deprecated in v1.7 and will be removed in v1.9. Please use `pytorch_lightning.loggers.logger.rank_zero_experiment` instead.\n",
      "\u001b[2m\u001b[36m(pid=6899)\u001b[0m   return new_rank_zero_deprecation(*args, **kwargs)\n"
     ]
    },
    {
     "name": "stdout",
     "output_type": "stream",
     "text": [
      "Epoch 8/10:  80%|████████  | 8/10 [00:22<00:06,  3.43s/it, loss=1.71e+06, v_num=0]\n",
      "Epoch 3/10:  30%|███       | 3/10 [00:13<00:32,  4.58s/it, loss=1.85e+06, v_num=0]\n",
      "Epoch 4/10:  30%|███       | 3/10 [00:13<00:32,  4.58s/it, loss=1.85e+06, v_num=0]\n",
      "\u001b[2m\u001b[36m(train_velovgi pid=6899)\u001b[0m Filtered out 51490 genes that are detected 20 counts (shared).\n",
      "\u001b[2m\u001b[36m(train_velovgi pid=6899)\u001b[0m Normalized count data: X, spliced, unspliced.\n",
      "Epoch 9/10:  90%|█████████ | 9/10 [00:27<00:03,  4.00s/it, loss=1.67e+06, v_num=0]\u001b[32m [repeated 2x across cluster] (Ray deduplicates logs by default. Set RAY_DEDUP_LOGS=0 to disable log deduplication, or see https://docs.ray.io/en/master/ray-observability/ray-logging.html#log-deduplication for more options.)\u001b[0m\n",
      "\u001b[2m\u001b[36m(train_velovgi pid=6899)\u001b[0m Extracted 2000 highly variable genes.\n",
      "\u001b[2m\u001b[36m(train_velovgi pid=6899)\u001b[0m Logarithmized X.\n",
      "\u001b[2m\u001b[36m(train_velovgi pid=6899)\u001b[0m use_rep : X_pca\n"
     ]
    },
    {
     "name": "stderr",
     "output_type": "stream",
     "text": [
      "\u001b[2m\u001b[36m(train_velovgi pid=6899)\u001b[0m WARNING: n_obs too small: adjusting to `n_neighbors = 1`\n",
      "\u001b[2m\u001b[36m(train_velovgi pid=6810)\u001b[0m OMP: Info #276: omp_set_nested routine deprecated, please use omp_set_max_active_levels instead.\n"
     ]
    },
    {
     "name": "stdout",
     "output_type": "stream",
     "text": [
      "Epoch 4/10:  40%|████      | 4/10 [00:18<00:29,  4.95s/it, loss=1.83e+06, v_num=0]\n",
      "Epoch 5/10:  40%|████      | 4/10 [00:18<00:29,  4.95s/it, loss=1.83e+06, v_num=0]\n"
     ]
    },
    {
     "name": "stderr",
     "output_type": "stream",
     "text": [
      "\u001b[2m\u001b[36m(train_velovgi pid=6679)\u001b[0m `Trainer.fit` stopped: `max_epochs=10` reached.\n"
     ]
    },
    {
     "name": "stdout",
     "output_type": "stream",
     "text": [
      "Epoch 10/10: 100%|██████████| 10/10 [00:33<00:00,  3.33s/it, loss=1.63e+06, v_num=0]\n",
      "Epoch 10/10: 100%|██████████| 10/10 [00:33<00:00,  3.33s/it, loss=1.63e+06, v_num=0]\n"
     ]
    },
    {
     "name": "stderr",
     "output_type": "stream",
     "text": [
      "\u001b[2m\u001b[36m(train_velovgi pid=6810)\u001b[0m WARNING: n_obs too small: adjusting to `n_neighbors = 3`\n"
     ]
    },
    {
     "name": "stdout",
     "output_type": "stream",
     "text": [
      "\u001b[2m\u001b[36m(train_velovgi pid=6810)\u001b[0m batch_pair_list : [('E7.0', 'E7.25'), ('E7.25', 'E7.5'), ('E7.5', 'E7.75'), ('E7.75', 'E8.0'), ('E8.0', 'E8.25'), ('E8.25', 'E8.5')]\n",
      "\u001b[2m\u001b[36m(train_velovgi pid=6810)\u001b[0m pair ('E7.0', 'E7.25') cells not enough, k=1\n",
      "\u001b[2m\u001b[36m(train_velovgi pid=6810)\u001b[0m pair ('E7.25', 'E7.5') cells not enough, k=5\n",
      "\u001b[2m\u001b[36m(train_velovgi pid=6810)\u001b[0m computing neighbors\n",
      "\u001b[2m\u001b[36m(train_velovgi pid=6810)\u001b[0m     finished (0:00:00) --> added \n",
      "\u001b[2m\u001b[36m(train_velovgi pid=6810)\u001b[0m     'distances' and 'connectivities', weighted adjacency matrices (adata.obsp)\n",
      "\u001b[2m\u001b[36m(train_velovgi pid=6810)\u001b[0m computing moments based on connectivities\n",
      "\u001b[2m\u001b[36m(train_velovgi pid=6810)\u001b[0m     finished (0:00:00) --> added \n",
      "\u001b[2m\u001b[36m(train_velovgi pid=6810)\u001b[0m     'Ms' and 'Mu', moments of un/spliced abundances (adata.layers)\n",
      "\u001b[2m\u001b[36m(train_velovgi pid=6810)\u001b[0m 初始训练，初始化runner参数\n",
      "\u001b[2m\u001b[36m(train_velovgi pid=6810)\u001b[0m choosing neighbor minibatch\n"
     ]
    },
    {
     "name": "stderr",
     "output_type": "stream",
     "text": [
      "\u001b[2m\u001b[36m(train_velovgi pid=6810)\u001b[0m GPU available: False, used: False\n",
      "\u001b[2m\u001b[36m(train_velovgi pid=6810)\u001b[0m TPU available: False, using: 0 TPU cores\n",
      "\u001b[2m\u001b[36m(train_velovgi pid=6810)\u001b[0m IPU available: False, using: 0 IPUs\n",
      "\u001b[2m\u001b[36m(train_velovgi pid=6810)\u001b[0m HPU available: False, using: 0 HPUs\n",
      "\u001b[2m\u001b[36m(train_velovgi pid=6810)\u001b[0m Missing logger folder: ./log/is_ot_True,max_epochs_20\n"
     ]
    },
    {
     "name": "stdout",
     "output_type": "stream",
     "text": [
      "Epoch 1/20:   0%|          | 0/20 [00:00<?, ?it/s]\n",
      "Epoch 5/10:  50%|█████     | 5/10 [00:26<00:29,  5.85s/it, loss=1.81e+06, v_num=0]\n",
      "Epoch 6/10:  50%|█████     | 5/10 [00:26<00:29,  5.85s/it, loss=1.81e+06, v_num=0]\n",
      "Epoch 2/20:   5%|▌         | 1/20 [00:07<02:21,  7.43s/it, loss=1.91e+06, v_num=0]\n",
      "Epoch 6/10:  60%|██████    | 6/10 [00:30<00:21,  5.41s/it, loss=1.77e+06, v_num=0]\n",
      "Epoch 7/10:  60%|██████    | 6/10 [00:30<00:21,  5.41s/it, loss=1.77e+06, v_num=0]\n"
     ]
    },
    {
     "name": "stderr",
     "output_type": "stream",
     "text": [
      "\u001b[2m\u001b[36m(pid=7010)\u001b[0m Global seed set to 0\n",
      "\u001b[2m\u001b[36m(pid=7010)\u001b[0m /usr/local/conda/envs/velovi-env/lib/python3.8/site-packages/pytorch_lightning/utilities/warnings.py:53: LightningDeprecationWarning: pytorch_lightning.utilities.warnings.rank_zero_deprecation has been deprecated in v1.6 and will be removed in v1.8. Use the equivalent function from the pytorch_lightning.utilities.rank_zero module instead.\n",
      "\u001b[2m\u001b[36m(pid=7010)\u001b[0m   new_rank_zero_deprecation(\n",
      "\u001b[2m\u001b[36m(pid=7010)\u001b[0m /usr/local/conda/envs/velovi-env/lib/python3.8/site-packages/pytorch_lightning/utilities/warnings.py:58: LightningDeprecationWarning: The `pytorch_lightning.loggers.base.rank_zero_experiment` is deprecated in v1.7 and will be removed in v1.9. Please use `pytorch_lightning.loggers.logger.rank_zero_experiment` instead.\n",
      "\u001b[2m\u001b[36m(pid=7010)\u001b[0m   return new_rank_zero_deprecation(*args, **kwargs)\n"
     ]
    },
    {
     "name": "stdout",
     "output_type": "stream",
     "text": [
      "Epoch 2/20:  10%|█         | 2/20 [00:11<01:40,  5.57s/it, loss=1.87e+06, v_num=0]\n",
      "Epoch 3/20:  10%|█         | 2/20 [00:11<01:40,  5.57s/it, loss=1.87e+06, v_num=0]\n",
      "Epoch 8/10:  70%|███████   | 7/10 [00:35<00:15,  5.32s/it, loss=1.74e+06, v_num=0]\n",
      "\u001b[2m\u001b[36m(train_velovgi pid=7010)\u001b[0m Filtered out 51490 genes that are detected 20 counts (shared).\n",
      "\u001b[2m\u001b[36m(train_velovgi pid=7010)\u001b[0m Normalized count data: X, spliced, unspliced.\n",
      "\u001b[2m\u001b[36m(train_velovgi pid=7010)\u001b[0m Extracted 2000 highly variable genes.\n",
      "\u001b[2m\u001b[36m(train_velovgi pid=7010)\u001b[0m Logarithmized X.\n",
      "\u001b[2m\u001b[36m(train_velovgi pid=7010)\u001b[0m use_rep : X_pca\n"
     ]
    },
    {
     "name": "stderr",
     "output_type": "stream",
     "text": [
      "\u001b[2m\u001b[36m(train_velovgi pid=7010)\u001b[0m WARNING: n_obs too small: adjusting to `n_neighbors = 1`\n"
     ]
    },
    {
     "name": "stdout",
     "output_type": "stream",
     "text": [
      "Epoch 3/20:  15%|█▌        | 3/20 [00:20<01:58,  7.00s/it, loss=1.85e+06, v_num=0]\n",
      "Epoch 4/20:  15%|█▌        | 3/20 [00:20<01:58,  7.00s/it, loss=1.85e+06, v_num=0]\n"
     ]
    },
    {
     "name": "stderr",
     "output_type": "stream",
     "text": [
      "\u001b[2m\u001b[36m(train_velovgi pid=6899)\u001b[0m OMP: Info #276: omp_set_nested routine deprecated, please use omp_set_max_active_levels instead.\n",
      "\u001b[2m\u001b[36m(train_velovgi pid=6899)\u001b[0m WARNING: n_obs too small: adjusting to `n_neighbors = 3`\n"
     ]
    },
    {
     "name": "stdout",
     "output_type": "stream",
     "text": [
      "\u001b[2m\u001b[36m(train_velovgi pid=6899)\u001b[0m batch_pair_list : [('E7.0', 'E7.25'), ('E7.25', 'E7.5'), ('E7.5', 'E7.75'), ('E7.75', 'E8.0'), ('E8.0', 'E8.25'), ('E8.25', 'E8.5')]\n",
      "\u001b[2m\u001b[36m(train_velovgi pid=6899)\u001b[0m pair ('E7.0', 'E7.25') cells not enough, k=1\n",
      "\u001b[2m\u001b[36m(train_velovgi pid=6899)\u001b[0m pair ('E7.25', 'E7.5') cells not enough, k=5\n",
      "\u001b[2m\u001b[36m(train_velovgi pid=6748)\u001b[0m pair ('E7.25', 'E7.5') cells not enough, k=5\n",
      "\u001b[2m\u001b[36m(train_velovgi pid=6748)\u001b[0m pair ('E7.25', 'E7.5') cells not enough, k=5\n",
      "\u001b[2m\u001b[36m(train_velovgi pid=6899)\u001b[0m computing neighbors\n",
      "Epoch 4/20:  20%|██        | 4/20 [00:27<01:53,  7.10s/it, loss=1.83e+06, v_num=0]\n",
      "Epoch 5/20:  20%|██        | 4/20 [00:27<01:53,  7.10s/it, loss=1.83e+06, v_num=0]\n",
      "\u001b[2m\u001b[36m(train_velovgi pid=6899)\u001b[0m     finished (0:00:00) --> added \n",
      "\u001b[2m\u001b[36m(train_velovgi pid=6899)\u001b[0m     'distances' and 'connectivities', weighted adjacency matrices (adata.obsp)\n",
      "\u001b[2m\u001b[36m(train_velovgi pid=6899)\u001b[0m computing moments based on connectivities\n",
      "\u001b[2m\u001b[36m(train_velovgi pid=6899)\u001b[0m     finished (0:00:00) --> added \n",
      "\u001b[2m\u001b[36m(train_velovgi pid=6899)\u001b[0m     'Ms' and 'Mu', moments of un/spliced abundances (adata.layers)\n",
      "Epoch 10/10:  90%|█████████ | 9/10 [00:51<00:06,  6.44s/it, loss=1.67e+06, v_num=0]\n",
      "\u001b[2m\u001b[36m(train_velovgi pid=6899)\u001b[0m 初始训练，初始化runner参数\n",
      "\u001b[2m\u001b[36m(train_velovgi pid=6899)\u001b[0m choosing neighbor minibatch\n"
     ]
    },
    {
     "name": "stderr",
     "output_type": "stream",
     "text": [
      "\u001b[2m\u001b[36m(train_velovgi pid=6899)\u001b[0m GPU available: False, used: False\n",
      "\u001b[2m\u001b[36m(train_velovgi pid=6899)\u001b[0m TPU available: False, using: 0 TPU cores\n",
      "\u001b[2m\u001b[36m(train_velovgi pid=6899)\u001b[0m IPU available: False, using: 0 IPUs\n",
      "\u001b[2m\u001b[36m(train_velovgi pid=6899)\u001b[0m HPU available: False, using: 0 HPUs\n",
      "\u001b[2m\u001b[36m(train_velovgi pid=6899)\u001b[0m Missing logger folder: ./log/is_ot_False,max_epochs_20\n"
     ]
    },
    {
     "name": "stdout",
     "output_type": "stream",
     "text": [
      "Epoch 1/20:   0%|          | 0/20 [00:00<?, ?it/s]\n",
      "Epoch 5/20:  25%|██▌       | 5/20 [00:36<01:55,  7.69s/it, loss=1.81e+06, v_num=0]\n",
      "Epoch 6/20:  25%|██▌       | 5/20 [00:36<01:55,  7.69s/it, loss=1.81e+06, v_num=0]\n"
     ]
    },
    {
     "name": "stderr",
     "output_type": "stream",
     "text": [
      "\u001b[2m\u001b[36m(pid=7122)\u001b[0m Global seed set to 0\n",
      "\u001b[2m\u001b[36m(pid=7122)\u001b[0m /usr/local/conda/envs/velovi-env/lib/python3.8/site-packages/pytorch_lightning/utilities/warnings.py:53: LightningDeprecationWarning: pytorch_lightning.utilities.warnings.rank_zero_deprecation has been deprecated in v1.6 and will be removed in v1.8. Use the equivalent function from the pytorch_lightning.utilities.rank_zero module instead.\n",
      "\u001b[2m\u001b[36m(pid=7122)\u001b[0m   new_rank_zero_deprecation(\n",
      "\u001b[2m\u001b[36m(pid=7122)\u001b[0m /usr/local/conda/envs/velovi-env/lib/python3.8/site-packages/pytorch_lightning/utilities/warnings.py:58: LightningDeprecationWarning: The `pytorch_lightning.loggers.base.rank_zero_experiment` is deprecated in v1.7 and will be removed in v1.9. Please use `pytorch_lightning.loggers.logger.rank_zero_experiment` instead.\n",
      "\u001b[2m\u001b[36m(pid=7122)\u001b[0m   return new_rank_zero_deprecation(*args, **kwargs)\n"
     ]
    },
    {
     "name": "stdout",
     "output_type": "stream",
     "text": [
      "Epoch 1/20:   5%|▌         | 1/20 [00:11<03:44, 11.83s/it, loss=1.91e+06, v_num=0]\n",
      "Epoch 10/10: 100%|██████████| 10/10 [01:06<00:00,  9.06s/it, loss=1.63e+06, v_num=0]\n",
      "Epoch 10/10: 100%|██████████| 10/10 [01:06<00:00,  9.06s/it, loss=1.63e+06, v_num=0]\n"
     ]
    },
    {
     "name": "stderr",
     "output_type": "stream",
     "text": [
      "\u001b[2m\u001b[36m(train_velovgi pid=6748)\u001b[0m `Trainer.fit` stopped: `max_epochs=10` reached.\n"
     ]
    },
    {
     "name": "stdout",
     "output_type": "stream",
     "text": [
      "Epoch 10/10: 100%|██████████| 10/10 [01:06<00:00,  6.64s/it, loss=1.63e+06, v_num=0]\n",
      "Epoch 6/20:  30%|███       | 6/20 [00:48<02:07,  9.08s/it, loss=1.77e+06, v_num=0]\n",
      "Epoch 7/20:  30%|███       | 6/20 [00:48<02:07,  9.08s/it, loss=1.77e+06, v_num=0]\n",
      "\u001b[2m\u001b[36m(train_velovgi pid=7122)\u001b[0m Filtered out 51490 genes that are detected 20 counts (shared).\n",
      "\u001b[2m\u001b[36m(train_velovgi pid=7122)\u001b[0m Normalized count data: X, spliced, unspliced.\n",
      "\u001b[2m\u001b[36m(train_velovgi pid=7122)\u001b[0m Extracted 2000 highly variable genes.\n",
      "\u001b[2m\u001b[36m(train_velovgi pid=7122)\u001b[0m Logarithmized X.\n",
      "\u001b[2m\u001b[36m(train_velovgi pid=7122)\u001b[0m use_rep : X_pca\n"
     ]
    },
    {
     "name": "stderr",
     "output_type": "stream",
     "text": [
      "\u001b[2m\u001b[36m(train_velovgi pid=7122)\u001b[0m WARNING: n_obs too small: adjusting to `n_neighbors = 1`\n"
     ]
    },
    {
     "name": "stdout",
     "output_type": "stream",
     "text": [
      "Epoch 2/20:  10%|█         | 2/20 [00:22<03:22, 11.22s/it, loss=1.87e+06, v_num=0]\n"
     ]
    },
    {
     "name": "stderr",
     "output_type": "stream",
     "text": [
      "\u001b[2m\u001b[36m(train_velovgi pid=7010)\u001b[0m OMP: Info #276: omp_set_nested routine deprecated, please use omp_set_max_active_levels instead.\n"
     ]
    },
    {
     "name": "stdout",
     "output_type": "stream",
     "text": [
      "Epoch 7/20:  35%|███▌      | 7/20 [00:54<01:46,  8.19s/it, loss=1.74e+06, v_num=0]\n",
      "Epoch 8/20:  35%|███▌      | 7/20 [00:54<01:46,  8.19s/it, loss=1.74e+06, v_num=0]\n"
     ]
    },
    {
     "name": "stderr",
     "output_type": "stream",
     "text": [
      "\u001b[2m\u001b[36m(train_velovgi pid=7010)\u001b[0m WARNING: n_obs too small: adjusting to `n_neighbors = 3`\n"
     ]
    },
    {
     "name": "stdout",
     "output_type": "stream",
     "text": [
      "\u001b[2m\u001b[36m(train_velovgi pid=7010)\u001b[0m batch_pair_list : [('E7.0', 'E7.25'), ('E7.25', 'E7.5'), ('E7.5', 'E7.75'), ('E7.75', 'E8.0'), ('E8.0', 'E8.25'), ('E8.25', 'E8.5')]\n",
      "\u001b[2m\u001b[36m(train_velovgi pid=6810)\u001b[0m batch_pair_list : [('E7.0', 'E7.25'), ('E7.25', 'E7.5'), ('E7.5', 'E7.75'), ('E7.75', 'E8.0'), ('E8.0', 'E8.25'), ('E8.25', 'E8.5')]\n",
      "\u001b[2m\u001b[36m(train_velovgi pid=7010)\u001b[0m pair ('E7.0', 'E7.25') cells not enough, k=1\n",
      "\u001b[2m\u001b[36m(train_velovgi pid=7010)\u001b[0m pair ('E7.25', 'E7.5') cells not enough, k=5\n",
      "\u001b[2m\u001b[36m(train_velovgi pid=7010)\u001b[0m computing neighbors\n",
      "\u001b[2m\u001b[36m(train_velovgi pid=7010)\u001b[0m     finished (0:00:00) --> added \n",
      "\u001b[2m\u001b[36m(train_velovgi pid=7010)\u001b[0m     'distances' and 'connectivities', weighted adjacency matrices (adata.obsp)\n",
      "\u001b[2m\u001b[36m(train_velovgi pid=7010)\u001b[0m computing moments based on connectivities\n",
      "\u001b[2m\u001b[36m(train_velovgi pid=7010)\u001b[0m     finished (0:00:00) --> added \n",
      "\u001b[2m\u001b[36m(train_velovgi pid=7010)\u001b[0m     'Ms' and 'Mu', moments of un/spliced abundances (adata.layers)\n",
      "Epoch 3/20:  15%|█▌        | 3/20 [00:30<02:43,  9.63s/it, loss=1.85e+06, v_num=0]\n",
      "\u001b[2m\u001b[36m(train_velovgi pid=7010)\u001b[0m 初始训练，初始化runner参数\n",
      "\u001b[2m\u001b[36m(train_velovgi pid=7010)\u001b[0m choosing neighbor minibatch\n",
      "\u001b[2m\u001b[36m(train_velovgi pid=6899)\u001b[0m choosing neighbor minibatch\n"
     ]
    },
    {
     "name": "stderr",
     "output_type": "stream",
     "text": [
      "\u001b[2m\u001b[36m(train_velovgi pid=7010)\u001b[0m GPU available: False, used: False\n",
      "\u001b[2m\u001b[36m(train_velovgi pid=7010)\u001b[0m TPU available: False, using: 0 TPU cores\n",
      "\u001b[2m\u001b[36m(train_velovgi pid=7010)\u001b[0m IPU available: False, using: 0 IPUs\n",
      "\u001b[2m\u001b[36m(train_velovgi pid=7010)\u001b[0m HPU available: False, using: 0 HPUs\n",
      "\u001b[2m\u001b[36m(train_velovgi pid=7010)\u001b[0m Missing logger folder: ./log/is_ot_True,max_epochs_30\n"
     ]
    },
    {
     "name": "stdout",
     "output_type": "stream",
     "text": [
      "Epoch 1/30:   0%|          | 0/30 [00:00<?, ?it/s]\n",
      "Epoch 9/20:  40%|████      | 8/20 [01:02<01:36,  8.08s/it, loss=1.71e+06, v_num=0]\n",
      "Epoch 4/20:  20%|██        | 4/20 [00:43<02:53, 10.85s/it, loss=1.83e+06, v_num=0]\u001b[32m [repeated 2x across cluster]\u001b[0m\n",
      "Epoch 5/20:  20%|██        | 4/20 [00:43<02:53, 10.85s/it, loss=1.83e+06, v_num=0]\n",
      "Epoch 1/30:   3%|▎         | 1/30 [00:17<08:35, 17.79s/it, loss=1.91e+06, v_num=0]\u001b[32m [repeated 2x across cluster]\u001b[0m\n",
      "Epoch 1/30:   3%|▎         | 1/30 [00:17<08:35, 17.79s/it, loss=1.91e+06, v_num=0]\n",
      "Epoch 2/30:   3%|▎         | 1/30 [00:18<08:35, 17.79s/it, loss=1.91e+06, v_num=0]\n",
      "Epoch 5/20:  25%|██▌       | 5/20 [00:57<02:59, 11.98s/it, loss=1.81e+06, v_num=0]\n",
      "Epoch 6/20:  25%|██▌       | 5/20 [00:57<02:59, 11.98s/it, loss=1.81e+06, v_num=0]\n",
      "Epoch 10/20:  50%|█████     | 10/20 [01:27<01:44, 10.46s/it, loss=1.63e+06, v_num=0]\n"
     ]
    },
    {
     "name": "stderr",
     "output_type": "stream",
     "text": [
      "\u001b[2m\u001b[36m(train_velovgi pid=7122)\u001b[0m OMP: Info #276: omp_set_nested routine deprecated, please use omp_set_max_active_levels instead.\n"
     ]
    },
    {
     "name": "stdout",
     "output_type": "stream",
     "text": [
      "Epoch 12/20:  55%|█████▌    | 11/20 [01:34<01:23,  9.23s/it, loss=1.6e+06, v_num=0] \n",
      "Epoch 3/30:   7%|▋         | 2/30 [00:29<06:31, 13.99s/it, loss=1.87e+06, v_num=0]\u001b[32m [repeated 2x across cluster]\u001b[0m\n",
      "Epoch 12/20:  55%|█████▌    | 11/20 [01:34<01:23,  9.23s/it, loss=1.6e+06, v_num=0] \n",
      "Epoch 3/30:  10%|█         | 3/30 [00:36<05:01, 11.16s/it, loss=1.85e+06, v_num=0]\n"
     ]
    },
    {
     "name": "stderr",
     "output_type": "stream",
     "text": [
      "\u001b[2m\u001b[36m(train_velovgi pid=7122)\u001b[0m WARNING: n_obs too small: adjusting to `n_neighbors = 3`\n"
     ]
    },
    {
     "name": "stdout",
     "output_type": "stream",
     "text": [
      "\u001b[2m\u001b[36m(train_velovgi pid=7122)\u001b[0m batch_pair_list : [('E7.0', 'E7.25'), ('E7.25', 'E7.5'), ('E7.5', 'E7.75'), ('E7.75', 'E8.0'), ('E8.0', 'E8.25'), ('E8.25', 'E8.5')]\n",
      "\u001b[2m\u001b[36m(train_velovgi pid=7122)\u001b[0m pair ('E7.0', 'E7.25') cells not enough, k=1\n",
      "\u001b[2m\u001b[36m(train_velovgi pid=7122)\u001b[0m pair ('E7.25', 'E7.5') cells not enough, k=5\n",
      "\u001b[2m\u001b[36m(train_velovgi pid=7122)\u001b[0m computing neighbors\n",
      "\u001b[2m\u001b[36m(train_velovgi pid=7122)\u001b[0m     finished (0:00:00) --> added \n",
      "\u001b[2m\u001b[36m(train_velovgi pid=7122)\u001b[0m     'distances' and 'connectivities', weighted adjacency matrices (adata.obsp)\n",
      "\u001b[2m\u001b[36m(train_velovgi pid=7122)\u001b[0m computing moments based on connectivities\n",
      "\u001b[2m\u001b[36m(train_velovgi pid=7122)\u001b[0m     finished (0:00:00) --> added \n",
      "\u001b[2m\u001b[36m(train_velovgi pid=7122)\u001b[0m     'Ms' and 'Mu', moments of un/spliced abundances (adata.layers)\n",
      "\u001b[2m\u001b[36m(train_velovgi pid=6899)\u001b[0m     'Ms' and 'Mu', moments of un/spliced abundances (adata.layers)\n",
      "\u001b[2m\u001b[36m(train_velovgi pid=7010)\u001b[0m     'Ms' and 'Mu', moments of un/spliced abundances (adata.layers)\n",
      "\u001b[2m\u001b[36m(train_velovgi pid=7122)\u001b[0m 初始训练，初始化runner参数\n",
      "\u001b[2m\u001b[36m(train_velovgi pid=7122)\u001b[0m choosing neighbor minibatch\n"
     ]
    },
    {
     "name": "stderr",
     "output_type": "stream",
     "text": [
      "\u001b[2m\u001b[36m(train_velovgi pid=7122)\u001b[0m GPU available: False, used: False\n",
      "\u001b[2m\u001b[36m(train_velovgi pid=7122)\u001b[0m TPU available: False, using: 0 TPU cores\n",
      "\u001b[2m\u001b[36m(train_velovgi pid=7122)\u001b[0m IPU available: False, using: 0 IPUs\n",
      "\u001b[2m\u001b[36m(train_velovgi pid=7122)\u001b[0m HPU available: False, using: 0 HPUs\n",
      "\u001b[2m\u001b[36m(train_velovgi pid=7122)\u001b[0m Missing logger folder: ./log/is_ot_False,max_epochs_30\n"
     ]
    },
    {
     "name": "stdout",
     "output_type": "stream",
     "text": [
      "Epoch 1/30:   0%|          | 0/30 [00:00<?, ?it/s]\n",
      "Epoch 8/20:  35%|███▌      | 7/20 [01:12<02:02,  9.46s/it, loss=1.74e+06, v_num=0]\n",
      "Epoch 12/20:  60%|██████    | 12/20 [01:43<01:13,  9.20s/it, loss=1.57e+06, v_num=0]\u001b[32m [repeated 2x across cluster]\u001b[0m\n",
      "Epoch 5/30:  13%|█▎        | 4/30 [00:46<04:27, 10.28s/it, loss=1.83e+06, v_num=0]\u001b[32m [repeated 2x across cluster]\u001b[0m\n",
      "Epoch 8/20:  40%|████      | 8/20 [01:19<01:45,  8.80s/it, loss=1.71e+06, v_num=0]\u001b[32m [repeated 2x across cluster]\u001b[0m\n",
      "Epoch 6/30:  17%|█▋        | 5/30 [00:53<03:53,  9.33s/it, loss=1.81e+06, v_num=0]\n",
      "Epoch 2/30:   3%|▎         | 1/30 [00:08<04:06,  8.51s/it, loss=1.91e+06, v_num=0]\u001b[32m [repeated 3x across cluster]\u001b[0m\n",
      "Epoch 9/20:  45%|████▌     | 9/20 [01:26<01:29,  8.17s/it, loss=1.67e+06, v_num=0]\u001b[32m [repeated 3x across cluster]\u001b[0m\n",
      "Epoch 6/30:  20%|██        | 6/30 [01:00<03:26,  8.61s/it, loss=1.77e+06, v_num=0]\n",
      "Epoch 15/20:  70%|███████   | 14/20 [01:56<00:47,  7.98s/it, loss=1.51e+06, v_num=0]\u001b[32m [repeated 2x across cluster]\u001b[0m\n",
      "Epoch 6/30:  20%|██        | 6/30 [01:00<03:26,  8.61s/it, loss=1.77e+06, v_num=0]\u001b[32m [repeated 2x across cluster]\u001b[0m\n",
      "Epoch 12/20:  55%|█████▌    | 11/20 [01:42<01:12,  8.04s/it, loss=1.6e+06, v_num=0] \n",
      "Epoch 4/30:  10%|█         | 3/30 [00:24<03:39,  8.13s/it, loss=1.85e+06, v_num=0]\u001b[32m [repeated 4x across cluster]\u001b[0m\n",
      "Epoch 3/30:  10%|█         | 3/30 [00:24<03:39,  8.13s/it, loss=1.85e+06, v_num=0]\u001b[32m [repeated 3x across cluster]\u001b[0m\n"
     ]
    },
    {
     "name": "stderr",
     "output_type": "stream",
     "text": [
      "\u001b[2m\u001b[36m(train_velovgi pid=6679)\u001b[0m /usr/local/conda/envs/velovi-env/lib/python3.8/site-packages/ipykernel/comm/comm.py:79: DeprecationWarning: The `ipykernel.comm.Comm` class has been deprecated. Please use the `comm` module instead.For creating comms, use the function `from comm import create_comm`.\n",
      "\u001b[2m\u001b[36m(train_velovgi pid=6679)\u001b[0m   warn(\n"
     ]
    },
    {
     "name": "stdout",
     "output_type": "stream",
     "text": [
      "\u001b[2m\u001b[36m(train_velovgi pid=6679)\u001b[0m computing velocity graph (using 1/12 cores)\n",
      "\u001b[2m\u001b[36m(train_velovgi pid=6679)\u001b[0m   0%|          | 0/500 [00:00<?, ?cells/s]\n",
      "Epoch 5/30:  13%|█▎        | 4/30 [00:33<03:42,  8.57s/it, loss=1.83e+06, v_num=0]\u001b[32m [repeated 3x across cluster]\u001b[0m\n",
      "Epoch 12/20:  60%|██████    | 12/20 [01:52<01:08,  8.56s/it, loss=1.57e+06, v_num=0]\u001b[32m [repeated 4x across cluster]\u001b[0m\n",
      "\u001b[2m\u001b[36m(train_velovgi pid=6679)\u001b[0m     finished (0:00:06) --> added \n",
      "\u001b[2m\u001b[36m(train_velovgi pid=6679)\u001b[0m     'velocity_graph', sparse matrix with cosine correlations (adata.uns)\n",
      "\u001b[2m\u001b[36m(train_velovgi pid=6679)\u001b[0m computing velocity embedding\n",
      "\u001b[2m\u001b[36m(train_velovgi pid=6679)\u001b[0m     finished (0:00:01) --> added\n",
      "\u001b[2m\u001b[36m(train_velovgi pid=6679)\u001b[0m     'velocity_umap', embedded velocity vectors (adata.obsm)\n",
      "Epoch 18/20:  85%|████████▌ | 17/20 [02:24<00:27,  9.08s/it, loss=1.44e+06, v_num=0]\n",
      "\u001b[2m\u001b[36m(train_velovgi pid=6679)\u001b[0m saving figure to file ./figures/scvelo_arrow.png\n",
      "\u001b[2m\u001b[36m(train_velovgi pid=6679)\u001b[0m Figure(640x480)\n",
      "Epoch 6/30:  17%|█▋        | 5/30 [00:43<03:48,  9.13s/it, loss=1.81e+06, v_num=0]\u001b[32m [repeated 3x across cluster]\u001b[0m\n",
      "Epoch 5/30:  17%|█▋        | 5/30 [00:43<03:48,  9.13s/it, loss=1.81e+06, v_num=0]\u001b[32m [repeated 2x across cluster]\u001b[0m\n",
      "Epoch 14/20:  65%|██████▌   | 13/20 [02:00<01:00,  8.59s/it, loss=1.54e+06, v_num=0]\n",
      "Epoch 6/30:  20%|██        | 6/30 [00:50<03:20,  8.36s/it, loss=1.77e+06, v_num=0]\n",
      "Epoch 6/30:  20%|██        | 6/30 [00:50<03:20,  8.36s/it, loss=1.77e+06, v_num=0]\u001b[32m [repeated 2x across cluster]\u001b[0m\n",
      "Epoch 7/30:  20%|██        | 6/30 [00:50<03:20,  8.36s/it, loss=1.77e+06, v_num=0]\n",
      "\u001b[2m\u001b[36m(train_velovgi pid=6679)\u001b[0m saving figure to file ./figures/scvelo_stream.png\n",
      "\u001b[2m\u001b[36m(train_velovgi pid=6679)\u001b[0m Figure(640x480)\n",
      "\u001b[2m\u001b[36m(train_velovgi pid=6679)\u001b[0m computing terminal states\n",
      "\u001b[2m\u001b[36m(train_velovgi pid=6679)\u001b[0m     identified 1 region of root cells and 1 region of end points .\n",
      "\u001b[2m\u001b[36m(train_velovgi pid=6679)\u001b[0m     finished (0:00:00) --> added\n",
      "\u001b[2m\u001b[36m(train_velovgi pid=6679)\u001b[0m     'root_cells', root cells of Markov diffusion process (adata.obs)\n",
      "\u001b[2m\u001b[36m(train_velovgi pid=6679)\u001b[0m     'end_points', end points of Markov diffusion process (adata.obs)\n",
      "Epoch 10/30:  33%|███▎      | 10/30 [01:37<02:52,  8.65s/it, loss=1.63e+06, v_num=0]\u001b[32m [repeated 3x across cluster]\u001b[0m\n",
      "Epoch 15/20:  70%|███████   | 14/20 [02:07<00:47,  8.00s/it, loss=1.51e+06, v_num=0]\u001b[32m [repeated 2x across cluster]\u001b[0m\n",
      "Epoch 19/20:  95%|█████████▌| 19/20 [02:39<00:08,  8.13s/it, loss=1.39e+06, v_num=0]\n",
      "Epoch 20/20:  95%|█████████▌| 19/20 [02:39<00:08,  8.13s/it, loss=1.39e+06, v_num=0]\n",
      "Epoch 12/30:  37%|███▋      | 11/30 [01:43<02:33,  8.08s/it, loss=1.6e+06, v_num=0] \n",
      "Epoch 12/30:  37%|███▋      | 11/30 [01:43<02:33,  8.08s/it, loss=1.6e+06, v_num=0] \n",
      "Epoch 8/30:  23%|██▎       | 7/30 [00:58<03:05,  8.08s/it, loss=1.74e+06, v_num=0]\u001b[32m [repeated 2x across cluster]\u001b[0m\n",
      "Epoch 15/20:  75%|███████▌  | 15/20 [02:15<00:39,  7.95s/it, loss=1.49e+06, v_num=0]\n",
      "\u001b[2m\u001b[36m(train_velovgi pid=6679)\u001b[0m saving figure to file ./figures/scvelo_pseudotime.png\n",
      "\u001b[2m\u001b[36m(train_velovgi pid=6679)\u001b[0m Figure(640x480)\n",
      "\u001b[2m\u001b[36m(train_velovgi pid=6679)\u001b[0m create adata\n",
      "\u001b[2m\u001b[36m(train_velovgi pid=6679)\u001b[0m save adata/sample_recover.pkl\n",
      "Epoch 20/20: 100%|██████████| 20/20 [02:47<00:00,  8.05s/it, loss=1.36e+06, v_num=0]\n",
      "Epoch 20/20: 100%|██████████| 20/20 [02:47<00:00,  8.36s/it, loss=1.36e+06, v_num=0]\n"
     ]
    },
    {
     "name": "stderr",
     "output_type": "stream",
     "text": [
      "\u001b[2m\u001b[36m(train_velovgi pid=6810)\u001b[0m `Trainer.fit` stopped: `max_epochs=20` reached.\n"
     ]
    },
    {
     "name": "stdout",
     "output_type": "stream",
     "text": [
      "\u001b[2m\u001b[36m(train_velovgi pid=6679)\u001b[0m save adata/adata.h5ad\n",
      "Epoch 9/30:  27%|██▋       | 8/30 [01:05<02:54,  7.95s/it, loss=1.71e+06, v_num=0]\u001b[32m [repeated 2x across cluster]\u001b[0m\n",
      "\u001b[2m\u001b[36m(train_velovgi pid=7122)\u001b[0m save adata/adata.h5ad\n",
      "Epoch 13/30:  40%|████      | 12/30 [01:51<02:20,  7.79s/it, loss=1.57e+06, v_num=0]\n"
     ]
    },
    {
     "data": {
      "text/html": [
       "<div class=\"trialProgress\">\n",
       "  <h3>Trial Progress</h3>\n",
       "  <table>\n",
       "<thead>\n",
       "<tr><th>Trial name               </th><th style=\"text-align: right;\">   CBDir</th><th style=\"text-align: right;\">  ICVCoh</th><th>date               </th><th>done  </th><th>experiment_tag             </th><th>hostname       </th><th style=\"text-align: right;\">  iterations_since_restore</th><th>node_ip       </th><th style=\"text-align: right;\">  pid</th><th style=\"text-align: right;\">  time_since_restore</th><th style=\"text-align: right;\">  time_this_iter_s</th><th style=\"text-align: right;\">  time_total_s</th><th style=\"text-align: right;\">  timestamp</th><th style=\"text-align: right;\">  training_iteration</th><th>trial_id   </th></tr>\n",
       "</thead>\n",
       "<tbody>\n",
       "<tr><td>train_velovgi_e3382_00000</td><td style=\"text-align: right;\">0.517838</td><td style=\"text-align: right;\">0.970699</td><td>2023-06-10_11-18-08</td><td>True  </td><td>0_is_ot=True,max_epochs=10 </td><td>DESKTOP-9GVJMSD</td><td style=\"text-align: right;\">                         1</td><td>172.29.205.215</td><td style=\"text-align: right;\"> 6679</td><td style=\"text-align: right;\">             220.738</td><td style=\"text-align: right;\">           220.738</td><td style=\"text-align: right;\">       220.738</td><td style=\"text-align: right;\"> 1686367088</td><td style=\"text-align: right;\">                   1</td><td>e3382_00000</td></tr>\n",
       "<tr><td>train_velovgi_e3382_00001</td><td style=\"text-align: right;\">0.517838</td><td style=\"text-align: right;\">0.970699</td><td>2023-06-10_11-18-49</td><td>True  </td><td>1_is_ot=False,max_epochs=10</td><td>DESKTOP-9GVJMSD</td><td style=\"text-align: right;\">                         1</td><td>172.29.205.215</td><td style=\"text-align: right;\"> 6748</td><td style=\"text-align: right;\">             255.032</td><td style=\"text-align: right;\">           255.032</td><td style=\"text-align: right;\">       255.032</td><td style=\"text-align: right;\"> 1686367129</td><td style=\"text-align: right;\">                   1</td><td>e3382_00001</td></tr>\n",
       "<tr><td>train_velovgi_e3382_00002</td><td style=\"text-align: right;\">0.728481</td><td style=\"text-align: right;\">0.970445</td><td>2023-06-10_11-20-07</td><td>True  </td><td>2_is_ot=True,max_epochs=20 </td><td>DESKTOP-9GVJMSD</td><td style=\"text-align: right;\">                         1</td><td>172.29.205.215</td><td style=\"text-align: right;\"> 6810</td><td style=\"text-align: right;\">             322.986</td><td style=\"text-align: right;\">           322.986</td><td style=\"text-align: right;\">       322.986</td><td style=\"text-align: right;\"> 1686367207</td><td style=\"text-align: right;\">                   1</td><td>e3382_00002</td></tr>\n",
       "<tr><td>train_velovgi_e3382_00003</td><td style=\"text-align: right;\">0.728481</td><td style=\"text-align: right;\">0.970445</td><td>2023-06-10_11-20-21</td><td>True  </td><td>3_is_ot=False,max_epochs=20</td><td>DESKTOP-9GVJMSD</td><td style=\"text-align: right;\">                         1</td><td>172.29.205.215</td><td style=\"text-align: right;\"> 6899</td><td style=\"text-align: right;\">             317.804</td><td style=\"text-align: right;\">           317.804</td><td style=\"text-align: right;\">       317.804</td><td style=\"text-align: right;\"> 1686367221</td><td style=\"text-align: right;\">                   1</td><td>e3382_00003</td></tr>\n",
       "<tr><td>train_velovgi_e3382_00004</td><td style=\"text-align: right;\">0.83234 </td><td style=\"text-align: right;\">0.974324</td><td>2023-06-10_11-20-52</td><td>True  </td><td>4_is_ot=True,max_epochs=30 </td><td>DESKTOP-9GVJMSD</td><td style=\"text-align: right;\">                         1</td><td>172.29.205.215</td><td style=\"text-align: right;\"> 7010</td><td style=\"text-align: right;\">             324.379</td><td style=\"text-align: right;\">           324.379</td><td style=\"text-align: right;\">       324.379</td><td style=\"text-align: right;\"> 1686367252</td><td style=\"text-align: right;\">                   1</td><td>e3382_00004</td></tr>\n",
       "<tr><td>train_velovgi_e3382_00005</td><td style=\"text-align: right;\">0.83234 </td><td style=\"text-align: right;\">0.974324</td><td>2023-06-10_11-20-55</td><td>True  </td><td>5_is_ot=False,max_epochs=30</td><td>DESKTOP-9GVJMSD</td><td style=\"text-align: right;\">                         1</td><td>172.29.205.215</td><td style=\"text-align: right;\"> 7122</td><td style=\"text-align: right;\">             294.288</td><td style=\"text-align: right;\">           294.288</td><td style=\"text-align: right;\">       294.288</td><td style=\"text-align: right;\"> 1686367255</td><td style=\"text-align: right;\">                   1</td><td>e3382_00005</td></tr>\n",
       "</tbody>\n",
       "</table>\n",
       "</div>\n",
       "<style>\n",
       ".trialProgress {\n",
       "  display: flex;\n",
       "  flex-direction: column;\n",
       "  color: var(--jp-ui-font-color1);\n",
       "}\n",
       ".trialProgress h3 {\n",
       "  font-weight: bold;\n",
       "}\n",
       ".trialProgress td {\n",
       "  white-space: nowrap;\n",
       "}\n",
       "</style>\n"
      ],
      "text/plain": [
       "<IPython.core.display.HTML object>"
      ]
     },
     "metadata": {},
     "output_type": "display_data"
    },
    {
     "name": "stdout",
     "output_type": "stream",
     "text": [
      "Epoch 9/30:  30%|███       | 9/30 [01:17<03:11,  9.11s/it, loss=1.67e+06, v_num=0]\n",
      "Epoch 9/30:  30%|███       | 9/30 [01:17<03:11,  9.11s/it, loss=1.67e+06, v_num=0]\n",
      "Epoch 10/30:  30%|███       | 9/30 [01:17<03:11,  9.11s/it, loss=1.67e+06, v_num=0]\n",
      "\u001b[2m\u001b[36m(train_velovgi pid=6748)\u001b[0m computing velocity graph (using 1/12 cores)\n",
      "\u001b[2m\u001b[36m(train_velovgi pid=6748)\u001b[0m   0%|          | 0/500 [00:00<?, ?cells/s]\n"
     ]
    },
    {
     "name": "stderr",
     "output_type": "stream",
     "text": [
      "\u001b[2m\u001b[36m(train_velovgi pid=6748)\u001b[0m /usr/local/conda/envs/velovi-env/lib/python3.8/site-packages/ipykernel/comm/comm.py:79: DeprecationWarning: The `ipykernel.comm.Comm` class has been deprecated. Please use the `comm` module instead.For creating comms, use the function `from comm import create_comm`.\n",
      "\u001b[2m\u001b[36m(train_velovgi pid=6748)\u001b[0m   warn(\n"
     ]
    },
    {
     "name": "stdout",
     "output_type": "stream",
     "text": [
      "Epoch 10/30:  33%|███▎      | 10/30 [01:25<02:55,  8.80s/it, loss=1.63e+06, v_num=0]\u001b[32m [repeated 3x across cluster]\u001b[0m\n",
      "Epoch 18/20:  85%|████████▌ | 17/20 [02:34<00:26,  8.80s/it, loss=1.44e+06, v_num=0]\u001b[32m [repeated 2x across cluster]\u001b[0m\n",
      "\u001b[2m\u001b[36m(train_velovgi pid=6748)\u001b[0m     finished (0:00:06) --> added \n",
      "\u001b[2m\u001b[36m(train_velovgi pid=6748)\u001b[0m     'velocity_graph', sparse matrix with cosine correlations (adata.uns)\n",
      "\u001b[2m\u001b[36m(train_velovgi pid=6748)\u001b[0m computing velocity embedding\n",
      "\u001b[2m\u001b[36m(train_velovgi pid=6748)\u001b[0m     finished (0:00:01) --> added\n",
      "\u001b[2m\u001b[36m(train_velovgi pid=6748)\u001b[0m     'velocity_umap', embedded velocity vectors (adata.obsm)\n",
      "\u001b[2m\u001b[36m(train_velovgi pid=6748)\u001b[0m saving figure to file ./figures/scvelo_arrow.png\n",
      "\u001b[2m\u001b[36m(train_velovgi pid=6748)\u001b[0m Figure(640x480)\n",
      "Epoch 11/30:  37%|███▋      | 11/30 [01:32<02:39,  8.37s/it, loss=1.6e+06, v_num=0] \u001b[32m [repeated 3x across cluster]\u001b[0m\n",
      "Epoch 19/20:  90%|█████████ | 18/20 [02:42<00:16,  8.46s/it, loss=1.41e+06, v_num=0]\u001b[32m [repeated 3x across cluster]\u001b[0m\n",
      "Epoch 19/20:  95%|█████████▌| 19/20 [02:48<00:07,  7.75s/it, loss=1.39e+06, v_num=0]\n",
      "Epoch 20/20:  95%|█████████▌| 19/20 [02:48<00:07,  7.75s/it, loss=1.39e+06, v_num=0]\n",
      "\u001b[2m\u001b[36m(train_velovgi pid=6748)\u001b[0m saving figure to file ./figures/scvelo_stream.png\n",
      "\u001b[2m\u001b[36m(train_velovgi pid=6748)\u001b[0m Figure(640x480)\n",
      "\u001b[2m\u001b[36m(train_velovgi pid=6748)\u001b[0m computing terminal states\n",
      "\u001b[2m\u001b[36m(train_velovgi pid=6748)\u001b[0m     identified 1 region of root cells and 1 region of end points .\n",
      "\u001b[2m\u001b[36m(train_velovgi pid=6748)\u001b[0m     finished (0:00:00) --> added\n",
      "\u001b[2m\u001b[36m(train_velovgi pid=6748)\u001b[0m     'root_cells', root cells of Markov diffusion process (adata.obs)\n",
      "\u001b[2m\u001b[36m(train_velovgi pid=6748)\u001b[0m     'end_points', end points of Markov diffusion process (adata.obs)\n",
      "Epoch 12/30:  40%|████      | 12/30 [01:38<02:12,  7.37s/it, loss=1.57e+06, v_num=0]\u001b[32m [repeated 2x across cluster]\u001b[0m\n",
      "Epoch 16/30:  50%|█████     | 15/30 [02:15<01:54,  7.64s/it, loss=1.49e+06, v_num=0]\u001b[32m [repeated 2x across cluster]\u001b[0m\n",
      "Epoch 17/30:  53%|█████▎    | 16/30 [02:20<01:36,  6.88s/it, loss=1.47e+06, v_num=0]\n",
      "Epoch 20/20: 100%|██████████| 20/20 [02:52<00:00,  8.64s/it, loss=1.36e+06, v_num=0]\n"
     ]
    },
    {
     "name": "stderr",
     "output_type": "stream",
     "text": [
      "\u001b[2m\u001b[36m(train_velovgi pid=6899)\u001b[0m `Trainer.fit` stopped: `max_epochs=20` reached.\n"
     ]
    },
    {
     "name": "stdout",
     "output_type": "stream",
     "text": [
      "Epoch 17/30:  57%|█████▋    | 17/30 [02:25<01:22,  6.37s/it, loss=1.44e+06, v_num=0]\n",
      "Epoch 17/30:  57%|█████▋    | 17/30 [02:25<01:22,  6.37s/it, loss=1.44e+06, v_num=0]\n",
      "Epoch 18/30:  57%|█████▋    | 17/30 [02:25<01:22,  6.37s/it, loss=1.44e+06, v_num=0]\n",
      "Epoch 13/30:  43%|████▎     | 13/30 [01:44<01:59,  7.05s/it, loss=1.54e+06, v_num=0]\n",
      "\u001b[2m\u001b[36m(train_velovgi pid=6748)\u001b[0m saving figure to file ./figures/scvelo_pseudotime.png\n",
      "\u001b[2m\u001b[36m(train_velovgi pid=6748)\u001b[0m Figure(640x480)\n",
      "\u001b[2m\u001b[36m(train_velovgi pid=6748)\u001b[0m create adata\n",
      "\u001b[2m\u001b[36m(train_velovgi pid=6748)\u001b[0m save adata/sample_recover.pkl\n",
      "\u001b[2m\u001b[36m(train_velovgi pid=6748)\u001b[0m save adata/adata.h5ad\n",
      "Epoch 18/30:  60%|██████    | 18/30 [02:31<01:15,  6.31s/it, loss=1.41e+06, v_num=0]\n",
      "Epoch 18/30:  60%|██████    | 18/30 [02:31<01:15,  6.31s/it, loss=1.41e+06, v_num=0]\n",
      "Epoch 19/30:  60%|██████    | 18/30 [02:31<01:15,  6.31s/it, loss=1.41e+06, v_num=0]\n",
      "Epoch 14/30:  47%|████▋     | 14/30 [01:51<01:52,  7.00s/it, loss=1.51e+06, v_num=0]\n",
      "Epoch 15/30:  50%|█████     | 15/30 [01:57<01:39,  6.65s/it, loss=1.51e+06, v_num=0]\u001b[32m [repeated 2x across cluster]\u001b[0m\n",
      "Epoch 19/30:  63%|██████▎   | 19/30 [02:39<01:14,  6.74s/it, loss=1.39e+06, v_num=0]\n",
      "Epoch 20/30:  67%|██████▋   | 20/30 [02:43<01:00,  6.09s/it, loss=1.36e+06, v_num=0]\n",
      "Epoch 20/30:  63%|██████▎   | 19/30 [02:39<01:14,  6.74s/it, loss=1.39e+06, v_num=0]\u001b[32m [repeated 3x across cluster]\u001b[0m\n",
      "Epoch 17/30:  53%|█████▎    | 16/30 [02:02<01:29,  6.37s/it, loss=1.47e+06, v_num=0]\n",
      "Epoch 21/30:  70%|███████   | 21/30 [02:48<00:51,  5.77s/it, loss=1.33e+06, v_num=0]\n",
      "Epoch 21/30:  70%|███████   | 21/30 [02:48<00:51,  5.77s/it, loss=1.33e+06, v_num=0]\n",
      "Epoch 17/30:  57%|█████▋    | 17/30 [02:07<01:16,  5.91s/it, loss=1.44e+06, v_num=0]\n",
      "Epoch 22/30:  70%|███████   | 21/30 [02:48<00:51,  5.77s/it, loss=1.33e+06, v_num=0]\n",
      "Epoch 19/30:  60%|██████    | 18/30 [02:12<01:08,  5.69s/it, loss=1.41e+06, v_num=0]\n",
      "Epoch 19/30:  60%|██████    | 18/30 [02:12<01:08,  5.69s/it, loss=1.41e+06, v_num=0]\n",
      "Epoch 23/30:  73%|███████▎  | 22/30 [02:53<00:42,  5.34s/it, loss=1.31e+06, v_num=0]\u001b[32m [repeated 2x across cluster]\u001b[0m\n",
      "Epoch 23/30:  77%|███████▋  | 23/30 [02:58<00:37,  5.42s/it, loss=1.29e+06, v_num=0]\n",
      "Epoch 19/30:  63%|██████▎   | 19/30 [02:18<01:01,  5.60s/it, loss=1.39e+06, v_num=0]\n",
      "Epoch 20/30:  63%|██████▎   | 19/30 [02:18<01:01,  5.60s/it, loss=1.39e+06, v_num=0]\n",
      "Epoch 20/30:  67%|██████▋   | 20/30 [02:23<00:54,  5.43s/it, loss=1.36e+06, v_num=0]\u001b[32m [repeated 2x across cluster]\u001b[0m\n",
      "Epoch 21/30:  67%|██████▋   | 20/30 [02:23<00:54,  5.43s/it, loss=1.36e+06, v_num=0]\n",
      "Epoch 25/30:  80%|████████  | 24/30 [03:05<00:34,  5.67s/it, loss=1.27e+06, v_num=0]\n",
      "Epoch 22/30:  70%|███████   | 21/30 [02:27<00:45,  5.07s/it, loss=1.33e+06, v_num=0]\n",
      "Epoch 22/30:  73%|███████▎  | 22/30 [02:32<00:39,  4.97s/it, loss=1.31e+06, v_num=0]\u001b[32m [repeated 2x across cluster]\u001b[0m\n",
      "Epoch 23/30:  73%|███████▎  | 22/30 [02:32<00:39,  4.97s/it, loss=1.31e+06, v_num=0]\n",
      "Epoch 26/30:  87%|████████▋ | 26/30 [03:14<00:21,  5.36s/it, loss=1.23e+06, v_num=0]\n",
      "Epoch 27/30:  90%|█████████ | 27/30 [03:22<00:17,  5.99s/it, loss=1.22e+06, v_num=0]\u001b[32m [repeated 3x across cluster]\u001b[0m\n",
      "Epoch 24/30:  77%|███████▋  | 23/30 [02:37<00:34,  4.91s/it, loss=1.29e+06, v_num=0]\u001b[32m [repeated 2x across cluster]\u001b[0m\n",
      "Epoch 25/30:  80%|████████  | 24/30 [02:42<00:31,  5.22s/it, loss=1.27e+06, v_num=0]\n",
      "Epoch 29/30:  93%|█████████▎| 28/30 [03:28<00:11,  5.99s/it, loss=1.19e+06, v_num=0]\n",
      "Epoch 29/30:  93%|█████████▎| 28/30 [03:28<00:11,  5.99s/it, loss=1.19e+06, v_num=0]\n",
      "Epoch 25/30:  83%|████████▎ | 25/30 [02:47<00:25,  5.15s/it, loss=1.25e+06, v_num=0]\n",
      "Epoch 26/30:  83%|████████▎ | 25/30 [02:48<00:25,  5.15s/it, loss=1.25e+06, v_num=0]\n"
     ]
    },
    {
     "name": "stderr",
     "output_type": "stream",
     "text": [
      "\u001b[2m\u001b[36m(train_velovgi pid=6810)\u001b[0m /usr/local/conda/envs/velovi-env/lib/python3.8/site-packages/ipykernel/comm/comm.py:79: DeprecationWarning: The `ipykernel.comm.Comm` class has been deprecated. Please use the `comm` module instead.For creating comms, use the function `from comm import create_comm`.\n",
      "\u001b[2m\u001b[36m(train_velovgi pid=6810)\u001b[0m   warn(\n"
     ]
    },
    {
     "name": "stdout",
     "output_type": "stream",
     "text": [
      "\u001b[2m\u001b[36m(train_velovgi pid=6810)\u001b[0m computing velocity graph (using 1/12 cores)\n",
      "\u001b[2m\u001b[36m(train_velovgi pid=6810)\u001b[0m   0%|          | 0/500 [00:00<?, ?cells/s]\n",
      "Epoch 29/30:  97%|█████████▋| 29/30 [03:33<00:05,  5.66s/it, loss=1.17e+06, v_num=0]\n",
      "Epoch 30/30:  97%|█████████▋| 29/30 [03:33<00:05,  5.66s/it, loss=1.17e+06, v_num=0]\n",
      "\u001b[2m\u001b[36m(train_velovgi pid=6810)\u001b[0m     finished (0:00:04) --> added \n",
      "\u001b[2m\u001b[36m(train_velovgi pid=6810)\u001b[0m     'velocity_graph', sparse matrix with cosine correlations (adata.uns)\n",
      "\u001b[2m\u001b[36m(train_velovgi pid=6810)\u001b[0m computing velocity embedding\n",
      "Epoch 26/30:  87%|████████▋ | 26/30 [02:52<00:19,  4.96s/it, loss=1.23e+06, v_num=0]\n",
      "Epoch 27/30:  87%|████████▋ | 26/30 [02:52<00:19,  4.96s/it, loss=1.23e+06, v_num=0]\n",
      "\u001b[2m\u001b[36m(train_velovgi pid=6810)\u001b[0m     finished (0:00:00) --> added\n",
      "\u001b[2m\u001b[36m(train_velovgi pid=6810)\u001b[0m     'velocity_umap', embedded velocity vectors (adata.obsm)\n",
      "\u001b[2m\u001b[36m(train_velovgi pid=6810)\u001b[0m saving figure to file ./figures/scvelo_arrow.png\n",
      "\u001b[2m\u001b[36m(train_velovgi pid=6810)\u001b[0m Figure(640x480)\n",
      "Epoch 27/30:  90%|█████████ | 27/30 [02:55<00:13,  4.41s/it, loss=1.23e+06, v_num=0]\n",
      "Epoch 27/30:  90%|█████████ | 27/30 [02:55<00:13,  4.41s/it, loss=1.22e+06, v_num=0]\n",
      "Epoch 28/30:  90%|█████████ | 27/30 [02:55<00:13,  4.41s/it, loss=1.22e+06, v_num=0]\n",
      "Epoch 30/30: 100%|██████████| 30/30 [03:37<00:00,  5.19s/it, loss=1.17e+06, v_num=0]\n",
      "Epoch 30/30: 100%|██████████| 30/30 [03:37<00:00,  5.19s/it, loss=1.16e+06, v_num=0]\n",
      "Epoch 30/30: 100%|██████████| 30/30 [03:37<00:00,  7.25s/it, loss=1.16e+06, v_num=0]\n"
     ]
    },
    {
     "name": "stderr",
     "output_type": "stream",
     "text": [
      "\u001b[2m\u001b[36m(train_velovgi pid=7010)\u001b[0m `Trainer.fit` stopped: `max_epochs=30` reached.\n"
     ]
    },
    {
     "name": "stdout",
     "output_type": "stream",
     "text": [
      "Epoch 28/30:  93%|█████████▎| 28/30 [02:58<00:08,  4.08s/it, loss=1.19e+06, v_num=0]\n",
      "Epoch 29/30:  93%|█████████▎| 28/30 [02:59<00:08,  4.08s/it, loss=1.19e+06, v_num=0]\n",
      "\u001b[2m\u001b[36m(train_velovgi pid=6810)\u001b[0m saving figure to file ./figures/scvelo_stream.png\n",
      "\u001b[2m\u001b[36m(train_velovgi pid=6810)\u001b[0m Figure(640x480)\n",
      "\u001b[2m\u001b[36m(train_velovgi pid=6810)\u001b[0m computing terminal states\n",
      "\u001b[2m\u001b[36m(train_velovgi pid=6810)\u001b[0m     identified 1 region of root cells and 1 region of end points .\n",
      "\u001b[2m\u001b[36m(train_velovgi pid=6810)\u001b[0m     finished (0:00:00) --> added\n",
      "\u001b[2m\u001b[36m(train_velovgi pid=6810)\u001b[0m     'root_cells', root cells of Markov diffusion process (adata.obs)\n",
      "\u001b[2m\u001b[36m(train_velovgi pid=6810)\u001b[0m     'end_points', end points of Markov diffusion process (adata.obs)\n",
      "Epoch 29/30:  97%|█████████▋| 29/30 [03:02<00:04,  4.09s/it, loss=1.17e+06, v_num=0]\n",
      "Epoch 30/30:  97%|█████████▋| 29/30 [03:03<00:04,  4.09s/it, loss=1.17e+06, v_num=0]\n",
      "\u001b[2m\u001b[36m(train_velovgi pid=6810)\u001b[0m saving figure to file ./figures/scvelo_pseudotime.png\n",
      "\u001b[2m\u001b[36m(train_velovgi pid=6810)\u001b[0m Figure(640x480)\n"
     ]
    },
    {
     "name": "stderr",
     "output_type": "stream",
     "text": [
      "\u001b[2m\u001b[36m(train_velovgi pid=7122)\u001b[0m `Trainer.fit` stopped: `max_epochs=30` reached.\n"
     ]
    },
    {
     "name": "stdout",
     "output_type": "stream",
     "text": [
      "Epoch 30/30: 100%|██████████| 30/30 [03:05<00:00,  6.20s/it, loss=1.16e+06, v_num=0]\n",
      "\u001b[2m\u001b[36m(train_velovgi pid=6899)\u001b[0m computing velocity graph (using 1/12 cores)\n",
      "\u001b[2m\u001b[36m(train_velovgi pid=6899)\u001b[0m   0%|          | 0/500 [00:00<?, ?cells/s]\n",
      "\u001b[2m\u001b[36m(train_velovgi pid=6810)\u001b[0m create adata\n"
     ]
    },
    {
     "name": "stderr",
     "output_type": "stream",
     "text": [
      "\u001b[2m\u001b[36m(train_velovgi pid=6899)\u001b[0m /usr/local/conda/envs/velovi-env/lib/python3.8/site-packages/ipykernel/comm/comm.py:79: DeprecationWarning: The `ipykernel.comm.Comm` class has been deprecated. Please use the `comm` module instead.For creating comms, use the function `from comm import create_comm`.\n",
      "\u001b[2m\u001b[36m(train_velovgi pid=6899)\u001b[0m   warn(\n"
     ]
    },
    {
     "name": "stdout",
     "output_type": "stream",
     "text": [
      "\u001b[2m\u001b[36m(train_velovgi pid=6810)\u001b[0m save adata/sample_recover.pkl\n",
      "\u001b[2m\u001b[36m(train_velovgi pid=6810)\u001b[0m save adata/adata.h5ad\n",
      "\u001b[2m\u001b[36m(train_velovgi pid=6899)\u001b[0m     finished (0:00:03) --> added \n",
      "\u001b[2m\u001b[36m(train_velovgi pid=6899)\u001b[0m     'velocity_graph', sparse matrix with cosine correlations (adata.uns)\n",
      "\u001b[2m\u001b[36m(train_velovgi pid=6899)\u001b[0m computing velocity embedding\n",
      "\u001b[2m\u001b[36m(train_velovgi pid=6899)\u001b[0m     finished (0:00:00) --> added\n",
      "\u001b[2m\u001b[36m(train_velovgi pid=6899)\u001b[0m     'velocity_umap', embedded velocity vectors (adata.obsm)\n",
      "\u001b[2m\u001b[36m(train_velovgi pid=6899)\u001b[0m saving figure to file ./figures/scvelo_arrow.png\n",
      "\u001b[2m\u001b[36m(train_velovgi pid=6899)\u001b[0m Figure(640x480)\n",
      "\u001b[2m\u001b[36m(train_velovgi pid=6899)\u001b[0m saving figure to file ./figures/scvelo_stream.png\n",
      "\u001b[2m\u001b[36m(train_velovgi pid=6899)\u001b[0m Figure(640x480)\n",
      "\u001b[2m\u001b[36m(train_velovgi pid=6899)\u001b[0m computing terminal states\n",
      "\u001b[2m\u001b[36m(train_velovgi pid=6899)\u001b[0m     identified 1 region of root cells and 1 region of end points .\n",
      "\u001b[2m\u001b[36m(train_velovgi pid=6899)\u001b[0m     finished (0:00:00) --> added\n",
      "\u001b[2m\u001b[36m(train_velovgi pid=6899)\u001b[0m     'root_cells', root cells of Markov diffusion process (adata.obs)\n",
      "\u001b[2m\u001b[36m(train_velovgi pid=6899)\u001b[0m     'end_points', end points of Markov diffusion process (adata.obs)\n",
      "\u001b[2m\u001b[36m(train_velovgi pid=6899)\u001b[0m saving figure to file ./figures/scvelo_pseudotime.png\n",
      "\u001b[2m\u001b[36m(train_velovgi pid=6899)\u001b[0m Figure(640x480)\n",
      "\u001b[2m\u001b[36m(train_velovgi pid=6899)\u001b[0m create adata\n",
      "\u001b[2m\u001b[36m(train_velovgi pid=6899)\u001b[0m save adata/sample_recover.pkl\n",
      "\u001b[2m\u001b[36m(train_velovgi pid=6899)\u001b[0m save adata/adata.h5ad\n",
      "\u001b[2m\u001b[36m(train_velovgi pid=7010)\u001b[0m computing velocity graph (using 1/12 cores)\n",
      "\u001b[2m\u001b[36m(train_velovgi pid=7010)\u001b[0m   0%|          | 0/500 [00:00<?, ?cells/s]\n"
     ]
    },
    {
     "name": "stderr",
     "output_type": "stream",
     "text": [
      "\u001b[2m\u001b[36m(train_velovgi pid=7010)\u001b[0m   warn(\n",
      "\u001b[2m\u001b[36m(train_velovgi pid=7010)\u001b[0m   warn(\n"
     ]
    },
    {
     "name": "stdout",
     "output_type": "stream",
     "text": [
      "\u001b[2m\u001b[36m(train_velovgi pid=7010)\u001b[0m     finished (0:00:02) --> added \n",
      "\u001b[2m\u001b[36m(train_velovgi pid=7010)\u001b[0m     'velocity_graph', sparse matrix with cosine correlations (adata.uns)\n",
      "\u001b[2m\u001b[36m(train_velovgi pid=7010)\u001b[0m computing velocity embedding\n",
      "\u001b[2m\u001b[36m(train_velovgi pid=7010)\u001b[0m     finished (0:00:00) --> added\n",
      "\u001b[2m\u001b[36m(train_velovgi pid=7010)\u001b[0m     'velocity_umap', embedded velocity vectors (adata.obsm)\n",
      "\u001b[2m\u001b[36m(train_velovgi pid=7010)\u001b[0m saving figure to file ./figures/scvelo_arrow.png\n",
      "\u001b[2m\u001b[36m(train_velovgi pid=7010)\u001b[0m Figure(640x480)\n"
     ]
    },
    {
     "name": "stderr",
     "output_type": "stream",
     "text": [
      "\u001b[2m\u001b[36m(train_velovgi pid=7122)\u001b[0m /usr/local/conda/envs/velovi-env/lib/python3.8/site-packages/ipykernel/comm/comm.py:79: DeprecationWarning: The `ipykernel.comm.Comm` class has been deprecated. Please use the `comm` module instead.For creating comms, use the function `from comm import create_comm`.\n",
      "\u001b[2m\u001b[36m(train_velovgi pid=7122)\u001b[0m   warn(\n"
     ]
    },
    {
     "name": "stdout",
     "output_type": "stream",
     "text": [
      "\u001b[2m\u001b[36m(train_velovgi pid=7122)\u001b[0m   0%|          | 0/500 [00:00<?, ?cells/s]\n",
      "\u001b[2m\u001b[36m(train_velovgi pid=7122)\u001b[0m   0%|          | 0/500 [00:00<?, ?cells/s]\n",
      "\u001b[2m\u001b[36m(train_velovgi pid=7010)\u001b[0m saving figure to file ./figures/scvelo_stream.png\n",
      "\u001b[2m\u001b[36m(train_velovgi pid=7010)\u001b[0m Figure(640x480)\n",
      "\u001b[2m\u001b[36m(train_velovgi pid=7010)\u001b[0m computing terminal states\n",
      "\u001b[2m\u001b[36m(train_velovgi pid=7010)\u001b[0m     identified 1 region of root cells and 1 region of end points .\n",
      "\u001b[2m\u001b[36m(train_velovgi pid=7010)\u001b[0m     finished (0:00:00) --> added\n",
      "\u001b[2m\u001b[36m(train_velovgi pid=7010)\u001b[0m     'root_cells', root cells of Markov diffusion process (adata.obs)\n",
      "\u001b[2m\u001b[36m(train_velovgi pid=7010)\u001b[0m     'end_points', end points of Markov diffusion process (adata.obs)\n",
      "\u001b[2m\u001b[36m(train_velovgi pid=7122)\u001b[0m     finished (0:00:00) --> added\u001b[32m [repeated 2x across cluster]\u001b[0m\n",
      "\u001b[2m\u001b[36m(train_velovgi pid=7122)\u001b[0m Figure(640x480)\n",
      "\u001b[2m\u001b[36m(train_velovgi pid=7122)\u001b[0m Figure(640x480)\n",
      "\u001b[2m\u001b[36m(train_velovgi pid=7122)\u001b[0m Figure(640x480)\n",
      "\u001b[2m\u001b[36m(train_velovgi pid=7010)\u001b[0m saving figure to file ./figures/scvelo_pseudotime.png\n",
      "\u001b[2m\u001b[36m(train_velovgi pid=7122)\u001b[0m Figure(640x480)\n",
      "\u001b[2m\u001b[36m(train_velovgi pid=7010)\u001b[0m Figure(640x480)\u001b[32m [repeated 2x across cluster]\u001b[0m\n",
      "\u001b[2m\u001b[36m(train_velovgi pid=7010)\u001b[0m create adata\n",
      "\u001b[2m\u001b[36m(train_velovgi pid=7010)\u001b[0m save adata/sample_recover.pkl\n",
      "\u001b[2m\u001b[36m(train_velovgi pid=7010)\u001b[0m save adata/adata.h5ad\n",
      "\u001b[2m\u001b[36m(train_velovgi pid=7122)\u001b[0m save adata/sample_recover.pkl\n",
      "\u001b[2m\u001b[36m(train_velovgi pid=7122)\u001b[0m save adata/sample_recover.pkl\n",
      "\u001b[2m\u001b[36m(train_velovgi pid=7122)\u001b[0m save adata/sample_recover.pkl\n",
      "\u001b[2m\u001b[36m(train_velovgi pid=7122)\u001b[0m save adata/sample_recover.pkl\n",
      "\u001b[2m\u001b[36m(train_velovgi pid=7122)\u001b[0m save adata/sample_recover.pkl\n",
      "\u001b[2m\u001b[36m(train_velovgi pid=7122)\u001b[0m save adata/adata.h5ad\n"
     ]
    },
    {
     "name": "stderr",
     "output_type": "stream",
     "text": [
      "2023-06-10 11:20:55,192\tINFO tune.py:945 -- Total run time: 396.54 seconds (396.46 seconds for the tuning loop).\n"
     ]
    }
   ],
   "source": [
    "from ray.tune.schedulers import ASHAScheduler\n",
    "\n",
    "name = \"grid_search\" # TODO:指定此次调参的名字，这里是预处理过程的调参\n",
    "\n",
    "tuner = tune.Tuner(\n",
    "    train_velovgi,\n",
    "    tune_config=tune.TuneConfig(\n",
    "        metric=\"CBDir\",\n",
    "        mode=\"max\",\n",
    "        scheduler=ASHAScheduler()\n",
    "    ),\n",
    "    run_config=air.RunConfig(\n",
    "        local_dir=\"./results\", # Trail内部具体输出结果在这里保存\n",
    "        name=name # 开启调参的Tensorboard日志\n",
    "    ),\n",
    "    param_space=search_space,\n",
    ")\n",
    "\n",
    "results = tuner.fit()"
   ]
  }
 ],
 "metadata": {
  "kernelspec": {
   "display_name": "velovi-env",
   "language": "python",
   "name": "python3"
  },
  "language_info": {
   "codemirror_mode": {
    "name": "ipython",
    "version": 3
   },
   "file_extension": ".py",
   "mimetype": "text/x-python",
   "name": "python",
   "nbconvert_exporter": "python",
   "pygments_lexer": "ipython3",
   "version": "3.8.15"
  },
  "orig_nbformat": 4
 },
 "nbformat": 4,
 "nbformat_minor": 2
}
