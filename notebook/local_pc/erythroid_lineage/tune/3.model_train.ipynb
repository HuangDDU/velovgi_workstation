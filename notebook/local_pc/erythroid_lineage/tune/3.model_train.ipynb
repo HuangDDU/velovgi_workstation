{
 "cells": [
  {
   "attachments": {},
   "cell_type": "markdown",
   "metadata": {},
   "source": [
    "# 2.model_structure"
   ]
  },
  {
   "cell_type": "code",
   "execution_count": 1,
   "metadata": {},
   "outputs": [
    {
     "name": "stderr",
     "output_type": "stream",
     "text": [
      "Global seed set to 0\n",
      "/usr/local/conda/envs/velovi-env/lib/python3.8/site-packages/pytorch_lightning/utilities/warnings.py:53: LightningDeprecationWarning: pytorch_lightning.utilities.warnings.rank_zero_deprecation has been deprecated in v1.6 and will be removed in v1.8. Use the equivalent function from the pytorch_lightning.utilities.rank_zero module instead.\n",
      "  new_rank_zero_deprecation(\n",
      "/usr/local/conda/envs/velovi-env/lib/python3.8/site-packages/pytorch_lightning/utilities/warnings.py:58: LightningDeprecationWarning: The `pytorch_lightning.loggers.base.rank_zero_experiment` is deprecated in v1.7 and will be removed in v1.9. Please use `pytorch_lightning.loggers.logger.rank_zero_experiment` instead.\n",
      "  return new_rank_zero_deprecation(*args, **kwargs)\n"
     ]
    }
   ],
   "source": [
    "import sys\n",
    "sys.path = [\"../../..\"] + sys.path # 切换到项目目录下\n",
    "\n",
    "import scanpy as sc\n",
    "import scvelo as scv\n",
    "import velovgi\n",
    "\n",
    "from ray import tune, air\n",
    "from ray.air import session"
   ]
  },
  {
   "attachments": {},
   "cell_type": "markdown",
   "metadata": {},
   "source": [
    "1. 目标函数"
   ]
  },
  {
   "cell_type": "code",
   "execution_count": 2,
   "metadata": {},
   "outputs": [],
   "source": [
    "from pytorch_lightning import loggers\n",
    "from torch_geometric import seed_everything\n",
    "\n",
    "# TODO: 跳整多种参数，简化调参Trail的名字\n",
    "def train_velovgi(config):\n",
    "    # 提取参数\n",
    "    # 随机数种子，确保结果的可复现性\n",
    "    random_seed = config.get(\"random_seed\", 0)\n",
    "    # 预处理的参数\n",
    "    n_bnn_neighbors = config.get(\"n_bnn_neighbors\", 15)\n",
    "    n_knn_neighbors = config.get(\"n_knn_neighbors\", 15)\n",
    "    is_ot = config.get(\"is_ot\", True)\n",
    "    # 模型结构参数\n",
    "    n_hidden = config.get(\"n_hidden\", 256)\n",
    "    n_latent = config.get(\"n_latent\", 10)\n",
    "    n_layers = config.get(\"n_layers\", 1)\n",
    "    # 训练参数\n",
    "    num_neighbors = [config.get(\"num_neighbors\", 8)]*n_layers\n",
    "    max_epochs = config.get(\"max_epochs\", 10) # TODO:这里是最关键的一个参数，小epochs测试之后再提交到服务器上用大epoch\n",
    "    batch_size = config.get(\"batch_size\", 64)\n",
    "    max_kl_weight = config.get(\"max_kl_weight\", 0.8)\n",
    "\n",
    "    name = \"\"\n",
    "    for k,v in config.items():\n",
    "        name += \"%s_%s,\"%(k, v)\n",
    "    name = name[:-1]\n",
    "\n",
    "    # seed_everything(random_seed)\n",
    "    # # TODO:数据读入，对于不同的数据集这里需要替换\n",
    "    # adata_filename = \"/mnt/h/F_bak/Python进阶/scRNA/Other/velovgi_workstation/notebook/local_pc/erythroid_lineage/data/erythroid_lineage.h5ad\" # 数据路径使用绝对路径\n",
    "    # adata = scv.read(adata_filename)\n",
    "    # batch_key = \"stage\" # 批次key\n",
    "    cluster_key = \"celltype\" # 细胞类型key\n",
    "    cluster_edges = [\n",
    "    (\"Blood progenitors 1\", \"Blood progenitors 2\"), \n",
    "    (\"Blood progenitors 2\", \"Erythroid1\"), \n",
    "    (\"Erythroid1\", \"Erythroid2\"), \n",
    "    (\"Erythroid2\", \"Erythroid3\")\n",
    "    ] # 指定对应数据集已知的细胞类型间的分化信息\n",
    "\n",
    "    # # TODO:预处理，这里batch_pair_list以后可能需要手动指定\n",
    "    # batch_list = list(adata.obs[batch_key].cat.categories)\n",
    "    # batch_pair_list = list(zip(batch_list[:-1], batch_list[1:]))\n",
    "    # subsample_adata = velovgi.pp.preprocess(adata,\n",
    "    #                                         n_bnn_neighbors=n_bnn_neighbors,\n",
    "    #                                         n_knn_neighbors=n_knn_neighbors,\n",
    "    #                                         batch_key=batch_key,\n",
    "    #                                         batch_pair_list=batch_pair_list,\n",
    "    #                                         is_ot=is_ot)\n",
    "    # TODO: 如果需要调整预处理之后的参数，就不需要重复做预处理了，读取预处理之后的结果即可\n",
    "    adata = velovgi.tl.read_adata(\"/mnt/h/F_bak/Python进阶/scRNA/Other/velovgi_workstation/notebook/local_pc/erythroid_lineage/data/adata\")\n",
    "    subsample_adata = scv.read(\"/mnt/h/F_bak/Python进阶/scRNA/Other/velovgi_workstation/notebook/local_pc/erythroid_lineage/data/subsample_adata.h5ad\") # 使用这个AnnData做训练\n",
    "    seed_everything(random_seed)\n",
    "\n",
    "    # 模型训练\n",
    "    logger = loggers.TensorBoardLogger(save_dir=\"./log\", name=name)\n",
    "    velovgi.tl.VELOVGI.setup_anndata(adata=subsample_adata, spliced_layer=\"Ms\", unspliced_layer=\"Mu\")\n",
    "    velovgi_model = velovgi.tl.VELOVGI(subsample_adata,\n",
    "                                       n_hidden=n_hidden,\n",
    "                                       n_latent=n_latent,\n",
    "                                       n_layers=n_layers)\n",
    "    velovgi_model.train(num_neighbors=num_neighbors,\n",
    "                        max_epochs=max_epochs,\n",
    "                        batch_size=batch_size,\n",
    "                        plan_kwargs={\"max_kl_weight\": max_kl_weight},\n",
    "                        logger=logger)\n",
    "\n",
    "    # 模型恢复\n",
    "    velovgi.tl.add_velovi_outputs_to_adata(subsample_adata, velovgi_model) # 模型输出\n",
    "    velovgi.pp.moment_recover(adata, subsample_adata) # 恢复\n",
    "\n",
    "    # 速率计算\n",
    "    scv.tl.velocity_graph(adata)\n",
    "    scv.pl.velocity_embedding(adata, color=cluster_key, title=name, save=\"arrow.png\")\n",
    "    scv.pl.velocity_embedding_stream(adata, color=cluster_key, title=name, legend_loc=\"right\", save=\"stream.png\")\n",
    "\n",
    "    # 伪时间计算\n",
    "    scv.tl.velocity_pseudotime(adata)\n",
    "    scv.pl.velocity_embedding_stream(adata, color=\"velocity_pseudotime\", title=name, colorbar=False, save=\"pseudotime.png\")\n",
    "\n",
    "\n",
    "    # 保存结果\n",
    "    subsample_adata.write(\"subsample_adata.h5ad\")\n",
    "    velovgi.tl.write_adata(adata, \"adata\")\n",
    "    velovgi_model.save(\"model\")\n",
    "\n",
    "    # 计算指标评价\n",
    "    adata_velo = velovgi.tl.pre_metric(adata)\n",
    "    exp_metrics = velovgi.tl.summary_metric(adata_velo, cluster_edges, cluster_key)[-1] # 计算指标汇总后的结果\n",
    "\n",
    "    session.report({\"CBDir\": exp_metrics[\"CBDir\"], \"ICVCoh\": exp_metrics[\"ICVCoh\"]})\n"
   ]
  },
  {
   "attachments": {},
   "cell_type": "markdown",
   "metadata": {},
   "source": [
    "2. 搜索空间，这里可以添加键值，实现更多层面的网格调参"
   ]
  },
  {
   "cell_type": "code",
   "execution_count": 3,
   "metadata": {},
   "outputs": [],
   "source": [
    "search_space = {\n",
    "    # \"num_neighbors\" : tune.grid_search([2, 4]),\n",
    "    \"max_epochs\" : tune.grid_search([10, 20, 30]),\n",
    "    # \"batch_size\" : tune.grid_search([64, 128]),\n",
    "    # \"max_kl_weight\" : tune.grid_search([0.6, 0.8]),\n",
    "}"
   ]
  },
  {
   "attachments": {},
   "cell_type": "markdown",
   "metadata": {},
   "source": [
    "3. 执行调参，等待传入实验名称和搜索空间"
   ]
  },
  {
   "cell_type": "code",
   "execution_count": 4,
   "metadata": {},
   "outputs": [
    {
     "name": "stderr",
     "output_type": "stream",
     "text": [
      "2023-06-10 11:10:37,793\tINFO worker.py:1625 -- Started a local Ray instance.\n",
      "2023-06-10 11:10:39,625\tINFO tune.py:218 -- Initializing Ray automatically. For cluster usage or custom Ray initialization, call `ray.init(...)` before `Tuner(...)`.\n",
      "2023-06-10 11:10:39,652\tINFO tensorboardx.py:172 -- pip install \"ray[tune]\" to see TensorBoard files.\n",
      "2023-06-10 11:10:39,652\tWARNING callback.py:142 -- The TensorboardX logger cannot be instantiated because either TensorboardX or one of it's dependencies is not installed. Please make sure you have the latest version of TensorboardX installed: `pip install -U tensorboardx`\n"
     ]
    },
    {
     "data": {
      "text/html": [
       "<div class=\"tuneStatus\">\n",
       "  <div style=\"display: flex;flex-direction: row\">\n",
       "    <div style=\"display: flex;flex-direction: column;\">\n",
       "      <h3>Tune Status</h3>\n",
       "      <table>\n",
       "<tbody>\n",
       "<tr><td>Current time:</td><td>2023-06-10 11:12:37</td></tr>\n",
       "<tr><td>Running for: </td><td>00:01:58.10        </td></tr>\n",
       "<tr><td>Memory:      </td><td>4.2/12.4 GiB       </td></tr>\n",
       "</tbody>\n",
       "</table>\n",
       "    </div>\n",
       "    <div class=\"vDivider\"></div>\n",
       "    <div class=\"systemInfo\">\n",
       "      <h3>System Info</h3>\n",
       "      Using AsyncHyperBand: num_stopped=0<br>Bracket: Iter 64.000: None | Iter 16.000: None | Iter 4.000: None | Iter 1.000: 0.8037145998946418<br>Logical resource usage: 0/12 CPUs, 0/0 GPUs\n",
       "    </div>\n",
       "    \n",
       "  </div>\n",
       "  <div class=\"hDivider\"></div>\n",
       "  <div class=\"trialStatus\">\n",
       "    <h3>Trial Status</h3>\n",
       "    <table>\n",
       "<thead>\n",
       "<tr><th>Trial name               </th><th>status    </th><th>loc                </th><th style=\"text-align: right;\">  max_epochs</th><th style=\"text-align: right;\">  iter</th><th style=\"text-align: right;\">  total time (s)</th><th style=\"text-align: right;\">   CBDir</th><th style=\"text-align: right;\">  ICVCoh</th></tr>\n",
       "</thead>\n",
       "<tbody>\n",
       "<tr><td>train_velovgi_60adc_00000</td><td>TERMINATED</td><td>172.29.205.215:5185</td><td style=\"text-align: right;\">          10</td><td style=\"text-align: right;\">     1</td><td style=\"text-align: right;\">         66.0054</td><td style=\"text-align: right;\">0.535893</td><td style=\"text-align: right;\">0.971254</td></tr>\n",
       "<tr><td>train_velovgi_60adc_00001</td><td>TERMINATED</td><td>172.29.205.215:5250</td><td style=\"text-align: right;\">          20</td><td style=\"text-align: right;\">     1</td><td style=\"text-align: right;\">         84.8688</td><td style=\"text-align: right;\">0.765104</td><td style=\"text-align: right;\">0.972532</td></tr>\n",
       "<tr><td>train_velovgi_60adc_00002</td><td>TERMINATED</td><td>172.29.205.215:5316</td><td style=\"text-align: right;\">          30</td><td style=\"text-align: right;\">     1</td><td style=\"text-align: right;\">         97.5078</td><td style=\"text-align: right;\">0.842325</td><td style=\"text-align: right;\">0.970403</td></tr>\n",
       "</tbody>\n",
       "</table>\n",
       "  </div>\n",
       "</div>\n",
       "<style>\n",
       ".tuneStatus {\n",
       "  color: var(--jp-ui-font-color1);\n",
       "}\n",
       ".tuneStatus .systemInfo {\n",
       "  display: flex;\n",
       "  flex-direction: column;\n",
       "}\n",
       ".tuneStatus td {\n",
       "  white-space: nowrap;\n",
       "}\n",
       ".tuneStatus .trialStatus {\n",
       "  display: flex;\n",
       "  flex-direction: column;\n",
       "}\n",
       ".tuneStatus h3 {\n",
       "  font-weight: bold;\n",
       "}\n",
       ".tuneStatus .hDivider {\n",
       "  border-bottom-width: var(--jp-border-width);\n",
       "  border-bottom-color: var(--jp-border-color0);\n",
       "  border-bottom-style: solid;\n",
       "}\n",
       ".tuneStatus .vDivider {\n",
       "  border-left-width: var(--jp-border-width);\n",
       "  border-left-color: var(--jp-border-color0);\n",
       "  border-left-style: solid;\n",
       "  margin: 0.5em 1em 0.5em 1em;\n",
       "}\n",
       "</style>\n"
      ],
      "text/plain": [
       "<IPython.core.display.HTML object>"
      ]
     },
     "metadata": {},
     "output_type": "display_data"
    },
    {
     "name": "stderr",
     "output_type": "stream",
     "text": [
      "\u001b[2m\u001b[36m(pid=5185)\u001b[0m Global seed set to 0\n",
      "\u001b[2m\u001b[36m(pid=5185)\u001b[0m /usr/local/conda/envs/velovi-env/lib/python3.8/site-packages/pytorch_lightning/utilities/warnings.py:53: LightningDeprecationWarning: pytorch_lightning.utilities.warnings.rank_zero_deprecation has been deprecated in v1.6 and will be removed in v1.8. Use the equivalent function from the pytorch_lightning.utilities.rank_zero module instead.\n",
      "\u001b[2m\u001b[36m(pid=5185)\u001b[0m   new_rank_zero_deprecation(\n",
      "\u001b[2m\u001b[36m(pid=5185)\u001b[0m /usr/local/conda/envs/velovi-env/lib/python3.8/site-packages/pytorch_lightning/utilities/warnings.py:58: LightningDeprecationWarning: The `pytorch_lightning.loggers.base.rank_zero_experiment` is deprecated in v1.7 and will be removed in v1.9. Please use `pytorch_lightning.loggers.logger.rank_zero_experiment` instead.\n",
      "\u001b[2m\u001b[36m(pid=5185)\u001b[0m   return new_rank_zero_deprecation(*args, **kwargs)\n"
     ]
    },
    {
     "name": "stdout",
     "output_type": "stream",
     "text": [
      "\u001b[2m\u001b[36m(train_velovgi pid=5185)\u001b[0m load /mnt/h/F_bak/Python进阶/scRNA/Other/velovgi_workstation/notebook/local_pc/erythroid_lineage/data/adata/adata.h5ad\n",
      "\u001b[2m\u001b[36m(train_velovgi pid=5185)\u001b[0m load /mnt/h/F_bak/Python进阶/scRNA/Other/velovgi_workstation/notebook/local_pc/erythroid_lineage/data/adata/sample_recover.pkl\n",
      "\u001b[2m\u001b[36m(train_velovgi pid=5185)\u001b[0m 初始训练，初始化runner参数\n",
      "\u001b[2m\u001b[36m(train_velovgi pid=5185)\u001b[0m choosing neighbor minibatch\n"
     ]
    },
    {
     "name": "stderr",
     "output_type": "stream",
     "text": [
      "\u001b[2m\u001b[36m(train_velovgi pid=5185)\u001b[0m GPU available: False, used: False\n",
      "\u001b[2m\u001b[36m(train_velovgi pid=5185)\u001b[0m TPU available: False, using: 0 TPU cores\n",
      "\u001b[2m\u001b[36m(train_velovgi pid=5185)\u001b[0m IPU available: False, using: 0 IPUs\n",
      "\u001b[2m\u001b[36m(train_velovgi pid=5185)\u001b[0m HPU available: False, using: 0 HPUs\n",
      "\u001b[2m\u001b[36m(train_velovgi pid=5185)\u001b[0m Missing logger folder: ./log/max_epochs_10\n"
     ]
    },
    {
     "name": "stdout",
     "output_type": "stream",
     "text": [
      "Epoch 1/10:   0%|          | 0/10 [00:00<?, ?it/s]\n",
      "Epoch 2/10:  10%|█         | 1/10 [00:01<00:15,  1.71s/it, loss=1.91e+06, v_num=0]\n",
      "Epoch 3/10:  20%|██        | 2/10 [00:03<00:12,  1.61s/it, loss=1.87e+06, v_num=0]\n"
     ]
    },
    {
     "name": "stderr",
     "output_type": "stream",
     "text": [
      "\u001b[2m\u001b[36m(pid=5250)\u001b[0m Global seed set to 0\n",
      "\u001b[2m\u001b[36m(pid=5250)\u001b[0m /usr/local/conda/envs/velovi-env/lib/python3.8/site-packages/pytorch_lightning/utilities/warnings.py:53: LightningDeprecationWarning: pytorch_lightning.utilities.warnings.rank_zero_deprecation has been deprecated in v1.6 and will be removed in v1.8. Use the equivalent function from the pytorch_lightning.utilities.rank_zero module instead.\n",
      "\u001b[2m\u001b[36m(pid=5250)\u001b[0m   new_rank_zero_deprecation(\n",
      "\u001b[2m\u001b[36m(pid=5250)\u001b[0m /usr/local/conda/envs/velovi-env/lib/python3.8/site-packages/pytorch_lightning/utilities/warnings.py:58: LightningDeprecationWarning: The `pytorch_lightning.loggers.base.rank_zero_experiment` is deprecated in v1.7 and will be removed in v1.9. Please use `pytorch_lightning.loggers.logger.rank_zero_experiment` instead.\n",
      "\u001b[2m\u001b[36m(pid=5250)\u001b[0m   return new_rank_zero_deprecation(*args, **kwargs)\n"
     ]
    },
    {
     "name": "stdout",
     "output_type": "stream",
     "text": [
      "Epoch 4/10:  30%|███       | 3/10 [00:04<00:11,  1.57s/it, loss=1.85e+06, v_num=0]\n",
      "\u001b[2m\u001b[36m(train_velovgi pid=5250)\u001b[0m load /mnt/h/F_bak/Python进阶/scRNA/Other/velovgi_workstation/notebook/local_pc/erythroid_lineage/data/adata/adata.h5ad\n",
      "\u001b[2m\u001b[36m(train_velovgi pid=5250)\u001b[0m load /mnt/h/F_bak/Python进阶/scRNA/Other/velovgi_workstation/notebook/local_pc/erythroid_lineage/data/adata/sample_recover.pkl\n",
      "\u001b[2m\u001b[36m(train_velovgi pid=5250)\u001b[0m 初始训练，初始化runner参数\n",
      "\u001b[2m\u001b[36m(train_velovgi pid=5250)\u001b[0m choosing neighbor minibatch\n",
      "Epoch 1/20:   0%|          | 0/20 [00:00<?, ?it/s]\n"
     ]
    },
    {
     "name": "stderr",
     "output_type": "stream",
     "text": [
      "\u001b[2m\u001b[36m(train_velovgi pid=5250)\u001b[0m Missing logger folder: ./log/max_epochs_20\n",
      "\u001b[2m\u001b[36m(train_velovgi pid=5250)\u001b[0m Missing logger folder: ./log/max_epochs_20\n",
      "\u001b[2m\u001b[36m(train_velovgi pid=5250)\u001b[0m Missing logger folder: ./log/max_epochs_20\n",
      "\u001b[2m\u001b[36m(train_velovgi pid=5250)\u001b[0m Missing logger folder: ./log/max_epochs_20\n",
      "\u001b[2m\u001b[36m(train_velovgi pid=5250)\u001b[0m Missing logger folder: ./log/max_epochs_20\n"
     ]
    },
    {
     "name": "stdout",
     "output_type": "stream",
     "text": [
      "Epoch 5/10:  40%|████      | 4/10 [00:06<00:10,  1.67s/it, loss=1.83e+06, v_num=0]\n",
      "Epoch 6/10:  50%|█████     | 5/10 [00:08<00:08,  1.74s/it, loss=1.81e+06, v_num=0]\n",
      "Epoch 2/20:   5%|▌         | 1/20 [00:01<00:37,  1.97s/it, loss=1.91e+06, v_num=0]\n"
     ]
    },
    {
     "name": "stderr",
     "output_type": "stream",
     "text": [
      "\u001b[2m\u001b[36m(pid=5316)\u001b[0m Global seed set to 0\n",
      "\u001b[2m\u001b[36m(pid=5316)\u001b[0m /usr/local/conda/envs/velovi-env/lib/python3.8/site-packages/pytorch_lightning/utilities/warnings.py:53: LightningDeprecationWarning: pytorch_lightning.utilities.warnings.rank_zero_deprecation has been deprecated in v1.6 and will be removed in v1.8. Use the equivalent function from the pytorch_lightning.utilities.rank_zero module instead.\n",
      "\u001b[2m\u001b[36m(pid=5316)\u001b[0m   new_rank_zero_deprecation(\n",
      "\u001b[2m\u001b[36m(pid=5316)\u001b[0m /usr/local/conda/envs/velovi-env/lib/python3.8/site-packages/pytorch_lightning/utilities/warnings.py:58: LightningDeprecationWarning: The `pytorch_lightning.loggers.base.rank_zero_experiment` is deprecated in v1.7 and will be removed in v1.9. Please use `pytorch_lightning.loggers.logger.rank_zero_experiment` instead.\n",
      "\u001b[2m\u001b[36m(pid=5316)\u001b[0m   return new_rank_zero_deprecation(*args, **kwargs)\n"
     ]
    },
    {
     "name": "stdout",
     "output_type": "stream",
     "text": [
      "\u001b[2m\u001b[36m(train_velovgi pid=5316)\u001b[0m load /mnt/h/F_bak/Python进阶/scRNA/Other/velovgi_workstation/notebook/local_pc/erythroid_lineage/data/adata/adata.h5ad\n",
      "\u001b[2m\u001b[36m(train_velovgi pid=5316)\u001b[0m load /mnt/h/F_bak/Python进阶/scRNA/Other/velovgi_workstation/notebook/local_pc/erythroid_lineage/data/adata/sample_recover.pkl\n",
      "Epoch 4/20:  15%|█▌        | 3/20 [00:05<00:32,  1.93s/it, loss=1.85e+06, v_num=0]\u001b[32m [repeated 4x across cluster] (Ray deduplicates logs by default. Set RAY_DEDUP_LOGS=0 to disable log deduplication, or see https://docs.ray.io/en/master/ray-observability/ray-logging.html#log-deduplication for more options.)\u001b[0m\n",
      "Epoch 8/10:  80%|████████  | 8/10 [00:14<00:03,  1.91s/it, loss=1.7e+06, v_num=0] \n",
      "Epoch 9/10:  80%|████████  | 8/10 [00:14<00:03,  1.91s/it, loss=1.7e+06, v_num=0]\n",
      "\u001b[2m\u001b[36m(train_velovgi pid=5316)\u001b[0m 初始训练，初始化runner参数\n",
      "\u001b[2m\u001b[36m(train_velovgi pid=5316)\u001b[0m choosing neighbor minibatch\n",
      "Epoch 1/30:   0%|          | 0/30 [00:00<?, ?it/s]\n"
     ]
    },
    {
     "name": "stderr",
     "output_type": "stream",
     "text": [
      "\u001b[2m\u001b[36m(train_velovgi pid=5316)\u001b[0m GPU available: False, used: False\n",
      "\u001b[2m\u001b[36m(train_velovgi pid=5316)\u001b[0m TPU available: False, using: 0 TPU cores\n",
      "\u001b[2m\u001b[36m(train_velovgi pid=5316)\u001b[0m IPU available: False, using: 0 IPUs\n",
      "\u001b[2m\u001b[36m(train_velovgi pid=5316)\u001b[0m HPU available: False, using: 0 HPUs\n",
      "\u001b[2m\u001b[36m(train_velovgi pid=5316)\u001b[0m Missing logger folder: ./log/max_epochs_30\n"
     ]
    },
    {
     "name": "stdout",
     "output_type": "stream",
     "text": [
      "Epoch 10/10: 100%|██████████| 10/10 [00:19<00:00,  2.19s/it, loss=1.64e+06, v_num=0]\n",
      "Epoch 2/30:   3%|▎         | 1/30 [00:02<01:13,  2.53s/it, loss=1.91e+06, v_num=0]\u001b[32m [repeated 3x across cluster]\u001b[0m\n",
      "Epoch 2/30:   7%|▋         | 2/30 [00:07<01:53,  4.04s/it, loss=1.87e+06, v_num=0]\u001b[32m [repeated 3x across cluster]\u001b[0m\n",
      "Epoch 2/30:   7%|▋         | 2/30 [00:07<01:53,  4.04s/it, loss=1.87e+06, v_num=0]\n",
      "Epoch 10/10: 100%|██████████| 10/10 [00:22<00:00,  2.26s/it, loss=1.64e+06, v_num=0]\n",
      "Epoch 7/20:  30%|███       | 6/20 [00:16<00:31,  2.23s/it, loss=1.77e+06, v_num=0]\n"
     ]
    },
    {
     "name": "stderr",
     "output_type": "stream",
     "text": [
      "\u001b[2m\u001b[36m(train_velovgi pid=5185)\u001b[0m `Trainer.fit` stopped: `max_epochs=10` reached.\n"
     ]
    },
    {
     "name": "stdout",
     "output_type": "stream",
     "text": [
      "Epoch 8/20:  40%|████      | 8/20 [00:21<00:39,  3.25s/it, loss=1.7e+06, v_num=0] \u001b[32m [repeated 3x across cluster]\u001b[0m\n",
      "Epoch 4/30:  10%|█         | 3/30 [00:10<01:24,  3.14s/it, loss=1.85e+06, v_num=0]\u001b[32m [repeated 3x across cluster]\u001b[0m\n",
      "Epoch 10/20:  45%|████▌     | 9/20 [00:23<00:31,  2.89s/it, loss=1.67e+06, v_num=0]\n",
      "Epoch 11/20:  55%|█████▌    | 11/20 [00:27<00:22,  2.46s/it, loss=1.6e+06, v_num=0] \u001b[32m [repeated 4x across cluster]\u001b[0m\n",
      "Epoch 7/30:  20%|██        | 6/30 [00:17<01:01,  2.55s/it, loss=1.77e+06, v_num=0]\u001b[32m [repeated 4x across cluster]\u001b[0m\n",
      "Epoch 13/20:  60%|██████    | 12/20 [00:29<00:19,  2.41s/it, loss=1.56e+06, v_num=0]\u001b[32m [repeated 3x across cluster]\u001b[0m\n",
      "Epoch 15/20:  70%|███████   | 14/20 [00:34<00:13,  2.27s/it, loss=1.52e+06, v_num=0]\n",
      "Epoch 10/30:  30%|███       | 9/30 [00:24<00:50,  2.38s/it, loss=1.67e+06, v_num=0]\u001b[32m [repeated 2x across cluster]\u001b[0m\n",
      "Epoch 16/20:  75%|███████▌  | 15/20 [00:36<00:10,  2.14s/it, loss=1.49e+06, v_num=0]\u001b[32m [repeated 5x across cluster]\u001b[0m\n",
      "Epoch 11/30:  37%|███▋      | 11/30 [00:27<00:40,  2.12s/it, loss=1.6e+06, v_num=0] \n",
      "Epoch 18/20:  85%|████████▌ | 17/20 [00:40<00:06,  2.08s/it, loss=1.45e+06, v_num=0]\n",
      "Epoch 19/20:  90%|█████████ | 18/20 [00:42<00:04,  2.07s/it, loss=1.42e+06, v_num=0]\u001b[32m [repeated 5x across cluster]\u001b[0m\n",
      "Epoch 14/30:  47%|████▋     | 14/30 [00:34<00:33,  2.11s/it, loss=1.52e+06, v_num=0]\n",
      "Epoch 15/30:  47%|████▋     | 14/30 [00:34<00:33,  2.11s/it, loss=1.52e+06, v_num=0]\n",
      "Epoch 19/20:  95%|█████████▌| 19/20 [00:44<00:02,  2.13s/it, loss=1.4e+06, v_num=0] \n",
      "Epoch 20/20:  95%|█████████▌| 19/20 [00:44<00:02,  2.13s/it, loss=1.4e+06, v_num=0]\n",
      "Epoch 20/20: 100%|██████████| 20/20 [00:46<00:00,  2.33s/it, loss=1.38e+06, v_num=0]\n"
     ]
    },
    {
     "name": "stderr",
     "output_type": "stream",
     "text": [
      "\u001b[2m\u001b[36m(train_velovgi pid=5250)\u001b[0m `Trainer.fit` stopped: `max_epochs=20` reached.\n"
     ]
    },
    {
     "name": "stdout",
     "output_type": "stream",
     "text": [
      "Epoch 17/30:  57%|█████▋    | 17/30 [00:40<00:26,  2.04s/it, loss=1.45e+06, v_num=0]\n",
      "Epoch 17/30:  53%|█████▎    | 16/30 [00:38<00:29,  2.10s/it, loss=1.47e+06, v_num=0]\u001b[32m [repeated 2x across cluster]\u001b[0m\n",
      "\u001b[2m\u001b[36m(train_velovgi pid=5185)\u001b[0m computing velocity graph (using 1/12 cores)\n",
      "\u001b[2m\u001b[36m(train_velovgi pid=5185)\u001b[0m   0%|          | 0/500 [00:00<?, ?cells/s]\n",
      "Epoch 18/30:  57%|█████▋    | 17/30 [00:40<00:26,  2.04s/it, loss=1.45e+06, v_num=0]\n",
      "\u001b[2m\u001b[36m(train_velovgi pid=5185)\u001b[0m     finished (0:00:01) --> added \n",
      "\u001b[2m\u001b[36m(train_velovgi pid=5185)\u001b[0m     'velocity_graph', sparse matrix with cosine correlations (adata.uns)\n",
      "\u001b[2m\u001b[36m(train_velovgi pid=5185)\u001b[0m computing velocity embedding\n",
      "\u001b[2m\u001b[36m(train_velovgi pid=5185)\u001b[0m     finished (0:00:00) --> added\n",
      "\u001b[2m\u001b[36m(train_velovgi pid=5185)\u001b[0m     'velocity_umap', embedded velocity vectors (adata.obsm)\n",
      "Epoch 18/30:  60%|██████    | 18/30 [00:42<00:24,  2.08s/it, loss=1.42e+06, v_num=0]\n",
      "Epoch 19/30:  60%|██████    | 18/30 [00:42<00:24,  2.08s/it, loss=1.42e+06, v_num=0]\n",
      "\u001b[2m\u001b[36m(train_velovgi pid=5185)\u001b[0m saving figure to file ./figures/scvelo_arrow.png\n",
      "\u001b[2m\u001b[36m(train_velovgi pid=5185)\u001b[0m Figure(640x480)\n",
      "\u001b[2m\u001b[36m(train_velovgi pid=5185)\u001b[0m saving figure to file ./figures/scvelo_stream.png\n",
      "\u001b[2m\u001b[36m(train_velovgi pid=5185)\u001b[0m Figure(640x480)\n",
      "Epoch 20/30:  67%|██████▋   | 20/30 [00:45<00:19,  1.93s/it, loss=1.38e+06, v_num=0]\n",
      "Epoch 20/30:  67%|██████▋   | 20/30 [00:45<00:19,  1.93s/it, loss=1.38e+06, v_num=0]\n",
      "Epoch 21/30:  67%|██████▋   | 20/30 [00:45<00:19,  1.93s/it, loss=1.38e+06, v_num=0]\n",
      "\u001b[2m\u001b[36m(train_velovgi pid=5185)\u001b[0m saving figure to file ./figures/scvelo_pseudotime.png\n",
      "\u001b[2m\u001b[36m(train_velovgi pid=5185)\u001b[0m Figure(640x480)\n",
      "\u001b[2m\u001b[36m(train_velovgi pid=5185)\u001b[0m create adata\n",
      "\u001b[2m\u001b[36m(train_velovgi pid=5185)\u001b[0m save adata/sample_recover.pkl\n",
      "Epoch 22/30:  70%|███████   | 21/30 [00:47<00:17,  1.91s/it, loss=1.35e+06, v_num=0]\n",
      "\u001b[2m\u001b[36m(train_velovgi pid=5185)\u001b[0m save adata/adata.h5ad\n",
      "Epoch 22/30:  73%|███████▎  | 22/30 [00:49<00:15,  1.91s/it, loss=1.33e+06, v_num=0]\n"
     ]
    },
    {
     "data": {
      "text/html": [
       "<div class=\"trialProgress\">\n",
       "  <h3>Trial Progress</h3>\n",
       "  <table>\n",
       "<thead>\n",
       "<tr><th>Trial name               </th><th style=\"text-align: right;\">   CBDir</th><th style=\"text-align: right;\">  ICVCoh</th><th>date               </th><th>done  </th><th>experiment_tag  </th><th>hostname       </th><th style=\"text-align: right;\">  iterations_since_restore</th><th>node_ip       </th><th style=\"text-align: right;\">  pid</th><th style=\"text-align: right;\">  time_since_restore</th><th style=\"text-align: right;\">  time_this_iter_s</th><th style=\"text-align: right;\">  time_total_s</th><th style=\"text-align: right;\">  timestamp</th><th style=\"text-align: right;\">  training_iteration</th><th>trial_id   </th></tr>\n",
       "</thead>\n",
       "<tbody>\n",
       "<tr><td>train_velovgi_60adc_00000</td><td style=\"text-align: right;\">0.535893</td><td style=\"text-align: right;\">0.971254</td><td>2023-06-10_11-11-51</td><td>True  </td><td>0_max_epochs=10 </td><td>DESKTOP-9GVJMSD</td><td style=\"text-align: right;\">                         1</td><td>172.29.205.215</td><td style=\"text-align: right;\"> 5185</td><td style=\"text-align: right;\">             66.0054</td><td style=\"text-align: right;\">           66.0054</td><td style=\"text-align: right;\">       66.0054</td><td style=\"text-align: right;\"> 1686366711</td><td style=\"text-align: right;\">                   1</td><td>60adc_00000</td></tr>\n",
       "<tr><td>train_velovgi_60adc_00001</td><td style=\"text-align: right;\">0.765104</td><td style=\"text-align: right;\">0.972532</td><td>2023-06-10_11-12-16</td><td>True  </td><td>1_max_epochs=20 </td><td>DESKTOP-9GVJMSD</td><td style=\"text-align: right;\">                         1</td><td>172.29.205.215</td><td style=\"text-align: right;\"> 5250</td><td style=\"text-align: right;\">             84.8688</td><td style=\"text-align: right;\">           84.8688</td><td style=\"text-align: right;\">       84.8688</td><td style=\"text-align: right;\"> 1686366736</td><td style=\"text-align: right;\">                   1</td><td>60adc_00001</td></tr>\n",
       "<tr><td>train_velovgi_60adc_00002</td><td style=\"text-align: right;\">0.842325</td><td style=\"text-align: right;\">0.970403</td><td>2023-06-10_11-12-37</td><td>True  </td><td>2_max_epochs=30 </td><td>DESKTOP-9GVJMSD</td><td style=\"text-align: right;\">                         1</td><td>172.29.205.215</td><td style=\"text-align: right;\"> 5316</td><td style=\"text-align: right;\">             97.5078</td><td style=\"text-align: right;\">           97.5078</td><td style=\"text-align: right;\">       97.5078</td><td style=\"text-align: right;\"> 1686366757</td><td style=\"text-align: right;\">                   1</td><td>60adc_00002</td></tr>\n",
       "</tbody>\n",
       "</table>\n",
       "</div>\n",
       "<style>\n",
       ".trialProgress {\n",
       "  display: flex;\n",
       "  flex-direction: column;\n",
       "  color: var(--jp-ui-font-color1);\n",
       "}\n",
       ".trialProgress h3 {\n",
       "  font-weight: bold;\n",
       "}\n",
       ".trialProgress td {\n",
       "  white-space: nowrap;\n",
       "}\n",
       "</style>\n"
      ],
      "text/plain": [
       "<IPython.core.display.HTML object>"
      ]
     },
     "metadata": {},
     "output_type": "display_data"
    },
    {
     "name": "stdout",
     "output_type": "stream",
     "text": [
      "Epoch 23/30:  73%|███████▎  | 22/30 [00:49<00:15,  1.91s/it, loss=1.33e+06, v_num=0]\n",
      "Epoch 24/30:  77%|███████▋  | 23/30 [00:51<00:12,  1.84s/it, loss=1.3e+06, v_num=0] \n",
      "Epoch 24/30:  80%|████████  | 24/30 [00:53<00:11,  1.84s/it, loss=1.28e+06, v_num=0]\n",
      "Epoch 25/30:  80%|████████  | 24/30 [00:53<00:11,  1.84s/it, loss=1.28e+06, v_num=0]\n",
      "Epoch 25/30:  83%|████████▎ | 25/30 [00:55<00:09,  1.84s/it, loss=1.25e+06, v_num=0]\n",
      "Epoch 26/30:  83%|████████▎ | 25/30 [00:55<00:09,  1.84s/it, loss=1.25e+06, v_num=0]\n",
      "Epoch 27/30:  87%|████████▋ | 26/30 [00:56<00:07,  1.87s/it, loss=1.22e+06, v_num=0]\n",
      "Epoch 28/30:  90%|█████████ | 27/30 [00:58<00:05,  1.85s/it, loss=1.2e+06, v_num=0] \n",
      "Epoch 29/30:  93%|█████████▎| 28/30 [01:00<00:03,  1.77s/it, loss=1.18e+06, v_num=0]\n",
      "Epoch 30/30:  97%|█████████▋| 29/30 [01:02<00:01,  1.76s/it, loss=1.16e+06, v_num=0]\n",
      "Epoch 30/30: 100%|██████████| 30/30 [01:03<00:00,  1.80s/it, loss=1.15e+06, v_num=0]\n",
      "Epoch 30/30: 100%|██████████| 30/30 [01:04<00:00,  2.13s/it, loss=1.15e+06, v_num=0]\n"
     ]
    },
    {
     "name": "stderr",
     "output_type": "stream",
     "text": [
      "\u001b[2m\u001b[36m(train_velovgi pid=5316)\u001b[0m `Trainer.fit` stopped: `max_epochs=30` reached.\n"
     ]
    },
    {
     "name": "stdout",
     "output_type": "stream",
     "text": [
      "\u001b[2m\u001b[36m(train_velovgi pid=5250)\u001b[0m computing velocity graph (using 1/12 cores)\n",
      "\u001b[2m\u001b[36m(train_velovgi pid=5250)\u001b[0m   0%|          | 0/500 [00:00<?, ?cells/s]\n",
      "\u001b[2m\u001b[36m(train_velovgi pid=5250)\u001b[0m     finished (0:00:01) --> added \n",
      "\u001b[2m\u001b[36m(train_velovgi pid=5250)\u001b[0m     'velocity_graph', sparse matrix with cosine correlations (adata.uns)\n",
      "\u001b[2m\u001b[36m(train_velovgi pid=5250)\u001b[0m computing velocity embedding\n",
      "\u001b[2m\u001b[36m(train_velovgi pid=5250)\u001b[0m     finished (0:00:00) --> added\n",
      "\u001b[2m\u001b[36m(train_velovgi pid=5250)\u001b[0m     'velocity_umap', embedded velocity vectors (adata.obsm)\n",
      "\u001b[2m\u001b[36m(train_velovgi pid=5250)\u001b[0m saving figure to file ./figures/scvelo_arrow.png\n",
      "\u001b[2m\u001b[36m(train_velovgi pid=5250)\u001b[0m Figure(640x480)\n",
      "\u001b[2m\u001b[36m(train_velovgi pid=5250)\u001b[0m saving figure to file ./figures/scvelo_stream.png\n",
      "\u001b[2m\u001b[36m(train_velovgi pid=5250)\u001b[0m Figure(640x480)\n",
      "\u001b[2m\u001b[36m(train_velovgi pid=5250)\u001b[0m saving figure to file ./figures/scvelo_pseudotime.png\n",
      "\u001b[2m\u001b[36m(train_velovgi pid=5250)\u001b[0m Figure(640x480)\n",
      "\u001b[2m\u001b[36m(train_velovgi pid=5250)\u001b[0m create adata\n",
      "\u001b[2m\u001b[36m(train_velovgi pid=5250)\u001b[0m save adata/sample_recover.pkl\n",
      "\u001b[2m\u001b[36m(train_velovgi pid=5250)\u001b[0m save adata/adata.h5ad\n",
      "\u001b[2m\u001b[36m(train_velovgi pid=5316)\u001b[0m computing velocity graph (using 1/12 cores)\n",
      "\u001b[2m\u001b[36m(train_velovgi pid=5316)\u001b[0m   0%|          | 0/500 [00:00<?, ?cells/s]\n",
      "\u001b[2m\u001b[36m(train_velovgi pid=5316)\u001b[0m     finished (0:00:01) --> added \n",
      "\u001b[2m\u001b[36m(train_velovgi pid=5316)\u001b[0m     'velocity_graph', sparse matrix with cosine correlations (adata.uns)\n",
      "\u001b[2m\u001b[36m(train_velovgi pid=5316)\u001b[0m computing velocity embedding\n",
      "\u001b[2m\u001b[36m(train_velovgi pid=5316)\u001b[0m     finished (0:00:00) --> added\n",
      "\u001b[2m\u001b[36m(train_velovgi pid=5316)\u001b[0m     'velocity_umap', embedded velocity vectors (adata.obsm)\n",
      "\u001b[2m\u001b[36m(train_velovgi pid=5316)\u001b[0m saving figure to file ./figures/scvelo_arrow.png\n",
      "\u001b[2m\u001b[36m(train_velovgi pid=5316)\u001b[0m Figure(640x480)\n",
      "\u001b[2m\u001b[36m(train_velovgi pid=5316)\u001b[0m saving figure to file ./figures/scvelo_stream.png\n",
      "\u001b[2m\u001b[36m(train_velovgi pid=5316)\u001b[0m Figure(640x480)\n",
      "\u001b[2m\u001b[36m(train_velovgi pid=5316)\u001b[0m saving figure to file ./figures/scvelo_pseudotime.png\n",
      "\u001b[2m\u001b[36m(train_velovgi pid=5316)\u001b[0m Figure(640x480)\n",
      "\u001b[2m\u001b[36m(train_velovgi pid=5316)\u001b[0m create adata\n",
      "\u001b[2m\u001b[36m(train_velovgi pid=5316)\u001b[0m save adata/sample_recover.pkl\n",
      "\u001b[2m\u001b[36m(train_velovgi pid=5316)\u001b[0m save adata/adata.h5ad\n"
     ]
    },
    {
     "name": "stderr",
     "output_type": "stream",
     "text": [
      "2023-06-10 11:12:37,778\tINFO tune.py:945 -- Total run time: 118.15 seconds (118.06 seconds for the tuning loop).\n"
     ]
    }
   ],
   "source": [
    "from ray.tune.schedulers import ASHAScheduler\n",
    "\n",
    "name = \"model_train\" # TODO:指定此次调参的名字，这里是预处理过程的调参\n",
    "\n",
    "tuner = tune.Tuner(\n",
    "    train_velovgi,\n",
    "    tune_config=tune.TuneConfig(\n",
    "        metric=\"CBDir\",\n",
    "        mode=\"max\",\n",
    "        scheduler=ASHAScheduler()\n",
    "    ),\n",
    "    run_config=air.RunConfig(\n",
    "        local_dir=\"./results\", # Trail内部具体输出结果在这里保存\n",
    "        name=name # 开启调参的Tensorboard日志\n",
    "    ),\n",
    "    param_space=search_space,\n",
    ")\n",
    "\n",
    "results = tuner.fit()"
   ]
  }
 ],
 "metadata": {
  "kernelspec": {
   "display_name": "velovi-env",
   "language": "python",
   "name": "python3"
  },
  "language_info": {
   "codemirror_mode": {
    "name": "ipython",
    "version": 3
   },
   "file_extension": ".py",
   "mimetype": "text/x-python",
   "name": "python",
   "nbconvert_exporter": "python",
   "pygments_lexer": "ipython3",
   "version": "3.8.15"
  },
  "orig_nbformat": 4
 },
 "nbformat": 4,
 "nbformat_minor": 2
}
