{
 "cells": [
  {
   "attachments": {},
   "cell_type": "markdown",
   "metadata": {},
   "source": [
    "# 5. 数据批次抽取分析"
   ]
  },
  {
   "cell_type": "code",
   "execution_count": 1,
   "metadata": {},
   "outputs": [
    {
     "name": "stderr",
     "output_type": "stream",
     "text": [
      "Global seed set to 0\n",
      "/usr/local/conda/envs/velovi-env/lib/python3.8/site-packages/pytorch_lightning/utilities/warnings.py:53: LightningDeprecationWarning: pytorch_lightning.utilities.warnings.rank_zero_deprecation has been deprecated in v1.6 and will be removed in v1.8. Use the equivalent function from the pytorch_lightning.utilities.rank_zero module instead.\n",
      "  new_rank_zero_deprecation(\n",
      "/usr/local/conda/envs/velovi-env/lib/python3.8/site-packages/pytorch_lightning/utilities/warnings.py:58: LightningDeprecationWarning: The `pytorch_lightning.loggers.base.rank_zero_experiment` is deprecated in v1.7 and will be removed in v1.9. Please use `pytorch_lightning.loggers.logger.rank_zero_experiment` instead.\n",
      "  return new_rank_zero_deprecation(*args, **kwargs)\n"
     ]
    }
   ],
   "source": [
    "import sys\n",
    "sys.path = [\"../../..\"] + sys.path # 切换到项目目录下\n",
    "\n",
    "import scanpy as sc\n",
    "import scvelo as scv\n",
    "import velovgi"
   ]
  },
  {
   "cell_type": "code",
   "execution_count": 2,
   "metadata": {},
   "outputs": [],
   "source": [
    "from torch_geometric import seed_everything\n",
    "\n",
    "seed = 0\n",
    "seed_everything(seed)"
   ]
  },
  {
   "attachments": {},
   "cell_type": "markdown",
   "metadata": {},
   "source": [
    "## 1. 数据读入"
   ]
  },
  {
   "cell_type": "code",
   "execution_count": 3,
   "metadata": {},
   "outputs": [
    {
     "data": {
      "text/plain": [
       "AnnData object with n_obs × n_vars = 500 × 53801\n",
       "    obs: 'sample', 'stage', 'sequencing.batch', 'theiler', 'celltype'\n",
       "    var: 'Accession', 'Chromosome', 'End', 'Start', 'Strand', 'MURK_gene', 'Δm', 'scaled Δm'\n",
       "    uns: 'celltype_colors'\n",
       "    obsm: 'X_pca', 'X_umap'\n",
       "    layers: 'spliced', 'unspliced'"
      ]
     },
     "execution_count": 3,
     "metadata": {},
     "output_type": "execute_result"
    }
   ],
   "source": [
    "# 红系成熟部分\n",
    "adata_filename = \"./data/erythroid_lineage.h5ad\"\n",
    "\n",
    "adata = scv.read(adata_filename)\n",
    "batch_key = \"stage\"\n",
    "cluster_key = \"celltype\"\n",
    "adata"
   ]
  },
  {
   "cell_type": "code",
   "execution_count": 4,
   "metadata": {},
   "outputs": [],
   "source": [
    "adata_bak = adata.copy()"
   ]
  },
  {
   "attachments": {},
   "cell_type": "markdown",
   "metadata": {},
   "source": [
    "2. 构造待抽取的批次列表"
   ]
  },
  {
   "cell_type": "code",
   "execution_count": 5,
   "metadata": {},
   "outputs": [
    {
     "data": {
      "text/plain": [
       "[['E7.0', 'E7.5', 'E8.0', 'E8.5'], ['E7.0', 'E7.75', 'E8.5'], ['E7.0', 'E8.0']]"
      ]
     },
     "execution_count": 5,
     "metadata": {},
     "output_type": "execute_result"
    }
   ],
   "source": [
    "import math\n",
    "\n",
    "batch_list = list(adata_bak.obs[batch_key].cat.categories)\n",
    "batch_list_list = []\n",
    "for sep in range(1, math.ceil(len(batch_list)/2)):\n",
    "# for sep in range(0, math.ceil(len(batch_list)/2)):\n",
    "    batch_list_list.append(batch_list[::sep+1])\n",
    "\n",
    "batch_list_list"
   ]
  },
  {
   "cell_type": "code",
   "execution_count": 6,
   "metadata": {},
   "outputs": [],
   "source": [
    "save = True # 控制保存路径"
   ]
  },
  {
   "attachments": {},
   "cell_type": "markdown",
   "metadata": {},
   "source": [
    "## 2. Velovgi执行"
   ]
  },
  {
   "attachments": {},
   "cell_type": "markdown",
   "metadata": {},
   "source": [
    "1. 批次抽取后执行所有流程"
   ]
  },
  {
   "cell_type": "code",
   "execution_count": 7,
   "metadata": {},
   "outputs": [
    {
     "name": "stdout",
     "output_type": "stream",
     "text": [
      "E7.0-E7.5-E8.0-E8.5\n",
      "adata AnnData object with n_obs × n_vars = 311 × 53801\n",
      "    obs: 'sample', 'stage', 'sequencing.batch', 'theiler', 'celltype'\n",
      "    var: 'Accession', 'Chromosome', 'End', 'Start', 'Strand', 'MURK_gene', 'Δm', 'scaled Δm'\n",
      "    uns: 'celltype_colors'\n",
      "    obsm: 'X_pca', 'X_umap'\n",
      "    layers: 'spliced', 'unspliced'\n",
      "batch_pair_list [('E7.0', 'E7.5'), ('E7.5', 'E8.0'), ('E8.0', 'E8.5')]\n",
      "Filtered out 52178 genes that are detected 20 counts (shared).\n",
      "Normalized count data: X, spliced, unspliced.\n",
      "Skip filtering by dispersion since number of variables are less than `n_top_genes`.\n",
      "Logarithmized X.\n",
      "calculating knn and bnn mask...\n",
      "pair_list : [('E7.0', 'E7.5'), ('E7.5', 'E8.0'), ('E8.0', 'E8.5')]\n"
     ]
    },
    {
     "name": "stderr",
     "output_type": "stream",
     "text": [
      "OMP: Info #276: omp_set_nested routine deprecated, please use omp_set_max_active_levels instead.\n"
     ]
    },
    {
     "name": "stdout",
     "output_type": "stream",
     "text": [
      "smoothing...\n",
      "WARNING: The neighbor graph has an unexpected format (e.g. computed outside scvelo) \n",
      "or is corrupted (e.g. due to subsetting). Consider recomputing with `pp.neighbors`.\n",
      "computing moments based on connectivities\n",
      "    finished (0:00:00) --> added \n",
      "    'Ms' and 'Mu', moments of un/spliced abundances (adata.layers)\n",
      "初始训练，初始化runner参数\n",
      "choosing neighbor minibatch\n"
     ]
    },
    {
     "name": "stderr",
     "output_type": "stream",
     "text": [
      "GPU available: True (cuda), used: True\n",
      "TPU available: False, using: 0 TPU cores\n",
      "IPU available: False, using: 0 IPUs\n",
      "HPU available: False, using: 0 HPUs\n",
      "Missing logger folder: ./batch_extract/E7.0-E7.5-E8.0-E8.5/log/E7.0-E7.5-E8.0-E8.5\n",
      "LOCAL_RANK: 0 - CUDA_VISIBLE_DEVICES: [0]\n"
     ]
    },
    {
     "name": "stdout",
     "output_type": "stream",
     "text": [
      "Epoch 500/500: 100%|██████████| 500/500 [01:04<00:00, 10.16it/s, loss=1.37e+04, v_num=0]"
     ]
    },
    {
     "name": "stderr",
     "output_type": "stream",
     "text": [
      "`Trainer.fit` stopped: `max_epochs=500` reached.\n"
     ]
    },
    {
     "name": "stdout",
     "output_type": "stream",
     "text": [
      "Epoch 500/500: 100%|██████████| 500/500 [01:04<00:00,  7.73it/s, loss=1.37e+04, v_num=0]\n",
      "WARNING: The neighbor graph has an unexpected format (e.g. computed outside scvelo) \n",
      "or is corrupted (e.g. due to subsetting). Consider recomputing with `pp.neighbors`.\n",
      "computing velocity graph (using 1/12 cores)\n"
     ]
    },
    {
     "name": "stderr",
     "output_type": "stream",
     "text": [
      "/usr/local/conda/envs/velovi-env/lib/python3.8/site-packages/ipykernel/comm/comm.py:79: DeprecationWarning: The `ipykernel.comm.Comm` class has been deprecated. Please use the `comm` module instead.For creating comms, use the function `from comm import create_comm`.\n",
      "  warn(\n"
     ]
    },
    {
     "data": {
      "application/vnd.jupyter.widget-view+json": {
       "model_id": "1d3949e48cc043309474ab37b22f7a6b",
       "version_major": 2,
       "version_minor": 0
      },
      "text/plain": [
       "  0%|          | 0/311 [00:00<?, ?cells/s]"
      ]
     },
     "metadata": {},
     "output_type": "display_data"
    },
    {
     "name": "stdout",
     "output_type": "stream",
     "text": [
      "    finished (0:00:00) --> added \n",
      "    'velocity_graph', sparse matrix with cosine correlations (adata.uns)\n",
      "computing velocity embedding\n",
      "    finished (0:00:00) --> added\n",
      "    'velocity_umap', embedded velocity vectors (adata.obsm)\n",
      "saving figure to file ./figures/scvelo_E7.0-E7.5-E8.0-E8.5_velocity_embedding.png\n",
      "saving figure to file ./figures/scvelo_E7.0-E7.5-E8.0-E8.5_velocity_embedding_stream.png\n",
      "saving...\n",
      "create ./batch_extract/E7.0-E7.5-E8.0-E8.5/adata\n",
      "save ./batch_extract/E7.0-E7.5-E8.0-E8.5/adata/sample_recover.pkl\n",
      "save ./batch_extract/E7.0-E7.5-E8.0-E8.5/adata/adata.h5ad\n",
      "================================\n",
      "E7.0-E7.75-E8.5\n",
      "adata AnnData object with n_obs × n_vars = 212 × 53801\n",
      "    obs: 'sample', 'stage', 'sequencing.batch', 'theiler', 'celltype'\n",
      "    var: 'Accession', 'Chromosome', 'End', 'Start', 'Strand', 'MURK_gene', 'Δm', 'scaled Δm'\n",
      "    uns: 'celltype_colors'\n",
      "    obsm: 'X_pca', 'X_umap'\n",
      "    layers: 'spliced', 'unspliced'\n",
      "batch_pair_list [('E7.0', 'E7.75'), ('E7.75', 'E8.5')]\n",
      "Filtered out 52426 genes that are detected 20 counts (shared).\n",
      "Normalized count data: X, spliced, unspliced.\n",
      "Skip filtering by dispersion since number of variables are less than `n_top_genes`.\n",
      "Logarithmized X.\n",
      "calculating knn and bnn mask...\n",
      "pair_list : [('E7.0', 'E7.75'), ('E7.75', 'E8.5')]\n",
      "smoothing...\n",
      "WARNING: The neighbor graph has an unexpected format (e.g. computed outside scvelo) \n",
      "or is corrupted (e.g. due to subsetting). Consider recomputing with `pp.neighbors`.\n",
      "computing moments based on connectivities\n",
      "    finished (0:00:00) --> added \n",
      "    'Ms' and 'Mu', moments of un/spliced abundances (adata.layers)\n",
      "初始训练，初始化runner参数\n",
      "choosing neighbor minibatch\n"
     ]
    },
    {
     "name": "stderr",
     "output_type": "stream",
     "text": [
      "GPU available: True (cuda), used: True\n",
      "TPU available: False, using: 0 TPU cores\n",
      "IPU available: False, using: 0 IPUs\n",
      "HPU available: False, using: 0 HPUs\n",
      "Missing logger folder: ./batch_extract/E7.0-E7.75-E8.5/log/E7.0-E7.75-E8.5\n",
      "LOCAL_RANK: 0 - CUDA_VISIBLE_DEVICES: [0]\n"
     ]
    },
    {
     "name": "stdout",
     "output_type": "stream",
     "text": [
      "Epoch 500/500: 100%|██████████| 500/500 [00:53<00:00, 10.14it/s, loss=1.9e+04, v_num=0] "
     ]
    },
    {
     "name": "stderr",
     "output_type": "stream",
     "text": [
      "`Trainer.fit` stopped: `max_epochs=500` reached.\n"
     ]
    },
    {
     "name": "stdout",
     "output_type": "stream",
     "text": [
      "Epoch 500/500: 100%|██████████| 500/500 [00:53<00:00,  9.41it/s, loss=1.9e+04, v_num=0]\n",
      "WARNING: The neighbor graph has an unexpected format (e.g. computed outside scvelo) \n",
      "or is corrupted (e.g. due to subsetting). Consider recomputing with `pp.neighbors`.\n",
      "computing velocity graph (using 1/12 cores)\n"
     ]
    },
    {
     "name": "stderr",
     "output_type": "stream",
     "text": [
      "/usr/local/conda/envs/velovi-env/lib/python3.8/site-packages/ipykernel/comm/comm.py:79: DeprecationWarning: The `ipykernel.comm.Comm` class has been deprecated. Please use the `comm` module instead.For creating comms, use the function `from comm import create_comm`.\n",
      "  warn(\n"
     ]
    },
    {
     "data": {
      "application/vnd.jupyter.widget-view+json": {
       "model_id": "f66c590498a943e2a7daf3986ab24db6",
       "version_major": 2,
       "version_minor": 0
      },
      "text/plain": [
       "  0%|          | 0/212 [00:00<?, ?cells/s]"
      ]
     },
     "metadata": {},
     "output_type": "display_data"
    },
    {
     "name": "stdout",
     "output_type": "stream",
     "text": [
      "    finished (0:00:00) --> added \n",
      "    'velocity_graph', sparse matrix with cosine correlations (adata.uns)\n",
      "computing velocity embedding\n",
      "    finished (0:00:00) --> added\n",
      "    'velocity_umap', embedded velocity vectors (adata.obsm)\n",
      "saving figure to file ./figures/scvelo_E7.0-E7.75-E8.5_velocity_embedding.png\n",
      "saving figure to file ./figures/scvelo_E7.0-E7.75-E8.5_velocity_embedding_stream.png\n",
      "saving...\n",
      "create ./batch_extract/E7.0-E7.75-E8.5/adata\n",
      "save ./batch_extract/E7.0-E7.75-E8.5/adata/sample_recover.pkl\n",
      "save ./batch_extract/E7.0-E7.75-E8.5/adata/adata.h5ad\n",
      "================================\n",
      "E7.0-E8.0\n",
      "adata AnnData object with n_obs × n_vars = 161 × 53801\n",
      "    obs: 'sample', 'stage', 'sequencing.batch', 'theiler', 'celltype'\n",
      "    var: 'Accession', 'Chromosome', 'End', 'Start', 'Strand', 'MURK_gene', 'Δm', 'scaled Δm'\n",
      "    uns: 'celltype_colors'\n",
      "    obsm: 'X_pca', 'X_umap'\n",
      "    layers: 'spliced', 'unspliced'\n",
      "batch_pair_list [('E7.0', 'E8.0')]\n",
      "Filtered out 52804 genes that are detected 20 counts (shared).\n",
      "Normalized count data: X, spliced, unspliced.\n",
      "Skip filtering by dispersion since number of variables are less than `n_top_genes`.\n",
      "Logarithmized X.\n",
      "calculating knn and bnn mask...\n",
      "pair_list : [('E7.0', 'E8.0')]\n",
      "smoothing...\n",
      "computing moments based on connectivities\n",
      "    finished (0:00:00) --> added \n",
      "    'Ms' and 'Mu', moments of un/spliced abundances (adata.layers)\n",
      "初始训练，初始化runner参数\n",
      "choosing neighbor minibatch\n"
     ]
    },
    {
     "name": "stderr",
     "output_type": "stream",
     "text": [
      "GPU available: True (cuda), used: True\n",
      "TPU available: False, using: 0 TPU cores\n",
      "IPU available: False, using: 0 IPUs\n",
      "HPU available: False, using: 0 HPUs\n",
      "Missing logger folder: ./batch_extract/E7.0-E8.0/log/E7.0-E8.0\n",
      "LOCAL_RANK: 0 - CUDA_VISIBLE_DEVICES: [0]\n"
     ]
    },
    {
     "name": "stdout",
     "output_type": "stream",
     "text": [
      "Epoch 500/500: 100%|██████████| 500/500 [00:51<00:00,  9.32it/s, loss=2.72e+03, v_num=0]"
     ]
    },
    {
     "name": "stderr",
     "output_type": "stream",
     "text": [
      "`Trainer.fit` stopped: `max_epochs=500` reached.\n"
     ]
    },
    {
     "name": "stdout",
     "output_type": "stream",
     "text": [
      "Epoch 500/500: 100%|██████████| 500/500 [00:51<00:00,  9.79it/s, loss=2.72e+03, v_num=0]\n",
      "computing velocity graph (using 1/12 cores)\n"
     ]
    },
    {
     "name": "stderr",
     "output_type": "stream",
     "text": [
      "/usr/local/conda/envs/velovi-env/lib/python3.8/site-packages/ipykernel/comm/comm.py:79: DeprecationWarning: The `ipykernel.comm.Comm` class has been deprecated. Please use the `comm` module instead.For creating comms, use the function `from comm import create_comm`.\n",
      "  warn(\n"
     ]
    },
    {
     "data": {
      "application/vnd.jupyter.widget-view+json": {
       "model_id": "44a9dbacb6934d999ae2dc99fa96848b",
       "version_major": 2,
       "version_minor": 0
      },
      "text/plain": [
       "  0%|          | 0/161 [00:00<?, ?cells/s]"
      ]
     },
     "metadata": {},
     "output_type": "display_data"
    },
    {
     "name": "stdout",
     "output_type": "stream",
     "text": [
      "    finished (0:00:00) --> added \n",
      "    'velocity_graph', sparse matrix with cosine correlations (adata.uns)\n",
      "computing velocity embedding\n",
      "    finished (0:00:00) --> added\n",
      "    'velocity_umap', embedded velocity vectors (adata.obsm)\n",
      "saving figure to file ./figures/scvelo_E7.0-E8.0_velocity_embedding.png\n",
      "saving figure to file ./figures/scvelo_E7.0-E8.0_velocity_embedding_stream.png\n",
      "saving...\n",
      "create ./batch_extract/E7.0-E8.0/adata\n",
      "save ./batch_extract/E7.0-E8.0/adata/sample_recover.pkl\n",
      "save ./batch_extract/E7.0-E8.0/adata/adata.h5ad\n",
      "================================\n"
     ]
    }
   ],
   "source": [
    "from pytorch_lightning import loggers\n",
    "\n",
    "max_epochs = 500\n",
    "\n",
    "adata_list = []\n",
    "model_names = []\n",
    "\n",
    "for tmp_batch_list in batch_list_list:\n",
    "    name = \"-\".join(tmp_batch_list)\n",
    "    model_names.append(name)\n",
    "    print(name)\n",
    "\n",
    "    # adata抽取\n",
    "    adata = adata_bak[adata_bak.obs[batch_key].apply(lambda x:x in tmp_batch_list).astype(bool)].copy()\n",
    "    print(\"adata\", adata)\n",
    "\n",
    "    # 预处理\n",
    "    batch_pair_list = list(zip(tmp_batch_list[:-1], tmp_batch_list[1:])) # 构造临近批次对\n",
    "    print(\"batch_pair_list\", batch_pair_list)\n",
    "    n_mask, bnn_mask, subsample_adata = velovgi.pp.preprocess(adata, sample_mode=\"random\", batch_key=batch_key, batch_pair_list=batch_pair_list)\n",
    "\n",
    "    # 开始训练\n",
    "    seed_everything(seed) # 训练之前设置随机种子\n",
    "    base_dir = \"./batch_extract/%s\"%name\n",
    "    logger = loggers.TensorBoardLogger(save_dir=\"%s/log\"%base_dir, name=name) # 构造日志文件\n",
    "    velovgi.tl.VELOVGI.setup_anndata(adata=subsample_adata, spliced_layer=\"Ms\", unspliced_layer=\"Mu\")\n",
    "    velovgi_model = velovgi.tl.VELOVGI(subsample_adata)\n",
    "    velovgi_model.train(logger=logger, max_epochs=max_epochs) # 训练\n",
    "    \n",
    "    # 结果恢复\n",
    "    velovgi.tl.add_velovi_outputs_to_adata(subsample_adata, velovgi_model) # 模型输出\n",
    "    velovgi.pp.moment_recover(adata, subsample_adata) # 恢复\n",
    "\n",
    "    # TODO:提取隐变量\n",
    "\n",
    "    # 恢复\n",
    "    scv.tl.velocity_graph(adata)\n",
    "    scv.pl.velocity_embedding(adata, color=cluster_key, save=\"%s_velocity_embedding.png\"%name, show=False)\n",
    "    scv.pl.velocity_embedding_stream(adata, color=cluster_key, save=\"%s_velocity_embedding_stream.png\"%name, show=False)\n",
    "\n",
    "    # 模型保存\n",
    "    if save == True:\n",
    "        print(\"saving...\")\n",
    "        subsample_adata_dir = \"%s/subsample_adata.h5ad\"%base_dir\n",
    "        subsample_adata.write(subsample_adata_dir)\n",
    "        adata_dir = \"%s/adata\"%base_dir\n",
    "        velovgi.tl.write_adata(adata, adata_dir)\n",
    "        model_dir = \"%s/model/%s\"%(base_dir, name)\n",
    "        velovgi_model.save(model_dir)\n",
    "    \n",
    "    adata_list.append(adata) # 方式adata拼接后后占用内存太大\n",
    "    print(\"================================\")"
   ]
  },
  {
   "attachments": {},
   "cell_type": "markdown",
   "metadata": {},
   "source": [
    "2. 全数据集已经做过了，直接读取就行"
   ]
  },
  {
   "cell_type": "code",
   "execution_count": 8,
   "metadata": {},
   "outputs": [
    {
     "name": "stdout",
     "output_type": "stream",
     "text": [
      "load ./data/adata//adata.h5ad\n",
      "load ./data/adata//sample_recover.pkl\n"
     ]
    }
   ],
   "source": [
    "model_names.append(\"-\".join(batch_list))\n",
    "adata_list.append(velovgi.tl.read_adata(\"./data/adata/\"))"
   ]
  },
  {
   "attachments": {},
   "cell_type": "markdown",
   "metadata": {},
   "source": [
    "3. 指标计算"
   ]
  },
  {
   "cell_type": "code",
   "execution_count": 9,
   "metadata": {},
   "outputs": [
    {
     "data": {
      "text/html": [
       "<div>\n",
       "<style scoped>\n",
       "    .dataframe tbody tr th:only-of-type {\n",
       "        vertical-align: middle;\n",
       "    }\n",
       "\n",
       "    .dataframe tbody tr th {\n",
       "        vertical-align: top;\n",
       "    }\n",
       "\n",
       "    .dataframe thead th {\n",
       "        text-align: right;\n",
       "    }\n",
       "</style>\n",
       "<table border=\"1\" class=\"dataframe\">\n",
       "  <thead>\n",
       "    <tr style=\"text-align: right;\">\n",
       "      <th></th>\n",
       "      <th>CBDir</th>\n",
       "      <th>Metric</th>\n",
       "      <th>Score</th>\n",
       "      <th>ICVCoh</th>\n",
       "      <th>Model</th>\n",
       "    </tr>\n",
       "  </thead>\n",
       "  <tbody>\n",
       "    <tr>\n",
       "      <th>0</th>\n",
       "      <td>0.529076</td>\n",
       "      <td>CBDir</td>\n",
       "      <td>0.529076</td>\n",
       "      <td>NaN</td>\n",
       "      <td>E7.0-E7.5-E8.0-E8.5</td>\n",
       "    </tr>\n",
       "    <tr>\n",
       "      <th>1</th>\n",
       "      <td>-0.631308</td>\n",
       "      <td>CBDir</td>\n",
       "      <td>-0.631308</td>\n",
       "      <td>NaN</td>\n",
       "      <td>E7.0-E7.5-E8.0-E8.5</td>\n",
       "    </tr>\n",
       "    <tr>\n",
       "      <th>2</th>\n",
       "      <td>0.466323</td>\n",
       "      <td>CBDir</td>\n",
       "      <td>0.466323</td>\n",
       "      <td>NaN</td>\n",
       "      <td>E7.0-E7.5-E8.0-E8.5</td>\n",
       "    </tr>\n",
       "    <tr>\n",
       "      <th>3</th>\n",
       "      <td>0.293738</td>\n",
       "      <td>CBDir</td>\n",
       "      <td>0.293738</td>\n",
       "      <td>NaN</td>\n",
       "      <td>E7.0-E7.5-E8.0-E8.5</td>\n",
       "    </tr>\n",
       "    <tr>\n",
       "      <th>4</th>\n",
       "      <td>-0.970966</td>\n",
       "      <td>CBDir</td>\n",
       "      <td>-0.970966</td>\n",
       "      <td>NaN</td>\n",
       "      <td>E7.0-E7.5-E8.0-E8.5</td>\n",
       "    </tr>\n",
       "    <tr>\n",
       "      <th>...</th>\n",
       "      <td>...</td>\n",
       "      <td>...</td>\n",
       "      <td>...</td>\n",
       "      <td>...</td>\n",
       "      <td>...</td>\n",
       "    </tr>\n",
       "    <tr>\n",
       "      <th>495</th>\n",
       "      <td>NaN</td>\n",
       "      <td>ICVCoh</td>\n",
       "      <td>0.963388</td>\n",
       "      <td>0.963388</td>\n",
       "      <td>E7.0-E7.25-E7.5-E7.75-E8.0-E8.25-E8.5</td>\n",
       "    </tr>\n",
       "    <tr>\n",
       "      <th>496</th>\n",
       "      <td>NaN</td>\n",
       "      <td>ICVCoh</td>\n",
       "      <td>0.939772</td>\n",
       "      <td>0.939772</td>\n",
       "      <td>E7.0-E7.25-E7.5-E7.75-E8.0-E8.25-E8.5</td>\n",
       "    </tr>\n",
       "    <tr>\n",
       "      <th>497</th>\n",
       "      <td>NaN</td>\n",
       "      <td>ICVCoh</td>\n",
       "      <td>0.920894</td>\n",
       "      <td>0.920894</td>\n",
       "      <td>E7.0-E7.25-E7.5-E7.75-E8.0-E8.25-E8.5</td>\n",
       "    </tr>\n",
       "    <tr>\n",
       "      <th>498</th>\n",
       "      <td>NaN</td>\n",
       "      <td>ICVCoh</td>\n",
       "      <td>0.924577</td>\n",
       "      <td>0.924577</td>\n",
       "      <td>E7.0-E7.25-E7.5-E7.75-E8.0-E8.25-E8.5</td>\n",
       "    </tr>\n",
       "    <tr>\n",
       "      <th>499</th>\n",
       "      <td>NaN</td>\n",
       "      <td>ICVCoh</td>\n",
       "      <td>0.978300</td>\n",
       "      <td>0.978300</td>\n",
       "      <td>E7.0-E7.25-E7.5-E7.75-E8.0-E8.25-E8.5</td>\n",
       "    </tr>\n",
       "  </tbody>\n",
       "</table>\n",
       "<p>2368 rows × 5 columns</p>\n",
       "</div>"
      ],
      "text/plain": [
       "        CBDir  Metric     Score    ICVCoh  \\\n",
       "0    0.529076   CBDir  0.529076       NaN   \n",
       "1   -0.631308   CBDir -0.631308       NaN   \n",
       "2    0.466323   CBDir  0.466323       NaN   \n",
       "3    0.293738   CBDir  0.293738       NaN   \n",
       "4   -0.970966   CBDir -0.970966       NaN   \n",
       "..        ...     ...       ...       ...   \n",
       "495       NaN  ICVCoh  0.963388  0.963388   \n",
       "496       NaN  ICVCoh  0.939772  0.939772   \n",
       "497       NaN  ICVCoh  0.920894  0.920894   \n",
       "498       NaN  ICVCoh  0.924577  0.924577   \n",
       "499       NaN  ICVCoh  0.978300  0.978300   \n",
       "\n",
       "                                     Model  \n",
       "0                      E7.0-E7.5-E8.0-E8.5  \n",
       "1                      E7.0-E7.5-E8.0-E8.5  \n",
       "2                      E7.0-E7.5-E8.0-E8.5  \n",
       "3                      E7.0-E7.5-E8.0-E8.5  \n",
       "4                      E7.0-E7.5-E8.0-E8.5  \n",
       "..                                     ...  \n",
       "495  E7.0-E7.25-E7.5-E7.75-E8.0-E8.25-E8.5  \n",
       "496  E7.0-E7.25-E7.5-E7.75-E8.0-E8.25-E8.5  \n",
       "497  E7.0-E7.25-E7.5-E7.75-E8.0-E8.25-E8.5  \n",
       "498  E7.0-E7.25-E7.5-E7.75-E8.0-E8.25-E8.5  \n",
       "499  E7.0-E7.25-E7.5-E7.75-E8.0-E8.25-E8.5  \n",
       "\n",
       "[2368 rows x 5 columns]"
      ]
     },
     "execution_count": 9,
     "metadata": {},
     "output_type": "execute_result"
    }
   ],
   "source": [
    "import matplotlib.pyplot as plt\n",
    "import seaborn as sns\n",
    "\n",
    "cluster_edges = [\n",
    "    (\"Blood progenitors 1\", \"Blood progenitors 2\"), \n",
    "    (\"Blood progenitors 2\", \"Erythroid1\"), \n",
    "    (\"Erythroid1\", \"Erythroid2\"), \n",
    "    (\"Erythroid2\", \"Erythroid3\")\n",
    "    ] # 已知的细胞类型间的分化信息\n",
    "\n",
    "df_velovgi = velovgi.tl.get_metric_total_df(model_names, adata_list, cluster_edges, cluster_key) # 指标计算\n",
    "df_velovgi.to_csv(\"./batch_extract/metric_df_velovgi.csv\")\n",
    "df_velovgi"
   ]
  },
  {
   "attachments": {},
   "cell_type": "markdown",
   "metadata": {},
   "source": [
    "## 3. scvelo的批次抽取"
   ]
  },
  {
   "cell_type": "code",
   "execution_count": 16,
   "metadata": {},
   "outputs": [],
   "source": [
    "batch_list_list.append(batch_list)"
   ]
  },
  {
   "attachments": {},
   "cell_type": "markdown",
   "metadata": {},
   "source": [
    "1. 执行"
   ]
  },
  {
   "cell_type": "code",
   "execution_count": 19,
   "metadata": {},
   "outputs": [
    {
     "name": "stdout",
     "output_type": "stream",
     "text": [
      "tmp_batch_list ['E7.0', 'E7.5', 'E8.0', 'E8.5']\n",
      "adata AnnData object with n_obs × n_vars = 311 × 53801\n",
      "    obs: 'sample', 'stage', 'sequencing.batch', 'theiler', 'celltype'\n",
      "    var: 'Accession', 'Chromosome', 'End', 'Start', 'Strand', 'MURK_gene', 'Δm', 'scaled Δm'\n",
      "    uns: 'celltype_colors'\n",
      "    obsm: 'X_pca', 'X_umap'\n",
      "    layers: 'spliced', 'unspliced'\n",
      "Filtered out 52178 genes that are detected 20 counts (shared).\n",
      "Normalized count data: X, spliced, unspliced.\n",
      "Skip filtering by dispersion since number of variables are less than `n_top_genes`.\n",
      "Logarithmized X.\n",
      "computing neighbors\n",
      "    finished (0:00:00) --> added \n",
      "    'distances' and 'connectivities', weighted adjacency matrices (adata.obsp)\n",
      "computing moments based on connectivities\n",
      "    finished (0:00:00) --> added \n",
      "    'Ms' and 'Mu', moments of un/spliced abundances (adata.layers)\n",
      "computing velocities\n",
      "    finished (0:00:00) --> added \n",
      "    'velocity', velocity vectors for each individual cell (adata.layers)\n",
      "computing velocity graph (using 1/12 cores)\n"
     ]
    },
    {
     "name": "stderr",
     "output_type": "stream",
     "text": [
      "/usr/local/conda/envs/velovi-env/lib/python3.8/site-packages/ipykernel/comm/comm.py:79: DeprecationWarning: The `ipykernel.comm.Comm` class has been deprecated. Please use the `comm` module instead.For creating comms, use the function `from comm import create_comm`.\n",
      "  warn(\n"
     ]
    },
    {
     "data": {
      "application/vnd.jupyter.widget-view+json": {
       "model_id": "645fd058d100474fb8beed1686f8bee4",
       "version_major": 2,
       "version_minor": 0
      },
      "text/plain": [
       "  0%|          | 0/311 [00:00<?, ?cells/s]"
      ]
     },
     "metadata": {},
     "output_type": "display_data"
    },
    {
     "name": "stdout",
     "output_type": "stream",
     "text": [
      "    finished (0:00:00) --> added \n",
      "    'velocity_graph', sparse matrix with cosine correlations (adata.uns)\n",
      "computing velocity embedding\n",
      "    finished (0:00:00) --> added\n",
      "    'velocity_umap', embedded velocity vectors (adata.obsm)\n",
      "saving figure to file ./figures/scvelo_E7.0-E7.5-E8.0-E8.5_velocity_embedding_scvelo.png\n",
      "saving figure to file ./figures/scvelo_E7.0-E7.5-E8.0-E8.5_velocity_embedding_stream_scvelo.png\n",
      "================================\n",
      "tmp_batch_list ['E7.0', 'E7.75', 'E8.5']\n",
      "adata AnnData object with n_obs × n_vars = 212 × 53801\n",
      "    obs: 'sample', 'stage', 'sequencing.batch', 'theiler', 'celltype'\n",
      "    var: 'Accession', 'Chromosome', 'End', 'Start', 'Strand', 'MURK_gene', 'Δm', 'scaled Δm'\n",
      "    uns: 'celltype_colors'\n",
      "    obsm: 'X_pca', 'X_umap'\n",
      "    layers: 'spliced', 'unspliced'\n",
      "Filtered out 52426 genes that are detected 20 counts (shared).\n",
      "Normalized count data: X, spliced, unspliced.\n",
      "Skip filtering by dispersion since number of variables are less than `n_top_genes`.\n",
      "Logarithmized X.\n",
      "computing neighbors\n",
      "    finished (0:00:00) --> added \n",
      "    'distances' and 'connectivities', weighted adjacency matrices (adata.obsp)\n",
      "computing moments based on connectivities\n",
      "    finished (0:00:00) --> added \n",
      "    'Ms' and 'Mu', moments of un/spliced abundances (adata.layers)\n",
      "computing velocities\n",
      "    finished (0:00:00) --> added \n",
      "    'velocity', velocity vectors for each individual cell (adata.layers)\n",
      "computing velocity graph (using 1/12 cores)\n"
     ]
    },
    {
     "name": "stderr",
     "output_type": "stream",
     "text": [
      "/usr/local/conda/envs/velovi-env/lib/python3.8/site-packages/ipykernel/comm/comm.py:79: DeprecationWarning: The `ipykernel.comm.Comm` class has been deprecated. Please use the `comm` module instead.For creating comms, use the function `from comm import create_comm`.\n",
      "  warn(\n"
     ]
    },
    {
     "data": {
      "application/vnd.jupyter.widget-view+json": {
       "model_id": "e5b8ce85cbd642d5b82cd623afe4f9f2",
       "version_major": 2,
       "version_minor": 0
      },
      "text/plain": [
       "  0%|          | 0/212 [00:00<?, ?cells/s]"
      ]
     },
     "metadata": {},
     "output_type": "display_data"
    },
    {
     "name": "stdout",
     "output_type": "stream",
     "text": [
      "    finished (0:00:00) --> added \n",
      "    'velocity_graph', sparse matrix with cosine correlations (adata.uns)\n",
      "computing velocity embedding\n",
      "    finished (0:00:00) --> added\n",
      "    'velocity_umap', embedded velocity vectors (adata.obsm)\n",
      "saving figure to file ./figures/scvelo_E7.0-E7.75-E8.5_velocity_embedding_scvelo.png\n",
      "saving figure to file ./figures/scvelo_E7.0-E7.75-E8.5_velocity_embedding_stream_scvelo.png\n",
      "================================\n",
      "tmp_batch_list ['E7.0', 'E8.0']\n",
      "adata AnnData object with n_obs × n_vars = 161 × 53801\n",
      "    obs: 'sample', 'stage', 'sequencing.batch', 'theiler', 'celltype'\n",
      "    var: 'Accession', 'Chromosome', 'End', 'Start', 'Strand', 'MURK_gene', 'Δm', 'scaled Δm'\n",
      "    uns: 'celltype_colors'\n",
      "    obsm: 'X_pca', 'X_umap'\n",
      "    layers: 'spliced', 'unspliced'\n",
      "Filtered out 52804 genes that are detected 20 counts (shared).\n",
      "Normalized count data: X, spliced, unspliced.\n",
      "Skip filtering by dispersion since number of variables are less than `n_top_genes`.\n",
      "Logarithmized X.\n",
      "computing neighbors\n",
      "    finished (0:00:00) --> added \n",
      "    'distances' and 'connectivities', weighted adjacency matrices (adata.obsp)\n",
      "computing moments based on connectivities\n",
      "    finished (0:00:00) --> added \n",
      "    'Ms' and 'Mu', moments of un/spliced abundances (adata.layers)\n",
      "computing velocities\n",
      "    finished (0:00:00) --> added \n",
      "    'velocity', velocity vectors for each individual cell (adata.layers)\n",
      "computing velocity graph (using 1/12 cores)\n"
     ]
    },
    {
     "name": "stderr",
     "output_type": "stream",
     "text": [
      "/usr/local/conda/envs/velovi-env/lib/python3.8/site-packages/ipykernel/comm/comm.py:79: DeprecationWarning: The `ipykernel.comm.Comm` class has been deprecated. Please use the `comm` module instead.For creating comms, use the function `from comm import create_comm`.\n",
      "  warn(\n"
     ]
    },
    {
     "data": {
      "application/vnd.jupyter.widget-view+json": {
       "model_id": "e19b4a52d54942e4a57b138cc21c18d7",
       "version_major": 2,
       "version_minor": 0
      },
      "text/plain": [
       "  0%|          | 0/161 [00:00<?, ?cells/s]"
      ]
     },
     "metadata": {},
     "output_type": "display_data"
    },
    {
     "name": "stdout",
     "output_type": "stream",
     "text": [
      "    finished (0:00:00) --> added \n",
      "    'velocity_graph', sparse matrix with cosine correlations (adata.uns)\n",
      "computing velocity embedding\n",
      "    finished (0:00:00) --> added\n",
      "    'velocity_umap', embedded velocity vectors (adata.obsm)\n",
      "saving figure to file ./figures/scvelo_E7.0-E8.0_velocity_embedding_scvelo.png\n",
      "saving figure to file ./figures/scvelo_E7.0-E8.0_velocity_embedding_stream_scvelo.png\n",
      "================================\n",
      "tmp_batch_list ['E7.0', 'E7.25', 'E7.5', 'E7.75', 'E8.0', 'E8.25', 'E8.5']\n",
      "adata AnnData object with n_obs × n_vars = 500 × 53801\n",
      "    obs: 'sample', 'stage', 'sequencing.batch', 'theiler', 'celltype'\n",
      "    var: 'Accession', 'Chromosome', 'End', 'Start', 'Strand', 'MURK_gene', 'Δm', 'scaled Δm'\n",
      "    uns: 'celltype_colors'\n",
      "    obsm: 'X_pca', 'X_umap'\n",
      "    layers: 'spliced', 'unspliced'\n",
      "Filtered out 51490 genes that are detected 20 counts (shared).\n",
      "Normalized count data: X, spliced, unspliced.\n",
      "Extracted 2000 highly variable genes.\n",
      "Logarithmized X.\n",
      "computing neighbors\n",
      "    finished (0:00:00) --> added \n",
      "    'distances' and 'connectivities', weighted adjacency matrices (adata.obsp)\n",
      "computing moments based on connectivities\n",
      "    finished (0:00:00) --> added \n",
      "    'Ms' and 'Mu', moments of un/spliced abundances (adata.layers)\n",
      "computing velocities\n",
      "    finished (0:00:00) --> added \n",
      "    'velocity', velocity vectors for each individual cell (adata.layers)\n",
      "computing velocity graph (using 1/12 cores)\n"
     ]
    },
    {
     "name": "stderr",
     "output_type": "stream",
     "text": [
      "/usr/local/conda/envs/velovi-env/lib/python3.8/site-packages/ipykernel/comm/comm.py:79: DeprecationWarning: The `ipykernel.comm.Comm` class has been deprecated. Please use the `comm` module instead.For creating comms, use the function `from comm import create_comm`.\n",
      "  warn(\n"
     ]
    },
    {
     "data": {
      "application/vnd.jupyter.widget-view+json": {
       "model_id": "3eba928c626a46e0a9eb0b5b98a8cdd1",
       "version_major": 2,
       "version_minor": 0
      },
      "text/plain": [
       "  0%|          | 0/500 [00:00<?, ?cells/s]"
      ]
     },
     "metadata": {},
     "output_type": "display_data"
    },
    {
     "name": "stdout",
     "output_type": "stream",
     "text": [
      "    finished (0:00:00) --> added \n",
      "    'velocity_graph', sparse matrix with cosine correlations (adata.uns)\n",
      "computing velocity embedding\n",
      "    finished (0:00:00) --> added\n",
      "    'velocity_umap', embedded velocity vectors (adata.obsm)\n",
      "saving figure to file ./figures/scvelo_E7.0-E7.25-E7.5-E7.75-E8.0-E8.25-E8.5_velocity_embedding_scvelo.png\n",
      "saving figure to file ./figures/scvelo_E7.0-E7.25-E7.5-E7.75-E8.0-E8.25-E8.5_velocity_embedding_stream_scvelo.png\n",
      "================================\n"
     ]
    }
   ],
   "source": [
    "scvelo_adata_list = []\n",
    "scvelo_model_names = []\n",
    "\n",
    "for tmp_batch_list in batch_list_list:\n",
    "    print(\"tmp_batch_list\", tmp_batch_list)\n",
    "    name = \"-\".join(tmp_batch_list)\n",
    "    scvelo_model_names.append(name)\n",
    "    \n",
    "    # adata抽取\n",
    "    adata = adata_bak[adata_bak.obs[batch_key].apply(lambda x:x in tmp_batch_list).astype(bool)].copy()\n",
    "    print(\"adata\", adata)\n",
    "\n",
    "    # 预处理\n",
    "    scv.pp.filter_and_normalize(adata, min_shared_counts=20, n_top_genes=2000)\n",
    "    scv.pp.moments(adata, n_pcs=30, n_neighbors=30)\n",
    "\n",
    "    # 速率估计\n",
    "    scv.tl.velocity(adata)\n",
    "    \n",
    "    # 速率计算\n",
    "    scv.tl.velocity_graph(adata)\n",
    "    scv.pl.velocity_embedding(adata, color=cluster_key, save=\"%s_velocity_embedding_scvelo.png\"%name, show=False)\n",
    "    scv.pl.velocity_embedding(adata, color=cluster_key, save=\"%s_velocity_embedding_stream_scvelo.png\"%name, show=False)\n",
    "    \n",
    "    base_dir = \"./batch_extract/%s\"%name\n",
    "    adata_dir = \"%s/adata_scvelo.h5ad\"%base_dir\n",
    "    adata.write(adata_dir)\n",
    "    scvelo_adata_list.append(adata)\n",
    "\n",
    "    print(\"================================\")"
   ]
  },
  {
   "attachments": {},
   "cell_type": "markdown",
   "metadata": {},
   "source": [
    "2. 指标计算（在稍后的脚本中计算）"
   ]
  },
  {
   "cell_type": "code",
   "execution_count": 20,
   "metadata": {},
   "outputs": [
    {
     "data": {
      "text/html": [
       "<div>\n",
       "<style scoped>\n",
       "    .dataframe tbody tr th:only-of-type {\n",
       "        vertical-align: middle;\n",
       "    }\n",
       "\n",
       "    .dataframe tbody tr th {\n",
       "        vertical-align: top;\n",
       "    }\n",
       "\n",
       "    .dataframe thead th {\n",
       "        text-align: right;\n",
       "    }\n",
       "</style>\n",
       "<table border=\"1\" class=\"dataframe\">\n",
       "  <thead>\n",
       "    <tr style=\"text-align: right;\">\n",
       "      <th></th>\n",
       "      <th>CBDir</th>\n",
       "      <th>Metric</th>\n",
       "      <th>Score</th>\n",
       "      <th>ICVCoh</th>\n",
       "      <th>Model</th>\n",
       "    </tr>\n",
       "  </thead>\n",
       "  <tbody>\n",
       "    <tr>\n",
       "      <th>0</th>\n",
       "      <td>-0.551560</td>\n",
       "      <td>CBDir</td>\n",
       "      <td>-0.551560</td>\n",
       "      <td>NaN</td>\n",
       "      <td>E7.0-E7.5-E8.0-E8.5</td>\n",
       "    </tr>\n",
       "    <tr>\n",
       "      <th>1</th>\n",
       "      <td>-0.746856</td>\n",
       "      <td>CBDir</td>\n",
       "      <td>-0.746856</td>\n",
       "      <td>NaN</td>\n",
       "      <td>E7.0-E7.5-E8.0-E8.5</td>\n",
       "    </tr>\n",
       "    <tr>\n",
       "      <th>2</th>\n",
       "      <td>-0.626673</td>\n",
       "      <td>CBDir</td>\n",
       "      <td>-0.626673</td>\n",
       "      <td>NaN</td>\n",
       "      <td>E7.0-E7.5-E8.0-E8.5</td>\n",
       "    </tr>\n",
       "    <tr>\n",
       "      <th>3</th>\n",
       "      <td>-0.255662</td>\n",
       "      <td>CBDir</td>\n",
       "      <td>-0.255662</td>\n",
       "      <td>NaN</td>\n",
       "      <td>E7.0-E7.5-E8.0-E8.5</td>\n",
       "    </tr>\n",
       "    <tr>\n",
       "      <th>4</th>\n",
       "      <td>-0.904158</td>\n",
       "      <td>CBDir</td>\n",
       "      <td>-0.904158</td>\n",
       "      <td>NaN</td>\n",
       "      <td>E7.0-E7.5-E8.0-E8.5</td>\n",
       "    </tr>\n",
       "    <tr>\n",
       "      <th>...</th>\n",
       "      <td>...</td>\n",
       "      <td>...</td>\n",
       "      <td>...</td>\n",
       "      <td>...</td>\n",
       "      <td>...</td>\n",
       "    </tr>\n",
       "    <tr>\n",
       "      <th>495</th>\n",
       "      <td>NaN</td>\n",
       "      <td>ICVCoh</td>\n",
       "      <td>0.887949</td>\n",
       "      <td>0.887949</td>\n",
       "      <td>E7.0-E7.25-E7.5-E7.75-E8.0-E8.25-E8.5</td>\n",
       "    </tr>\n",
       "    <tr>\n",
       "      <th>496</th>\n",
       "      <td>NaN</td>\n",
       "      <td>ICVCoh</td>\n",
       "      <td>0.796792</td>\n",
       "      <td>0.796792</td>\n",
       "      <td>E7.0-E7.25-E7.5-E7.75-E8.0-E8.25-E8.5</td>\n",
       "    </tr>\n",
       "    <tr>\n",
       "      <th>497</th>\n",
       "      <td>NaN</td>\n",
       "      <td>ICVCoh</td>\n",
       "      <td>0.885725</td>\n",
       "      <td>0.885725</td>\n",
       "      <td>E7.0-E7.25-E7.5-E7.75-E8.0-E8.25-E8.5</td>\n",
       "    </tr>\n",
       "    <tr>\n",
       "      <th>498</th>\n",
       "      <td>NaN</td>\n",
       "      <td>ICVCoh</td>\n",
       "      <td>0.729585</td>\n",
       "      <td>0.729585</td>\n",
       "      <td>E7.0-E7.25-E7.5-E7.75-E8.0-E8.25-E8.5</td>\n",
       "    </tr>\n",
       "    <tr>\n",
       "      <th>499</th>\n",
       "      <td>NaN</td>\n",
       "      <td>ICVCoh</td>\n",
       "      <td>0.908224</td>\n",
       "      <td>0.908224</td>\n",
       "      <td>E7.0-E7.25-E7.5-E7.75-E8.0-E8.25-E8.5</td>\n",
       "    </tr>\n",
       "  </tbody>\n",
       "</table>\n",
       "<p>2368 rows × 5 columns</p>\n",
       "</div>"
      ],
      "text/plain": [
       "        CBDir  Metric     Score    ICVCoh  \\\n",
       "0   -0.551560   CBDir -0.551560       NaN   \n",
       "1   -0.746856   CBDir -0.746856       NaN   \n",
       "2   -0.626673   CBDir -0.626673       NaN   \n",
       "3   -0.255662   CBDir -0.255662       NaN   \n",
       "4   -0.904158   CBDir -0.904158       NaN   \n",
       "..        ...     ...       ...       ...   \n",
       "495       NaN  ICVCoh  0.887949  0.887949   \n",
       "496       NaN  ICVCoh  0.796792  0.796792   \n",
       "497       NaN  ICVCoh  0.885725  0.885725   \n",
       "498       NaN  ICVCoh  0.729585  0.729585   \n",
       "499       NaN  ICVCoh  0.908224  0.908224   \n",
       "\n",
       "                                     Model  \n",
       "0                      E7.0-E7.5-E8.0-E8.5  \n",
       "1                      E7.0-E7.5-E8.0-E8.5  \n",
       "2                      E7.0-E7.5-E8.0-E8.5  \n",
       "3                      E7.0-E7.5-E8.0-E8.5  \n",
       "4                      E7.0-E7.5-E8.0-E8.5  \n",
       "..                                     ...  \n",
       "495  E7.0-E7.25-E7.5-E7.75-E8.0-E8.25-E8.5  \n",
       "496  E7.0-E7.25-E7.5-E7.75-E8.0-E8.25-E8.5  \n",
       "497  E7.0-E7.25-E7.5-E7.75-E8.0-E8.25-E8.5  \n",
       "498  E7.0-E7.25-E7.5-E7.75-E8.0-E8.25-E8.5  \n",
       "499  E7.0-E7.25-E7.5-E7.75-E8.0-E8.25-E8.5  \n",
       "\n",
       "[2368 rows x 5 columns]"
      ]
     },
     "execution_count": 20,
     "metadata": {},
     "output_type": "execute_result"
    }
   ],
   "source": [
    "df_scvelo = velovgi.tl.get_metric_total_df(scvelo_model_names, scvelo_adata_list, cluster_edges, cluster_key) # 指标计算\n",
    "df_scvelo.to_csv(\"./batch_extract/metric_df_scvelo.csv\")\n",
    "df_scvelo"
   ]
  },
  {
   "attachments": {},
   "cell_type": "markdown",
   "metadata": {},
   "source": [
    "## 其他方法在多个批次上执行..."
   ]
  },
  {
   "attachments": {},
   "cell_type": "markdown",
   "metadata": {},
   "source": [
    "## 对比（在稍后的脚本中计算）"
   ]
  },
  {
   "cell_type": "code",
   "execution_count": 38,
   "metadata": {},
   "outputs": [
    {
     "data": {
      "text/html": [
       "<div>\n",
       "<style scoped>\n",
       "    .dataframe tbody tr th:only-of-type {\n",
       "        vertical-align: middle;\n",
       "    }\n",
       "\n",
       "    .dataframe tbody tr th {\n",
       "        vertical-align: top;\n",
       "    }\n",
       "\n",
       "    .dataframe thead th {\n",
       "        text-align: right;\n",
       "    }\n",
       "</style>\n",
       "<table border=\"1\" class=\"dataframe\">\n",
       "  <thead>\n",
       "    <tr style=\"text-align: right;\">\n",
       "      <th></th>\n",
       "      <th>CBDir</th>\n",
       "      <th>Metric</th>\n",
       "      <th>Score</th>\n",
       "      <th>ICVCoh</th>\n",
       "      <th>Model</th>\n",
       "      <th>Dataset</th>\n",
       "    </tr>\n",
       "  </thead>\n",
       "  <tbody>\n",
       "    <tr>\n",
       "      <th>0</th>\n",
       "      <td>0.529076</td>\n",
       "      <td>CBDir</td>\n",
       "      <td>0.529076</td>\n",
       "      <td>NaN</td>\n",
       "      <td>velovgi</td>\n",
       "      <td>E7.0-E7.5-E8.0-E8.5</td>\n",
       "    </tr>\n",
       "    <tr>\n",
       "      <th>1</th>\n",
       "      <td>-0.631308</td>\n",
       "      <td>CBDir</td>\n",
       "      <td>-0.631308</td>\n",
       "      <td>NaN</td>\n",
       "      <td>velovgi</td>\n",
       "      <td>E7.0-E7.5-E8.0-E8.5</td>\n",
       "    </tr>\n",
       "    <tr>\n",
       "      <th>2</th>\n",
       "      <td>0.466323</td>\n",
       "      <td>CBDir</td>\n",
       "      <td>0.466323</td>\n",
       "      <td>NaN</td>\n",
       "      <td>velovgi</td>\n",
       "      <td>E7.0-E7.5-E8.0-E8.5</td>\n",
       "    </tr>\n",
       "    <tr>\n",
       "      <th>3</th>\n",
       "      <td>0.293738</td>\n",
       "      <td>CBDir</td>\n",
       "      <td>0.293738</td>\n",
       "      <td>NaN</td>\n",
       "      <td>velovgi</td>\n",
       "      <td>E7.0-E7.5-E8.0-E8.5</td>\n",
       "    </tr>\n",
       "    <tr>\n",
       "      <th>4</th>\n",
       "      <td>-0.970966</td>\n",
       "      <td>CBDir</td>\n",
       "      <td>-0.970966</td>\n",
       "      <td>NaN</td>\n",
       "      <td>velovgi</td>\n",
       "      <td>E7.0-E7.5-E8.0-E8.5</td>\n",
       "    </tr>\n",
       "    <tr>\n",
       "      <th>...</th>\n",
       "      <td>...</td>\n",
       "      <td>...</td>\n",
       "      <td>...</td>\n",
       "      <td>...</td>\n",
       "      <td>...</td>\n",
       "      <td>...</td>\n",
       "    </tr>\n",
       "    <tr>\n",
       "      <th>495</th>\n",
       "      <td>NaN</td>\n",
       "      <td>ICVCoh</td>\n",
       "      <td>0.887949</td>\n",
       "      <td>0.887949</td>\n",
       "      <td>scvelo</td>\n",
       "      <td>E7.0-E7.25-E7.5-E7.75-E8.0-E8.25-E8.5</td>\n",
       "    </tr>\n",
       "    <tr>\n",
       "      <th>496</th>\n",
       "      <td>NaN</td>\n",
       "      <td>ICVCoh</td>\n",
       "      <td>0.796792</td>\n",
       "      <td>0.796792</td>\n",
       "      <td>scvelo</td>\n",
       "      <td>E7.0-E7.25-E7.5-E7.75-E8.0-E8.25-E8.5</td>\n",
       "    </tr>\n",
       "    <tr>\n",
       "      <th>497</th>\n",
       "      <td>NaN</td>\n",
       "      <td>ICVCoh</td>\n",
       "      <td>0.885725</td>\n",
       "      <td>0.885725</td>\n",
       "      <td>scvelo</td>\n",
       "      <td>E7.0-E7.25-E7.5-E7.75-E8.0-E8.25-E8.5</td>\n",
       "    </tr>\n",
       "    <tr>\n",
       "      <th>498</th>\n",
       "      <td>NaN</td>\n",
       "      <td>ICVCoh</td>\n",
       "      <td>0.729585</td>\n",
       "      <td>0.729585</td>\n",
       "      <td>scvelo</td>\n",
       "      <td>E7.0-E7.25-E7.5-E7.75-E8.0-E8.25-E8.5</td>\n",
       "    </tr>\n",
       "    <tr>\n",
       "      <th>499</th>\n",
       "      <td>NaN</td>\n",
       "      <td>ICVCoh</td>\n",
       "      <td>0.908224</td>\n",
       "      <td>0.908224</td>\n",
       "      <td>scvelo</td>\n",
       "      <td>E7.0-E7.25-E7.5-E7.75-E8.0-E8.25-E8.5</td>\n",
       "    </tr>\n",
       "  </tbody>\n",
       "</table>\n",
       "<p>4736 rows × 6 columns</p>\n",
       "</div>"
      ],
      "text/plain": [
       "        CBDir  Metric     Score    ICVCoh    Model  \\\n",
       "0    0.529076   CBDir  0.529076       NaN  velovgi   \n",
       "1   -0.631308   CBDir -0.631308       NaN  velovgi   \n",
       "2    0.466323   CBDir  0.466323       NaN  velovgi   \n",
       "3    0.293738   CBDir  0.293738       NaN  velovgi   \n",
       "4   -0.970966   CBDir -0.970966       NaN  velovgi   \n",
       "..        ...     ...       ...       ...      ...   \n",
       "495       NaN  ICVCoh  0.887949  0.887949   scvelo   \n",
       "496       NaN  ICVCoh  0.796792  0.796792   scvelo   \n",
       "497       NaN  ICVCoh  0.885725  0.885725   scvelo   \n",
       "498       NaN  ICVCoh  0.729585  0.729585   scvelo   \n",
       "499       NaN  ICVCoh  0.908224  0.908224   scvelo   \n",
       "\n",
       "                                   Dataset  \n",
       "0                      E7.0-E7.5-E8.0-E8.5  \n",
       "1                      E7.0-E7.5-E8.0-E8.5  \n",
       "2                      E7.0-E7.5-E8.0-E8.5  \n",
       "3                      E7.0-E7.5-E8.0-E8.5  \n",
       "4                      E7.0-E7.5-E8.0-E8.5  \n",
       "..                                     ...  \n",
       "495  E7.0-E7.25-E7.5-E7.75-E8.0-E8.25-E8.5  \n",
       "496  E7.0-E7.25-E7.5-E7.75-E8.0-E8.25-E8.5  \n",
       "497  E7.0-E7.25-E7.5-E7.75-E8.0-E8.25-E8.5  \n",
       "498  E7.0-E7.25-E7.5-E7.75-E8.0-E8.25-E8.5  \n",
       "499  E7.0-E7.25-E7.5-E7.75-E8.0-E8.25-E8.5  \n",
       "\n",
       "[4736 rows x 6 columns]"
      ]
     },
     "execution_count": 38,
     "metadata": {},
     "output_type": "execute_result"
    }
   ],
   "source": [
    "import pandas as pd\n",
    "if \"Dataset\" not in df_velovgi.columns:\n",
    "    df_velovgi[\"Dataset\"] = df_velovgi[\"Model\"]\n",
    "    df_velovgi[\"Model\"] = \"velovgi\"\n",
    "if \"Dataset\" not in df_scvelo.columns:\n",
    "    df_scvelo[\"Dataset\"] = df_scvelo[\"Model\"]\n",
    "    df_scvelo[\"Model\"] = \"scvelo\"\n",
    "\n",
    "df = pd.concat([df_velovgi, df_scvelo])\n",
    "df"
   ]
  },
  {
   "cell_type": "code",
   "execution_count": 39,
   "metadata": {},
   "outputs": [
    {
     "data": {
      "text/plain": [
       "array(['E7.0-E7.5-E8.0-E8.5', 'E7.0-E7.75-E8.5', 'E7.0-E8.0',\n",
       "       'E7.0-E7.25-E7.5-E7.75-E8.0-E8.25-E8.5'], dtype=object)"
      ]
     },
     "execution_count": 39,
     "metadata": {},
     "output_type": "execute_result"
    }
   ],
   "source": [
    "df[\"Dataset\"].unique()"
   ]
  },
  {
   "cell_type": "code",
   "execution_count": 40,
   "metadata": {},
   "outputs": [],
   "source": [
    "name_dict = {\n",
    "    \"E7.0-E8.0\":\"E7.0-E8.0\",\n",
    "    \"E7.0-E7.75-E8.5\":\"E7.0-E7.75-E8.5\",\n",
    "    \"E7.0-E7.5-E8.0-E8.5\":\"E7.0-E7.5-E8.0\\nE8.5\",\n",
    "    \"E7.0-E7.25-E7.5-E7.75-E8.0-E8.25-E8.5\":\"E7.0-E7.25-E7.5-\\nE7.75-E8.0-E8.25-\\nE8.5\",\n",
    "}\n",
    "df[\"Dataset_bak\"] = df[\"Dataset\"]\n",
    "df[\"Dataset\"] = df[\"Dataset\"].apply(lambda x: name_dict[x])\n",
    "df[\"Dataset\"] = df[\"Dataset\"].astype(\"category\")\n",
    "df[\"Dataset\"] = df[\"Dataset\"].cat.set_categories(sorted(df[\"Dataset\"].unique(), key=lambda x:len(x)))"
   ]
  },
  {
   "cell_type": "code",
   "execution_count": 41,
   "metadata": {},
   "outputs": [
    {
     "data": {
      "image/png": "[encoded data removed]",
      "text/plain": [
       "<Figure size 1200x500 with 2 Axes>"
      ]
     },
     "metadata": {},
     "output_type": "display_data"
    }
   ],
   "source": [
    "fig, ax = plt.subplots(1,2, figsize=(12,5))\n",
    "sns.boxplot(\n",
    "    df.loc[df[\"Metric\"].isin([\"CBDir\"])],\n",
    "    orient=\"h\", x=\"Score\", y=\"Dataset\", hue=\"Model\", \n",
    "    ax=ax[0], showmeans=True,\n",
    "    meanprops={\"marker\":\"o\",\n",
    "                \"markerfacecolor\":\"white\", \n",
    "                \"markeredgecolor\":\"black\",\n",
    "                \"markersize\":\"8\"})\n",
    "ax[0].set_title(\"CBDir\")\n",
    "ax[0].set_xlabel(\"\")\n",
    "ax[0].set_ylabel(\"\")\n",
    "ax[0].legend_.remove()\n",
    "\n",
    "sns.boxplot(\n",
    "    df.loc[df[\"Metric\"].isin([\"ICVCoh\"])],\n",
    "    orient=\"h\", x=\"Score\", y=\"Dataset\", hue=\"Model\", \n",
    "    ax=ax[1], showmeans=True,\n",
    "    meanprops={\"marker\":\"o\",\n",
    "                \"markerfacecolor\":\"white\", \n",
    "                \"markeredgecolor\":\"black\",\n",
    "                \"markersize\":\"8\"})\n",
    "ax[1].set_title(\"ICVCoh\")\n",
    "ax[1].set_yticks([])\n",
    "ax[1].set_xlabel(\"\")\n",
    "ax[1].set_ylabel(\"\")\n",
    "sns.move_legend(ax[1], \"upper left\", bbox_to_anchor=(1.1, 0.6)) # 移动图例(1,1)表示图形右上端"
   ]
  }
 ],
 "metadata": {
  "kernelspec": {
   "display_name": "velovi-env",
   "language": "python",
   "name": "python3"
  },
  "language_info": {
   "codemirror_mode": {
    "name": "ipython",
    "version": 3
   },
   "file_extension": ".py",
   "mimetype": "text/x-python",
   "name": "python",
   "nbconvert_exporter": "python",
   "pygments_lexer": "ipython3",
   "version": "3.8.15"
  },
  "orig_nbformat": 4
 },
 "nbformat": 4,
 "nbformat_minor": 2
}
